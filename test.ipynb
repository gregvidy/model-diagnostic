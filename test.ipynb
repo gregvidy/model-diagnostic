{
 "cells": [
  {
   "cell_type": "markdown",
   "id": "34eb300f",
   "metadata": {},
   "source": [
    "# Load Dataset"
   ]
  },
  {
   "cell_type": "code",
   "execution_count": 1,
   "id": "c4d84d0b",
   "metadata": {},
   "outputs": [],
   "source": [
    "import pandas as pd\n",
    "\n",
    "df_credit = pd.read_csv(\"data/default_of_credit_card_clients.csv\")\n",
    "df_credit.drop(columns=\"ID\", axis=1, inplace=True)"
   ]
  },
  {
   "cell_type": "code",
   "execution_count": 2,
   "id": "28859b33",
   "metadata": {},
   "outputs": [
    {
     "data": {
      "text/html": [
       "<div>\n",
       "<style scoped>\n",
       "    .dataframe tbody tr th:only-of-type {\n",
       "        vertical-align: middle;\n",
       "    }\n",
       "\n",
       "    .dataframe tbody tr th {\n",
       "        vertical-align: top;\n",
       "    }\n",
       "\n",
       "    .dataframe thead th {\n",
       "        text-align: right;\n",
       "    }\n",
       "</style>\n",
       "<table border=\"1\" class=\"dataframe\">\n",
       "  <thead>\n",
       "    <tr style=\"text-align: right;\">\n",
       "      <th></th>\n",
       "      <th>LIMIT_BAL</th>\n",
       "      <th>SEX</th>\n",
       "      <th>EDUCATION</th>\n",
       "      <th>MARRIAGE</th>\n",
       "      <th>AGE</th>\n",
       "      <th>PAY_0</th>\n",
       "      <th>PAY_2</th>\n",
       "      <th>PAY_3</th>\n",
       "      <th>PAY_4</th>\n",
       "      <th>PAY_5</th>\n",
       "      <th>...</th>\n",
       "      <th>BILL_AMT4</th>\n",
       "      <th>BILL_AMT5</th>\n",
       "      <th>BILL_AMT6</th>\n",
       "      <th>PAY_AMT1</th>\n",
       "      <th>PAY_AMT2</th>\n",
       "      <th>PAY_AMT3</th>\n",
       "      <th>PAY_AMT4</th>\n",
       "      <th>PAY_AMT5</th>\n",
       "      <th>PAY_AMT6</th>\n",
       "      <th>IsDefault</th>\n",
       "    </tr>\n",
       "  </thead>\n",
       "  <tbody>\n",
       "    <tr>\n",
       "      <th>0</th>\n",
       "      <td>20000</td>\n",
       "      <td>2</td>\n",
       "      <td>2</td>\n",
       "      <td>1</td>\n",
       "      <td>24</td>\n",
       "      <td>2</td>\n",
       "      <td>2</td>\n",
       "      <td>-1</td>\n",
       "      <td>-1</td>\n",
       "      <td>-2</td>\n",
       "      <td>...</td>\n",
       "      <td>0</td>\n",
       "      <td>0</td>\n",
       "      <td>0</td>\n",
       "      <td>0</td>\n",
       "      <td>689</td>\n",
       "      <td>0</td>\n",
       "      <td>0</td>\n",
       "      <td>0</td>\n",
       "      <td>0</td>\n",
       "      <td>1</td>\n",
       "    </tr>\n",
       "    <tr>\n",
       "      <th>1</th>\n",
       "      <td>120000</td>\n",
       "      <td>2</td>\n",
       "      <td>2</td>\n",
       "      <td>2</td>\n",
       "      <td>26</td>\n",
       "      <td>-1</td>\n",
       "      <td>2</td>\n",
       "      <td>0</td>\n",
       "      <td>0</td>\n",
       "      <td>0</td>\n",
       "      <td>...</td>\n",
       "      <td>3272</td>\n",
       "      <td>3455</td>\n",
       "      <td>3261</td>\n",
       "      <td>0</td>\n",
       "      <td>1000</td>\n",
       "      <td>1000</td>\n",
       "      <td>1000</td>\n",
       "      <td>0</td>\n",
       "      <td>2000</td>\n",
       "      <td>1</td>\n",
       "    </tr>\n",
       "    <tr>\n",
       "      <th>2</th>\n",
       "      <td>90000</td>\n",
       "      <td>2</td>\n",
       "      <td>2</td>\n",
       "      <td>2</td>\n",
       "      <td>34</td>\n",
       "      <td>0</td>\n",
       "      <td>0</td>\n",
       "      <td>0</td>\n",
       "      <td>0</td>\n",
       "      <td>0</td>\n",
       "      <td>...</td>\n",
       "      <td>14331</td>\n",
       "      <td>14948</td>\n",
       "      <td>15549</td>\n",
       "      <td>1518</td>\n",
       "      <td>1500</td>\n",
       "      <td>1000</td>\n",
       "      <td>1000</td>\n",
       "      <td>1000</td>\n",
       "      <td>5000</td>\n",
       "      <td>0</td>\n",
       "    </tr>\n",
       "    <tr>\n",
       "      <th>3</th>\n",
       "      <td>50000</td>\n",
       "      <td>2</td>\n",
       "      <td>2</td>\n",
       "      <td>1</td>\n",
       "      <td>37</td>\n",
       "      <td>0</td>\n",
       "      <td>0</td>\n",
       "      <td>0</td>\n",
       "      <td>0</td>\n",
       "      <td>0</td>\n",
       "      <td>...</td>\n",
       "      <td>28314</td>\n",
       "      <td>28959</td>\n",
       "      <td>29547</td>\n",
       "      <td>2000</td>\n",
       "      <td>2019</td>\n",
       "      <td>1200</td>\n",
       "      <td>1100</td>\n",
       "      <td>1069</td>\n",
       "      <td>1000</td>\n",
       "      <td>0</td>\n",
       "    </tr>\n",
       "    <tr>\n",
       "      <th>4</th>\n",
       "      <td>50000</td>\n",
       "      <td>1</td>\n",
       "      <td>2</td>\n",
       "      <td>1</td>\n",
       "      <td>57</td>\n",
       "      <td>-1</td>\n",
       "      <td>0</td>\n",
       "      <td>-1</td>\n",
       "      <td>0</td>\n",
       "      <td>0</td>\n",
       "      <td>...</td>\n",
       "      <td>20940</td>\n",
       "      <td>19146</td>\n",
       "      <td>19131</td>\n",
       "      <td>2000</td>\n",
       "      <td>36681</td>\n",
       "      <td>10000</td>\n",
       "      <td>9000</td>\n",
       "      <td>689</td>\n",
       "      <td>679</td>\n",
       "      <td>0</td>\n",
       "    </tr>\n",
       "    <tr>\n",
       "      <th>...</th>\n",
       "      <td>...</td>\n",
       "      <td>...</td>\n",
       "      <td>...</td>\n",
       "      <td>...</td>\n",
       "      <td>...</td>\n",
       "      <td>...</td>\n",
       "      <td>...</td>\n",
       "      <td>...</td>\n",
       "      <td>...</td>\n",
       "      <td>...</td>\n",
       "      <td>...</td>\n",
       "      <td>...</td>\n",
       "      <td>...</td>\n",
       "      <td>...</td>\n",
       "      <td>...</td>\n",
       "      <td>...</td>\n",
       "      <td>...</td>\n",
       "      <td>...</td>\n",
       "      <td>...</td>\n",
       "      <td>...</td>\n",
       "      <td>...</td>\n",
       "    </tr>\n",
       "    <tr>\n",
       "      <th>29995</th>\n",
       "      <td>220000</td>\n",
       "      <td>1</td>\n",
       "      <td>3</td>\n",
       "      <td>1</td>\n",
       "      <td>39</td>\n",
       "      <td>0</td>\n",
       "      <td>0</td>\n",
       "      <td>0</td>\n",
       "      <td>0</td>\n",
       "      <td>0</td>\n",
       "      <td>...</td>\n",
       "      <td>88004</td>\n",
       "      <td>31237</td>\n",
       "      <td>15980</td>\n",
       "      <td>8500</td>\n",
       "      <td>20000</td>\n",
       "      <td>5003</td>\n",
       "      <td>3047</td>\n",
       "      <td>5000</td>\n",
       "      <td>1000</td>\n",
       "      <td>0</td>\n",
       "    </tr>\n",
       "    <tr>\n",
       "      <th>29996</th>\n",
       "      <td>150000</td>\n",
       "      <td>1</td>\n",
       "      <td>3</td>\n",
       "      <td>2</td>\n",
       "      <td>43</td>\n",
       "      <td>-1</td>\n",
       "      <td>-1</td>\n",
       "      <td>-1</td>\n",
       "      <td>-1</td>\n",
       "      <td>0</td>\n",
       "      <td>...</td>\n",
       "      <td>8979</td>\n",
       "      <td>5190</td>\n",
       "      <td>0</td>\n",
       "      <td>1837</td>\n",
       "      <td>3526</td>\n",
       "      <td>8998</td>\n",
       "      <td>129</td>\n",
       "      <td>0</td>\n",
       "      <td>0</td>\n",
       "      <td>0</td>\n",
       "    </tr>\n",
       "    <tr>\n",
       "      <th>29997</th>\n",
       "      <td>30000</td>\n",
       "      <td>1</td>\n",
       "      <td>2</td>\n",
       "      <td>2</td>\n",
       "      <td>37</td>\n",
       "      <td>4</td>\n",
       "      <td>3</td>\n",
       "      <td>2</td>\n",
       "      <td>-1</td>\n",
       "      <td>0</td>\n",
       "      <td>...</td>\n",
       "      <td>20878</td>\n",
       "      <td>20582</td>\n",
       "      <td>19357</td>\n",
       "      <td>0</td>\n",
       "      <td>0</td>\n",
       "      <td>22000</td>\n",
       "      <td>4200</td>\n",
       "      <td>2000</td>\n",
       "      <td>3100</td>\n",
       "      <td>1</td>\n",
       "    </tr>\n",
       "    <tr>\n",
       "      <th>29998</th>\n",
       "      <td>80000</td>\n",
       "      <td>1</td>\n",
       "      <td>3</td>\n",
       "      <td>1</td>\n",
       "      <td>41</td>\n",
       "      <td>1</td>\n",
       "      <td>-1</td>\n",
       "      <td>0</td>\n",
       "      <td>0</td>\n",
       "      <td>0</td>\n",
       "      <td>...</td>\n",
       "      <td>52774</td>\n",
       "      <td>11855</td>\n",
       "      <td>48944</td>\n",
       "      <td>85900</td>\n",
       "      <td>3409</td>\n",
       "      <td>1178</td>\n",
       "      <td>1926</td>\n",
       "      <td>52964</td>\n",
       "      <td>1804</td>\n",
       "      <td>1</td>\n",
       "    </tr>\n",
       "    <tr>\n",
       "      <th>29999</th>\n",
       "      <td>50000</td>\n",
       "      <td>1</td>\n",
       "      <td>2</td>\n",
       "      <td>1</td>\n",
       "      <td>46</td>\n",
       "      <td>0</td>\n",
       "      <td>0</td>\n",
       "      <td>0</td>\n",
       "      <td>0</td>\n",
       "      <td>0</td>\n",
       "      <td>...</td>\n",
       "      <td>36535</td>\n",
       "      <td>32428</td>\n",
       "      <td>15313</td>\n",
       "      <td>2078</td>\n",
       "      <td>1800</td>\n",
       "      <td>1430</td>\n",
       "      <td>1000</td>\n",
       "      <td>1000</td>\n",
       "      <td>1000</td>\n",
       "      <td>1</td>\n",
       "    </tr>\n",
       "  </tbody>\n",
       "</table>\n",
       "<p>30000 rows × 24 columns</p>\n",
       "</div>"
      ],
      "text/plain": [
       "       LIMIT_BAL  SEX  EDUCATION  MARRIAGE  AGE  PAY_0  PAY_2  PAY_3  PAY_4  \\\n",
       "0          20000    2          2         1   24      2      2     -1     -1   \n",
       "1         120000    2          2         2   26     -1      2      0      0   \n",
       "2          90000    2          2         2   34      0      0      0      0   \n",
       "3          50000    2          2         1   37      0      0      0      0   \n",
       "4          50000    1          2         1   57     -1      0     -1      0   \n",
       "...          ...  ...        ...       ...  ...    ...    ...    ...    ...   \n",
       "29995     220000    1          3         1   39      0      0      0      0   \n",
       "29996     150000    1          3         2   43     -1     -1     -1     -1   \n",
       "29997      30000    1          2         2   37      4      3      2     -1   \n",
       "29998      80000    1          3         1   41      1     -1      0      0   \n",
       "29999      50000    1          2         1   46      0      0      0      0   \n",
       "\n",
       "       PAY_5  ...  BILL_AMT4  BILL_AMT5  BILL_AMT6  PAY_AMT1  PAY_AMT2  \\\n",
       "0         -2  ...          0          0          0         0       689   \n",
       "1          0  ...       3272       3455       3261         0      1000   \n",
       "2          0  ...      14331      14948      15549      1518      1500   \n",
       "3          0  ...      28314      28959      29547      2000      2019   \n",
       "4          0  ...      20940      19146      19131      2000     36681   \n",
       "...      ...  ...        ...        ...        ...       ...       ...   \n",
       "29995      0  ...      88004      31237      15980      8500     20000   \n",
       "29996      0  ...       8979       5190          0      1837      3526   \n",
       "29997      0  ...      20878      20582      19357         0         0   \n",
       "29998      0  ...      52774      11855      48944     85900      3409   \n",
       "29999      0  ...      36535      32428      15313      2078      1800   \n",
       "\n",
       "       PAY_AMT3  PAY_AMT4  PAY_AMT5  PAY_AMT6  IsDefault  \n",
       "0             0         0         0         0          1  \n",
       "1          1000      1000         0      2000          1  \n",
       "2          1000      1000      1000      5000          0  \n",
       "3          1200      1100      1069      1000          0  \n",
       "4         10000      9000       689       679          0  \n",
       "...         ...       ...       ...       ...        ...  \n",
       "29995      5003      3047      5000      1000          0  \n",
       "29996      8998       129         0         0          0  \n",
       "29997     22000      4200      2000      3100          1  \n",
       "29998      1178      1926     52964      1804          1  \n",
       "29999      1430      1000      1000      1000          1  \n",
       "\n",
       "[30000 rows x 24 columns]"
      ]
     },
     "execution_count": 2,
     "metadata": {},
     "output_type": "execute_result"
    }
   ],
   "source": [
    "df_credit.rename(columns={\"default payment next month\": \"IsDefault\"}, inplace=True)\n",
    "df_credit"
   ]
  },
  {
   "cell_type": "markdown",
   "id": "a5e26753",
   "metadata": {},
   "source": [
    "# Train Simple Model"
   ]
  },
  {
   "cell_type": "code",
   "execution_count": 3,
   "id": "ea4a6c66",
   "metadata": {},
   "outputs": [
    {
     "name": "stderr",
     "output_type": "stream",
     "text": [
      "/home/gregorius_vidy/anaconda3/envs/bespoke-model/lib/python3.12/site-packages/tqdm/auto.py:21: TqdmWarning: IProgress not found. Please update jupyter and ipywidgets. See https://ipywidgets.readthedocs.io/en/stable/user_install.html\n",
      "  from .autonotebook import tqdm as notebook_tqdm\n"
     ]
    }
   ],
   "source": [
    "# 1. define model pipeline\n",
    "\n",
    "from src.model_pipeline import ModelPipeline\n",
    "\n",
    "pipeline = ModelPipeline(\n",
    "    # choose among ['logistic_regression', 'random_forest', 'gradient_boosting', 'xgboost', 'svm']\n",
    "    model_type=\"random_forest\",\n",
    "    random_state=42,\n",
    ")"
   ]
  },
  {
   "cell_type": "code",
   "execution_count": 4,
   "id": "92d4d2a2",
   "metadata": {},
   "outputs": [],
   "source": [
    "# 2. Prepare dataset\n",
    "\n",
    "X, y, num_cols, cat_cols = pipeline.prepare_data(\n",
    "    df=df_credit,\n",
    "    target_column=\"IsDefault\",\n",
    "    exclude_columns=None,  # e.g. drop IDs or timestamps if present\n",
    "    categorical_columns=None,  # auto-detect cats if None\n",
    ")"
   ]
  },
  {
   "cell_type": "code",
   "execution_count": 5,
   "id": "550a3e18",
   "metadata": {},
   "outputs": [],
   "source": [
    "# 3. Split data train and test\n",
    "\n",
    "splits = pipeline.split_data(X, y, test_size=0.3)"
   ]
  },
  {
   "cell_type": "code",
   "execution_count": 6,
   "id": "19bbc4a7",
   "metadata": {},
   "outputs": [],
   "source": [
    "# 4. Build preprocessing + model pipeline\n",
    "\n",
    "pipeline.build_pipeline(numerical_columns=num_cols, categorical_columns=cat_cols)"
   ]
  },
  {
   "cell_type": "code",
   "execution_count": 7,
   "id": "ae78d1c3",
   "metadata": {},
   "outputs": [],
   "source": [
    "# 5. Train on the training fold\n",
    "\n",
    "pipeline.train(splits[\"X_train\"], splits[\"y_train\"])"
   ]
  },
  {
   "cell_type": "code",
   "execution_count": 8,
   "id": "07dd584b",
   "metadata": {},
   "outputs": [
    {
     "name": "stdout",
     "output_type": "stream",
     "text": [
      "Accuracy: 0.8134\n",
      "AUC: 0.7627\n",
      "              precision    recall  f1-score   support\n",
      "\n",
      "           0       0.84      0.95      0.89      7009\n",
      "           1       0.65      0.34      0.45      1991\n",
      "\n",
      "    accuracy                           0.81      9000\n",
      "   macro avg       0.74      0.64      0.67      9000\n",
      "weighted avg       0.79      0.81      0.79      9000\n",
      "\n",
      "Test set metrics -> Accuracy: 0.8134, AUC: 0.7627\n"
     ]
    }
   ],
   "source": [
    "# 6. Evaluate on the test fold\n",
    "metrics = pipeline.evaluate(splits[\"X_test\"], splits[\"y_test\"])\n",
    "print(\n",
    "    f\"Test set metrics -> Accuracy: {metrics['accuracy']:.4f}, \"\n",
    "    f\"AUC: {metrics['auc']:.4f}\"\n",
    ")"
   ]
  },
  {
   "cell_type": "code",
   "execution_count": 9,
   "id": "97608471",
   "metadata": {},
   "outputs": [],
   "source": [
    "from sklearn.metrics import roc_auc_score\n",
    "import numpy as np\n",
    "\n",
    "\n",
    "def find_best_threshold(y_true, y_probs):\n",
    "    best_threshold = 0.0\n",
    "    best_auc = 0.0\n",
    "\n",
    "    thresholds = np.arange(0.0, 1.0, 0.01)\n",
    "    for threshold in thresholds:\n",
    "        y_pred = (y_probs >= threshold).astype(int)\n",
    "        auc = roc_auc_score(y_true, y_pred)\n",
    "        if auc > best_auc:\n",
    "            best_auc = auc\n",
    "            best_threshold = threshold\n",
    "\n",
    "    return best_threshold, best_auc"
   ]
  },
  {
   "cell_type": "code",
   "execution_count": 9,
   "id": "00992e4d",
   "metadata": {},
   "outputs": [
    {
     "name": "stderr",
     "output_type": "stream",
     "text": [
      "CV folds:  20%|██        | 1/5 [00:04<00:17,  4.35s/it]"
     ]
    },
    {
     "name": "stdout",
     "output_type": "stream",
     "text": [
      "Fold 1/5 AUC: 0.7704\n"
     ]
    },
    {
     "name": "stderr",
     "output_type": "stream",
     "text": [
      "CV folds:  40%|████      | 2/5 [00:08<00:13,  4.37s/it]"
     ]
    },
    {
     "name": "stdout",
     "output_type": "stream",
     "text": [
      "Fold 2/5 AUC: 0.7657\n"
     ]
    },
    {
     "name": "stderr",
     "output_type": "stream",
     "text": [
      "CV folds:  60%|██████    | 3/5 [00:13<00:08,  4.38s/it]"
     ]
    },
    {
     "name": "stdout",
     "output_type": "stream",
     "text": [
      "Fold 3/5 AUC: 0.7624\n"
     ]
    },
    {
     "name": "stderr",
     "output_type": "stream",
     "text": [
      "CV folds:  80%|████████  | 4/5 [00:17<00:04,  4.37s/it]"
     ]
    },
    {
     "name": "stdout",
     "output_type": "stream",
     "text": [
      "Fold 4/5 AUC: 0.7671\n"
     ]
    },
    {
     "name": "stderr",
     "output_type": "stream",
     "text": [
      "CV folds: 100%|██████████| 5/5 [00:21<00:00,  4.38s/it]"
     ]
    },
    {
     "name": "stdout",
     "output_type": "stream",
     "text": [
      "Fold 5/5 AUC: 0.7600\n",
      "CV ROC AUC scores: [0.77035244 0.76571313 0.76241822 0.76707757 0.7600146 ]\n",
      "Mean CV AUC: 0.7651 ± 0.0036\n",
      "          feature  importance\n",
      "0  num__LIMIT_BAL    0.060318\n",
      "1        num__AGE    0.060191\n",
      "2      num__PAY_0    0.097917\n",
      "3      num__PAY_2    0.041790\n",
      "4      num__PAY_3    0.027960\n",
      "5      num__PAY_4    0.024551\n",
      "6      num__PAY_5    0.016400\n",
      "7      num__PAY_6    0.020588\n",
      "8  num__BILL_AMT1    0.059909\n",
      "9  num__BILL_AMT2    0.053070\n"
     ]
    },
    {
     "name": "stderr",
     "output_type": "stream",
     "text": [
      "\n"
     ]
    }
   ],
   "source": [
    "# 7. Perform 5-fold stratified cross-validation\n",
    "cv_scores = pipeline.cross_validate(X, y, cv=5)\n",
    "print(f\"CV ROC AUC scores: {cv_scores}\")\n",
    "print(f\"Mean CV AUC: {cv_scores.mean():.4f} ± {cv_scores.std():.4f}\")\n",
    "\n",
    "# 8. Inspect the top 10 features driving model predictions\n",
    "fi = pipeline.get_feature_importance(X, y)\n",
    "print(fi.head(10))"
   ]
  },
  {
   "cell_type": "code",
   "execution_count": 10,
   "id": "dedb69ce",
   "metadata": {},
   "outputs": [],
   "source": [
    "# 9. Get the trained model and pipeline\n",
    "\n",
    "clf = pipeline.get_model()\n",
    "full_pp = pipeline.get_pipeline()\n",
    "preprocessor = pipeline.get_preprocessor()"
   ]
  },
  {
   "cell_type": "code",
   "execution_count": 35,
   "id": "f40c9c70",
   "metadata": {},
   "outputs": [],
   "source": [
    "import uuid\n",
    "import numpy as np\n",
    "\n",
    "bins = np.arange(0, 1.025, 0.025)\n",
    "pred_df = {\n",
    "    \"id\": [uuid.uuid4() for _ in range(len(X))],\n",
    "    \"pbad\": clf.predict_proba(preprocessor.transform(X))[:, 1],\n",
    "    # 'pbad_bin': pd.qcut(clf.predict_proba(preprocessor.transform(X))[:, 1], q=7),\n",
    "    \"pbad_bin\": pd.cut(\n",
    "        clf.predict_proba(preprocessor.transform(X))[:, 1],\n",
    "        bins=bins,\n",
    "        include_lowest=True,\n",
    "        right=False,\n",
    "    ),\n",
    "    \"pgood\": clf.predict_proba(preprocessor.transform(X))[:, 0],\n",
    "    # 'pgood_bin': pd.qcut(clf.predict_proba(preprocessor.transform(X))[:, 0], q=7),\n",
    "    \"pgood_bin\": pd.cut(\n",
    "        clf.predict_proba(preprocessor.transform(X))[:, 0],\n",
    "        bins=bins,\n",
    "        include_lowest=True,\n",
    "        right=False,\n",
    "    ),\n",
    "    \"is_bad\": y,\n",
    "    \"is_good\": 1 - y,\n",
    "    \"total_limit_amt\": X.LIMIT_BAL,\n",
    "    \"total_bad_limit_amt\": X.apply(\n",
    "        lambda row: row.LIMIT_BAL if y[row.name] == 1 else 0, axis=1\n",
    "    ),\n",
    "    \"total_good_limit_amt\": X.apply(\n",
    "        lambda row: row.LIMIT_BAL if y[row.name] == 0 else 0, axis=1\n",
    "    ),\n",
    "}\n",
    "pred_df = pd.DataFrame(pred_df)"
   ]
  },
  {
   "cell_type": "code",
   "execution_count": 16,
   "id": "140720f9",
   "metadata": {},
   "outputs": [
    {
     "name": "stdout",
     "output_type": "stream",
     "text": [
      "Best Threshold: 0.81, Best AUC: 0.897661639535701\n"
     ]
    }
   ],
   "source": [
    "best_threshold, best_auc = find_best_threshold(pred_df[\"is_good\"], pred_df[\"pgood\"])\n",
    "print(f\"Best Threshold: {best_threshold}, Best AUC: {best_auc}\")"
   ]
  },
  {
   "cell_type": "code",
   "execution_count": 53,
   "id": "67dc55ba",
   "metadata": {},
   "outputs": [
    {
     "name": "stderr",
     "output_type": "stream",
     "text": [
      "/tmp/ipykernel_57984/2788757332.py:3: FutureWarning: The default of observed=False is deprecated and will be changed to True in a future version of pandas. Pass observed=False to retain current behavior or observed=True to adopt the future default and silence this warning.\n",
      "  aggregated_df = pred_df.groupby('pgood_bin').agg(\n"
     ]
    }
   ],
   "source": [
    "import numpy as np\n",
    "\n",
    "aggregated_df = pred_df.groupby(\"pgood_bin\").agg(\n",
    "    {\n",
    "        \"id\": \"count\",\n",
    "        \"is_bad\": \"sum\",\n",
    "        \"is_good\": \"sum\",\n",
    "        \"total_limit_amt\": \"sum\",\n",
    "        \"total_bad_limit_amt\": \"sum\",\n",
    "        \"total_good_limit_amt\": \"sum\",\n",
    "    }\n",
    ")"
   ]
  },
  {
   "cell_type": "code",
   "execution_count": 54,
   "id": "dce8ade9",
   "metadata": {},
   "outputs": [],
   "source": [
    "aggregated_df[\"bad_rate\"] = np.divide(aggregated_df[\"is_bad\"], aggregated_df[\"id\"])\n",
    "aggregated_df[\"good_rate\"] = np.divide(aggregated_df[\"is_good\"], aggregated_df[\"id\"])\n",
    "aggregated_df[\"cum_records_passed\"] = aggregated_df[\"id\"][::-1].cumsum()[::-1]\n",
    "aggregated_df[\"cum_records_rejected\"] = aggregated_df[\"id\"].cumsum()\n",
    "aggregated_df[\"cum_good\"] = aggregated_df[\"is_good\"][::-1].cumsum()[::-1]\n",
    "aggregated_df[\"cum_bad\"] = aggregated_df[\"is_bad\"][::-1].cumsum()[::-1]\n",
    "aggregated_df[\"pass_through_rate\"] = np.divide(\n",
    "    aggregated_df[\"cum_records_passed\"], aggregated_df[\"id\"].sum()\n",
    ")\n",
    "aggregated_df[\"rejection_rate\"] = np.divide(\n",
    "    aggregated_df[\"cum_records_rejected\"], aggregated_df[\"id\"].sum()\n",
    ")\n",
    "aggregated_df[\"cum_good_rate\"] = np.divide(\n",
    "    aggregated_df[\"cum_good\"], aggregated_df[\"cum_records_passed\"]\n",
    ")\n",
    "aggregated_df[\"cum_bad_rate\"] = np.divide(\n",
    "    aggregated_df[\"cum_bad\"], aggregated_df[\"cum_records_passed\"]\n",
    ")\n",
    "aggregated_df[\"cum_limit_amt\"] = aggregated_df[\"total_limit_amt\"][::-1].cumsum()[::-1]\n",
    "aggregated_df[\"cum_bad_limit_amt\"] = aggregated_df[\"total_bad_limit_amt\"][\n",
    "    ::-1\n",
    "].cumsum()[::-1]\n",
    "aggregated_df[\"cum_good_limit_amt\"] = aggregated_df[\"total_good_limit_amt\"][\n",
    "    ::-1\n",
    "].cumsum()[::-1]"
   ]
  },
  {
   "cell_type": "code",
   "execution_count": 55,
   "id": "2c1888fe",
   "metadata": {},
   "outputs": [],
   "source": [
    "aggregated_df.to_clipboard()"
   ]
  },
  {
   "cell_type": "code",
   "execution_count": 34,
   "id": "e95e6bf6",
   "metadata": {},
   "outputs": [
    {
     "data": {
      "text/plain": [
       "is_bad\n",
       "0    23363\n",
       "1     6575\n",
       "Name: count, dtype: int64"
      ]
     },
     "execution_count": 34,
     "metadata": {},
     "output_type": "execute_result"
    }
   ],
   "source": [
    "pred_df[pred_df[\"pgood\"] >= 0.025].is_bad.value_counts(normalize=False)"
   ]
  },
  {
   "cell_type": "code",
   "execution_count": 24,
   "id": "67485f1c",
   "metadata": {},
   "outputs": [
    {
     "name": "stdout",
     "output_type": "stream",
     "text": [
      "AUC: 0.9335\n"
     ]
    }
   ],
   "source": [
    "from sklearn.metrics import accuracy_score, roc_auc_score, classification_report\n",
    "\n",
    "print(\n",
    "    f\"AUC: {roc_auc_score(y, clf.predict_proba(preprocessor.transform(X))[:, 1]):.4f}\"\n",
    ")"
   ]
  },
  {
   "cell_type": "markdown",
   "id": "6d33b151",
   "metadata": {},
   "source": [
    "# Model Diagnostic"
   ]
  },
  {
   "cell_type": "code",
   "execution_count": 11,
   "id": "0a957d3f",
   "metadata": {},
   "outputs": [],
   "source": [
    "from src.model_diagnostic import TestSuite\n",
    "\n",
    "ts = TestSuite()"
   ]
  },
  {
   "cell_type": "code",
   "execution_count": 12,
   "id": "ee47e378",
   "metadata": {},
   "outputs": [
    {
     "name": "stderr",
     "output_type": "stream",
     "text": [
      "/Users/gregvidy/Personal Project/gbg-bespoke-model/src/model_diagnostic.py:232: UserWarning: Target column not identified. Using last column 'IsDefault' as target.\n",
      "  warnings.warn(\n"
     ]
    }
   ],
   "source": [
    "ts.set_data(data=splits, pipeline=full_pp, target_col=\"IsDefault\")"
   ]
  },
  {
   "cell_type": "code",
   "execution_count": 13,
   "id": "99d3fc66",
   "metadata": {},
   "outputs": [],
   "source": [
    "ts.set_model(model=clf)"
   ]
  },
  {
   "cell_type": "code",
   "execution_count": 15,
   "id": "338160a8",
   "metadata": {},
   "outputs": [
    {
     "name": "stderr",
     "output_type": "stream",
     "text": [
      "/opt/anaconda3/envs/gbg-bespoke-model/lib/python3.12/site-packages/sklearn/utils/validation.py:2732: UserWarning: X has feature names, but RandomForestClassifier was fitted without feature names\n",
      "  warnings.warn(\n",
      "/opt/anaconda3/envs/gbg-bespoke-model/lib/python3.12/site-packages/sklearn/utils/validation.py:2732: UserWarning: X has feature names, but RandomForestClassifier was fitted without feature names\n",
      "  warnings.warn(\n"
     ]
    },
    {
     "data": {
      "image/png": "[encoded data removed]",
      "text/plain": [
       "<Figure size 1000x600 with 1 Axes>"
      ]
     },
     "metadata": {},
     "output_type": "display_data"
    }
   ],
   "source": [
    "result = ts.diagnose_residual_analysis(\n",
    "    features=\"num__PAY_0\", use_prediction=True, dataset=\"test\", random_state=123\n",
    ")"
   ]
  },
  {
   "cell_type": "code",
   "execution_count": null,
   "id": "041a4ee1",
   "metadata": {},
   "outputs": [],
   "source": []
  }
 ],
 "metadata": {
  "kernelspec": {
   "display_name": "bespoke-model",
   "language": "python",
   "name": "python3"
  },
  "language_info": {
   "codemirror_mode": {
    "name": "ipython",
    "version": 3
   },
   "file_extension": ".py",
   "mimetype": "text/x-python",
   "name": "python",
   "nbconvert_exporter": "python",
   "pygments_lexer": "ipython3",
   "version": "3.12.9"
  }
 },
 "nbformat": 4,
 "nbformat_minor": 5
}
