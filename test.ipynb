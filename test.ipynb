{
 "cells": [
  {
   "cell_type": "markdown",
   "id": "34eb300f",
   "metadata": {},
   "source": [
    "# Load Dataset"
   ]
  },
  {
   "cell_type": "code",
   "execution_count": 1,
   "id": "c4d84d0b",
   "metadata": {},
   "outputs": [],
   "source": [
    "from ucimlrepo import fetch_ucirepo\n",
    "\n",
    "# fetch dataset \n",
    "df_taiwan_credit = fetch_ucirepo(id=350) \n",
    "\n",
    "df_credit = df_taiwan_credit.data.original.drop(columns='ID').copy()\n",
    "df_credit.columns = df_taiwan_credit.variables['description'].values[1:]"
   ]
  },
  {
   "cell_type": "code",
   "execution_count": 2,
   "id": "28859b33",
   "metadata": {},
   "outputs": [
    {
     "data": {
      "text/html": [
       "<div>\n",
       "<style scoped>\n",
       "    .dataframe tbody tr th:only-of-type {\n",
       "        vertical-align: middle;\n",
       "    }\n",
       "\n",
       "    .dataframe tbody tr th {\n",
       "        vertical-align: top;\n",
       "    }\n",
       "\n",
       "    .dataframe thead th {\n",
       "        text-align: right;\n",
       "    }\n",
       "</style>\n",
       "<table border=\"1\" class=\"dataframe\">\n",
       "  <thead>\n",
       "    <tr style=\"text-align: right;\">\n",
       "      <th></th>\n",
       "      <th>LIMIT_BAL</th>\n",
       "      <th>SEX</th>\n",
       "      <th>EDUCATION</th>\n",
       "      <th>MARRIAGE</th>\n",
       "      <th>AGE</th>\n",
       "      <th>PAY_0</th>\n",
       "      <th>PAY_2</th>\n",
       "      <th>PAY_3</th>\n",
       "      <th>PAY_4</th>\n",
       "      <th>PAY_5</th>\n",
       "      <th>...</th>\n",
       "      <th>BILL_AMT4</th>\n",
       "      <th>BILL_AMT5</th>\n",
       "      <th>BILL_AMT6</th>\n",
       "      <th>PAY_AMT1</th>\n",
       "      <th>PAY_AMT2</th>\n",
       "      <th>PAY_AMT3</th>\n",
       "      <th>PAY_AMT4</th>\n",
       "      <th>PAY_AMT5</th>\n",
       "      <th>PAY_AMT6</th>\n",
       "      <th>IsDefault</th>\n",
       "    </tr>\n",
       "  </thead>\n",
       "  <tbody>\n",
       "    <tr>\n",
       "      <th>0</th>\n",
       "      <td>20000</td>\n",
       "      <td>2</td>\n",
       "      <td>2</td>\n",
       "      <td>1</td>\n",
       "      <td>24</td>\n",
       "      <td>2</td>\n",
       "      <td>2</td>\n",
       "      <td>-1</td>\n",
       "      <td>-1</td>\n",
       "      <td>-2</td>\n",
       "      <td>...</td>\n",
       "      <td>0</td>\n",
       "      <td>0</td>\n",
       "      <td>0</td>\n",
       "      <td>0</td>\n",
       "      <td>689</td>\n",
       "      <td>0</td>\n",
       "      <td>0</td>\n",
       "      <td>0</td>\n",
       "      <td>0</td>\n",
       "      <td>1</td>\n",
       "    </tr>\n",
       "    <tr>\n",
       "      <th>1</th>\n",
       "      <td>120000</td>\n",
       "      <td>2</td>\n",
       "      <td>2</td>\n",
       "      <td>2</td>\n",
       "      <td>26</td>\n",
       "      <td>-1</td>\n",
       "      <td>2</td>\n",
       "      <td>0</td>\n",
       "      <td>0</td>\n",
       "      <td>0</td>\n",
       "      <td>...</td>\n",
       "      <td>3272</td>\n",
       "      <td>3455</td>\n",
       "      <td>3261</td>\n",
       "      <td>0</td>\n",
       "      <td>1000</td>\n",
       "      <td>1000</td>\n",
       "      <td>1000</td>\n",
       "      <td>0</td>\n",
       "      <td>2000</td>\n",
       "      <td>1</td>\n",
       "    </tr>\n",
       "    <tr>\n",
       "      <th>2</th>\n",
       "      <td>90000</td>\n",
       "      <td>2</td>\n",
       "      <td>2</td>\n",
       "      <td>2</td>\n",
       "      <td>34</td>\n",
       "      <td>0</td>\n",
       "      <td>0</td>\n",
       "      <td>0</td>\n",
       "      <td>0</td>\n",
       "      <td>0</td>\n",
       "      <td>...</td>\n",
       "      <td>14331</td>\n",
       "      <td>14948</td>\n",
       "      <td>15549</td>\n",
       "      <td>1518</td>\n",
       "      <td>1500</td>\n",
       "      <td>1000</td>\n",
       "      <td>1000</td>\n",
       "      <td>1000</td>\n",
       "      <td>5000</td>\n",
       "      <td>0</td>\n",
       "    </tr>\n",
       "    <tr>\n",
       "      <th>3</th>\n",
       "      <td>50000</td>\n",
       "      <td>2</td>\n",
       "      <td>2</td>\n",
       "      <td>1</td>\n",
       "      <td>37</td>\n",
       "      <td>0</td>\n",
       "      <td>0</td>\n",
       "      <td>0</td>\n",
       "      <td>0</td>\n",
       "      <td>0</td>\n",
       "      <td>...</td>\n",
       "      <td>28314</td>\n",
       "      <td>28959</td>\n",
       "      <td>29547</td>\n",
       "      <td>2000</td>\n",
       "      <td>2019</td>\n",
       "      <td>1200</td>\n",
       "      <td>1100</td>\n",
       "      <td>1069</td>\n",
       "      <td>1000</td>\n",
       "      <td>0</td>\n",
       "    </tr>\n",
       "    <tr>\n",
       "      <th>4</th>\n",
       "      <td>50000</td>\n",
       "      <td>1</td>\n",
       "      <td>2</td>\n",
       "      <td>1</td>\n",
       "      <td>57</td>\n",
       "      <td>-1</td>\n",
       "      <td>0</td>\n",
       "      <td>-1</td>\n",
       "      <td>0</td>\n",
       "      <td>0</td>\n",
       "      <td>...</td>\n",
       "      <td>20940</td>\n",
       "      <td>19146</td>\n",
       "      <td>19131</td>\n",
       "      <td>2000</td>\n",
       "      <td>36681</td>\n",
       "      <td>10000</td>\n",
       "      <td>9000</td>\n",
       "      <td>689</td>\n",
       "      <td>679</td>\n",
       "      <td>0</td>\n",
       "    </tr>\n",
       "    <tr>\n",
       "      <th>...</th>\n",
       "      <td>...</td>\n",
       "      <td>...</td>\n",
       "      <td>...</td>\n",
       "      <td>...</td>\n",
       "      <td>...</td>\n",
       "      <td>...</td>\n",
       "      <td>...</td>\n",
       "      <td>...</td>\n",
       "      <td>...</td>\n",
       "      <td>...</td>\n",
       "      <td>...</td>\n",
       "      <td>...</td>\n",
       "      <td>...</td>\n",
       "      <td>...</td>\n",
       "      <td>...</td>\n",
       "      <td>...</td>\n",
       "      <td>...</td>\n",
       "      <td>...</td>\n",
       "      <td>...</td>\n",
       "      <td>...</td>\n",
       "      <td>...</td>\n",
       "    </tr>\n",
       "    <tr>\n",
       "      <th>29995</th>\n",
       "      <td>220000</td>\n",
       "      <td>1</td>\n",
       "      <td>3</td>\n",
       "      <td>1</td>\n",
       "      <td>39</td>\n",
       "      <td>0</td>\n",
       "      <td>0</td>\n",
       "      <td>0</td>\n",
       "      <td>0</td>\n",
       "      <td>0</td>\n",
       "      <td>...</td>\n",
       "      <td>88004</td>\n",
       "      <td>31237</td>\n",
       "      <td>15980</td>\n",
       "      <td>8500</td>\n",
       "      <td>20000</td>\n",
       "      <td>5003</td>\n",
       "      <td>3047</td>\n",
       "      <td>5000</td>\n",
       "      <td>1000</td>\n",
       "      <td>0</td>\n",
       "    </tr>\n",
       "    <tr>\n",
       "      <th>29996</th>\n",
       "      <td>150000</td>\n",
       "      <td>1</td>\n",
       "      <td>3</td>\n",
       "      <td>2</td>\n",
       "      <td>43</td>\n",
       "      <td>-1</td>\n",
       "      <td>-1</td>\n",
       "      <td>-1</td>\n",
       "      <td>-1</td>\n",
       "      <td>0</td>\n",
       "      <td>...</td>\n",
       "      <td>8979</td>\n",
       "      <td>5190</td>\n",
       "      <td>0</td>\n",
       "      <td>1837</td>\n",
       "      <td>3526</td>\n",
       "      <td>8998</td>\n",
       "      <td>129</td>\n",
       "      <td>0</td>\n",
       "      <td>0</td>\n",
       "      <td>0</td>\n",
       "    </tr>\n",
       "    <tr>\n",
       "      <th>29997</th>\n",
       "      <td>30000</td>\n",
       "      <td>1</td>\n",
       "      <td>2</td>\n",
       "      <td>2</td>\n",
       "      <td>37</td>\n",
       "      <td>4</td>\n",
       "      <td>3</td>\n",
       "      <td>2</td>\n",
       "      <td>-1</td>\n",
       "      <td>0</td>\n",
       "      <td>...</td>\n",
       "      <td>20878</td>\n",
       "      <td>20582</td>\n",
       "      <td>19357</td>\n",
       "      <td>0</td>\n",
       "      <td>0</td>\n",
       "      <td>22000</td>\n",
       "      <td>4200</td>\n",
       "      <td>2000</td>\n",
       "      <td>3100</td>\n",
       "      <td>1</td>\n",
       "    </tr>\n",
       "    <tr>\n",
       "      <th>29998</th>\n",
       "      <td>80000</td>\n",
       "      <td>1</td>\n",
       "      <td>3</td>\n",
       "      <td>1</td>\n",
       "      <td>41</td>\n",
       "      <td>1</td>\n",
       "      <td>-1</td>\n",
       "      <td>0</td>\n",
       "      <td>0</td>\n",
       "      <td>0</td>\n",
       "      <td>...</td>\n",
       "      <td>52774</td>\n",
       "      <td>11855</td>\n",
       "      <td>48944</td>\n",
       "      <td>85900</td>\n",
       "      <td>3409</td>\n",
       "      <td>1178</td>\n",
       "      <td>1926</td>\n",
       "      <td>52964</td>\n",
       "      <td>1804</td>\n",
       "      <td>1</td>\n",
       "    </tr>\n",
       "    <tr>\n",
       "      <th>29999</th>\n",
       "      <td>50000</td>\n",
       "      <td>1</td>\n",
       "      <td>2</td>\n",
       "      <td>1</td>\n",
       "      <td>46</td>\n",
       "      <td>0</td>\n",
       "      <td>0</td>\n",
       "      <td>0</td>\n",
       "      <td>0</td>\n",
       "      <td>0</td>\n",
       "      <td>...</td>\n",
       "      <td>36535</td>\n",
       "      <td>32428</td>\n",
       "      <td>15313</td>\n",
       "      <td>2078</td>\n",
       "      <td>1800</td>\n",
       "      <td>1430</td>\n",
       "      <td>1000</td>\n",
       "      <td>1000</td>\n",
       "      <td>1000</td>\n",
       "      <td>1</td>\n",
       "    </tr>\n",
       "  </tbody>\n",
       "</table>\n",
       "<p>30000 rows × 24 columns</p>\n",
       "</div>"
      ],
      "text/plain": [
       "       LIMIT_BAL  SEX  EDUCATION  MARRIAGE  AGE  PAY_0  PAY_2  PAY_3  PAY_4  \\\n",
       "0          20000    2          2         1   24      2      2     -1     -1   \n",
       "1         120000    2          2         2   26     -1      2      0      0   \n",
       "2          90000    2          2         2   34      0      0      0      0   \n",
       "3          50000    2          2         1   37      0      0      0      0   \n",
       "4          50000    1          2         1   57     -1      0     -1      0   \n",
       "...          ...  ...        ...       ...  ...    ...    ...    ...    ...   \n",
       "29995     220000    1          3         1   39      0      0      0      0   \n",
       "29996     150000    1          3         2   43     -1     -1     -1     -1   \n",
       "29997      30000    1          2         2   37      4      3      2     -1   \n",
       "29998      80000    1          3         1   41      1     -1      0      0   \n",
       "29999      50000    1          2         1   46      0      0      0      0   \n",
       "\n",
       "       PAY_5  ...  BILL_AMT4  BILL_AMT5  BILL_AMT6  PAY_AMT1  PAY_AMT2  \\\n",
       "0         -2  ...          0          0          0         0       689   \n",
       "1          0  ...       3272       3455       3261         0      1000   \n",
       "2          0  ...      14331      14948      15549      1518      1500   \n",
       "3          0  ...      28314      28959      29547      2000      2019   \n",
       "4          0  ...      20940      19146      19131      2000     36681   \n",
       "...      ...  ...        ...        ...        ...       ...       ...   \n",
       "29995      0  ...      88004      31237      15980      8500     20000   \n",
       "29996      0  ...       8979       5190          0      1837      3526   \n",
       "29997      0  ...      20878      20582      19357         0         0   \n",
       "29998      0  ...      52774      11855      48944     85900      3409   \n",
       "29999      0  ...      36535      32428      15313      2078      1800   \n",
       "\n",
       "       PAY_AMT3  PAY_AMT4  PAY_AMT5  PAY_AMT6  IsDefault  \n",
       "0             0         0         0         0          1  \n",
       "1          1000      1000         0      2000          1  \n",
       "2          1000      1000      1000      5000          0  \n",
       "3          1200      1100      1069      1000          0  \n",
       "4         10000      9000       689       679          0  \n",
       "...         ...       ...       ...       ...        ...  \n",
       "29995      5003      3047      5000      1000          0  \n",
       "29996      8998       129         0         0          0  \n",
       "29997     22000      4200      2000      3100          1  \n",
       "29998      1178      1926     52964      1804          1  \n",
       "29999      1430      1000      1000      1000          1  \n",
       "\n",
       "[30000 rows x 24 columns]"
      ]
     },
     "execution_count": 2,
     "metadata": {},
     "output_type": "execute_result"
    }
   ],
   "source": [
    "df_credit.rename(columns={'default payment next month': 'IsDefault'}, inplace=True)\n",
    "df_credit"
   ]
  },
  {
   "cell_type": "markdown",
   "id": "a5e26753",
   "metadata": {},
   "source": [
    "# Train Simple Model"
   ]
  },
  {
   "cell_type": "code",
   "execution_count": 3,
   "id": "ea4a6c66",
   "metadata": {},
   "outputs": [
    {
     "name": "stderr",
     "output_type": "stream",
     "text": [
      "/opt/anaconda3/envs/gbg-bespoke-model/lib/python3.12/site-packages/tqdm/auto.py:21: TqdmWarning: IProgress not found. Please update jupyter and ipywidgets. See https://ipywidgets.readthedocs.io/en/stable/user_install.html\n",
      "  from .autonotebook import tqdm as notebook_tqdm\n"
     ]
    }
   ],
   "source": [
    "# 1. define model pipeline\n",
    "\n",
    "from src.model_pipeline import ModelPipeline\n",
    "\n",
    "pipeline = ModelPipeline(\n",
    "    model_type='random_forest',  # choose among lr/rf/gbm/xgb/svm\n",
    "    random_state=42\n",
    ")"
   ]
  },
  {
   "cell_type": "code",
   "execution_count": 4,
   "id": "92d4d2a2",
   "metadata": {},
   "outputs": [],
   "source": [
    "# 2. Prepare dataset\n",
    "\n",
    "X, y, num_cols, cat_cols = pipeline.prepare_data(\n",
    "    df=df_credit,\n",
    "    target_column='IsDefault',\n",
    "    exclude_columns=None,      # e.g. drop IDs or timestamps if present\n",
    "    categorical_columns=None   # auto-detect cats if None\n",
    ")"
   ]
  },
  {
   "cell_type": "code",
   "execution_count": 5,
   "id": "550a3e18",
   "metadata": {},
   "outputs": [],
   "source": [
    "# 3. Split data train and test\n",
    "\n",
    "splits = pipeline.split_data(X, y, test_size=0.3)"
   ]
  },
  {
   "cell_type": "code",
   "execution_count": 6,
   "id": "19bbc4a7",
   "metadata": {},
   "outputs": [],
   "source": [
    "# 4. Build preprocessing + model pipeline\n",
    "\n",
    "pipeline.build_pipeline(\n",
    "    numerical_columns=num_cols,\n",
    "    categorical_columns=cat_cols\n",
    ")"
   ]
  },
  {
   "cell_type": "code",
   "execution_count": 7,
   "id": "ae78d1c3",
   "metadata": {},
   "outputs": [],
   "source": [
    "# 5. Train on the training fold\n",
    "\n",
    "pipeline.train(splits['X_train'], splits['y_train'])"
   ]
  },
  {
   "cell_type": "code",
   "execution_count": 8,
   "id": "07dd584b",
   "metadata": {},
   "outputs": [
    {
     "name": "stdout",
     "output_type": "stream",
     "text": [
      "Accuracy: 0.8149\n",
      "AUC: 0.7593\n",
      "              precision    recall  f1-score   support\n",
      "\n",
      "           0       0.84      0.94      0.89      7009\n",
      "           1       0.64      0.37      0.47      1991\n",
      "\n",
      "    accuracy                           0.81      9000\n",
      "   macro avg       0.74      0.66      0.68      9000\n",
      "weighted avg       0.80      0.81      0.80      9000\n",
      "\n",
      "Test set metrics -> Accuracy: 0.8149, AUC: 0.7593\n"
     ]
    }
   ],
   "source": [
    "# 6. Evaluate on the test fold\n",
    "metrics = pipeline.evaluate(splits['X_test'], splits['y_test'])\n",
    "print(\n",
    "    f\"Test set metrics -> Accuracy: {metrics['accuracy']:.4f}, \"\n",
    "    f\"AUC: {metrics['auc']:.4f}\"\n",
    ")"
   ]
  },
  {
   "cell_type": "code",
   "execution_count": 9,
   "id": "00992e4d",
   "metadata": {},
   "outputs": [
    {
     "name": "stderr",
     "output_type": "stream",
     "text": [
      "CV folds:  20%|██        | 1/5 [00:03<00:14,  3.66s/it]"
     ]
    },
    {
     "name": "stdout",
     "output_type": "stream",
     "text": [
      "Fold 1/5 ROC AUC: 0.7681\n"
     ]
    },
    {
     "name": "stderr",
     "output_type": "stream",
     "text": [
      "CV folds:  40%|████      | 2/5 [00:07<00:10,  3.63s/it]"
     ]
    },
    {
     "name": "stdout",
     "output_type": "stream",
     "text": [
      "Fold 2/5 ROC AUC: 0.7611\n"
     ]
    },
    {
     "name": "stderr",
     "output_type": "stream",
     "text": [
      "CV folds:  60%|██████    | 3/5 [00:10<00:07,  3.67s/it]"
     ]
    },
    {
     "name": "stdout",
     "output_type": "stream",
     "text": [
      "Fold 3/5 ROC AUC: 0.7661\n"
     ]
    },
    {
     "name": "stderr",
     "output_type": "stream",
     "text": [
      "CV folds:  80%|████████  | 4/5 [00:14<00:03,  3.66s/it]"
     ]
    },
    {
     "name": "stdout",
     "output_type": "stream",
     "text": [
      "Fold 4/5 ROC AUC: 0.7703\n"
     ]
    },
    {
     "name": "stderr",
     "output_type": "stream",
     "text": [
      "CV folds: 100%|██████████| 5/5 [00:18<00:00,  3.64s/it]"
     ]
    },
    {
     "name": "stdout",
     "output_type": "stream",
     "text": [
      "Fold 5/5 ROC AUC: 0.7594\n",
      "CV ROC AUC scores: [0.76805263 0.76113376 0.76606944 0.77030573 0.75943212]\n",
      "Mean CV AUC: 0.7650 ± 0.0041\n",
      "           feature  importance\n",
      "2       num__PAY_0    0.099956\n",
      "1         num__AGE    0.064758\n",
      "0   num__LIMIT_BAL    0.059330\n",
      "8   num__BILL_AMT1    0.057924\n",
      "9   num__BILL_AMT2    0.053264\n",
      "10  num__BILL_AMT3    0.050530\n",
      "14   num__PAY_AMT1    0.050205\n",
      "11  num__BILL_AMT4    0.049206\n",
      "13  num__BILL_AMT6    0.048536\n",
      "12  num__BILL_AMT5    0.048023\n"
     ]
    },
    {
     "name": "stderr",
     "output_type": "stream",
     "text": [
      "\n"
     ]
    }
   ],
   "source": [
    "# 7. Perform 5-fold stratified cross-validation\n",
    "cv_scores = pipeline.cross_validate(X, y, cv=5)\n",
    "print(f\"CV ROC AUC scores: {cv_scores}\") \n",
    "print(f\"Mean CV AUC: {cv_scores.mean():.4f} ± {cv_scores.std():.4f}\")\n",
    "\n",
    "# 8. Inspect the top 10 features driving model predictions\n",
    "fi = pipeline.get_feature_importance(X, y)\n",
    "print(fi.head(10))"
   ]
  },
  {
   "cell_type": "code",
   "execution_count": 10,
   "id": "dedb69ce",
   "metadata": {},
   "outputs": [],
   "source": [
    "# 9. Get the trained model\n",
    "\n",
    "clf = pipeline.get_model()"
   ]
  },
  {
   "cell_type": "markdown",
   "id": "6d33b151",
   "metadata": {},
   "source": [
    "# Model Diagnostic"
   ]
  },
  {
   "cell_type": "code",
   "execution_count": 11,
   "id": "0a957d3f",
   "metadata": {},
   "outputs": [],
   "source": [
    "from src.model_diagnostic import TestSuite\n",
    "\n",
    "ts = TestSuite()"
   ]
  },
  {
   "cell_type": "code",
   "execution_count": 12,
   "id": "11a31af3",
   "metadata": {},
   "outputs": [
    {
     "data": {
      "text/plain": [
       "{'X_train':        LIMIT_BAL  SEX  EDUCATION  MARRIAGE  AGE  PAY_0  PAY_2  PAY_3  PAY_4  \\\n",
       " 11018     160000    2          2         2   32      0      0      0      0   \n",
       " 1710      100000    2          1         2   30      0      0      0      0   \n",
       " 4618       80000    1          1         2   29      0      0      0      0   \n",
       " 5482       20000    2          2         1   27      0      0     -1     -1   \n",
       " 26187      50000    2          1         2   30     -2     -2     -2     -2   \n",
       " ...          ...  ...        ...       ...  ...    ...    ...    ...    ...   \n",
       " 25780     200000    2          2         1   32      0      0     -2     -2   \n",
       " 13921     120000    2          2         2   24      0      0      0      0   \n",
       " 3794      120000    2          1         2   24      0      0      0      0   \n",
       " 27565     360000    1          1         1   57      1     -2     -1     -1   \n",
       " 27126     300000    1          1         1   35     -1     -1     -1     -1   \n",
       " \n",
       "        PAY_5  ...  BILL_AMT3  BILL_AMT4  BILL_AMT5  BILL_AMT6  PAY_AMT1  \\\n",
       " 11018      0  ...     155404     153234     156731     155818      6000   \n",
       " 1710       2  ...      42283      51539      50583      52588      5000   \n",
       " 4618       0  ...      64277      45455      42231      42804      3300   \n",
       " 5482      -2  ...        780          0          0          0      1006   \n",
       " 26187     -2  ...          0          0          0          0      2070   \n",
       " ...      ...  ...        ...        ...        ...        ...       ...   \n",
       " 25780     -2  ...          0          0          0          0         0   \n",
       " 13921      0  ...     115515     113948     122127     121962      4200   \n",
       " 3794       0  ...      67187      49924      33188      19826      3700   \n",
       " 27565     -1  ...        860        246        -46        -46         0   \n",
       " 27126     -2  ...        338          0          0          0      1217   \n",
       " \n",
       "        PAY_AMT2  PAY_AMT3  PAY_AMT4  PAY_AMT5  PAY_AMT6  \n",
       " 11018      6000      5600      6000      6000      5500  \n",
       " 1710      10000     10000         0      2846      1936  \n",
       " 4618       2500      1556      1600      1600      1600  \n",
       " 5482        780         0         0         0         0  \n",
       " 26187         0         0         0         0         0  \n",
       " ...         ...       ...       ...       ...       ...  \n",
       " 25780         0         0         0         0         0  \n",
       " 13921      4100      4100     10000      4560         0  \n",
       " 3794       2023      2016      2000      1200      1000  \n",
       " 27565       860       246         0         0         0  \n",
       " 27126       338         0         0         0         0  \n",
       " \n",
       " [21000 rows x 23 columns],\n",
       " 'X_test':        LIMIT_BAL  SEX  EDUCATION  MARRIAGE  AGE  PAY_0  PAY_2  PAY_3  PAY_4  \\\n",
       " 8941      230000    1          2         2   30      0      0      0      0   \n",
       " 17618      80000    2          1         1   32     -1      3      2     -1   \n",
       " 27895     100000    2          1         2   29      0      0      0      0   \n",
       " 16103      10000    2          2         1   37     -1      4      3      2   \n",
       " 4422      110000    2          2         1   34      0      0      0      0   \n",
       " ...          ...  ...        ...       ...  ...    ...    ...    ...    ...   \n",
       " 27933     180000    2          2         2   25      0      0      0      0   \n",
       " 26623      50000    1          2         2   25      0      0      0      0   \n",
       " 21750     110000    2          2         2   24      0      0     -1     -1   \n",
       " 14888     450000    2          1         3   37      1     -2     -2     -2   \n",
       " 20705      90000    1          2         1   39      0      0      0      0   \n",
       " \n",
       "        PAY_5  ...  BILL_AMT3  BILL_AMT4  BILL_AMT5  BILL_AMT6  PAY_AMT1  \\\n",
       " 8941       0  ...      84297      49681      46224      44800      5000   \n",
       " 17618      0  ...       3342       4844       3728       2612         0   \n",
       " 27895      0  ...      77303      60178      56436      51773     70001   \n",
       " 16103      2  ...       2440       2510       2641       2222         0   \n",
       " 4422       0  ...      27012      27762      32126      37779      2000   \n",
       " ...      ...  ...        ...        ...        ...        ...       ...   \n",
       " 27933      0  ...     176081     175540     142015     139162      6500   \n",
       " 26623      0  ...      12905      13498      13993      13854      1502   \n",
       " 21750     -1  ...       3308       2527       1076       1164         0   \n",
       " 14888     -2  ...          0          0          0          0         0   \n",
       " 20705      0  ...      40162      41422      42172      34477      2000   \n",
       " \n",
       "        PAY_AMT2  PAY_AMT3  PAY_AMT4  PAY_AMT5  PAY_AMT6  \n",
       " 8941       4000      2029      2000      2500      1300  \n",
       " 17618         0      4844         0         0         0  \n",
       " 27895      3769      2008      1950      2001     18000  \n",
       " 16103         0       500       400         0        36  \n",
       " 4422       2000      1500      5000      6400         0  \n",
       " ...         ...       ...       ...       ...       ...  \n",
       " 27933      7000      7200      5018      5200      5300  \n",
       " 26623      1522      1505      1000      1000      1000  \n",
       " 21750      3308      2527      1079      1167      1974  \n",
       " 14888         0         0         0         0         0  \n",
       " 20705      3000      2000      1600      1500      2000  \n",
       " \n",
       " [9000 rows x 23 columns],\n",
       " 'y_train': 11018    0\n",
       " 1710     1\n",
       " 4618     0\n",
       " 5482     0\n",
       " 26187    0\n",
       "         ..\n",
       " 25780    0\n",
       " 13921    0\n",
       " 3794     0\n",
       " 27565    0\n",
       " 27126    0\n",
       " Name: IsDefault, Length: 21000, dtype: int64,\n",
       " 'y_test': 8941     0\n",
       " 17618    1\n",
       " 27895    0\n",
       " 16103    0\n",
       " 4422     0\n",
       "         ..\n",
       " 27933    0\n",
       " 26623    0\n",
       " 21750    0\n",
       " 14888    0\n",
       " 20705    0\n",
       " Name: IsDefault, Length: 9000, dtype: int64}"
      ]
     },
     "execution_count": 12,
     "metadata": {},
     "output_type": "execute_result"
    }
   ],
   "source": [
    "splits"
   ]
  },
  {
   "cell_type": "code",
   "execution_count": 13,
   "id": "ee47e378",
   "metadata": {},
   "outputs": [
    {
     "ename": "ValueError",
     "evalue": "Data dictionary must contain 'train' and 'test' keys",
     "output_type": "error",
     "traceback": [
      "\u001b[31m---------------------------------------------------------------------------\u001b[39m",
      "\u001b[31mValueError\u001b[39m                                Traceback (most recent call last)",
      "\u001b[36mCell\u001b[39m\u001b[36m \u001b[39m\u001b[32mIn[13]\u001b[39m\u001b[32m, line 1\u001b[39m\n\u001b[32m----> \u001b[39m\u001b[32m1\u001b[39m \u001b[43mts\u001b[49m\u001b[43m.\u001b[49m\u001b[43mset_data\u001b[49m\u001b[43m(\u001b[49m\n\u001b[32m      2\u001b[39m \u001b[43m    \u001b[49m\u001b[43mdata\u001b[49m\u001b[43m=\u001b[49m\u001b[43msplits\u001b[49m\u001b[43m,\u001b[49m\n\u001b[32m      3\u001b[39m \u001b[43m    \u001b[49m\u001b[43mtarget_col\u001b[49m\u001b[43m=\u001b[49m\u001b[33;43m'\u001b[39;49m\u001b[33;43mIsDefault\u001b[39;49m\u001b[33;43m'\u001b[39;49m\n\u001b[32m      4\u001b[39m \u001b[43m)\u001b[49m\n",
      "\u001b[36mFile \u001b[39m\u001b[32m~/Personal Project/gbg-bespoke-model/src/model_diagnostic.py:102\u001b[39m, in \u001b[36mTestSuite.set_data\u001b[39m\u001b[34m(self, data, target_col, test_size)\u001b[39m\n\u001b[32m    100\u001b[39m     \u001b[38;5;28mself\u001b[39m.data = data\n\u001b[32m    101\u001b[39m     \u001b[38;5;28;01mif\u001b[39;00m \u001b[33m\"\u001b[39m\u001b[33mtrain\u001b[39m\u001b[33m\"\u001b[39m \u001b[38;5;129;01mnot\u001b[39;00m \u001b[38;5;129;01min\u001b[39;00m data \u001b[38;5;129;01mor\u001b[39;00m \u001b[33m\"\u001b[39m\u001b[33mtest\u001b[39m\u001b[33m\"\u001b[39m \u001b[38;5;129;01mnot\u001b[39;00m \u001b[38;5;129;01min\u001b[39;00m data:\n\u001b[32m--> \u001b[39m\u001b[32m102\u001b[39m         \u001b[38;5;28;01mraise\u001b[39;00m \u001b[38;5;167;01mValueError\u001b[39;00m(\u001b[33m\"\u001b[39m\u001b[33mData dictionary must contain \u001b[39m\u001b[33m'\u001b[39m\u001b[33mtrain\u001b[39m\u001b[33m'\u001b[39m\u001b[33m and \u001b[39m\u001b[33m'\u001b[39m\u001b[33mtest\u001b[39m\u001b[33m'\u001b[39m\u001b[33m keys\u001b[39m\u001b[33m\"\u001b[39m)\n\u001b[32m    103\u001b[39m \u001b[38;5;28;01melif\u001b[39;00m \u001b[38;5;28misinstance\u001b[39m(data, \u001b[38;5;28mdict\u001b[39m):\n\u001b[32m    104\u001b[39m     train_df = pd.concat([data[\u001b[33m\"\u001b[39m\u001b[33mX_train\u001b[39m\u001b[33m\"\u001b[39m], data[\u001b[33m\"\u001b[39m\u001b[33my_train\u001b[39m\u001b[33m\"\u001b[39m]], axis=\u001b[32m1\u001b[39m)\n",
      "\u001b[31mValueError\u001b[39m: Data dictionary must contain 'train' and 'test' keys"
     ]
    }
   ],
   "source": [
    "ts.set_data(\n",
    "    data=splits,\n",
    "    target_col='IsDefault'\n",
    ")"
   ]
  },
  {
   "cell_type": "code",
   "execution_count": 14,
   "id": "99d3fc66",
   "metadata": {},
   "outputs": [],
   "source": [
    "ts.set_model(model=clf)"
   ]
  },
  {
   "cell_type": "code",
   "execution_count": 15,
   "id": "338160a8",
   "metadata": {},
   "outputs": [
    {
     "name": "stderr",
     "output_type": "stream",
     "text": [
      "/opt/anaconda3/envs/gbg-bespoke-model/lib/python3.12/site-packages/sklearn/utils/validation.py:2732: UserWarning: X has feature names, but RandomForestClassifier was fitted without feature names\n",
      "  warnings.warn(\n"
     ]
    },
    {
     "ename": "ValueError",
     "evalue": "X has 23 features, but RandomForestClassifier is expecting 33 features as input.",
     "output_type": "error",
     "traceback": [
      "\u001b[31m---------------------------------------------------------------------------\u001b[39m",
      "\u001b[31mValueError\u001b[39m                                Traceback (most recent call last)",
      "\u001b[36mCell\u001b[39m\u001b[36m \u001b[39m\u001b[32mIn[15]\u001b[39m\u001b[32m, line 1\u001b[39m\n\u001b[32m----> \u001b[39m\u001b[32m1\u001b[39m result = \u001b[43mts\u001b[49m\u001b[43m.\u001b[49m\u001b[43mdiagnose_residual_analysis\u001b[49m\u001b[43m(\u001b[49m\n\u001b[32m      2\u001b[39m \u001b[43m    \u001b[49m\u001b[43mfeatures\u001b[49m\u001b[43m=\u001b[49m\u001b[33;43m'\u001b[39;49m\u001b[33;43mEDUCATION\u001b[39;49m\u001b[33;43m'\u001b[39;49m\u001b[43m,\u001b[49m\n\u001b[32m      3\u001b[39m \u001b[43m    \u001b[49m\u001b[43muse_prediction\u001b[49m\u001b[43m=\u001b[49m\u001b[38;5;28;43;01mTrue\u001b[39;49;00m\u001b[43m,\u001b[49m\n\u001b[32m      4\u001b[39m \u001b[43m    \u001b[49m\u001b[43mdataset\u001b[49m\u001b[43m=\u001b[49m\u001b[33;43m'\u001b[39;49m\u001b[33;43mtest\u001b[39;49m\u001b[33;43m'\u001b[39;49m\u001b[43m,\u001b[49m\n\u001b[32m      5\u001b[39m \u001b[43m    \u001b[49m\u001b[43mrandom_state\u001b[49m\u001b[43m=\u001b[49m\u001b[32;43m123\u001b[39;49m\n\u001b[32m      6\u001b[39m \u001b[43m)\u001b[49m\n",
      "\u001b[36mFile \u001b[39m\u001b[32m~/Personal Project/gbg-bespoke-model/src/model_diagnostic.py:305\u001b[39m, in \u001b[36mTestSuite.diagnose_residual_analysis\u001b[39m\u001b[34m(self, features, use_prediction, dataset, sample_size, random_state)\u001b[39m\n\u001b[32m    302\u001b[39m df_sample = \u001b[38;5;28mself\u001b[39m._sample_data(df, sample_size, random_state)\n\u001b[32m    304\u001b[39m \u001b[38;5;66;03m# Compute residuals\u001b[39;00m\n\u001b[32m--> \u001b[39m\u001b[32m305\u001b[39m residuals = \u001b[38;5;28;43mself\u001b[39;49m\u001b[43m.\u001b[49m\u001b[43m_compute_residuals\u001b[49m\u001b[43m(\u001b[49m\u001b[43mdf_sample\u001b[49m\u001b[43m)\u001b[49m\n\u001b[32m    307\u001b[39m \u001b[38;5;66;03m# Prepare x-axis values\u001b[39;00m\n\u001b[32m    308\u001b[39m \u001b[38;5;28;01mif\u001b[39;00m use_prediction:\n",
      "\u001b[36mFile \u001b[39m\u001b[32m~/Personal Project/gbg-bespoke-model/src/model_diagnostic.py:219\u001b[39m, in \u001b[36mTestSuite._compute_residuals\u001b[39m\u001b[34m(self, df)\u001b[39m\n\u001b[32m    216\u001b[39m y_true = df[\u001b[38;5;28mself\u001b[39m.target_col]\n\u001b[32m    218\u001b[39m \u001b[38;5;28;01mif\u001b[39;00m \u001b[38;5;28mself\u001b[39m.is_classifier:\n\u001b[32m--> \u001b[39m\u001b[32m219\u001b[39m     y_pred = \u001b[38;5;28;43mself\u001b[39;49m\u001b[43m.\u001b[49m\u001b[43mmodel\u001b[49m\u001b[43m.\u001b[49m\u001b[43mpredict_proba\u001b[49m\u001b[43m(\u001b[49m\u001b[43mX\u001b[49m\u001b[43m)\u001b[49m[:, \u001b[32m1\u001b[39m]  \u001b[38;5;66;03m# Probability of positive class\u001b[39;00m\n\u001b[32m    220\u001b[39m \u001b[38;5;28;01melse\u001b[39;00m:\n\u001b[32m    221\u001b[39m     y_pred = \u001b[38;5;28mself\u001b[39m.model.predict(X)\n",
      "\u001b[36mFile \u001b[39m\u001b[32m/opt/anaconda3/envs/gbg-bespoke-model/lib/python3.12/site-packages/sklearn/ensemble/_forest.py:946\u001b[39m, in \u001b[36mForestClassifier.predict_proba\u001b[39m\u001b[34m(self, X)\u001b[39m\n\u001b[32m    944\u001b[39m check_is_fitted(\u001b[38;5;28mself\u001b[39m)\n\u001b[32m    945\u001b[39m \u001b[38;5;66;03m# Check data\u001b[39;00m\n\u001b[32m--> \u001b[39m\u001b[32m946\u001b[39m X = \u001b[38;5;28;43mself\u001b[39;49m\u001b[43m.\u001b[49m\u001b[43m_validate_X_predict\u001b[49m\u001b[43m(\u001b[49m\u001b[43mX\u001b[49m\u001b[43m)\u001b[49m\n\u001b[32m    948\u001b[39m \u001b[38;5;66;03m# Assign chunk of trees to jobs\u001b[39;00m\n\u001b[32m    949\u001b[39m n_jobs, _, _ = _partition_estimators(\u001b[38;5;28mself\u001b[39m.n_estimators, \u001b[38;5;28mself\u001b[39m.n_jobs)\n",
      "\u001b[36mFile \u001b[39m\u001b[32m/opt/anaconda3/envs/gbg-bespoke-model/lib/python3.12/site-packages/sklearn/ensemble/_forest.py:638\u001b[39m, in \u001b[36mBaseForest._validate_X_predict\u001b[39m\u001b[34m(self, X)\u001b[39m\n\u001b[32m    635\u001b[39m \u001b[38;5;28;01melse\u001b[39;00m:\n\u001b[32m    636\u001b[39m     ensure_all_finite = \u001b[38;5;28;01mTrue\u001b[39;00m\n\u001b[32m--> \u001b[39m\u001b[32m638\u001b[39m X = \u001b[43mvalidate_data\u001b[49m\u001b[43m(\u001b[49m\n\u001b[32m    639\u001b[39m \u001b[43m    \u001b[49m\u001b[38;5;28;43mself\u001b[39;49m\u001b[43m,\u001b[49m\n\u001b[32m    640\u001b[39m \u001b[43m    \u001b[49m\u001b[43mX\u001b[49m\u001b[43m,\u001b[49m\n\u001b[32m    641\u001b[39m \u001b[43m    \u001b[49m\u001b[43mdtype\u001b[49m\u001b[43m=\u001b[49m\u001b[43mDTYPE\u001b[49m\u001b[43m,\u001b[49m\n\u001b[32m    642\u001b[39m \u001b[43m    \u001b[49m\u001b[43maccept_sparse\u001b[49m\u001b[43m=\u001b[49m\u001b[33;43m\"\u001b[39;49m\u001b[33;43mcsr\u001b[39;49m\u001b[33;43m\"\u001b[39;49m\u001b[43m,\u001b[49m\n\u001b[32m    643\u001b[39m \u001b[43m    \u001b[49m\u001b[43mreset\u001b[49m\u001b[43m=\u001b[49m\u001b[38;5;28;43;01mFalse\u001b[39;49;00m\u001b[43m,\u001b[49m\n\u001b[32m    644\u001b[39m \u001b[43m    \u001b[49m\u001b[43mensure_all_finite\u001b[49m\u001b[43m=\u001b[49m\u001b[43mensure_all_finite\u001b[49m\u001b[43m,\u001b[49m\n\u001b[32m    645\u001b[39m \u001b[43m\u001b[49m\u001b[43m)\u001b[49m\n\u001b[32m    646\u001b[39m \u001b[38;5;28;01mif\u001b[39;00m issparse(X) \u001b[38;5;129;01mand\u001b[39;00m (X.indices.dtype != np.intc \u001b[38;5;129;01mor\u001b[39;00m X.indptr.dtype != np.intc):\n\u001b[32m    647\u001b[39m     \u001b[38;5;28;01mraise\u001b[39;00m \u001b[38;5;167;01mValueError\u001b[39;00m(\u001b[33m\"\u001b[39m\u001b[33mNo support for np.int64 index based sparse matrices\u001b[39m\u001b[33m\"\u001b[39m)\n",
      "\u001b[36mFile \u001b[39m\u001b[32m/opt/anaconda3/envs/gbg-bespoke-model/lib/python3.12/site-packages/sklearn/utils/validation.py:2965\u001b[39m, in \u001b[36mvalidate_data\u001b[39m\u001b[34m(_estimator, X, y, reset, validate_separately, skip_check_array, **check_params)\u001b[39m\n\u001b[32m   2962\u001b[39m     out = X, y\n\u001b[32m   2964\u001b[39m \u001b[38;5;28;01mif\u001b[39;00m \u001b[38;5;129;01mnot\u001b[39;00m no_val_X \u001b[38;5;129;01mand\u001b[39;00m check_params.get(\u001b[33m\"\u001b[39m\u001b[33mensure_2d\u001b[39m\u001b[33m\"\u001b[39m, \u001b[38;5;28;01mTrue\u001b[39;00m):\n\u001b[32m-> \u001b[39m\u001b[32m2965\u001b[39m     \u001b[43m_check_n_features\u001b[49m\u001b[43m(\u001b[49m\u001b[43m_estimator\u001b[49m\u001b[43m,\u001b[49m\u001b[43m \u001b[49m\u001b[43mX\u001b[49m\u001b[43m,\u001b[49m\u001b[43m \u001b[49m\u001b[43mreset\u001b[49m\u001b[43m=\u001b[49m\u001b[43mreset\u001b[49m\u001b[43m)\u001b[49m\n\u001b[32m   2967\u001b[39m \u001b[38;5;28;01mreturn\u001b[39;00m out\n",
      "\u001b[36mFile \u001b[39m\u001b[32m/opt/anaconda3/envs/gbg-bespoke-model/lib/python3.12/site-packages/sklearn/utils/validation.py:2829\u001b[39m, in \u001b[36m_check_n_features\u001b[39m\u001b[34m(estimator, X, reset)\u001b[39m\n\u001b[32m   2826\u001b[39m     \u001b[38;5;28;01mreturn\u001b[39;00m\n\u001b[32m   2828\u001b[39m \u001b[38;5;28;01mif\u001b[39;00m n_features != estimator.n_features_in_:\n\u001b[32m-> \u001b[39m\u001b[32m2829\u001b[39m     \u001b[38;5;28;01mraise\u001b[39;00m \u001b[38;5;167;01mValueError\u001b[39;00m(\n\u001b[32m   2830\u001b[39m         \u001b[33mf\u001b[39m\u001b[33m\"\u001b[39m\u001b[33mX has \u001b[39m\u001b[38;5;132;01m{\u001b[39;00mn_features\u001b[38;5;132;01m}\u001b[39;00m\u001b[33m features, but \u001b[39m\u001b[38;5;132;01m{\u001b[39;00mestimator.\u001b[34m__class__\u001b[39m.\u001b[34m__name__\u001b[39m\u001b[38;5;132;01m}\u001b[39;00m\u001b[33m \u001b[39m\u001b[33m\"\u001b[39m\n\u001b[32m   2831\u001b[39m         \u001b[33mf\u001b[39m\u001b[33m\"\u001b[39m\u001b[33mis expecting \u001b[39m\u001b[38;5;132;01m{\u001b[39;00mestimator.n_features_in_\u001b[38;5;132;01m}\u001b[39;00m\u001b[33m features as input.\u001b[39m\u001b[33m\"\u001b[39m\n\u001b[32m   2832\u001b[39m     )\n",
      "\u001b[31mValueError\u001b[39m: X has 23 features, but RandomForestClassifier is expecting 33 features as input."
     ]
    }
   ],
   "source": [
    "result = ts.diagnose_residual_analysis(\n",
    "    features='EDUCATION',\n",
    "    use_prediction=True,\n",
    "    dataset='test',\n",
    "    random_state=123\n",
    ")"
   ]
  },
  {
   "cell_type": "code",
   "execution_count": null,
   "id": "041a4ee1",
   "metadata": {},
   "outputs": [],
   "source": []
  }
 ],
 "metadata": {
  "kernelspec": {
   "display_name": "gbg-bespoke-model",
   "language": "python",
   "name": "python3"
  },
  "language_info": {
   "codemirror_mode": {
    "name": "ipython",
    "version": 3
   },
   "file_extension": ".py",
   "mimetype": "text/x-python",
   "name": "python",
   "nbconvert_exporter": "python",
   "pygments_lexer": "ipython3",
   "version": "3.12.9"
  }
 },
 "nbformat": 4,
 "nbformat_minor": 5
}
