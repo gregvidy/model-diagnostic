{
 "cells": [
  {
   "cell_type": "code",
   "execution_count": 1,
   "id": "3c3b7d31",
   "metadata": {},
   "outputs": [],
   "source": [
    "import pandas as pd\n",
    "import numpy as np\n",
    "from src.utils import read_query_file"
   ]
  },
  {
   "cell_type": "markdown",
   "id": "1b137ef9",
   "metadata": {},
   "source": [
    "# Data Ingestion"
   ]
  },
  {
   "cell_type": "code",
   "execution_count": 2,
   "id": "44e193ad",
   "metadata": {},
   "outputs": [],
   "source": [
    "df_c09 = pd.read_csv(\"data/mock_data_c09.csv\", dtype={\"MCC\": str})"
   ]
  },
  {
   "cell_type": "code",
   "execution_count": 3,
   "id": "b624db71",
   "metadata": {},
   "outputs": [],
   "source": [
    "# MCC and Currency Data\n",
    "\n",
    "mcc_df = pd.read_csv(\"data/mcc_data.csv\", sep=\";\", dtype={\"Code\": str})\n",
    "mcc_df.rename({\"Code\": \"MCC\"}, axis=1, inplace=True)\n",
    "currency_code = pd.read_csv(\n",
    "    \"data/currency_code.csv\", sep=\";\", dtype={\"Number\": str, \"Card Acceptor Name\": str}\n",
    ")"
   ]
  },
  {
   "cell_type": "code",
   "execution_count": 4,
   "id": "3e38fd3d",
   "metadata": {},
   "outputs": [],
   "source": [
    "# define sampling percentage\n",
    "sampling_pct = 0.5\n",
    "\n",
    "# read query file\n",
    "debit_query = read_query_file(\"sql/join_data/02_debit_card_data.sql\")\n",
    "debit_query = debit_query.format(sampling_pct=sampling_pct)"
   ]
  },
  {
   "cell_type": "markdown",
   "id": "44c8d18d",
   "metadata": {},
   "source": [
    "# Feature Engineering Logics"
   ]
  },
  {
   "cell_type": "code",
   "execution_count": 5,
   "id": "5d5380c6",
   "metadata": {},
   "outputs": [],
   "source": [
    "from src.calculation_features import (\n",
    "    generate_rolling_features,\n",
    "    calculate_time_differences,\n",
    ")"
   ]
  },
  {
   "cell_type": "code",
   "execution_count": 6,
   "id": "e8bbec6a",
   "metadata": {},
   "outputs": [],
   "source": [
    "df_c09[\"MCC\"] = df_c09[\"MCC\"].replace({np.nan: \"-1\", \"nan\": \"-1\"})"
   ]
  },
  {
   "cell_type": "markdown",
   "id": "c6e2f0b0",
   "metadata": {},
   "source": [
    "## Value Mapping Steps"
   ]
  },
  {
   "cell_type": "markdown",
   "id": "703f7426",
   "metadata": {},
   "source": [
    "1. MCC value mapping: \n",
    "- MCC to MCC Details\n",
    "- MCC to MCC Transaction Category Code\n",
    "- MCC to MCC Category\n",
    "2. Value mapping Terminal Owner/Card Acceptor Name to bigger group (ecommerce, online ads, etc.)"
   ]
  },
  {
   "cell_type": "code",
   "execution_count": 7,
   "id": "fb1a9fcb",
   "metadata": {},
   "outputs": [],
   "source": [
    "from src.utils import extract_provider_name, categorize_terminal_owner"
   ]
  },
  {
   "cell_type": "code",
   "execution_count": 7,
   "id": "1abb8998",
   "metadata": {},
   "outputs": [],
   "source": [
    "# 1. Value mapping MCC_code to MCC Details, Trnx Category Code, Category\n",
    "\n",
    "df_c09 = df_c09.merge(\n",
    "    mcc_df[[\"MCC\", \"Description\", \"Transaction Category Code\", \"MCC Category\"]],\n",
    "    on=\"MCC\",\n",
    "    how=\"left\",\n",
    ")\n",
    "df_c09.rename(\n",
    "    columns={\n",
    "        \"Description\": \"MCC Details\",\n",
    "        \"Transaction Category Code\": \"MCC Trnx Category Code\",\n",
    "    },\n",
    "    inplace=True,\n",
    ")"
   ]
  },
  {
   "cell_type": "code",
   "execution_count": 8,
   "id": "0c6ef489",
   "metadata": {},
   "outputs": [],
   "source": [
    "# 2. Value mapping Terminal Owner/Card Acceptor Name to bigger group (ecommerce, online ads, etc.)\n",
    "df_c09[\"Cat Card Acceptor Name\"] = df_c09[\"Card Acceptor Name\"].apply(\n",
    "    lambda x: (\n",
    "        categorize_terminal_owner(extract_provider_name(x))\n",
    "        if isinstance(x, str)\n",
    "        else \"unknown\"\n",
    "    )\n",
    ")"
   ]
  },
  {
   "cell_type": "code",
   "execution_count": 19,
   "id": "ee18dcf8",
   "metadata": {},
   "outputs": [
    {
     "data": {
      "text/plain": [
       "49"
      ]
     },
     "execution_count": 19,
     "metadata": {},
     "output_type": "execute_result"
    }
   ],
   "source": [
    "df_c09[\"Card Acceptor Country Code\"].nunique()"
   ]
  },
  {
   "cell_type": "markdown",
   "id": "a33ad820",
   "metadata": {},
   "source": [
    "## Time Difference Features"
   ]
  },
  {
   "cell_type": "code",
   "execution_count": 9,
   "id": "4847d052",
   "metadata": {},
   "outputs": [],
   "source": [
    "from src.debit_card_config import (\n",
    "    time_windows,\n",
    "    freq_config,\n",
    "    time_shift_config,\n",
    "    monetary_config_1,\n",
    "    monetary_config_2,\n",
    "    monetary_config_3,\n",
    "    monetary_config_4,\n",
    "    monetary_config_5,\n",
    "    monetary_config_6,\n",
    "    monetary_config_7,\n",
    "    monetary_config_8,\n",
    "    unique_count_config_1,\n",
    "    unique_count_config_2,\n",
    ")"
   ]
  },
  {
   "cell_type": "code",
   "execution_count": 12,
   "id": "8a8ff6f0",
   "metadata": {},
   "outputs": [
    {
     "name": "stderr",
     "output_type": "stream",
     "text": [
      "/home/gregorius_vidy/gbg_analytics/01 Experimentation/Bespoke ML Pipeline/bespoke-ml/src/calculation_features.py:239: FutureWarning: 'S' is deprecated and will be removed in a future version, please use 's' instead.\n",
      "  .rolling(window=window)\n",
      "/home/gregorius_vidy/gbg_analytics/01 Experimentation/Bespoke ML Pipeline/bespoke-ml/src/calculation_features.py:239: FutureWarning: 'H' is deprecated and will be removed in a future version, please use 'h' instead.\n",
      "  .rolling(window=window)\n",
      "/home/gregorius_vidy/gbg_analytics/01 Experimentation/Bespoke ML Pipeline/bespoke-ml/src/calculation_features.py:239: FutureWarning: 'S' is deprecated and will be removed in a future version, please use 's' instead.\n",
      "  .rolling(window=window)\n",
      "/home/gregorius_vidy/gbg_analytics/01 Experimentation/Bespoke ML Pipeline/bespoke-ml/src/calculation_features.py:239: FutureWarning: 'H' is deprecated and will be removed in a future version, please use 'h' instead.\n",
      "  .rolling(window=window)\n",
      "/home/gregorius_vidy/gbg_analytics/01 Experimentation/Bespoke ML Pipeline/bespoke-ml/src/calculation_features.py:239: FutureWarning: 'S' is deprecated and will be removed in a future version, please use 's' instead.\n",
      "  .rolling(window=window)\n",
      "/home/gregorius_vidy/gbg_analytics/01 Experimentation/Bespoke ML Pipeline/bespoke-ml/src/calculation_features.py:239: FutureWarning: 'H' is deprecated and will be removed in a future version, please use 'h' instead.\n",
      "  .rolling(window=window)\n",
      "/home/gregorius_vidy/gbg_analytics/01 Experimentation/Bespoke ML Pipeline/bespoke-ml/src/calculation_features.py:239: FutureWarning: 'S' is deprecated and will be removed in a future version, please use 's' instead.\n",
      "  .rolling(window=window)\n",
      "/home/gregorius_vidy/gbg_analytics/01 Experimentation/Bespoke ML Pipeline/bespoke-ml/src/calculation_features.py:239: FutureWarning: 'H' is deprecated and will be removed in a future version, please use 'h' instead.\n",
      "  .rolling(window=window)\n",
      "/home/gregorius_vidy/gbg_analytics/01 Experimentation/Bespoke ML Pipeline/bespoke-ml/src/calculation_features.py:239: FutureWarning: 'S' is deprecated and will be removed in a future version, please use 's' instead.\n",
      "  .rolling(window=window)\n",
      "/home/gregorius_vidy/gbg_analytics/01 Experimentation/Bespoke ML Pipeline/bespoke-ml/src/calculation_features.py:239: FutureWarning: 'H' is deprecated and will be removed in a future version, please use 'h' instead.\n",
      "  .rolling(window=window)\n"
     ]
    }
   ],
   "source": [
    "df_time_diff = calculate_time_differences(\n",
    "    df=df_c09,\n",
    "    datetime_col=\"Transaction Datetime\",\n",
    "    groupby_col=\"Card No\",\n",
    "    time_window=time_windows,\n",
    "    config=time_shift_config,\n",
    ")"
   ]
  },
  {
   "cell_type": "markdown",
   "id": "5c3bb04f",
   "metadata": {},
   "source": [
    "## Frequency Features"
   ]
  },
  {
   "cell_type": "code",
   "execution_count": null,
   "id": "ee3a656c",
   "metadata": {},
   "outputs": [],
   "source": [
    "df_freq = generate_rolling_features(\n",
    "    df_c09,\n",
    "    datetime_col=\"Transaction Datetime\",\n",
    "    key_col=\"Transaction Serial No\",\n",
    "    features_config=freq_config,\n",
    ")"
   ]
  },
  {
   "cell_type": "markdown",
   "id": "6a9f45ba",
   "metadata": {},
   "source": [
    "## Monetary"
   ]
  },
  {
   "cell_type": "markdown",
   "id": "2815a0a7",
   "metadata": {},
   "source": [
    "Calculate SUM, AVG, MAX of Transaction Amount grouped by Card No"
   ]
  },
  {
   "cell_type": "code",
   "execution_count": null,
   "id": "27587969",
   "metadata": {},
   "outputs": [
    {
     "name": "stderr",
     "output_type": "stream",
     "text": [
      "/home/gregorius_vidy/gbg_analytics/01 Experimentation/Model Diagnostic Suite/model-diagnostic/src/calculation_features.py:111: FutureWarning: 'S' is deprecated and will be removed in a future version, please use 's' instead.\n",
      "  .rolling(window, closed=\"left\")\n",
      "/home/gregorius_vidy/gbg_analytics/01 Experimentation/Model Diagnostic Suite/model-diagnostic/src/calculation_features.py:111: FutureWarning: 'H' is deprecated and will be removed in a future version, please use 'h' instead.\n",
      "  .rolling(window, closed=\"left\")\n",
      "/home/gregorius_vidy/gbg_analytics/01 Experimentation/Model Diagnostic Suite/model-diagnostic/src/calculation_features.py:111: FutureWarning: 'S' is deprecated and will be removed in a future version, please use 's' instead.\n",
      "  .rolling(window, closed=\"left\")\n",
      "/home/gregorius_vidy/gbg_analytics/01 Experimentation/Model Diagnostic Suite/model-diagnostic/src/calculation_features.py:111: FutureWarning: 'H' is deprecated and will be removed in a future version, please use 'h' instead.\n",
      "  .rolling(window, closed=\"left\")\n",
      "/home/gregorius_vidy/gbg_analytics/01 Experimentation/Model Diagnostic Suite/model-diagnostic/src/calculation_features.py:111: FutureWarning: 'S' is deprecated and will be removed in a future version, please use 's' instead.\n",
      "  .rolling(window, closed=\"left\")\n",
      "/home/gregorius_vidy/gbg_analytics/01 Experimentation/Model Diagnostic Suite/model-diagnostic/src/calculation_features.py:111: FutureWarning: 'H' is deprecated and will be removed in a future version, please use 'h' instead.\n",
      "  .rolling(window, closed=\"left\")\n"
     ]
    }
   ],
   "source": [
    "df_monetary_1 = generate_rolling_features(\n",
    "    df_c09,\n",
    "    datetime_col=\"Transaction Datetime\",\n",
    "    key_col=\"Transaction Serial No\",\n",
    "    features_config=monetary_config_1,\n",
    ")"
   ]
  },
  {
   "cell_type": "markdown",
   "id": "a51261c1",
   "metadata": {},
   "source": [
    "Calculate SUM, MAX, MEAN of Transaction Amount to `MCC` grouped by Card No"
   ]
  },
  {
   "cell_type": "code",
   "execution_count": null,
   "id": "8f11d0af",
   "metadata": {},
   "outputs": [
    {
     "name": "stderr",
     "output_type": "stream",
     "text": [
      "/home/gregorius_vidy/gbg_analytics/01 Experimentation/Model Diagnostic Suite/model-diagnostic/src/calculation_features.py:121: FutureWarning: 'S' is deprecated and will be removed in a future version, please use 's' instead.\n",
      "  .rolling(window, closed=\"left\")\n",
      "/home/gregorius_vidy/gbg_analytics/01 Experimentation/Model Diagnostic Suite/model-diagnostic/src/calculation_features.py:121: FutureWarning: 'H' is deprecated and will be removed in a future version, please use 'h' instead.\n",
      "  .rolling(window, closed=\"left\")\n",
      "/home/gregorius_vidy/gbg_analytics/01 Experimentation/Model Diagnostic Suite/model-diagnostic/src/calculation_features.py:121: FutureWarning: 'S' is deprecated and will be removed in a future version, please use 's' instead.\n",
      "  .rolling(window, closed=\"left\")\n",
      "/home/gregorius_vidy/gbg_analytics/01 Experimentation/Model Diagnostic Suite/model-diagnostic/src/calculation_features.py:121: FutureWarning: 'H' is deprecated and will be removed in a future version, please use 'h' instead.\n",
      "  .rolling(window, closed=\"left\")\n",
      "/home/gregorius_vidy/gbg_analytics/01 Experimentation/Model Diagnostic Suite/model-diagnostic/src/calculation_features.py:121: FutureWarning: 'S' is deprecated and will be removed in a future version, please use 's' instead.\n",
      "  .rolling(window, closed=\"left\")\n",
      "/home/gregorius_vidy/gbg_analytics/01 Experimentation/Model Diagnostic Suite/model-diagnostic/src/calculation_features.py:121: FutureWarning: 'H' is deprecated and will be removed in a future version, please use 'h' instead.\n",
      "  .rolling(window, closed=\"left\")\n"
     ]
    }
   ],
   "source": [
    "df_monetary_2 = generate_rolling_features(\n",
    "    df_c09,\n",
    "    datetime_col=\"Transaction Datetime\",\n",
    "    key_col=\"Transaction Serial No\",\n",
    "    features_config=monetary_config_2,\n",
    ")"
   ]
  },
  {
   "cell_type": "markdown",
   "id": "f7f3918f",
   "metadata": {},
   "source": [
    "Calculate SUM, MAX, MEAN of Transaction Amount to `MCC Details` grouped by Card No"
   ]
  },
  {
   "cell_type": "code",
   "execution_count": null,
   "id": "2020e5f4",
   "metadata": {},
   "outputs": [
    {
     "name": "stderr",
     "output_type": "stream",
     "text": [
      "/home/gregorius_vidy/gbg_analytics/01 Experimentation/Model Diagnostic Suite/model-diagnostic/src/calculation_features.py:121: FutureWarning: 'S' is deprecated and will be removed in a future version, please use 's' instead.\n",
      "  .rolling(window, closed=\"left\")\n",
      "/home/gregorius_vidy/gbg_analytics/01 Experimentation/Model Diagnostic Suite/model-diagnostic/src/calculation_features.py:121: FutureWarning: 'H' is deprecated and will be removed in a future version, please use 'h' instead.\n",
      "  .rolling(window, closed=\"left\")\n",
      "/home/gregorius_vidy/gbg_analytics/01 Experimentation/Model Diagnostic Suite/model-diagnostic/src/calculation_features.py:121: FutureWarning: 'S' is deprecated and will be removed in a future version, please use 's' instead.\n",
      "  .rolling(window, closed=\"left\")\n",
      "/home/gregorius_vidy/gbg_analytics/01 Experimentation/Model Diagnostic Suite/model-diagnostic/src/calculation_features.py:121: FutureWarning: 'H' is deprecated and will be removed in a future version, please use 'h' instead.\n",
      "  .rolling(window, closed=\"left\")\n",
      "/home/gregorius_vidy/gbg_analytics/01 Experimentation/Model Diagnostic Suite/model-diagnostic/src/calculation_features.py:121: FutureWarning: 'S' is deprecated and will be removed in a future version, please use 's' instead.\n",
      "  .rolling(window, closed=\"left\")\n",
      "/home/gregorius_vidy/gbg_analytics/01 Experimentation/Model Diagnostic Suite/model-diagnostic/src/calculation_features.py:121: FutureWarning: 'H' is deprecated and will be removed in a future version, please use 'h' instead.\n",
      "  .rolling(window, closed=\"left\")\n"
     ]
    }
   ],
   "source": [
    "df_monetary_3 = generate_rolling_features(\n",
    "    df_c09,\n",
    "    datetime_col=\"Transaction Datetime\",\n",
    "    key_col=\"Transaction Serial No\",\n",
    "    features_config=monetary_config_3,\n",
    ")"
   ]
  },
  {
   "cell_type": "markdown",
   "id": "a99d0320",
   "metadata": {},
   "source": [
    "Calculate SUM, MAX, MEAN of Transaction Amount to `MCC Trnx Category Code` grouped by Card No"
   ]
  },
  {
   "cell_type": "code",
   "execution_count": null,
   "id": "07ea8237",
   "metadata": {},
   "outputs": [
    {
     "name": "stderr",
     "output_type": "stream",
     "text": [
      "/home/gregorius_vidy/gbg_analytics/01 Experimentation/Model Diagnostic Suite/model-diagnostic/src/calculation_features.py:121: FutureWarning: 'S' is deprecated and will be removed in a future version, please use 's' instead.\n",
      "  .rolling(window, closed=\"left\")\n",
      "/home/gregorius_vidy/gbg_analytics/01 Experimentation/Model Diagnostic Suite/model-diagnostic/src/calculation_features.py:121: FutureWarning: 'H' is deprecated and will be removed in a future version, please use 'h' instead.\n",
      "  .rolling(window, closed=\"left\")\n",
      "/home/gregorius_vidy/gbg_analytics/01 Experimentation/Model Diagnostic Suite/model-diagnostic/src/calculation_features.py:121: FutureWarning: 'S' is deprecated and will be removed in a future version, please use 's' instead.\n",
      "  .rolling(window, closed=\"left\")\n",
      "/home/gregorius_vidy/gbg_analytics/01 Experimentation/Model Diagnostic Suite/model-diagnostic/src/calculation_features.py:121: FutureWarning: 'H' is deprecated and will be removed in a future version, please use 'h' instead.\n",
      "  .rolling(window, closed=\"left\")\n",
      "/home/gregorius_vidy/gbg_analytics/01 Experimentation/Model Diagnostic Suite/model-diagnostic/src/calculation_features.py:121: FutureWarning: 'S' is deprecated and will be removed in a future version, please use 's' instead.\n",
      "  .rolling(window, closed=\"left\")\n",
      "/home/gregorius_vidy/gbg_analytics/01 Experimentation/Model Diagnostic Suite/model-diagnostic/src/calculation_features.py:121: FutureWarning: 'H' is deprecated and will be removed in a future version, please use 'h' instead.\n",
      "  .rolling(window, closed=\"left\")\n"
     ]
    }
   ],
   "source": [
    "df_monetary_4 = generate_rolling_features(\n",
    "    df_c09,\n",
    "    datetime_col=\"Transaction Datetime\",\n",
    "    key_col=\"Transaction Serial No\",\n",
    "    features_config=monetary_config_4,\n",
    ")"
   ]
  },
  {
   "cell_type": "markdown",
   "id": "b3a3de20",
   "metadata": {},
   "source": [
    "Calculate SUM, MAX, MEAN of Transaction Amount to `MCC Category` grouped by Card No"
   ]
  },
  {
   "cell_type": "code",
   "execution_count": null,
   "id": "6d679711",
   "metadata": {},
   "outputs": [
    {
     "name": "stderr",
     "output_type": "stream",
     "text": [
      "/home/gregorius_vidy/gbg_analytics/01 Experimentation/Model Diagnostic Suite/model-diagnostic/src/calculation_features.py:121: FutureWarning: 'S' is deprecated and will be removed in a future version, please use 's' instead.\n",
      "  .rolling(window, closed=\"left\")\n",
      "/home/gregorius_vidy/gbg_analytics/01 Experimentation/Model Diagnostic Suite/model-diagnostic/src/calculation_features.py:121: FutureWarning: 'H' is deprecated and will be removed in a future version, please use 'h' instead.\n",
      "  .rolling(window, closed=\"left\")\n",
      "/home/gregorius_vidy/gbg_analytics/01 Experimentation/Model Diagnostic Suite/model-diagnostic/src/calculation_features.py:121: FutureWarning: 'S' is deprecated and will be removed in a future version, please use 's' instead.\n",
      "  .rolling(window, closed=\"left\")\n",
      "/home/gregorius_vidy/gbg_analytics/01 Experimentation/Model Diagnostic Suite/model-diagnostic/src/calculation_features.py:121: FutureWarning: 'H' is deprecated and will be removed in a future version, please use 'h' instead.\n",
      "  .rolling(window, closed=\"left\")\n",
      "/home/gregorius_vidy/gbg_analytics/01 Experimentation/Model Diagnostic Suite/model-diagnostic/src/calculation_features.py:121: FutureWarning: 'S' is deprecated and will be removed in a future version, please use 's' instead.\n",
      "  .rolling(window, closed=\"left\")\n",
      "/home/gregorius_vidy/gbg_analytics/01 Experimentation/Model Diagnostic Suite/model-diagnostic/src/calculation_features.py:121: FutureWarning: 'H' is deprecated and will be removed in a future version, please use 'h' instead.\n",
      "  .rolling(window, closed=\"left\")\n"
     ]
    }
   ],
   "source": [
    "df_monetary_5 = generate_rolling_features(\n",
    "    df_c09,\n",
    "    datetime_col=\"Transaction Datetime\",\n",
    "    key_col=\"Transaction Serial No\",\n",
    "    features_config=monetary_config_5,\n",
    ")"
   ]
  },
  {
   "cell_type": "markdown",
   "id": "0443b227",
   "metadata": {},
   "source": [
    "Calculate SUM, MAX, MEAN of Transaction Amount to `Terminal Owner Category` grouped by Card No"
   ]
  },
  {
   "cell_type": "code",
   "execution_count": null,
   "id": "b490e88c",
   "metadata": {},
   "outputs": [
    {
     "name": "stderr",
     "output_type": "stream",
     "text": [
      "/home/gregorius_vidy/gbg_analytics/01 Experimentation/Model Diagnostic Suite/model-diagnostic/src/calculation_features.py:121: FutureWarning: 'S' is deprecated and will be removed in a future version, please use 's' instead.\n",
      "  .rolling(window, closed=\"left\")\n",
      "/home/gregorius_vidy/gbg_analytics/01 Experimentation/Model Diagnostic Suite/model-diagnostic/src/calculation_features.py:121: FutureWarning: 'H' is deprecated and will be removed in a future version, please use 'h' instead.\n",
      "  .rolling(window, closed=\"left\")\n",
      "/home/gregorius_vidy/gbg_analytics/01 Experimentation/Model Diagnostic Suite/model-diagnostic/src/calculation_features.py:121: FutureWarning: 'S' is deprecated and will be removed in a future version, please use 's' instead.\n",
      "  .rolling(window, closed=\"left\")\n",
      "/home/gregorius_vidy/gbg_analytics/01 Experimentation/Model Diagnostic Suite/model-diagnostic/src/calculation_features.py:121: FutureWarning: 'H' is deprecated and will be removed in a future version, please use 'h' instead.\n",
      "  .rolling(window, closed=\"left\")\n",
      "/home/gregorius_vidy/gbg_analytics/01 Experimentation/Model Diagnostic Suite/model-diagnostic/src/calculation_features.py:121: FutureWarning: 'S' is deprecated and will be removed in a future version, please use 's' instead.\n",
      "  .rolling(window, closed=\"left\")\n",
      "/home/gregorius_vidy/gbg_analytics/01 Experimentation/Model Diagnostic Suite/model-diagnostic/src/calculation_features.py:121: FutureWarning: 'H' is deprecated and will be removed in a future version, please use 'h' instead.\n",
      "  .rolling(window, closed=\"left\")\n"
     ]
    }
   ],
   "source": [
    "df_monetary_6 = generate_rolling_features(\n",
    "    df_c09,\n",
    "    datetime_col=\"Transaction Datetime\",\n",
    "    key_col=\"Transaction Serial No\",\n",
    "    features_config=monetary_config_6,\n",
    ")"
   ]
  },
  {
   "cell_type": "code",
   "execution_count": null,
   "id": "8ac8591c",
   "metadata": {},
   "outputs": [
    {
     "name": "stderr",
     "output_type": "stream",
     "text": [
      "/home/gregorius_vidy/gbg_analytics/01 Experimentation/Model Diagnostic Suite/model-diagnostic/src/calculation_features.py:121: FutureWarning: 'S' is deprecated and will be removed in a future version, please use 's' instead.\n",
      "  .rolling(window, closed=\"left\")\n",
      "/home/gregorius_vidy/gbg_analytics/01 Experimentation/Model Diagnostic Suite/model-diagnostic/src/calculation_features.py:121: FutureWarning: 'H' is deprecated and will be removed in a future version, please use 'h' instead.\n",
      "  .rolling(window, closed=\"left\")\n",
      "/home/gregorius_vidy/gbg_analytics/01 Experimentation/Model Diagnostic Suite/model-diagnostic/src/calculation_features.py:121: FutureWarning: 'S' is deprecated and will be removed in a future version, please use 's' instead.\n",
      "  .rolling(window, closed=\"left\")\n",
      "/home/gregorius_vidy/gbg_analytics/01 Experimentation/Model Diagnostic Suite/model-diagnostic/src/calculation_features.py:121: FutureWarning: 'H' is deprecated and will be removed in a future version, please use 'h' instead.\n",
      "  .rolling(window, closed=\"left\")\n",
      "/home/gregorius_vidy/gbg_analytics/01 Experimentation/Model Diagnostic Suite/model-diagnostic/src/calculation_features.py:121: FutureWarning: 'S' is deprecated and will be removed in a future version, please use 's' instead.\n",
      "  .rolling(window, closed=\"left\")\n",
      "/home/gregorius_vidy/gbg_analytics/01 Experimentation/Model Diagnostic Suite/model-diagnostic/src/calculation_features.py:121: FutureWarning: 'H' is deprecated and will be removed in a future version, please use 'h' instead.\n",
      "  .rolling(window, closed=\"left\")\n"
     ]
    }
   ],
   "source": [
    "df_monetary_7 = generate_rolling_features(\n",
    "    df_c09,\n",
    "    datetime_col=\"Transaction Datetime\",\n",
    "    key_col=\"Transaction Serial No\",\n",
    "    features_config=monetary_config_7,\n",
    ")"
   ]
  },
  {
   "cell_type": "code",
   "execution_count": null,
   "id": "f4c47522",
   "metadata": {},
   "outputs": [
    {
     "name": "stderr",
     "output_type": "stream",
     "text": [
      "/home/gregorius_vidy/gbg_analytics/01 Experimentation/Model Diagnostic Suite/model-diagnostic/src/calculation_features.py:121: FutureWarning: 'S' is deprecated and will be removed in a future version, please use 's' instead.\n",
      "  .rolling(window, closed=\"left\")\n",
      "/home/gregorius_vidy/gbg_analytics/01 Experimentation/Model Diagnostic Suite/model-diagnostic/src/calculation_features.py:121: FutureWarning: 'H' is deprecated and will be removed in a future version, please use 'h' instead.\n",
      "  .rolling(window, closed=\"left\")\n",
      "/home/gregorius_vidy/gbg_analytics/01 Experimentation/Model Diagnostic Suite/model-diagnostic/src/calculation_features.py:121: FutureWarning: 'S' is deprecated and will be removed in a future version, please use 's' instead.\n",
      "  .rolling(window, closed=\"left\")\n",
      "/home/gregorius_vidy/gbg_analytics/01 Experimentation/Model Diagnostic Suite/model-diagnostic/src/calculation_features.py:121: FutureWarning: 'H' is deprecated and will be removed in a future version, please use 'h' instead.\n",
      "  .rolling(window, closed=\"left\")\n",
      "/home/gregorius_vidy/gbg_analytics/01 Experimentation/Model Diagnostic Suite/model-diagnostic/src/calculation_features.py:121: FutureWarning: 'S' is deprecated and will be removed in a future version, please use 's' instead.\n",
      "  .rolling(window, closed=\"left\")\n",
      "/home/gregorius_vidy/gbg_analytics/01 Experimentation/Model Diagnostic Suite/model-diagnostic/src/calculation_features.py:121: FutureWarning: 'H' is deprecated and will be removed in a future version, please use 'h' instead.\n",
      "  .rolling(window, closed=\"left\")\n"
     ]
    }
   ],
   "source": [
    "df_monetary_8 = generate_rolling_features(\n",
    "    df_c09,\n",
    "    datetime_col=\"Transaction Datetime\",\n",
    "    key_col=\"Transaction Serial No\",\n",
    "    features_config=monetary_config_8,\n",
    ")"
   ]
  },
  {
   "cell_type": "markdown",
   "id": "41a23953",
   "metadata": {},
   "source": [
    "## Unique Count"
   ]
  },
  {
   "cell_type": "code",
   "execution_count": null,
   "id": "3e81b2d5",
   "metadata": {},
   "outputs": [
    {
     "name": "stderr",
     "output_type": "stream",
     "text": [
      "/home/gregorius_vidy/gbg_analytics/01 Experimentation/Model Diagnostic Suite/model-diagnostic/src/calculation_features.py:168: FutureWarning: 'S' is deprecated and will be removed in a future version, please use 's' instead.\n",
      "  .rolling(window=window, closed=\"left\", min_periods=1)\n",
      "/home/gregorius_vidy/gbg_analytics/01 Experimentation/Model Diagnostic Suite/model-diagnostic/src/calculation_features.py:168: FutureWarning: 'H' is deprecated and will be removed in a future version, please use 'h' instead.\n",
      "  .rolling(window=window, closed=\"left\", min_periods=1)\n",
      "/home/gregorius_vidy/gbg_analytics/01 Experimentation/Model Diagnostic Suite/model-diagnostic/src/calculation_features.py:168: FutureWarning: 'S' is deprecated and will be removed in a future version, please use 's' instead.\n",
      "  .rolling(window=window, closed=\"left\", min_periods=1)\n",
      "/home/gregorius_vidy/gbg_analytics/01 Experimentation/Model Diagnostic Suite/model-diagnostic/src/calculation_features.py:168: FutureWarning: 'H' is deprecated and will be removed in a future version, please use 'h' instead.\n",
      "  .rolling(window=window, closed=\"left\", min_periods=1)\n",
      "/home/gregorius_vidy/gbg_analytics/01 Experimentation/Model Diagnostic Suite/model-diagnostic/src/calculation_features.py:168: FutureWarning: 'S' is deprecated and will be removed in a future version, please use 's' instead.\n",
      "  .rolling(window=window, closed=\"left\", min_periods=1)\n",
      "/home/gregorius_vidy/gbg_analytics/01 Experimentation/Model Diagnostic Suite/model-diagnostic/src/calculation_features.py:168: FutureWarning: 'H' is deprecated and will be removed in a future version, please use 'h' instead.\n",
      "  .rolling(window=window, closed=\"left\", min_periods=1)\n"
     ]
    }
   ],
   "source": [
    "df_c09[\"MCC Num\"], uniques = df_c09[\"MCC\"].factorize()\n",
    "df_c09[\"Card No Num\"], uniques = df_c09[\"Card No\"].factorize()\n",
    "\n",
    "df_unique_count_1 = generate_rolling_features(\n",
    "    df_c09,\n",
    "    datetime_col=\"Transaction Datetime\",\n",
    "    key_col=\"Transaction Serial No\",\n",
    "    features_config=unique_count_config_1,\n",
    ")"
   ]
  },
  {
   "cell_type": "markdown",
   "id": "324ba845",
   "metadata": {},
   "source": [
    "Count unique (distinct) `Transaction Amount`, grouped by Card No, MCC, MCC Details, MCC Category Code, MCC Category, Terminal Owner Category"
   ]
  },
  {
   "cell_type": "code",
   "execution_count": null,
   "id": "26b26bbf",
   "metadata": {},
   "outputs": [
    {
     "name": "stderr",
     "output_type": "stream",
     "text": [
      "/home/gregorius_vidy/gbg_analytics/01 Experimentation/Model Diagnostic Suite/model-diagnostic/src/calculation_features.py:168: FutureWarning: 'S' is deprecated and will be removed in a future version, please use 's' instead.\n",
      "  .rolling(window=window, closed=\"left\", min_periods=1)\n",
      "/home/gregorius_vidy/gbg_analytics/01 Experimentation/Model Diagnostic Suite/model-diagnostic/src/calculation_features.py:168: FutureWarning: 'H' is deprecated and will be removed in a future version, please use 'h' instead.\n",
      "  .rolling(window=window, closed=\"left\", min_periods=1)\n",
      "/home/gregorius_vidy/gbg_analytics/01 Experimentation/Model Diagnostic Suite/model-diagnostic/src/calculation_features.py:168: FutureWarning: 'S' is deprecated and will be removed in a future version, please use 's' instead.\n",
      "  .rolling(window=window, closed=\"left\", min_periods=1)\n",
      "/home/gregorius_vidy/gbg_analytics/01 Experimentation/Model Diagnostic Suite/model-diagnostic/src/calculation_features.py:168: FutureWarning: 'H' is deprecated and will be removed in a future version, please use 'h' instead.\n",
      "  .rolling(window=window, closed=\"left\", min_periods=1)\n",
      "/home/gregorius_vidy/gbg_analytics/01 Experimentation/Model Diagnostic Suite/model-diagnostic/src/calculation_features.py:168: FutureWarning: 'S' is deprecated and will be removed in a future version, please use 's' instead.\n",
      "  .rolling(window=window, closed=\"left\", min_periods=1)\n",
      "/home/gregorius_vidy/gbg_analytics/01 Experimentation/Model Diagnostic Suite/model-diagnostic/src/calculation_features.py:168: FutureWarning: 'H' is deprecated and will be removed in a future version, please use 'h' instead.\n",
      "  .rolling(window=window, closed=\"left\", min_periods=1)\n",
      "/home/gregorius_vidy/gbg_analytics/01 Experimentation/Model Diagnostic Suite/model-diagnostic/src/calculation_features.py:168: FutureWarning: 'S' is deprecated and will be removed in a future version, please use 's' instead.\n",
      "  .rolling(window=window, closed=\"left\", min_periods=1)\n",
      "/home/gregorius_vidy/gbg_analytics/01 Experimentation/Model Diagnostic Suite/model-diagnostic/src/calculation_features.py:168: FutureWarning: 'H' is deprecated and will be removed in a future version, please use 'h' instead.\n",
      "  .rolling(window=window, closed=\"left\", min_periods=1)\n",
      "/home/gregorius_vidy/gbg_analytics/01 Experimentation/Model Diagnostic Suite/model-diagnostic/src/calculation_features.py:168: FutureWarning: 'S' is deprecated and will be removed in a future version, please use 's' instead.\n",
      "  .rolling(window=window, closed=\"left\", min_periods=1)\n",
      "/home/gregorius_vidy/gbg_analytics/01 Experimentation/Model Diagnostic Suite/model-diagnostic/src/calculation_features.py:168: FutureWarning: 'H' is deprecated and will be removed in a future version, please use 'h' instead.\n",
      "  .rolling(window=window, closed=\"left\", min_periods=1)\n",
      "/home/gregorius_vidy/gbg_analytics/01 Experimentation/Model Diagnostic Suite/model-diagnostic/src/calculation_features.py:168: FutureWarning: 'S' is deprecated and will be removed in a future version, please use 's' instead.\n",
      "  .rolling(window=window, closed=\"left\", min_periods=1)\n",
      "/home/gregorius_vidy/gbg_analytics/01 Experimentation/Model Diagnostic Suite/model-diagnostic/src/calculation_features.py:168: FutureWarning: 'H' is deprecated and will be removed in a future version, please use 'h' instead.\n",
      "  .rolling(window=window, closed=\"left\", min_periods=1)\n"
     ]
    }
   ],
   "source": [
    "df_unique_count_2 = generate_rolling_features(\n",
    "    df_c09,\n",
    "    datetime_col=\"Transaction Datetime\",\n",
    "    key_col=\"Transaction Serial No\",\n",
    "    features_config=unique_count_config_2,\n",
    ")"
   ]
  },
  {
   "cell_type": "markdown",
   "id": "391c94d2",
   "metadata": {},
   "source": [
    "## Getting All Transformed Features"
   ]
  },
  {
   "cell_type": "code",
   "execution_count": 13,
   "id": "95f782a4",
   "metadata": {},
   "outputs": [],
   "source": [
    "from functools import reduce"
   ]
  },
  {
   "cell_type": "code",
   "execution_count": 16,
   "id": "4b1809ca",
   "metadata": {},
   "outputs": [],
   "source": [
    "# Define the common keys for merging\n",
    "merge_keys = [\"Transaction Serial No\", \"Card No\"]\n",
    "\n",
    "\n",
    "# Helper function to extract columns based on config and time windows\n",
    "def extract_columns(config, time_windows):\n",
    "    return [cfg[\"windows\"][win] for cfg in config for win in time_windows]\n",
    "\n",
    "\n",
    "# Extract columns\n",
    "time_shift_cols = list(time_shift_config.keys())\n",
    "freq_cols = extract_columns(freq_config, time_windows)\n",
    "\n",
    "# Extract monetary and unique count columns using loops\n",
    "monetary_configs = [\n",
    "    monetary_config_1,\n",
    "    monetary_config_2,\n",
    "    monetary_config_3,\n",
    "    monetary_config_4,\n",
    "    monetary_config_5,\n",
    "    monetary_config_6,\n",
    "    monetary_config_7,\n",
    "    monetary_config_8,\n",
    "]\n",
    "monetary_cols = [extract_columns(cfg, time_windows) for cfg in monetary_configs]\n",
    "\n",
    "unique_count_configs = [unique_count_config_1, unique_count_config_2]\n",
    "unique_count_cols = [extract_columns(cfg, time_windows) for cfg in unique_count_configs]"
   ]
  },
  {
   "cell_type": "code",
   "execution_count": null,
   "id": "757c939a",
   "metadata": {},
   "outputs": [],
   "source": []
  },
  {
   "cell_type": "code",
   "execution_count": null,
   "id": "6fd01eee",
   "metadata": {},
   "outputs": [],
   "source": [
    "# Subset dataframes using a loop\n",
    "df_time_diff = df_time_diff[merge_keys + time_shift_cols]\n",
    "df_freq = df_freq[merge_keys + freq_cols]\n",
    "\n",
    "# Map dataframe variables to a list for iteration\n",
    "monetary_dfs = [\n",
    "    df_monetary_1,\n",
    "    df_monetary_2,\n",
    "    df_monetary_3,\n",
    "    df_monetary_4,\n",
    "    df_monetary_5,\n",
    "    df_monetary_6,\n",
    "    df_monetary_7,\n",
    "    df_monetary_8,\n",
    "]\n",
    "monetary_dfs = [df[merge_keys + cols] for df, cols in zip(monetary_dfs, monetary_cols)]\n",
    "\n",
    "unique_count_dfs = [\n",
    "    df_unique_count_1[merge_keys + unique_count_cols[0]],\n",
    "    df_unique_count_2[merge_keys + unique_count_cols[1]],\n",
    "]\n",
    "\n",
    "# Merge all feature dataframes\n",
    "dfs_to_merge = [df_time_diff, df_freq] + monetary_dfs + unique_count_dfs\n",
    "df_final = reduce(\n",
    "    lambda left, right: pd.merge(left, right, on=merge_keys, how=\"outer\"), dfs_to_merge\n",
    ")\n",
    "\n",
    "# Merge with additional features\n",
    "df_final = df_final.merge(\n",
    "    df_c09[merge_keys + [\"Transaction Amount\", \"Card Billing Amount\", \"Confirmed\"]],\n",
    "    on=merge_keys,\n",
    "    how=\"left\",\n",
    ")"
   ]
  }
 ],
 "metadata": {
  "kernelspec": {
   "display_name": "bespoke-model",
   "language": "python",
   "name": "python3"
  },
  "language_info": {
   "codemirror_mode": {
    "name": "ipython",
    "version": 3
   },
   "file_extension": ".py",
   "mimetype": "text/x-python",
   "name": "python",
   "nbconvert_exporter": "python",
   "pygments_lexer": "ipython3",
   "version": "3.12.9"
  }
 },
 "nbformat": 4,
 "nbformat_minor": 5
}
