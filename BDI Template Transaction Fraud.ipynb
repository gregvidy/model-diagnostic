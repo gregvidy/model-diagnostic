{
 "cells": [
  {
   "cell_type": "markdown",
   "id": "9e5c81af",
   "metadata": {},
   "source": [
    "#### Import Libraries, configure settings"
   ]
  },
  {
   "cell_type": "code",
   "execution_count": null,
   "id": "faab1d78",
   "metadata": {},
   "outputs": [],
   "source": [
    "import os\n",
    "import pandas as pd\n",
    "import numpy as np\n",
    "from ydata_profiling import ProfileReport\n",
    "# Pandas Profiling used to create the exploratory data analysis reports\n",
    "pd.set_option(\"display.max_columns\", None)\n",
    "# Set the option to display all the columns in dataframes\n",
    "pd.options.display.max_colwidth = 500\n",
    "# Set the option to widen the column width due to the identity hash field being length 65\n",
    "pd.set_option(\"display.max_rows\", None)\n",
    "# Set the option to display all the rows in dataframes\n",
    "\n",
    "from optbinning import OptimalBinning\n",
    "from optbinning import BinningProcess\n",
    "\n",
    "from datetime import datetime"
   ]
  },
  {
   "cell_type": "markdown",
   "id": "5994961b",
   "metadata": {},
   "source": [
    "#### Define the Data Types and Column Names for the input files"
   ]
  },
  {
   "cell_type": "code",
   "execution_count": null,
   "id": "dc7168ea",
   "metadata": {},
   "outputs": [],
   "source": [
    "# Data Types\n",
    "\n",
    "data_types_C03 = {\n",
    "    'C03_ProductIndicator' : 'object',\n",
    "    'C03_ReleaseNumber' : 'object',\n",
    "    'C03_Status' : 'object',\n",
    "    'C03_OrigCode' : 'object',\n",
    "    'C03_RespCode' : 'object',\n",
    "    'C03_MTI' : 'object',\n",
    "    'C03_PrimaryBitMap' : 'object',\n",
    "    'C03_SecondaryBitMap' : 'object',\n",
    "    'C03_Card_No' : 'object',\n",
    "    'C03_ProcessingCode' : 'object',\n",
    "    'C03_Transaction_Amount' : 'float',\n",
    "    'C03_CardBillingAmount' : 'float',\n",
    "    'C03_TransmissionDate' : 'object',\n",
    "    'C03_STAN' : 'object',\n",
    "    'C03_Transaction_Datetime' : 'object',\n",
    "    'C03_Expiry_Date' : 'object',\n",
    "    'C03_SettlementDate' : 'object',\n",
    "    'C03_CaptureDate' : 'object',\n",
    "    'C03_MCC' : 'object',\n",
    "    'C03_CountryCode' : 'object',\n",
    "    'C03_POSEntryMode' : 'object',\n",
    "    'C03_POSCondCode' : 'object',\n",
    "    'C03_AuthIDRespLength' : 'object',\n",
    "    'C03_Merchant_Id' : 'object',\n",
    "    'C03_Track2' : 'object',\n",
    "    'C03_RRN' : 'object',\n",
    "    'C03_AuthIDResp' : 'object',\n",
    "    'C03_ResponseCode' : 'object',\n",
    "    'C03_CardAcceptorTerminalID' : 'object',\n",
    "    'C03_CardAcceptorID' : 'object',\n",
    "    'C03_TerminalOwner' : 'object',\n",
    "    'C03_TerminalCIty' : 'object',\n",
    "    'C03_TerminalState' : 'object',\n",
    "    'C03_TerminalCountry' : 'object',\n",
    "    'C03_AdditionalData' : 'object',\n",
    "    'C03_CurrencyCode' : 'object',\n",
    "    'C03_TerminalData' : 'object',\n",
    "    'C03_POSData' : 'object',\n",
    "    'C03_BanknetData' : 'object',\n",
    "    'C03_RcvInstID' : 'object',\n",
    "    'C03_AccountIdentification1' : 'object',\n",
    "    'C03_AccountIdentification2' : 'object',\n",
    "    'C03_AuthAgentID' : 'object',\n",
    "    'C03_SettlementRecord' : 'object',\n",
    "    'C03_BatchData' : 'object',\n",
    "    'C03_SettlementData' : 'object',\n",
    "    'C03_AccountIndicator' : 'object',\n",
    "    'C03_Preauthorization' : 'object',\n",
    "    'C03_ATMAdditionalData' : 'object'\n",
    "}\n",
    "\n",
    "data_types_C06 = {\n",
    "    'C06_MTI' : 'object',\n",
    "    'C06_PrimaryBitMap' : 'object',\n",
    "    'C06_SecondaryBitMap' : 'object',\n",
    "    'C06_PANNumber' : 'object',\n",
    "    'C06_ProcessingCode' : 'object',\n",
    "    'C06_TransactionAmount' : 'object',\n",
    "    'C06_TransamisionDateTime' : 'object',\n",
    "    'C06_STAN' : 'object',\n",
    "    'C06_Transaction_Datetime' : 'object',\n",
    "    'C06_SetllementDate' : 'object',\n",
    "    'C06_CaptureDate' : 'object',\n",
    "    'C06_MCC' : 'object',\n",
    "    'C06_CardDataInputCapability' : 'object',\n",
    "    'C06_CardholderAuthCapability' : 'object',\n",
    "    'C06_CardCaptureCapability' : 'object',\n",
    "    'C06_OS' : 'object',\n",
    "    'C06_CardholderPresent' : 'object',\n",
    "    'C06_CardPresent' : 'object',\n",
    "    'C06_CardInputMode' : 'object',\n",
    "    'C06_CardholderAuthMethod' : 'object',\n",
    "    'C06_CardholderAuthEntity' : 'object',\n",
    "    'C06_CardDataOutputCapability' : 'object',\n",
    "    'C06_TerminalOutputCapability' : 'object',\n",
    "    'C06_PINCaptureCapability' : 'object',\n",
    "    'C06_AcquiringID' : 'object',\n",
    "    'C06_ForwardingICC' : 'object',\n",
    "    'C06_RRN' : 'object',\n",
    "    'C06_CardAcceptorTerminalID' : 'object',\n",
    "    'C06_CardAcceptorName' : 'object',\n",
    "    'C06_CardAcceptorStreet' : 'object',\n",
    "    'C06_CardAcceptorCity' : 'object',\n",
    "    'C06_CardAcceptorPostalCode' : 'object',\n",
    "    'C06_CardAcceptorRegionCode' : 'object',\n",
    "    'C06_CardAcceptorCountryCode' : 'object',\n",
    "    'C06_AdditionalData' : 'object',\n",
    "    'C06_TransactionCurrencyCode' : 'object',\n",
    "    'C06_OriginalMessageType' : 'object',\n",
    "    'C06_OriginalSTAN' : 'object',\n",
    "    'C06_OriginalTransmissionDatetime' : 'object',\n",
    "    'C06_OriginalAcquiringID' : 'object',\n",
    "    'C06_BillCompanyID' : 'object',\n",
    "    'C06_BIllNumber' : 'object',\n",
    "    'C06_BillConsumerNumber' : 'object',\n",
    "    'C06_BillRefNo1' : 'object',\n",
    "    'C06_BillRefNo2' : 'object',\n",
    "    'C06_AccountIdentification1' : 'object',\n",
    "    'C06_AccountIdentification2' : 'object',\n",
    "    'C06_ORFTContraBankID' : 'object',\n",
    "    'C06_ORFTContraBankAccNo' : 'object',\n",
    "    'C06_Preauthhold' : 'object',\n",
    "    'C06_PreAuthSeqNumber' : 'object',\n",
    "    'C06_ReferalPhoneNumber' : 'object',\n",
    "    'C06_MemberNumber' : 'object',\n",
    "    'C06_POSTerminalID' : 'object',\n",
    "    'C06_SICCode' : 'object'\n",
    "}\n",
    "\n",
    "data_types_C09 = {\n",
    "    'C09_MTI': 'object',\n",
    "    'C09_PrimaryBitMap': 'object',\n",
    "    'C09_SecondaryBitMap': 'object',\n",
    "    'C09_Card_No': 'object',\n",
    "    'C09_ProcessingCode': 'object',\n",
    "    'C09_Transaction_Amount': 'object',\n",
    "    'C09_ReconAmount': 'object',\n",
    "    'C09_TransmisionDateTime': 'object',\n",
    "    'C09_STAN': 'object',\n",
    "    'C09_Transaction_Datetime': 'object',\n",
    "    'C09_Expiry_Date': 'object',\n",
    "    'C09_CaptureDate': 'object',\n",
    "    'C09_CountryCode': 'object',\n",
    "    'C09_CardDataInputCapability': 'object',\n",
    "    'C09_CardholderAuthCapability': 'object',\n",
    "    'C09_CardCaptureCapability': 'object',\n",
    "    'C09_OS': 'object',\n",
    "    'C09_CardholderPresent': 'object',\n",
    "    'C09_CardPresent': 'object',\n",
    "    'C09_CardInputMode': 'object',\n",
    "    'C09_CardholderAuthMethod': 'object',\n",
    "    'C09_CardholderAuthEntity': 'object',\n",
    "    'C09_CardDataOutputCapability': 'object',\n",
    "    'C09_TerminalOutputCapability': 'object',\n",
    "    'C09_PINCaptureCapability': 'object',\n",
    "    'C09_CardSequenceNo': 'object',\n",
    "    'C09_FunctionCode': 'object',\n",
    "    'C09_MessageReasonCode': 'object',\n",
    "    'C09_Merchant_Id': 'object',\n",
    "    'C09_AcquirerID': 'object',\n",
    "    'C09_ForwardingID': 'object',\n",
    "    'C09_Track2': 'object',\n",
    "    'C09_RRN': 'object',\n",
    "    'C09_ApprovalCode': 'object',\n",
    "    'C09_ActionCode': 'object',\n",
    "    'C09_CardAcceptorTerminalID': 'object',\n",
    "    'C09_CardAcceptorIdCode': 'object',\n",
    "    'C09_CardAcceptorName': 'object',\n",
    "    'C09_CardAcceptorStreet': 'object',\n",
    "    'C09_CardAcceptorCity': 'object',\n",
    "    'C09_CardAcceptorPostalCode': 'object',\n",
    "    'C09_CardAcceptorRegionCode': 'object',\n",
    "    'C09_CardAcceptorCountryCode': 'object',\n",
    "    'C09_TransactionCurrencyCode': 'object',\n",
    "    'C09_ReconCurrencyCode': 'object',\n",
    "    'C09_OriginalMTI': 'object',\n",
    "    'C09_OriginalSTAN': 'object',\n",
    "    'C09_OriginalTrxDatetime': 'object',\n",
    "    'C09_OriginalAcquirerID': 'object',\n",
    "    'C09_ReservedPrivate1': 'object',\n",
    "    'C09_AccountIdentification1': 'object',\n",
    "    'C09_AccountIdentification2': 'object',\n",
    "    'C09_ReservedPrivate2': 'object',\n",
    "    'C09_TransactionAmountIDR': 'object',\n",
    "    'C09_ECI': 'object',\n",
    "}\n",
    "\n",
    "data_types_C10 = {\n",
    "    'C10_MTI': 'object',\n",
    "    'C10_PrimaryBitMap': 'object',\n",
    "    'C10_SecondaryBitMap': 'object',\n",
    "    'C10_PANNumber': 'object',\n",
    "    'C10_ProcessingCode': 'object',\n",
    "    'C10_TransactionAmount': 'object',\n",
    "    'C10_TransmissionDateTime': 'object',\n",
    "    'C10_STAN': 'object',\n",
    "    'C10_Transaction_Datetime': 'object',\n",
    "    'C10_SettlementDate': 'object',\n",
    "    'C10_CaptureDate': 'object',\n",
    "    'C10_MCC': 'object',\n",
    "    'C10_CardInputMode': 'object',\n",
    "    'C10_PINCaptureCapability': 'object',\n",
    "    'C10_AcquiringID': 'object',\n",
    "    'C10_RRN': 'object',\n",
    "    'C10_CardAcceptorTerminalID': 'object',\n",
    "    'C10_CardAcceptorName': 'object',\n",
    "    'C10_CardAcceptorStreet': 'object',\n",
    "    'C10_CardAcceptorCity': 'object',\n",
    "    'C10_CardAcceptorPostalCode': 'object',\n",
    "    'C10_CardAcceptorRegionCode': 'object',\n",
    "    'C10_CardAcceptorCountryCode': 'object',\n",
    "    'C10_AdditionalData': 'object',\n",
    "    'C10_TransactionCurrencyCode': 'object',\n",
    "    'C10_OriginalMessageType': 'object',\n",
    "    'C10_OriginalSTAN': 'object',\n",
    "    'C10_OriginalTransmissionDatetime': 'object',\n",
    "    'C10_BillCompanyID': 'object',\n",
    "    'C10_BIllNumber': 'object',\n",
    "    'C10_BillConsumerNumber': 'object',\n",
    "    'C10_BillRefNo1': 'object',\n",
    "    'C10_BillRefNo2': 'object',\n",
    "    'C10_AccountIdentification1': 'object',\n",
    "    'C10_AccountIdentification2': 'object',\n",
    "    'C10_ORFTContraBankID': 'object',\n",
    "    'C10_ORFTContraBankAccNo': 'object',\n",
    "    'C10_ReferalPhoneNumber': 'object',\n",
    "    'C10_MemberNumber': 'object',\n",
    "    'C10_POSTerminalID': 'object',\n",
    "    'C10_SICCode': 'object',\n",
    "}\n",
    "\n",
    "data_types_TSF = {}\n",
    "\n",
    "data_types_TSCF = {}\n",
    "                     \n"
   ]
  },
  {
   "cell_type": "code",
   "execution_count": null,
   "id": "383f5693",
   "metadata": {},
   "outputs": [],
   "source": [
    "# Column Names\n",
    "\n",
    "names_C03 = [\n",
    "    'C03_ProductIndicator',\n",
    "    'C03_ReleaseNumber',\n",
    "    'C03_Status',\n",
    "    'C03_OrigCode',\n",
    "    'C03_RespCode',\n",
    "    'C03_MTI',\n",
    "    'C03_PrimaryBitMap',\n",
    "    'C03_SecondaryBitMap',\n",
    "    'C03_Card_No',\n",
    "    'C03_ProcessingCode',\n",
    "    'Transaction_Amount',\n",
    "    'C03_CardBillingAmount',\n",
    "    'C03_TransmissionDate',\n",
    "    'C03_STAN',\n",
    "    'Transaction_Datetime',\n",
    "    'C03_Expiry_Date',\n",
    "    'C03_SettlementDate',\n",
    "    'C03_CaptureDate',\n",
    "    'C03_MCC',\n",
    "    'C03_CountryCode',\n",
    "    'C03_POSEntryMode',\n",
    "    'C03_POSCondCode',\n",
    "    'C03_AuthIDRespLength',\n",
    "    'C03_Merchant_Id',\n",
    "    'C03_Track2',\n",
    "    'C03_RRN',\n",
    "    'C03_AuthIDResp',\n",
    "    'C03_ResponseCode',\n",
    "    'C03_CardAcceptorTerminalID',\n",
    "    'C03_CardAcceptorID',\n",
    "    'C03_TerminalOwner',\n",
    "    'C03_TerminalCIty',\n",
    "    'C03_TerminalState',\n",
    "    'C03_TerminalCountry',\n",
    "    'C03_AdditionalData',\n",
    "    'C03_CurrencyCode',\n",
    "    'C03_TerminalData',\n",
    "    'C03_POSData',\n",
    "    'C03_BanknetData',\n",
    "    'C03_RcvInstID',\n",
    "    'C03_AccountIdentification1',\n",
    "    'C03_AccountIdentification2',\n",
    "    'C03_AuthAgentID',\n",
    "    'C03_SettlementRecord',\n",
    "    'C03_BatchData',\n",
    "    'C03_SettlementData',\n",
    "    'C03_AccountIndicator',\n",
    "    'C03_Preauthorization',\n",
    "    'C03_ATMAdditionalData'\n",
    "]\n",
    "\n",
    "names_C06 = [\n",
    "    'C06_MTI',\n",
    "    'C06_PrimaryBitMap',\n",
    "    'C06_SecondaryBitMap',\n",
    "    'C06_PANNumber',\n",
    "    'C06_ProcessingCode',\n",
    "    'C06_TransactionAmount',\n",
    "    'C06_TransamisionDateTime',\n",
    "    'C06_STAN',\n",
    "    'C06_Transaction_Datetime',\n",
    "    'C06_SetllementDate',\n",
    "    'C06_CaptureDate',\n",
    "    'C06_MCC',\n",
    "    'C06_CardDataInputCapability',\n",
    "    'C06_CardholderAuthCapability',\n",
    "    'C06_CardCaptureCapability',\n",
    "    'C06_OS',\n",
    "    'C06_CardholderPresent',\n",
    "    'C06_CardPresent',\n",
    "    'C06_CardInputMode',\n",
    "    'C06_CardholderAuthMethod',\n",
    "    'C06_CardholderAuthEntity',\n",
    "    'C06_CardDataOutputCapability',\n",
    "    'C06_TerminalOutputCapability',\n",
    "    'C06_PINCaptureCapability',\n",
    "    'C06_AcquiringID',\n",
    "    'C06_ForwardingICC',\n",
    "    'C06_RRN',\n",
    "    'C06_CardAcceptorTerminalID',\n",
    "    'C06_CardAcceptorName',\n",
    "    'C06_CardAcceptorStreet',\n",
    "    'C06_CardAcceptorCity',\n",
    "    'C06_CardAcceptorPostalCode',\n",
    "    'C06_CardAcceptorRegionCode',\n",
    "    'C06_CardAcceptorCountryCode',\n",
    "    'C06_AdditionalData',\n",
    "    'C06_TransactionCurrencyCode',\n",
    "    'C06_OriginalMessageType',\n",
    "    'C06_OriginalSTAN',\n",
    "    'C06_OriginalTransmissionDatetime',\n",
    "    'C06_OriginalAcquiringID',\n",
    "    'C06_BillCompanyID',\n",
    "    'C06_BIllNumber',\n",
    "    'C06_BillConsumerNumber',\n",
    "    'C06_BillRefNo1',\n",
    "    'C06_BillRefNo2',\n",
    "    'C06_AccountIdentification1',\n",
    "    'C06_AccountIdentification2',\n",
    "    'C06_ORFTContraBankID',\n",
    "    'C06_ORFTContraBankAccNo',\n",
    "    'C06_Preauthhold',\n",
    "    'C06_PreAuthSeqNumber',\n",
    "    'C06_ReferalPhoneNumber',\n",
    "    'C06_MemberNumber',\n",
    "    'C06_POSTerminalID',\n",
    "    'C06_SICCode',\n",
    "]\n",
    "names_C09 = []\n",
    "names_C10 = []\n",
    "names_TSF = []\n",
    "names_TSCF = []\n",
    "\n",
    "\n",
    "\n"
   ]
  },
  {
   "cell_type": "markdown",
   "id": "0b6e879a",
   "metadata": {},
   "source": [
    "#### Read in each file"
   ]
  },
  {
   "cell_type": "markdown",
   "id": "897b449f",
   "metadata": {},
   "source": [
    "##### C03_Details - Credit Cards"
   ]
  },
  {
   "cell_type": "code",
   "execution_count": null,
   "id": "80e58c55",
   "metadata": {},
   "outputs": [],
   "source": [
    "C03_Details = pd.read_csv(\"path-to-C03_Details.csv\",\n",
    "                           dtype = data_types_C03,\n",
    "                           parse_dates = ['TransmissionDate','Transaction_Datetime','SettlementDate','CaptureDate'],\n",
    "                           header = 0,\n",
    "                           names = names_C03)\n",
    "\n",
    "# Check the shape of the dataframe\n",
    "C03_Details.shape"
   ]
  },
  {
   "cell_type": "code",
   "execution_count": null,
   "id": "ad3d0739",
   "metadata": {},
   "outputs": [],
   "source": [
    "# Check the transaction datetimes\n",
    "C03_Details['Transaction_Datetime'].describe()"
   ]
  },
  {
   "cell_type": "code",
   "execution_count": null,
   "id": "cf11a05d",
   "metadata": {},
   "outputs": [],
   "source": [
    "# Check the number of accounts/card numbers\n",
    "print(C03_Details['Card_No'].nunique())\n",
    "\n",
    "# Check for null card numbers\n",
    "print(C03_Details['Card_No'].isna().sum())\n"
   ]
  },
  {
   "cell_type": "markdown",
   "id": "a6aec1f3",
   "metadata": {},
   "source": [
    "##### C06_Details - Debit Cards"
   ]
  },
  {
   "cell_type": "code",
   "execution_count": null,
   "id": "9dc8078a",
   "metadata": {},
   "outputs": [
    {
     "data": {
      "text/plain": [
       "(4096478, 18)"
      ]
     },
     "execution_count": 6,
     "metadata": {},
     "output_type": "execute_result"
    }
   ],
   "source": [
    "C06_Details = pd.read_csv('path-to-C06_Details.csv',\n",
    "                           dtype = data_types_C06,\n",
    "                           parse_dates = [],\n",
    "                           header = 0,\n",
    "                           names = names_C06)\n",
    "\n",
    "C06_Details.shape"
   ]
  },
  {
   "cell_type": "code",
   "execution_count": null,
   "id": "73fcd265",
   "metadata": {},
   "outputs": [],
   "source": []
  },
  {
   "cell_type": "code",
   "execution_count": null,
   "id": "9d62c295",
   "metadata": {},
   "outputs": [],
   "source": []
  },
  {
   "cell_type": "markdown",
   "id": "40bfe64d",
   "metadata": {},
   "source": [
    "##### C09_Details - AMEX Cards"
   ]
  },
  {
   "cell_type": "code",
   "execution_count": null,
   "id": "c45ab6d2",
   "metadata": {},
   "outputs": [],
   "source": [
    "C09_Details = pd.read_csv('path-to-C09_Details.csv',\n",
    "                           dtype = data_types_C09,\n",
    "                           parse_dates = [],\n",
    "                           header = 0,\n",
    "                           names = names_C09)\n",
    "\n",
    "C09_Details.shape"
   ]
  },
  {
   "cell_type": "code",
   "execution_count": null,
   "id": "f7c54874",
   "metadata": {},
   "outputs": [],
   "source": []
  },
  {
   "cell_type": "code",
   "execution_count": null,
   "id": "93bd28ed",
   "metadata": {},
   "outputs": [],
   "source": []
  },
  {
   "cell_type": "markdown",
   "id": "cd32564a",
   "metadata": {},
   "source": [
    "##### C10_Details - DBank Pro"
   ]
  },
  {
   "cell_type": "code",
   "execution_count": null,
   "id": "c2ec3a8a",
   "metadata": {},
   "outputs": [],
   "source": []
  },
  {
   "cell_type": "code",
   "execution_count": null,
   "id": "4ba97061",
   "metadata": {},
   "outputs": [],
   "source": []
  },
  {
   "cell_type": "markdown",
   "id": "640cfb09",
   "metadata": {},
   "source": [
    "##### Transaction_Summary_Fraud"
   ]
  },
  {
   "cell_type": "code",
   "execution_count": null,
   "id": "5f7fafc5",
   "metadata": {},
   "outputs": [],
   "source": []
  },
  {
   "cell_type": "code",
   "execution_count": null,
   "id": "92caf8d7",
   "metadata": {},
   "outputs": [],
   "source": []
  },
  {
   "cell_type": "markdown",
   "id": "ba102500",
   "metadata": {},
   "source": [
    "##### Transaction_Summary_Calculations_Fraud"
   ]
  },
  {
   "cell_type": "code",
   "execution_count": null,
   "id": "a1bb35df",
   "metadata": {},
   "outputs": [],
   "source": []
  },
  {
   "cell_type": "code",
   "execution_count": null,
   "id": "83d0cc78",
   "metadata": {},
   "outputs": [],
   "source": []
  },
  {
   "cell_type": "code",
   "execution_count": null,
   "id": "d739f7ae",
   "metadata": {},
   "outputs": [],
   "source": [
    "# Remove the records with NaT transaction_datetime\n",
    "print('Records before removing blank transaction_datetime records: ', C03_Details.shape[0])\n",
    "print('Records removed: ', C03_Details['Transaction_Datetime'].isna().sum())\n",
    "C03_Details = C03_Details.loc[C03_Details['Transaction_Datetime'].isna() == False]\n",
    "print('Records after removing blank transaction_datetime records: ', C03_Details.shape[0])\n"
   ]
  },
  {
   "cell_type": "markdown",
   "id": "fed23770",
   "metadata": {},
   "source": []
  },
  {
   "cell_type": "code",
   "execution_count": null,
   "id": "d1d14480",
   "metadata": {},
   "outputs": [],
   "source": [
    "# Remove the duplicated records\n",
    "print('Records before removing duplicated records: ', C03_Details.shape[0])\n",
    "print('Records removed: ', C03_Details.duplicated().sum())\n",
    "C03_Details = C03_Details.loc[C03_Details.duplicated() == False]\n",
    "print('Records after removing duplicated records: ', C03_Details.shape[0])\n"
   ]
  },
  {
   "cell_type": "code",
   "execution_count": null,
   "id": "cd466a8c",
   "metadata": {},
   "outputs": [],
   "source": []
  },
  {
   "cell_type": "markdown",
   "id": "9c4fd807",
   "metadata": {},
   "source": [
    "#### View the data in each of the files"
   ]
  },
  {
   "cell_type": "code",
   "execution_count": null,
   "id": "a3066adf",
   "metadata": {},
   "outputs": [],
   "source": [
    "C03_Details.head()"
   ]
  },
  {
   "cell_type": "code",
   "execution_count": null,
   "id": "b78e3a1d",
   "metadata": {},
   "outputs": [],
   "source": [
    "C06_Details.head()"
   ]
  },
  {
   "cell_type": "code",
   "execution_count": null,
   "id": "b441369b",
   "metadata": {},
   "outputs": [],
   "source": [
    "C09_Details.head()"
   ]
  },
  {
   "cell_type": "code",
   "execution_count": null,
   "id": "9fc66e77",
   "metadata": {},
   "outputs": [],
   "source": [
    "C10_Details.head()"
   ]
  },
  {
   "cell_type": "code",
   "execution_count": null,
   "id": "c8d19a7c",
   "metadata": {},
   "outputs": [],
   "source": [
    "Transaction_Summary_Fraud.head()"
   ]
  },
  {
   "cell_type": "code",
   "execution_count": null,
   "id": "44724163",
   "metadata": {},
   "outputs": [],
   "source": [
    "Transaction_Summary_Calculations_Fraud.head()"
   ]
  },
  {
   "cell_type": "code",
   "execution_count": null,
   "id": "66261cc8",
   "metadata": {},
   "outputs": [],
   "source": []
  },
  {
   "cell_type": "markdown",
   "id": "bdbc00dd",
   "metadata": {},
   "source": [
    "#### Check what is where in the files"
   ]
  },
  {
   "cell_type": "code",
   "execution_count": null,
   "id": "922afca4",
   "metadata": {},
   "outputs": [],
   "source": [
    "# Are the Mobile Financial Transactions contained in the Deposit Transactions?\n",
    "\n",
    "test_mf_deposit = deposit_transaction.merge(mobile_financial, left_on = ['customer_id','account_number','transaction_datetime'],\n",
    "                               right_on = ['customer_id','from_account_no','transaction_datetime'],\n",
    "                               how = 'outer',\n",
    "                               indicator = 'merge_deposit_mf')"
   ]
  },
  {
   "cell_type": "code",
   "execution_count": null,
   "id": "2d3f7e61",
   "metadata": {},
   "outputs": [],
   "source": [
    "test_mf_deposit.groupby(by = ['merge_deposit_mf'], dropna=False).size()"
   ]
  },
  {
   "cell_type": "code",
   "execution_count": null,
   "id": "370a969e",
   "metadata": {},
   "outputs": [],
   "source": [
    "print(deposit_transaction.shape[0])\n",
    "print(mobile_financial.shape[0])\n",
    "print(test_mf_deposit.shape[0])"
   ]
  },
  {
   "cell_type": "code",
   "execution_count": null,
   "id": "b4eaf50d",
   "metadata": {},
   "outputs": [],
   "source": [
    "test_mf_deposit.loc[test_mf_deposit['transaction_id'].isna() == False].groupby(['merge_deposit_mf'], dropna=False).size()"
   ]
  },
  {
   "cell_type": "code",
   "execution_count": null,
   "id": "c74c4980",
   "metadata": {},
   "outputs": [],
   "source": [
    "test_mf_deposit.loc[test_mf_deposit['transaction_id'].isna() == True].groupby(['merge_deposit_mf'], dropna=False).size()"
   ]
  },
  {
   "cell_type": "markdown",
   "id": "ac384e67",
   "metadata": {},
   "source": [
    "#### 3270348 out of 4096478 mobile financial trnasactions are in the deposit transaction file (80%)"
   ]
  },
  {
   "cell_type": "code",
   "execution_count": null,
   "id": "643ae0a3",
   "metadata": {},
   "outputs": [],
   "source": []
  },
  {
   "cell_type": "code",
   "execution_count": null,
   "id": "94fc1079",
   "metadata": {},
   "outputs": [],
   "source": []
  },
  {
   "cell_type": "markdown",
   "id": "27cf7cf7",
   "metadata": {},
   "source": [
    "### Combine Tables"
   ]
  },
  {
   "cell_type": "code",
   "execution_count": null,
   "id": "75f907f5",
   "metadata": {},
   "outputs": [],
   "source": [
    "# Concatenate C03 + C09 (Credit Cards + Amex) to create a single dataframe for credit cards\n",
    "\n",
    "credit = pd.concat([C03_Details, C09_Details], axis = 0, ignore_index = True)\n",
    "\n",
    "print(credit.shape)\n",
    "print(credit.head())\n",
    "print(credit['Card_No'].isna().sum())\n",
    "print(credit['Card_No'].nunique())\n"
   ]
  },
  {
   "cell_type": "code",
   "execution_count": null,
   "id": "c0cff133",
   "metadata": {},
   "outputs": [],
   "source": [
    "# Concatenate C06 + C10 Debit Cards\n",
    "\n",
    "debit = pd.concat([C06_Details, C10_Details[C10_Details['AccountIdentification1'].isna()==False]], axis = 0, ignore_index = True)\n",
    "\n",
    "print(debit.shape)\n",
    "print(debit.head())\n",
    "print(debit['Card_No'].isna().sum())\n",
    "print(debit['Card_No'].nunique())\n",
    "\n"
   ]
  },
  {
   "cell_type": "code",
   "execution_count": null,
   "id": "35280489",
   "metadata": {},
   "outputs": [],
   "source": [
    "# Merge to TSF and TSCF\n",
    "credit = credit.merge(Transaction_Summary_Fraud, on = ['Transaction_Serial_No'],\n",
    "                      how = 'left',\n",
    "                      indicator = 'merge_credit_tsf')\n",
    "\n",
    "print(credit.shape)\n",
    "print(credit.groupby(['merge_credit_tsf'], dropna=False).size())\n",
    "\n",
    "credit = credit.merge(Transaction_Summary_Calculations_Fraud, on = ['Transaction_Serial_No'],\n",
    "                      how = 'left',\n",
    "                      indicator = 'merge_credit_tscf')\n",
    "\n",
    "print(credit.shape)\n",
    "print(credit.groupby(['merge_credit_tscf'], dropna=False).size())\n"
   ]
  },
  {
   "cell_type": "code",
   "execution_count": null,
   "id": "559bb4b6",
   "metadata": {},
   "outputs": [],
   "source": [
    "# Merge to TSF and TSCF\n",
    "debit = debit.merge(Transaction_Summary_Fraud, on = ['Transaction_Serial_No'],\n",
    "                      how = 'left',\n",
    "                      indicator = 'merge_debit_tsf')\n",
    "\n",
    "print(debit.shape)\n",
    "print(debit.groupby(['merge_debit_tsf'], dropna=False).size())\n",
    "\n",
    "debit = debit.merge(Transaction_Summary_Calculations_Fraud, on = ['Transaction_Serial_No'],\n",
    "                        how = 'left',\n",
    "                        indicator = 'merge_debit_tscf')\n",
    "\n",
    "print(debit.shape)\n",
    "print(debit.groupby(['merge_debit_tscf'], dropna=False).size())\n"
   ]
  },
  {
   "cell_type": "code",
   "execution_count": null,
   "id": "b4a1cb52",
   "metadata": {},
   "outputs": [],
   "source": []
  },
  {
   "cell_type": "markdown",
   "id": "81eead1b",
   "metadata": {},
   "source": [
    "### Apply Fraud Indicator"
   ]
  },
  {
   "cell_type": "code",
   "execution_count": null,
   "id": "1709c05c",
   "metadata": {},
   "outputs": [],
   "source": [
    "credit['fraud'] = credit['confirmed'] == True\n",
    "\n",
    "credit.groupby(['fraud'], dropna=False).size()\n"
   ]
  },
  {
   "cell_type": "code",
   "execution_count": null,
   "id": "5761a713",
   "metadata": {},
   "outputs": [],
   "source": [
    "# separate card numbers which have >= 1 fraud and those with 0 fraud\n",
    "\n",
    "credit_cardno = pd.DataFrame(credit.groupby(['Card_No'])['fraud'].sum()).reset_index()\n",
    "credit_cardno_fraud = credit_cardno[credit_cardno['fraud'] > 0][['Card_No']]\n",
    "credit_cardno_clean = credit_cardno[credit_cardno['fraud'] == 0][['Card_No']]\n"
   ]
  },
  {
   "cell_type": "code",
   "execution_count": null,
   "id": "799a2e60",
   "metadata": {},
   "outputs": [],
   "source": [
    "debit['fraud'] = debit['confirmed'] == True\n",
    "\n",
    "debit.groupby(['fraud'], dropna=False).size()"
   ]
  },
  {
   "cell_type": "code",
   "execution_count": null,
   "id": "62fba7c6",
   "metadata": {},
   "outputs": [],
   "source": [
    "# separate card numbers which have >= 1 fraud and those with 0 fraud\n",
    "\n",
    "debit_cardno = pd.DataFrame(debit.groupby(['Card_No'])['fraud'].sum()).reset_index()\n",
    "debit_cardno_fraud = debit_cardno[debit_cardno['fraud'] > 0][['Card_No']]\n",
    "debit_cardno_clean = debit_cardno[debit_cardno['fraud'] == 0][['Card_No']]\n",
    "\n"
   ]
  },
  {
   "cell_type": "code",
   "execution_count": null,
   "id": "1942098d",
   "metadata": {},
   "outputs": [],
   "source": []
  },
  {
   "cell_type": "markdown",
   "id": "de28ae89",
   "metadata": {},
   "source": [
    "### Date Analysis\n"
   ]
  },
  {
   "cell_type": "code",
   "execution_count": null,
   "id": "311ede7a",
   "metadata": {},
   "outputs": [],
   "source": [
    "credit['Transaction_Datetime_Day'] = pd.to_datetime(credit['Transaction_Datetime']).dt.date"
   ]
  },
  {
   "cell_type": "code",
   "execution_count": null,
   "id": "f43b1fc8",
   "metadata": {},
   "outputs": [],
   "source": [
    "# Transaction Date Trend Analysis\n",
    "\n",
    "df = pd.DataFrame(credit.groupby(['Transaction_Datetime_Day']).size()).rename(columns = {0:'Transactions'})\n",
    "# Group By Transaction Date, get the total transactions\n",
    "\n",
    "df['Transactions %'] = 100*df['Transactions']/(df['Transactions'].sum())\n",
    "# Calculate Transactions %\n",
    "                                            \n",
    "df1 = pd.DataFrame(credit.groupby(['Transaction_Datetime_Day'])['fraud'].sum())\n",
    "# Group By Transaction Date, get the sum of frauds\n",
    "\n",
    "df1['Fraud %'] = 100*df1['fraud']/(df1['fraud'].sum())\n",
    "# Calculate the Fraud %\n",
    "                                            \n",
    "df = pd.concat([df, df1], axis = 1)\n",
    "# Concatenate the dataframes\n",
    "\n",
    "df['Fraud Rate %'] = 100*df['Fraud']/df['Transactions']\n",
    "# Add the frauds rates in the table"
   ]
  },
  {
   "cell_type": "code",
   "execution_count": null,
   "id": "16cd976a",
   "metadata": {},
   "outputs": [],
   "source": [
    "df.to_csv('path-to-credit_transaction_date_analysis.csv', index = False)"
   ]
  },
  {
   "cell_type": "code",
   "execution_count": null,
   "id": "9f2c4984",
   "metadata": {},
   "outputs": [],
   "source": []
  },
  {
   "cell_type": "code",
   "execution_count": null,
   "id": "dba8603e",
   "metadata": {},
   "outputs": [],
   "source": []
  },
  {
   "cell_type": "markdown",
   "id": "d4860e83",
   "metadata": {},
   "source": [
    "### Sample Down Clean Transactions"
   ]
  },
  {
   "cell_type": "code",
   "execution_count": null,
   "id": "a3e2528a",
   "metadata": {},
   "outputs": [],
   "source": [
    "\n",
    "# Get a random sample of card numbers where fraud is False\n",
    "sample_card_numbers = credit_cardno_clean['Card_No'].sample(frac = 0.1, random_state = 42).tolist()\n",
    "\n"
   ]
  },
  {
   "cell_type": "code",
   "execution_count": null,
   "id": "c00e4d2e",
   "metadata": {},
   "outputs": [],
   "source": [
    "\n",
    "credit = credit[(credit['Card_No'].isin(sample_card_numbers) == True)|(credit['Card_No'].isin(credit_cardno_fraud.tolist()) == True)]\n"
   ]
  },
  {
   "cell_type": "code",
   "execution_count": null,
   "id": "b1ffca93",
   "metadata": {},
   "outputs": [],
   "source": []
  },
  {
   "cell_type": "markdown",
   "id": "d2450f36",
   "metadata": {},
   "source": [
    "### Feature Engineering"
   ]
  },
  {
   "cell_type": "code",
   "execution_count": null,
   "id": "78588a9a",
   "metadata": {},
   "outputs": [],
   "source": [
    "# Calculation Functions\n",
    "# These functions are used to calculate the frequency, monetary and unique count of transactions\n",
    "\n",
    "def Frequency_1(dataset=None, datetime_col=None, Key=None, groupby=None, amount_col=None ,groupby_type='No',groupby_col=None, window=None,NA=None, out_col=None):\n",
    "    dataset=dataset.sort_values(by='{datetime_col}'.format(datetime_col=datetime_col), ascending=True)\n",
    "    if groupby_type == \"No\":\n",
    "        df_num_trnx=pd.DataFrame({'{out_col}'.format(out_col=out_col):dataset.set_index('{datetime_col}'.format(datetime_col=datetime_col)).sort_index().groupby(['{groupby}'.format(groupby=groupby)])['{amount_col}'.format(amount_col=amount_col)].rolling('{window}'.format(window=window), closed='right').count().fillna(NA)})\n",
    "        df_num_trnx.reset_index(['{groupby}'.format(groupby=groupby),'{datetime_col}'.format(datetime_col=datetime_col)], inplace=True)\n",
    "        df_num_trnx_TJ=df_num_trnx.drop_duplicates(subset=['{groupby}'.format(groupby=groupby),'{datetime_col}'.format(datetime_col=datetime_col)], keep='last')\n",
    "        dataset_TJ=dataset[['{Key}'.format(Key=Key),'{groupby}'.format(groupby=groupby),'{datetime_col}'.format(datetime_col=datetime_col)]]\n",
    "        join_data=dataset_TJ.merge(df_num_trnx_TJ, how='left', left_on=['{groupby}'.format(groupby=groupby),'{datetime_col}'.format(datetime_col=datetime_col)], right_on=['{groupby}'.format(groupby=groupby),'{datetime_col}'.format(datetime_col=datetime_col)])\n",
    "    elif groupby_type == \"Yes\":\n",
    "        df_num_trnx=pd.DataFrame({'{out_col}'.format(out_col=out_col):dataset.set_index('{datetime_col}'.format(datetime_col=datetime_col)).sort_index().groupby(['{groupby}'.format(groupby=groupby),'{groupby_col}'.format(groupby_col=groupby_col)])['{amount_col}'.format(amount_col=amount_col)].rolling('{window}'.format(window=window), closed='right').count().fillna(NA)})\n",
    "        df_num_trnx.reset_index(['{groupby}'.format(groupby=groupby),'{groupby_col}'.format(groupby_col=groupby_col),'{datetime_col}'.format(datetime_col=datetime_col)], inplace=True)\n",
    "        df_num_trnx_TJ=df_num_trnx.drop_duplicates(subset=['{groupby}'.format(groupby=groupby),'{groupby_col}'.format(groupby_col=groupby_col),'{datetime_col}'.format(datetime_col=datetime_col)], keep='last')\n",
    "        dataset_TJ=dataset[['{Key}'.format(Key=Key),'{groupby}'.format(groupby=groupby),'{groupby_col}'.format(groupby_col=groupby_col),'{datetime_col}'.format(datetime_col=datetime_col)]]\n",
    "        join_data=dataset_TJ.merge(df_num_trnx_TJ, how='left', left_on=['{groupby}'.format(groupby=groupby),'{groupby_col}'.format(groupby_col=groupby_col),'{datetime_col}'.format(datetime_col=datetime_col)], right_on=['{groupby}'.format(groupby=groupby),'{groupby_col}'.format(groupby_col=groupby_col),'{datetime_col}'.format(datetime_col=datetime_col)])\n",
    "    dataset_output=join_data[['{Key}'.format(Key=Key),'{out_col}'.format(out_col=out_col)]]\n",
    "    return dataset_output\n",
    "\n",
    "def Frequency(dataset=None, datetime_col=None, Key=None, groupby=None, amount_col=None ,groupby_type='No',groupby_col=None, window=None,NA=None, out_col=None):\n",
    "    dataset=dataset.sort_values(by='{datetime_col}'.format(datetime_col=datetime_col), ascending=True)\n",
    "    if groupby_type == \"No\":\n",
    "        df_num_trnx=pd.DataFrame({'{out_col}'.format(out_col=out_col):dataset.set_index('{datetime_col}'.format(datetime_col=datetime_col)).sort_index().groupby(['{groupby}'.format(groupby=groupby)])['{amount_col}'.format(amount_col=amount_col)].rolling('{window}'.format(window=window), closed='left').count().fillna(NA)})\n",
    "        df_num_trnx.reset_index(['{groupby}'.format(groupby=groupby),'{datetime_col}'.format(datetime_col=datetime_col)], inplace=True)\n",
    "        df_num_trnx_TJ=df_num_trnx.drop_duplicates(subset=['{groupby}'.format(groupby=groupby),'{datetime_col}'.format(datetime_col=datetime_col)], keep='last')\n",
    "        dataset_TJ=dataset[['{Key}'.format(Key=Key),'{groupby}'.format(groupby=groupby),'{datetime_col}'.format(datetime_col=datetime_col)]]\n",
    "        join_data=dataset_TJ.merge(df_num_trnx_TJ, how='left', left_on=['{groupby}'.format(groupby=groupby),'{datetime_col}'.format(datetime_col=datetime_col)], right_on=['{groupby}'.format(groupby=groupby),'{datetime_col}'.format(datetime_col=datetime_col)])\n",
    "    elif groupby_type == \"Yes\":\n",
    "        df_num_trnx=pd.DataFrame({'{out_col}'.format(out_col=out_col):dataset.set_index('{datetime_col}'.format(datetime_col=datetime_col)).sort_index().groupby(['{groupby}'.format(groupby=groupby),'{groupby_col}'.format(groupby_col=groupby_col)])['{amount_col}'.format(amount_col=amount_col)].rolling('{window}'.format(window=window), closed='left').count().fillna(NA)})\n",
    "        df_num_trnx.reset_index(['{groupby}'.format(groupby=groupby),'{groupby_col}'.format(groupby_col=groupby_col),'{datetime_col}'.format(datetime_col=datetime_col)], inplace=True)\n",
    "        df_num_trnx_TJ=df_num_trnx.drop_duplicates(subset=['{groupby}'.format(groupby=groupby),'{groupby_col}'.format(groupby_col=groupby_col),'{datetime_col}'.format(datetime_col=datetime_col)], keep='last')\n",
    "        dataset_TJ=dataset[['{Key}'.format(Key=Key),'{groupby}'.format(groupby=groupby),'{groupby_col}'.format(groupby_col=groupby_col),'{datetime_col}'.format(datetime_col=datetime_col)]]\n",
    "        join_data=dataset_TJ.merge(df_num_trnx_TJ, how='left', left_on=['{groupby}'.format(groupby=groupby),'{groupby_col}'.format(groupby_col=groupby_col),'{datetime_col}'.format(datetime_col=datetime_col)], right_on=['{groupby}'.format(groupby=groupby),'{groupby_col}'.format(groupby_col=groupby_col),'{datetime_col}'.format(datetime_col=datetime_col)])\n",
    "    dataset_output=join_data[['{Key}'.format(Key=Key),'{groupby}'.format(groupby=groupby),'{datetime_col}'.format(datetime_col=datetime_col),'{out_col}'.format(out_col=out_col)]]\n",
    "    return dataset_output\n",
    "\n",
    "def Monetary(dataset=None, datetime_col=None, Key=None, groupby=None, amount_col=None ,groupby_type='No',groupby_col=None, window=None,NA=None, out_col=None):\n",
    "    dataset=dataset.sort_values(by='{datetime_col}'.format(datetime_col=datetime_col), ascending=True)\n",
    "    if groupby_type == \"No\":\n",
    "        df_amt_trnx=pd.DataFrame({'{out_col}'.format(out_col=out_col):dataset.set_index('{datetime_col}'.format(datetime_col=datetime_col)).sort_index().groupby(['{groupby}'.format(groupby=groupby)])['{amount_col}'.format(amount_col=amount_col)].rolling('{window}'.format(window=window), closed='left').mean().fillna(NA)})\n",
    "        df_amt_trnx.reset_index(['{groupby}'.format(groupby=groupby),'{datetime_col}'.format(datetime_col=datetime_col)], inplace=True)\n",
    "        df_amt_trnx_TJ=df_amt_trnx.drop_duplicates(subset=['{groupby}'.format(groupby=groupby),'{datetime_col}'.format(datetime_col=datetime_col)], keep='last')\n",
    "        dataset_TJ=dataset[['{Key}'.format(Key=Key),'{groupby}'.format(groupby=groupby),'{datetime_col}'.format(datetime_col=datetime_col)]]\n",
    "        join_data=dataset_TJ.merge(df_amt_trnx_TJ, how='left', left_on=['{groupby}'.format(groupby=groupby),'{datetime_col}'.format(datetime_col=datetime_col)], right_on=['{groupby}'.format(groupby=groupby),'{datetime_col}'.format(datetime_col=datetime_col)])\n",
    "    elif groupby_type == \"Yes\":\n",
    "        df_amt_trnx=pd.DataFrame({'{out_col}'.format(out_col=out_col):dataset.set_index('{datetime_col}'.format(datetime_col=datetime_col)).sort_index().groupby(['{groupby}'.format(groupby=groupby),'{groupby_col}'.format(groupby_col=groupby_col)])['{amount_col}'.format(amount_col=amount_col)].rolling('{window}'.format(window=window), closed='left').mean().fillna(NA)})\n",
    "        df_amt_trnx.reset_index(['{groupby}'.format(groupby=groupby),'{groupby_col}'.format(groupby_col=groupby_col),'{datetime_col}'.format(datetime_col=datetime_col)], inplace=True)\n",
    "        df_amt_trnx_TJ=df_amt_trnx.drop_duplicates(subset=['{groupby}'.format(groupby=groupby),'{groupby_col}'.format(groupby_col=groupby_col),'{datetime_col}'.format(datetime_col=datetime_col)], keep='last')\n",
    "        dataset_TJ=dataset[['{Key}'.format(Key=Key),'{groupby}'.format(groupby=groupby),'{groupby_col}'.format(groupby_col=groupby_col),'{datetime_col}'.format(datetime_col=datetime_col)]]\n",
    "        join_data=dataset_TJ.merge(df_amt_trnx_TJ, how='left', left_on=['{groupby}'.format(groupby=groupby),'{groupby_col}'.format(groupby_col=groupby_col),'{datetime_col}'.format(datetime_col=datetime_col)], right_on=['{groupby}'.format(groupby=groupby),'{groupby_col}'.format(groupby_col=groupby_col),'{datetime_col}'.format(datetime_col=datetime_col)])\n",
    "    dataset_output=join_data[['{Key}'.format(Key=Key),'{groupby}'.format(groupby=groupby),'{datetime_col}'.format(datetime_col=datetime_col),'{out_col}'.format(out_col=out_col)]]\n",
    "    return dataset_output\n",
    "\n",
    "def Unique_Count(dataset=None, datetime_col=None, count_col=None, groupby=None, window=None, NA=None, out_col=None):\n",
    "\n",
    "    dataset = dataset.sort_values(by=datetime_col, ascending=True)\n",
    "\n",
    "    df_num = (pd.DataFrame({out_col: dataset.set_index(datetime_col)\n",
    "    .sort_index()\n",
    "    .groupby(groupby)[count_col]\n",
    "    .rolling(window=window, closed='left', min_periods=1)\n",
    "    .apply(lambda x: np.unique(x[~np.isnan(x)]).size, raw=True)\n",
    "    .fillna(NA)}))\n",
    "\n",
    "    df_num.reset_index([groupby, datetime_col], inplace=True)\n",
    "\n",
    "    df_num_TJ = df_num.drop_duplicates(subset=[groupby, datetime_col], keep='last')\n",
    "\n",
    "    df_output = dataset.merge(df_num_TJ, on=[groupby, datetime_col], how='left')\n",
    "\n",
    "    return df_output"
   ]
  },
  {
   "cell_type": "code",
   "execution_count": null,
   "id": "ae1b9ae7",
   "metadata": {},
   "outputs": [],
   "source": []
  },
  {
   "cell_type": "markdown",
   "id": "42255f6e",
   "metadata": {},
   "source": [
    "#### Time Since Last Transaction"
   ]
  },
  {
   "cell_type": "code",
   "execution_count": null,
   "id": "4764dd14",
   "metadata": {},
   "outputs": [],
   "source": [
    "\n",
    "df=credit.sort_values(by=['Transaction_Datetime'], ascending=True)\n",
    "\n",
    "df['time_row_before']=df.groupby(by = ['Card_No'])['Transaction_Datetime'].shift(1)\n",
    "df['time_row_before_transaction_type']=df.groupby(by = ['Card_No','transaction_type'])['Transaction_Datetime'].shift(1)\n",
    "df['time_row_before_from_account_to_account']=df.groupby(by = ['AccountIdentification1','AccountIdentification2'])['Transaction_Datetime'].shift(1)\n",
    "df['time_row_before_to_account']=df.groupby(by = ['AccountIdentification2'])['Transaction_Datetime'].shift(1)\n",
    "df['time_row_before_merchant']=df.groupby(by = ['Card_No','Merchant_Id'])['Transaction_Datetime'].shift(1)\n",
    "df['time_row_before_mcc']=df.groupby(by = ['Card_No','MCC'])['Transaction_Datetime'].shift(1)\n",
    "df['time_row_before_country_code']=df.groupby(by = ['Card_No','CountryCode'])['Transaction_Datetime'].shift(1)\n",
    "\n",
    "\n",
    "df['TSLastTxn_mins'] = np.where(df['time_row_before'].isnull(),-1, (df['Transaction_Datetime']-df['time_row_before']).dt.total_seconds()/60)\n",
    "df['TSLastTxn_TransactionType_mins'] = np.where(df['time_row_before_transaction_type'].isnull(),-1, (df['Transaction_Datetime']-df['time_row_before_transaction_type']).dt.total_seconds()/60)\n",
    "df['TSLastTxn_fromacct_to_acct_mins'] = np.where(df['time_row_before_from_account_to_account'].isnull(),-1, (df['Transaction_Datetime']-df['time_row_before_from_account_to_account']).dt.total_seconds()/60)\n",
    "df['TSLastTxn_toacct_mins'] = np.where(df['time_row_before_to_account'].isnull(),-1, (df['Transaction_Datetime']-df['time_row_before_to_account']).dt.total_seconds()/60)\n",
    "df['TSLastTxn_tobankcode_mins'] = np.where(df['time_row_before_to_bank_code'].isnull(),-1, (df['Transaction_Datetime']-df['time_row_before_to_bank_code']).dt.total_seconds()/60)\n",
    "df['TSLastTxn_countrycode_mins'] = np.where(df['time_row_before_any_id_type'].isnull(),-1, (df['Transaction_Datetime']-df['time_row_before_any_id_type']).dt.total_seconds()/60)\n",
    "\n"
   ]
  },
  {
   "cell_type": "code",
   "execution_count": null,
   "id": "4258ddc8",
   "metadata": {},
   "outputs": [],
   "source": [
    "print(df['TSLastMFTxn_mins'].describe())\n",
    "print(df['TSLastMFTxn_TransactionType_mins'].describe())\n",
    "print(df['TSLastMFTxn_fromacct_to_acct_mins'].describe())\n",
    "print(df['TSLastMFTxn_toacct_mins'].describe())\n",
    "print(df['TSLastMFTxn_tobankcode_mins'].describe())\n",
    "print(df['TSLastMFTxn_anyidtype_mins'].describe())\n"
   ]
  },
  {
   "cell_type": "markdown",
   "id": "97b4f209",
   "metadata": {},
   "source": [
    "#### Transaction Count Same From Account No"
   ]
  },
  {
   "cell_type": "code",
   "execution_count": null,
   "id": "12d2bf07",
   "metadata": {},
   "outputs": [],
   "source": [
    "\n",
    "\n",
    "# Create tables for each of the date intervals\n",
    "Txn_Count_L15M=Frequency(dataset=df, datetime_col='transaction_datetime', Key='transaction_id', groupby='account_number', amount_col='transaction_id' ,groupby_type='No',groupby_col=None, window='900S',NA=0, out_col='MFTxnCount_L15M')\n",
    "Txn_Count_L1H=Frequency(dataset=df, datetime_col='transaction_datetime', Key='transaction_id', groupby='account_number', amount_col='transaction_id' ,groupby_type='No',groupby_col=None, window='1H',NA=0, out_col='MFTxnCount_L1H')\n",
    "Txn_Count_L1D=Frequency(dataset=df, datetime_col='transaction_datetime', Key='transaction_id', groupby='account_number', amount_col='transaction_id' ,groupby_type='No',groupby_col=None, window='1D',NA=0, out_col='MFTxnCount_L1D')\n",
    "Txn_Count_L7D=Frequency(dataset=df, datetime_col='transaction_datetime', Key='transaction_id', groupby='account_number', amount_col='transaction_id' ,groupby_type='No',groupby_col=None, window='7D',NA=0, out_col='MFTxnCount_L7D')\n",
    "Txn_Count_L14D=Frequency(dataset=df, datetime_col='transaction_datetime', Key='transaction_id', groupby='account_number', amount_col='transaction_id' ,groupby_type='No',groupby_col=None, window='14D',NA=0, out_col='MFTxnCount_L14D')\n",
    "Txn_Count_L30D=Frequency(dataset=df, datetime_col='transaction_datetime', Key='transaction_id', groupby='account_number', amount_col='transaction_id' ,groupby_type='No',groupby_col=None, window='30D',NA=0, out_col='MFTxnCount_L30D')\n",
    "Txn_Count_L90D=Frequency(dataset=df, datetime_col='transaction_datetime', Key='transaction_id', groupby='account_number', amount_col='transaction_id' ,groupby_type='No',groupby_col=None, window='90D',NA=0, out_col='MFTxnCount_L90D')\n",
    "\n"
   ]
  },
  {
   "cell_type": "code",
   "execution_count": null,
   "id": "c5d37cce",
   "metadata": {},
   "outputs": [],
   "source": [
    "Txn_Count_L1H['MFTxnCount_L1H'].describe()"
   ]
  },
  {
   "cell_type": "code",
   "execution_count": null,
   "id": "97335955",
   "metadata": {},
   "outputs": [],
   "source": [
    "\n",
    "\n",
    "# Merge the date intervals tables together with the main table\n",
    "df = df.merge(Txn_Count_L15M, how='left', on=['transaction_id','account_number','transaction_datetime'])\n",
    "df = df.merge(Txn_Count_L1H, how='left', on=['transaction_id','account_number','transaction_datetime'])\n",
    "df = df.merge(Txn_Count_L1D, how='left', on=['transaction_id','account_number','transaction_datetime'])\n",
    "df = df.merge(Txn_Count_L7D, how='left', on=['transaction_id','account_number','transaction_datetime'])\n",
    "df = df.merge(Txn_Count_L14D, how='left', on=['transaction_id','account_number','transaction_datetime'])\n",
    "df = df.merge(Txn_Count_L30D, how='left', on=['transaction_id','account_number','transaction_datetime'])\n",
    "df = df.merge(Txn_Count_L90D, how='left', on=['transaction_id','account_number','transaction_datetime'])\n",
    "\n",
    "df.head()"
   ]
  },
  {
   "cell_type": "code",
   "execution_count": null,
   "id": "b704f6c4",
   "metadata": {},
   "outputs": [],
   "source": [
    "\n",
    "# Define the time windows and corresponding output column names\n",
    "time_windows = {\n",
    "    '900S': 'MFTxnCount_L15M',\n",
    "    '1H': 'MFTxnCount_L1H',\n",
    "    '1D': 'MFTxnCount_L1D',\n",
    "    '7D': 'MFTxnCount_L7D',\n",
    "    '14D': 'MFTxnCount_L14D',\n",
    "    '30D': 'MFTxnCount_L30D',\n",
    "    '90D': 'MFTxnCount_L90D'\n",
    "}\n",
    "\n",
    "# Calculate frequency for each window and store in a list\n",
    "frequency_dfs = []\n",
    "for window, out_col in time_windows.items():\n",
    "    freq_df = calculate_frequency(\n",
    "        dataset=df,\n",
    "        datetime_col='transaction_datetime',\n",
    "        key='transaction_id',\n",
    "        groupby='account_number',\n",
    "        amount_col='transaction_id',\n",
    "        groupby_type='No',\n",
    "        groupby_col=None,\n",
    "        window=window,\n",
    "        na_value=0,\n",
    "        out_col=out_col\n",
    "    )\n",
    "    frequency_dfs.append(freq_df)\n",
    "\n",
    "# Merge all frequency DataFrames into the original df\n",
    "from functools import reduce\n",
    "\n",
    "df = reduce(\n",
    "    lambda left, right: pd.merge(\n",
    "        left, right, on=['transaction_id', 'account_number', 'transaction_datetime'], how='left'\n",
    "    ),\n",
    "    [df] + frequency_dfs\n",
    ")\n"
   ]
  },
  {
   "cell_type": "markdown",
   "id": "1b4b91d2",
   "metadata": {},
   "source": [
    "#### Unique To Account No (Same From Account No)"
   ]
  },
  {
   "cell_type": "code",
   "execution_count": null,
   "id": "94b962ca",
   "metadata": {},
   "outputs": [],
   "source": [
    "df['to_account_no_num'],uniques = df['to_account_no'].factorize()"
   ]
  },
  {
   "cell_type": "code",
   "execution_count": null,
   "id": "91417143",
   "metadata": {},
   "outputs": [],
   "source": [
    "%%time\n",
    "\n",
    "df = Unique_Count(dataset=df, datetime_col='transaction_datetime', count_col='to_account_no_num', groupby='from_account_no', window='900S', NA=0, out_col='Unique_To_Account_No_L15M')\n",
    "df = Unique_Count(dataset=df, datetime_col='transaction_datetime', count_col='to_account_no_num', groupby='from_account_no', window='1H', NA=0, out_col='Unique_To_Account_No_L1H')\n",
    "df = Unique_Count(dataset=df, datetime_col='transaction_datetime', count_col='to_account_no_num', groupby='from_account_no', window='1D', NA=0, out_col='Unique_To_Account_No_L1D')\n",
    "df = Unique_Count(dataset=df, datetime_col='transaction_datetime', count_col='to_account_no_num', groupby='from_account_no', window='7D', NA=0, out_col='Unique_To_Account_No_L7D')\n",
    "df = Unique_Count(dataset=df, datetime_col='transaction_datetime', count_col='to_account_no_num', groupby='from_account_no', window='14D', NA=0, out_col='Unique_To_Account_No_L14D')\n",
    "df = Unique_Count(dataset=df, datetime_col='transaction_datetime', count_col='to_account_no_num', groupby='from_account_no', window='30D', NA=0, out_col='Unique_To_Account_No_L30D')\n",
    "df = Unique_Count(dataset=df, datetime_col='transaction_datetime', count_col='to_account_no_num', groupby='from_account_no', window='90D', NA=0, out_col='Unique_To_Account_No_L90D')\n",
    "\n",
    "\n"
   ]
  },
  {
   "cell_type": "markdown",
   "id": "4a0fdbb5",
   "metadata": {},
   "source": [
    "#### Unique From Account No (Same To Account No)"
   ]
  },
  {
   "cell_type": "code",
   "execution_count": null,
   "id": "312a3aa8",
   "metadata": {},
   "outputs": [],
   "source": [
    "df['from_account_no_num'],uniques = df['from_account_no'].factorize()"
   ]
  },
  {
   "cell_type": "code",
   "execution_count": null,
   "id": "ddd42b45",
   "metadata": {},
   "outputs": [],
   "source": [
    "%%time\n",
    "\n",
    "df = Unique_Count(dataset=df, datetime_col='transaction_datetime', count_col='from_account_no_num', groupby='to_account_no', window='900S', NA=0, out_col='Unique_From_Account_No_L15M')\n",
    "df = Unique_Count(dataset=df, datetime_col='transaction_datetime', count_col='from_account_no_num', groupby='to_account_no', window='1H', NA=0, out_col='Unique_From_Account_No_L1H')\n",
    "df = Unique_Count(dataset=df, datetime_col='transaction_datetime', count_col='from_account_no_num', groupby='to_account_no', window='1D', NA=0, out_col='Unique_From_Account_No_L1D')\n",
    "df = Unique_Count(dataset=df, datetime_col='transaction_datetime', count_col='from_account_no_num', groupby='to_account_no', window='7D', NA=0, out_col='Unique_From_Account_No_L7D')\n",
    "df = Unique_Count(dataset=df, datetime_col='transaction_datetime', count_col='from_account_no_num', groupby='to_account_no', window='14D', NA=0, out_col='Unique_From_Account_No_L14D')\n",
    "df = Unique_Count(dataset=df, datetime_col='transaction_datetime', count_col='from_account_no_num', groupby='to_account_no', window='30D', NA=0, out_col='Unique_From_Account_No_L30D')\n",
    "df = Unique_Count(dataset=df, datetime_col='transaction_datetime', count_col='from_account_no_num', groupby='to_account_no', window='90D', NA=0, out_col='Unique_From_Account_No_L90D')\n",
    "\n"
   ]
  },
  {
   "cell_type": "markdown",
   "id": "d60c1092",
   "metadata": {},
   "source": [
    "#### Unique Transaction Amount Same To Account"
   ]
  },
  {
   "cell_type": "code",
   "execution_count": null,
   "id": "2b5ec3db",
   "metadata": {},
   "outputs": [],
   "source": [
    "%%time\n",
    "\n",
    "df = Unique_Count(dataset=df, datetime_col='transaction_datetime', count_col='amount', groupby='to_account_no', window='900S', NA=0, out_col='Unique_AmountTo_L15M')\n",
    "df = Unique_Count(dataset=df, datetime_col='transaction_datetime', count_col='amount', groupby='to_account_no', window='1H', NA=0, out_col='Unique_AmountTo_L1H')\n",
    "df = Unique_Count(dataset=df, datetime_col='transaction_datetime', count_col='amount', groupby='to_account_no', window='1D', NA=0, out_col='Unique_AmountTo_L1D')\n",
    "df = Unique_Count(dataset=df, datetime_col='transaction_datetime', count_col='amount', groupby='to_account_no', window='7D', NA=0, out_col='Unique_AmountTo_L7D')\n",
    "df = Unique_Count(dataset=df, datetime_col='transaction_datetime', count_col='amount', groupby='to_account_no', window='14D', NA=0, out_col='Unique_AmountTo_L14D')\n",
    "df = Unique_Count(dataset=df, datetime_col='transaction_datetime', count_col='amount', groupby='to_account_no', window='30D', NA=0, out_col='Unique_AmountTo_L30D')\n",
    "df = Unique_Count(dataset=df, datetime_col='transaction_datetime', count_col='amount', groupby='to_account_no', window='90D', NA=0, out_col='Unique_AmountTo_L90D')\n"
   ]
  },
  {
   "cell_type": "markdown",
   "id": "f753a866",
   "metadata": {},
   "source": [
    "#### Unique Transaction Amount Same From Account"
   ]
  },
  {
   "cell_type": "code",
   "execution_count": null,
   "id": "400b6c02",
   "metadata": {},
   "outputs": [],
   "source": [
    "%%time\n",
    "\n",
    "df = Unique_Count(dataset=df, datetime_col='transaction_datetime', count_col='amount', groupby='from_account_no', window='900S', NA=0, out_col='Unique_AmountFrom_L15M')\n",
    "df = Unique_Count(dataset=df, datetime_col='transaction_datetime', count_col='amount', groupby='from_account_no', window='1H', NA=0, out_col='Unique_AmountFrom_L1H')\n",
    "df = Unique_Count(dataset=df, datetime_col='transaction_datetime', count_col='amount', groupby='from_account_no', window='1D', NA=0, out_col='Unique_AmountFrom_L1D')\n",
    "df = Unique_Count(dataset=df, datetime_col='transaction_datetime', count_col='amount', groupby='from_account_no', window='7D', NA=0, out_col='Unique_AmountFrom_L7D')\n",
    "df = Unique_Count(dataset=df, datetime_col='transaction_datetime', count_col='amount', groupby='from_account_no', window='14D', NA=0, out_col='Unique_AmountFrom_L14D')\n",
    "df = Unique_Count(dataset=df, datetime_col='transaction_datetime', count_col='amount', groupby='from_account_no', window='30D', NA=0, out_col='Unique_AmountFrom_L30D')\n",
    "df = Unique_Count(dataset=df, datetime_col='transaction_datetime', count_col='amount', groupby='from_account_no', window='90D', NA=0, out_col='Unique_AmountFrom_L90D')\n"
   ]
  },
  {
   "cell_type": "markdown",
   "id": "df48d319",
   "metadata": {},
   "source": [
    "#### Transaction Count Same Transaction Type"
   ]
  },
  {
   "cell_type": "code",
   "execution_count": null,
   "id": "a572023b",
   "metadata": {},
   "outputs": [],
   "source": [
    "%%time\n",
    "\n",
    "# Create tables for each of the date intervals\n",
    "Txn_Count_SameType_L15M=Frequency(dataset=df, datetime_col='transaction_datetime', Key='transaction_id', groupby='from_account_no', amount_col='transaction_id' ,groupby_type='Yes',groupby_col='transaction_type', window='900S',NA=0, out_col='MFTxnCountSameType_L15M')\n",
    "Txn_Count_SameType_L1H=Frequency(dataset=df, datetime_col='transaction_datetime', Key='transaction_id', groupby='from_account_no', amount_col='transaction_id' ,groupby_type='Yes',groupby_col='transaction_type', window='1H',NA=0, out_col='MFTxnCountSameType_L1H')\n",
    "Txn_Count_SameType_L1D=Frequency(dataset=df, datetime_col='transaction_datetime', Key='transaction_id', groupby='from_account_no', amount_col='transaction_id' ,groupby_type='Yes',groupby_col='transaction_type', window='1D',NA=0, out_col='MFTxnCountSameType_L1D')\n",
    "Txn_Count_SameType_L7D=Frequency(dataset=df, datetime_col='transaction_datetime', Key='transaction_id', groupby='from_account_no', amount_col='transaction_id' ,groupby_type='Yes',groupby_col='transaction_type', window='7D',NA=0, out_col='MFTxnCountSameType_L7D')\n",
    "Txn_Count_SameType_L14D=Frequency(dataset=df, datetime_col='transaction_datetime', Key='transaction_id', groupby='from_account_no', amount_col='transaction_id' ,groupby_type='Yes',groupby_col='transaction_type', window='14D',NA=0, out_col='MFTxnCountSameType_L14D')\n",
    "Txn_Count_SameType_L30D=Frequency(dataset=df, datetime_col='transaction_datetime', Key='transaction_id', groupby='from_account_no', amount_col='transaction_id' ,groupby_type='Yes',groupby_col='transaction_type', window='30D',NA=0, out_col='MFTxnCountSameType_L30D')\n",
    "Txn_Count_SameType_L90D=Frequency(dataset=df, datetime_col='transaction_datetime', Key='transaction_id', groupby='from_account_no', amount_col='transaction_id' ,groupby_type='Yes',groupby_col='transaction_type', window='90D',NA=0, out_col='MFTxnCountSameType_L90D')\n",
    "\n"
   ]
  },
  {
   "cell_type": "code",
   "execution_count": null,
   "id": "2a2721dd",
   "metadata": {},
   "outputs": [],
   "source": [
    "df.groupby(['transaction_type','Fraud']).size()"
   ]
  },
  {
   "cell_type": "code",
   "execution_count": null,
   "id": "b6f814f3",
   "metadata": {},
   "outputs": [],
   "source": [
    "%%time\n",
    "\n",
    "# Merge the date intervals tables together with the main table\n",
    "df = df.merge(Txn_Count_SameType_L15M, how='left', on=['transaction_id','from_account_no','transaction_datetime'])\n",
    "df = df.merge(Txn_Count_SameType_L1H, how='left', on=['transaction_id','from_account_no','transaction_datetime'])\n",
    "df = df.merge(Txn_Count_SameType_L1D, how='left', on=['transaction_id','from_account_no','transaction_datetime'])\n",
    "df = df.merge(Txn_Count_SameType_L7D, how='left', on=['transaction_id','from_account_no','transaction_datetime'])\n",
    "df = df.merge(Txn_Count_SameType_L14D, how='left', on=['transaction_id','from_account_no','transaction_datetime'])\n",
    "df = df.merge(Txn_Count_SameType_L30D, how='left', on=['transaction_id','from_account_no','transaction_datetime'])\n",
    "df = df.merge(Txn_Count_SameType_L90D, how='left', on=['transaction_id','from_account_no','transaction_datetime'])\n",
    "\n",
    "df.head()"
   ]
  },
  {
   "cell_type": "markdown",
   "id": "df8c99a9",
   "metadata": {},
   "source": [
    "#### Transaction Count Same To Account No"
   ]
  },
  {
   "cell_type": "code",
   "execution_count": null,
   "id": "c91585a3",
   "metadata": {},
   "outputs": [],
   "source": [
    "%%time\n",
    "\n",
    "# Create tables for each of the date intervals\n",
    "Txn_Count_SameToAcc_L15M=Frequency(dataset=df, datetime_col='transaction_datetime', Key='transaction_id', groupby='from_account_no', amount_col='transaction_id' ,groupby_type='Yes',groupby_col='to_account_no', window='900S',NA=0, out_col='MFTxnCountSameToAcc_L15M')\n",
    "Txn_Count_SameToAcc_L1H=Frequency(dataset=df, datetime_col='transaction_datetime', Key='transaction_id', groupby='from_account_no', amount_col='transaction_id' ,groupby_type='Yes',groupby_col='to_account_no', window='1H',NA=0, out_col='MFTxnCountSameToAcc_L1H')\n",
    "Txn_Count_SameToAcc_L1D=Frequency(dataset=df, datetime_col='transaction_datetime', Key='transaction_id', groupby='from_account_no', amount_col='transaction_id' ,groupby_type='Yes',groupby_col='to_account_no', window='1D',NA=0, out_col='MFTxnCountSameToAcc_L1D')\n",
    "Txn_Count_SameToAcc_L7D=Frequency(dataset=df, datetime_col='transaction_datetime', Key='transaction_id', groupby='from_account_no', amount_col='transaction_id' ,groupby_type='Yes',groupby_col='to_account_no', window='7D',NA=0, out_col='MFTxnCountSameToAcc_L7D')\n",
    "Txn_Count_SameToAcc_L14D=Frequency(dataset=df, datetime_col='transaction_datetime', Key='transaction_id', groupby='from_account_no', amount_col='transaction_id' ,groupby_type='Yes',groupby_col='to_account_no', window='14D',NA=0, out_col='MFTxnCountSameToAcc_L14D')\n",
    "Txn_Count_SameToAcc_L30D=Frequency(dataset=df, datetime_col='transaction_datetime', Key='transaction_id', groupby='from_account_no', amount_col='transaction_id' ,groupby_type='Yes',groupby_col='to_account_no', window='30D',NA=0, out_col='MFTxnCountSameToAcc_L30D')\n",
    "Txn_Count_SameToAcc_L90D=Frequency(dataset=df, datetime_col='transaction_datetime', Key='transaction_id', groupby='from_account_no', amount_col='transaction_id' ,groupby_type='Yes',groupby_col='to_account_no', window='90D',NA=0, out_col='MFTxnCountSameToAcc_L90D')\n",
    "\n",
    "\n"
   ]
  },
  {
   "cell_type": "code",
   "execution_count": null,
   "id": "b18f48b6",
   "metadata": {},
   "outputs": [],
   "source": [
    "%%time\n",
    "\n",
    "# Merge the date intervals tables together with the main table\n",
    "df = df.merge(Txn_Count_SameToAcc_L15M, how='left', on=['transaction_id','from_account_no','transaction_datetime'])\n",
    "df = df.merge(Txn_Count_SameToAcc_L1H, how='left', on=['transaction_id','from_account_no','transaction_datetime'])\n",
    "df = df.merge(Txn_Count_SameToAcc_L1D, how='left', on=['transaction_id','from_account_no','transaction_datetime'])\n",
    "df = df.merge(Txn_Count_SameToAcc_L7D, how='left', on=['transaction_id','from_account_no','transaction_datetime'])\n",
    "df = df.merge(Txn_Count_SameToAcc_L14D, how='left', on=['transaction_id','from_account_no','transaction_datetime'])\n",
    "df = df.merge(Txn_Count_SameToAcc_L30D, how='left', on=['transaction_id','from_account_no','transaction_datetime'])\n",
    "df = df.merge(Txn_Count_SameToAcc_L90D, how='left', on=['transaction_id','from_account_no','transaction_datetime'])\n",
    "\n",
    "df.head()"
   ]
  },
  {
   "cell_type": "markdown",
   "id": "bbce1432",
   "metadata": {},
   "source": [
    "#### Average Transaction Amount"
   ]
  },
  {
   "cell_type": "code",
   "execution_count": null,
   "id": "a26fbec3",
   "metadata": {},
   "outputs": [],
   "source": [
    "%%time\n",
    "\n",
    "# Apply the function\n",
    "Avg_Amt_L15M=Monetary(dataset=df, datetime_col='transaction_datetime', Key='transaction_id', groupby='from_account_no', amount_col='amount' ,groupby_type='No',groupby_col=None, window='900S',NA=0, out_col='Avg_Amt_L15M')\n",
    "Avg_Amt_L1H=Monetary(dataset=df, datetime_col='transaction_datetime', Key='transaction_id', groupby='from_account_no', amount_col='amount' ,groupby_type='No',groupby_col=None, window='1H',NA=0, out_col='Avg_Amt_L1H')\n",
    "Avg_Amt_L1D=Monetary(dataset=df, datetime_col='transaction_datetime', Key='transaction_id', groupby='from_account_no', amount_col='amount' ,groupby_type='No',groupby_col=None, window='1D',NA=0, out_col='Avg_Amt_L1D')\n",
    "Avg_Amt_L7D=Monetary(dataset=df, datetime_col='transaction_datetime', Key='transaction_id', groupby='from_account_no', amount_col='amount' ,groupby_type='No',groupby_col=None, window='7D',NA=0, out_col='Avg_Amt_L7D')\n",
    "Avg_Amt_L14D=Monetary(dataset=df, datetime_col='transaction_datetime', Key='transaction_id', groupby='from_account_no', amount_col='amount' ,groupby_type='No',groupby_col=None, window='14D',NA=0, out_col='Avg_Amt_L14D')\n",
    "Avg_Amt_L30D=Monetary(dataset=df, datetime_col='transaction_datetime', Key='transaction_id', groupby='from_account_no', amount_col='amount' ,groupby_type='No',groupby_col=None, window='30D',NA=0, out_col='Avg_Amt_L30D')\n",
    "Avg_Amt_L90D=Monetary(dataset=df, datetime_col='transaction_datetime', Key='transaction_id', groupby='from_account_no', amount_col='amount' ,groupby_type='No',groupby_col=None, window='90D',NA=0, out_col='Avg_Amt_L90D')\n"
   ]
  },
  {
   "cell_type": "code",
   "execution_count": null,
   "id": "5b87f16c",
   "metadata": {},
   "outputs": [],
   "source": [
    "Avg_Amt_L15M.head()"
   ]
  },
  {
   "cell_type": "markdown",
   "id": "e9e71f7a",
   "metadata": {},
   "source": [
    "#### Average Transaction Amount Same To Account"
   ]
  },
  {
   "cell_type": "code",
   "execution_count": null,
   "id": "447db420",
   "metadata": {},
   "outputs": [],
   "source": [
    "%%time\n",
    "\n",
    "# Apply the function\n",
    "Avg_Amt_SameToAcc_L15M=Monetary(dataset=df, datetime_col='transaction_datetime', Key='transaction_id', groupby='from_account_no', amount_col='amount' ,groupby_type='Yes',groupby_col='to_account_no', window='900S',NA=0, out_col='Avg_Amt_SameToAcc_L15M')\n",
    "Avg_Amt_SameToAcc_L1H=Monetary(dataset=df, datetime_col='transaction_datetime', Key='transaction_id', groupby='from_account_no', amount_col='amount' ,groupby_type='Yes',groupby_col='to_account_no', window='1H',NA=0, out_col='Avg_Amt_SameToAcc_L1H')\n",
    "Avg_Amt_SameToAcc_L1D=Monetary(dataset=df, datetime_col='transaction_datetime', Key='transaction_id', groupby='from_account_no', amount_col='amount' ,groupby_type='Yes',groupby_col='to_account_no', window='1D',NA=0, out_col='Avg_Amt_SameToAcc_L1D')\n",
    "Avg_Amt_SameToAcc_L7D=Monetary(dataset=df, datetime_col='transaction_datetime', Key='transaction_id', groupby='from_account_no', amount_col='amount' ,groupby_type='Yes',groupby_col='to_account_no', window='7D',NA=0, out_col='Avg_Amt_SameToAcc_L7D')\n",
    "Avg_Amt_SameToAcc_L14D=Monetary(dataset=df, datetime_col='transaction_datetime', Key='transaction_id', groupby='from_account_no', amount_col='amount' ,groupby_type='Yes',groupby_col='to_account_no', window='14D',NA=0, out_col='Avg_Amt_SameToAcc_L14D')\n",
    "Avg_Amt_SameToAcc_L30D=Monetary(dataset=df, datetime_col='transaction_datetime', Key='transaction_id', groupby='from_account_no', amount_col='amount' ,groupby_type='Yes',groupby_col='to_account_no', window='30D',NA=0, out_col='Avg_Amt_SameToAcc_L30D')\n",
    "Avg_Amt_SameToAcc_L90D=Monetary(dataset=df, datetime_col='transaction_datetime', Key='transaction_id', groupby='from_account_no', amount_col='amount' ,groupby_type='Yes',groupby_col='to_account_no', window='90D',NA=0, out_col='Avg_Amt_SameToAcc_L90D')\n"
   ]
  },
  {
   "cell_type": "code",
   "execution_count": null,
   "id": "e231cf2c",
   "metadata": {},
   "outputs": [],
   "source": [
    "Avg_Amt_SameToAcc_L1D.head()"
   ]
  },
  {
   "cell_type": "markdown",
   "id": "cb5f3031",
   "metadata": {},
   "source": [
    "#### Average Transaction Amount Same Transaction Type"
   ]
  },
  {
   "cell_type": "code",
   "execution_count": null,
   "id": "08ad9206",
   "metadata": {},
   "outputs": [],
   "source": [
    "%%time\n",
    "\n",
    "# Apply the function\n",
    "\n",
    "Avg_Amt_SameType_L15M=Monetary(dataset=df, datetime_col='transaction_datetime', Key='transaction_id', groupby='from_account_no', amount_col='amount' ,groupby_type='Yes',groupby_col='transaction_type', window='900S',NA=0, out_col='Avg_Amt_SameType_L15M')\n",
    "Avg_Amt_SameType_L1H=Monetary(dataset=df, datetime_col='transaction_datetime', Key='transaction_id', groupby='from_account_no', amount_col='amount' ,groupby_type='Yes',groupby_col='transaction_type', window='1H',NA=0, out_col='Avg_Amt_SameType_L1H')\n",
    "Avg_Amt_SameType_L1D=Monetary(dataset=df, datetime_col='transaction_datetime', Key='transaction_id', groupby='from_account_no', amount_col='amount' ,groupby_type='Yes',groupby_col='transaction_type', window='1D',NA=0, out_col='Avg_Amt_SameType_L1D')\n",
    "Avg_Amt_SameType_L7D=Monetary(dataset=df, datetime_col='transaction_datetime', Key='transaction_id', groupby='from_account_no', amount_col='amount' ,groupby_type='Yes',groupby_col='transaction_type', window='7D',NA=0, out_col='Avg_Amt_SameType_L7D')\n",
    "Avg_Amt_SameType_L14D=Monetary(dataset=df, datetime_col='transaction_datetime', Key='transaction_id', groupby='from_account_no', amount_col='amount' ,groupby_type='Yes',groupby_col='transaction_type', window='14D',NA=0, out_col='Avg_Amt_SameType_L14D')\n",
    "Avg_Amt_SameType_L30D=Monetary(dataset=df, datetime_col='transaction_datetime', Key='transaction_id', groupby='from_account_no', amount_col='amount' ,groupby_type='Yes',groupby_col='transaction_type', window='30D',NA=0, out_col='Avg_Amt_SameType_L30D')\n",
    "Avg_Amt_SameType_L90D=Monetary(dataset=df, datetime_col='transaction_datetime', Key='transaction_id', groupby='from_account_no', amount_col='amount' ,groupby_type='Yes',groupby_col='transaction_type', window='90D',NA=0, out_col='Avg_Amt_SameType_L90D')\n"
   ]
  },
  {
   "cell_type": "markdown",
   "id": "72a3d187",
   "metadata": {},
   "source": [
    "#### Average Available Balance"
   ]
  },
  {
   "cell_type": "code",
   "execution_count": null,
   "id": "834a3794",
   "metadata": {},
   "outputs": [],
   "source": [
    "%%time\n",
    "\n",
    "# Apply the function\n",
    "Avg_Bal_L15M=Monetary(dataset=df, datetime_col='transaction_datetime', Key='transaction_id', groupby='from_account_no', amount_col='available_balance' ,groupby_type='No',groupby_col=None, window='900S',NA=0, out_col='Avg_Bal_L15M')\n",
    "Avg_Bal_L1H=Monetary(dataset=df, datetime_col='transaction_datetime', Key='transaction_id', groupby='from_account_no', amount_col='available_balance' ,groupby_type='No',groupby_col=None, window='1H',NA=0, out_col='Avg_Bal_L1H')\n",
    "Avg_Bal_L1D=Monetary(dataset=df, datetime_col='transaction_datetime', Key='transaction_id', groupby='from_account_no', amount_col='available_balance' ,groupby_type='No',groupby_col=None, window='1D',NA=0, out_col='Avg_Bal_L1D')\n",
    "Avg_Bal_L7D=Monetary(dataset=df, datetime_col='transaction_datetime', Key='transaction_id', groupby='from_account_no', amount_col='available_balance' ,groupby_type='No',groupby_col=None, window='7D',NA=0, out_col='Avg_Bal_L7D')\n",
    "Avg_Bal_L14D=Monetary(dataset=df, datetime_col='transaction_datetime', Key='transaction_id', groupby='from_account_no', amount_col='available_balance' ,groupby_type='No',groupby_col=None, window='14D',NA=0, out_col='Avg_Bal_L14D')\n",
    "Avg_Bal_L30D=Monetary(dataset=df, datetime_col='transaction_datetime', Key='transaction_id', groupby='from_account_no', amount_col='available_balance' ,groupby_type='No',groupby_col=None, window='30D',NA=0, out_col='Avg_Bal_L30D')\n",
    "Avg_Bal_L90D=Monetary(dataset=df, datetime_col='transaction_datetime', Key='transaction_id', groupby='from_account_no', amount_col='available_balance' ,groupby_type='No',groupby_col=None, window='90D',NA=0, out_col='Avg_Bal_L90D')\n"
   ]
  },
  {
   "cell_type": "markdown",
   "id": "48a94f64",
   "metadata": {},
   "source": [
    "#### Average Available Balance Same To Account"
   ]
  },
  {
   "cell_type": "code",
   "execution_count": null,
   "id": "d2fe54da",
   "metadata": {},
   "outputs": [],
   "source": [
    "%%time\n",
    "\n",
    "# Apply the function\n",
    "Avg_Bal_SameToAcc_L15M=Monetary(dataset=df, datetime_col='transaction_datetime', Key='transaction_id', groupby='from_account_no', amount_col='available_balance' ,groupby_type='Yes',groupby_col='to_account_no', window='900S',NA=0, out_col='Avg_Bal_SameToAcc_L15M')\n",
    "Avg_Bal_SameToAcc_L1H=Monetary(dataset=df, datetime_col='transaction_datetime', Key='transaction_id', groupby='from_account_no', amount_col='available_balance' ,groupby_type='Yes',groupby_col='to_account_no', window='1H',NA=0, out_col='Avg_Bal_SameToAcc_L1H')\n",
    "Avg_Bal_SameToAcc_L1D=Monetary(dataset=df, datetime_col='transaction_datetime', Key='transaction_id', groupby='from_account_no', amount_col='available_balance' ,groupby_type='Yes',groupby_col='to_account_no', window='1D',NA=0, out_col='Avg_Bal_SameToAcc_L1D')\n",
    "Avg_Bal_SameToAcc_L7D=Monetary(dataset=df, datetime_col='transaction_datetime', Key='transaction_id', groupby='from_account_no', amount_col='available_balance' ,groupby_type='Yes',groupby_col='to_account_no', window='7D',NA=0, out_col='Avg_Bal_SameToAcc_L7D')\n",
    "Avg_Bal_SameToAcc_L14D=Monetary(dataset=df, datetime_col='transaction_datetime', Key='transaction_id', groupby='from_account_no', amount_col='available_balance' ,groupby_type='Yes',groupby_col='to_account_no', window='14D',NA=0, out_col='Avg_Bal_SameToAcc_L14D')\n",
    "Avg_Bal_SameToAcc_L30D=Monetary(dataset=df, datetime_col='transaction_datetime', Key='transaction_id', groupby='from_account_no', amount_col='available_balance' ,groupby_type='Yes',groupby_col='to_account_no', window='30D',NA=0, out_col='Avg_Bal_SameToAcc_L30D')\n",
    "Avg_Bal_SameToAcc_L90D=Monetary(dataset=df, datetime_col='transaction_datetime', Key='transaction_id', groupby='from_account_no', amount_col='available_balance' ,groupby_type='Yes',groupby_col='to_account_no', window='90D',NA=0, out_col='Avg_Bal_SameToAcc_L90D')\n"
   ]
  },
  {
   "cell_type": "markdown",
   "id": "f161ccf1",
   "metadata": {},
   "source": [
    "#### Average Amount to Balance Ratio"
   ]
  },
  {
   "cell_type": "code",
   "execution_count": null,
   "id": "32fbf381",
   "metadata": {},
   "outputs": [],
   "source": [
    "%%time\n",
    "\n",
    "# Set the ratio value to 0 when avaliable_balance is 0 (there are no Null values in amount or available balance)\n",
    "df['amount_balance_ratio'] = np.where(df['available_balance'] == 0, 0, df['amount']/df['available_balance']).astype('float64')\n",
    "\n",
    "# Apply the function\n",
    "Avg_AmtBalRatio_L15M=Monetary(dataset=df, datetime_col='transaction_datetime', Key='transaction_id', groupby='from_account_no', amount_col='amount_balance_ratio' ,groupby_type='No',groupby_col=None, window='900S',NA=0, out_col='Avg_AmtBalRatio_L15M')\n",
    "Avg_AmtBalRatio_L1H=Monetary(dataset=df, datetime_col='transaction_datetime', Key='transaction_id', groupby='from_account_no', amount_col='amount_balance_ratio' ,groupby_type='No',groupby_col=None, window='1H',NA=0, out_col='Avg_AmtBalRatio_L1H')\n",
    "Avg_AmtBalRatio_L1D=Monetary(dataset=df, datetime_col='transaction_datetime', Key='transaction_id', groupby='from_account_no', amount_col='amount_balance_ratio' ,groupby_type='No',groupby_col=None, window='1D',NA=0, out_col='Avg_AmtBalRatio_L1D')\n",
    "Avg_AmtBalRatio_L7D=Monetary(dataset=df, datetime_col='transaction_datetime', Key='transaction_id', groupby='from_account_no', amount_col='amount_balance_ratio' ,groupby_type='No',groupby_col=None, window='7D',NA=0, out_col='Avg_AmtBalRatio_L7D')\n",
    "Avg_AmtBalRatio_L14D=Monetary(dataset=df, datetime_col='transaction_datetime', Key='transaction_id', groupby='from_account_no', amount_col='amount_balance_ratio' ,groupby_type='No',groupby_col=None, window='14D',NA=0, out_col='Avg_AmtBalRatio_L14D')\n",
    "Avg_AmtBalRatio_L30D=Monetary(dataset=df, datetime_col='transaction_datetime', Key='transaction_id', groupby='from_account_no', amount_col='amount_balance_ratio' ,groupby_type='No',groupby_col=None, window='30D',NA=0, out_col='Avg_AmtBalRatio_L30D')\n",
    "Avg_AmtBalRatio_L90D=Monetary(dataset=df, datetime_col='transaction_datetime', Key='transaction_id', groupby='from_account_no', amount_col='amount_balance_ratio' ,groupby_type='No',groupby_col=None, window='90D',NA=0, out_col='Avg_AmtBalRatio_L90D')\n"
   ]
  },
  {
   "cell_type": "code",
   "execution_count": null,
   "id": "33ea8604",
   "metadata": {},
   "outputs": [],
   "source": [
    "%%time\n",
    "\n",
    "# Merge the date intervals tables together with the main table\n",
    "df = df.merge(Avg_Amt_L15M, how='left', on=['transaction_id','from_account_no','transaction_datetime'])\n",
    "df = df.merge(Avg_Amt_L1H, how='left', on=['transaction_id','from_account_no','transaction_datetime'])\n",
    "df = df.merge(Avg_Amt_L1D, how='left', on=['transaction_id','from_account_no','transaction_datetime'])\n",
    "df = df.merge(Avg_Amt_L7D, how='left', on=['transaction_id','from_account_no','transaction_datetime'])\n",
    "df = df.merge(Avg_Amt_L14D, how='left', on=['transaction_id','from_account_no','transaction_datetime'])\n",
    "df = df.merge(Avg_Amt_L30D, how='left', on=['transaction_id','from_account_no','transaction_datetime'])\n",
    "df = df.merge(Avg_Amt_L90D, how='left', on=['transaction_id','from_account_no','transaction_datetime'])\n",
    "\n",
    "df = df.merge(Avg_Amt_SameToAcc_L15M, how='left', on=['transaction_id','from_account_no','transaction_datetime'])\n",
    "df = df.merge(Avg_Amt_SameToAcc_L1H, how='left', on=['transaction_id','from_account_no','transaction_datetime'])\n",
    "df = df.merge(Avg_Amt_SameToAcc_L1D, how='left', on=['transaction_id','from_account_no','transaction_datetime'])\n",
    "df = df.merge(Avg_Amt_SameToAcc_L7D, how='left', on=['transaction_id','from_account_no','transaction_datetime'])\n",
    "df = df.merge(Avg_Amt_SameToAcc_L14D, how='left', on=['transaction_id','from_account_no','transaction_datetime'])\n",
    "df = df.merge(Avg_Amt_SameToAcc_L30D, how='left', on=['transaction_id','from_account_no','transaction_datetime'])\n",
    "df = df.merge(Avg_Amt_SameToAcc_L90D, how='left', on=['transaction_id','from_account_no','transaction_datetime'])\n",
    "\n",
    "df = df.merge(Avg_Amt_SameType_L15M, how='left', on=['transaction_id','from_account_no','transaction_datetime'])\n",
    "df = df.merge(Avg_Amt_SameType_L1H, how='left', on=['transaction_id','from_account_no','transaction_datetime'])\n",
    "df = df.merge(Avg_Amt_SameType_L1D, how='left', on=['transaction_id','from_account_no','transaction_datetime'])\n",
    "df = df.merge(Avg_Amt_SameType_L7D, how='left', on=['transaction_id','from_account_no','transaction_datetime'])\n",
    "df = df.merge(Avg_Amt_SameType_L14D, how='left', on=['transaction_id','from_account_no','transaction_datetime'])\n",
    "df = df.merge(Avg_Amt_SameType_L30D, how='left', on=['transaction_id','from_account_no','transaction_datetime'])\n",
    "df = df.merge(Avg_Amt_SameType_L90D, how='left', on=['transaction_id','from_account_no','transaction_datetime'])\n",
    "\n",
    "df = df.merge(Avg_Bal_L15M, how='left', on=['transaction_id','from_account_no','transaction_datetime'])\n",
    "df = df.merge(Avg_Bal_L1H, how='left', on=['transaction_id','from_account_no','transaction_datetime'])\n",
    "df = df.merge(Avg_Bal_L1D, how='left', on=['transaction_id','from_account_no','transaction_datetime'])\n",
    "df = df.merge(Avg_Bal_L7D, how='left', on=['transaction_id','from_account_no','transaction_datetime'])\n",
    "df = df.merge(Avg_Bal_L14D, how='left', on=['transaction_id','from_account_no','transaction_datetime'])\n",
    "df = df.merge(Avg_Bal_L30D, how='left', on=['transaction_id','from_account_no','transaction_datetime'])\n",
    "df = df.merge(Avg_Bal_L90D, how='left', on=['transaction_id','from_account_no','transaction_datetime'])\n",
    "\n",
    "df = df.merge(Avg_Bal_SameToAcc_L15M, how='left', on=['transaction_id','from_account_no','transaction_datetime'])\n",
    "df = df.merge(Avg_Bal_SameToAcc_L1H, how='left', on=['transaction_id','from_account_no','transaction_datetime'])\n",
    "df = df.merge(Avg_Bal_SameToAcc_L1D, how='left', on=['transaction_id','from_account_no','transaction_datetime'])\n",
    "df = df.merge(Avg_Bal_SameToAcc_L7D, how='left', on=['transaction_id','from_account_no','transaction_datetime'])\n",
    "df = df.merge(Avg_Bal_SameToAcc_L14D, how='left', on=['transaction_id','from_account_no','transaction_datetime'])\n",
    "df = df.merge(Avg_Bal_SameToAcc_L30D, how='left', on=['transaction_id','from_account_no','transaction_datetime'])\n",
    "df = df.merge(Avg_Bal_SameToAcc_L90D, how='left', on=['transaction_id','from_account_no','transaction_datetime'])\n",
    "\n",
    "df = df.merge(Avg_AmtBalRatio_L15M, how='left', on=['transaction_id','from_account_no','transaction_datetime'])\n",
    "df = df.merge(Avg_AmtBalRatio_L1H, how='left', on=['transaction_id','from_account_no','transaction_datetime'])\n",
    "df = df.merge(Avg_AmtBalRatio_L1D, how='left', on=['transaction_id','from_account_no','transaction_datetime'])\n",
    "df = df.merge(Avg_AmtBalRatio_L7D, how='left', on=['transaction_id','from_account_no','transaction_datetime'])\n",
    "df = df.merge(Avg_AmtBalRatio_L14D, how='left', on=['transaction_id','from_account_no','transaction_datetime'])\n",
    "df = df.merge(Avg_AmtBalRatio_L30D, how='left', on=['transaction_id','from_account_no','transaction_datetime'])\n",
    "df = df.merge(Avg_AmtBalRatio_L90D, how='left', on=['transaction_id','from_account_no','transaction_datetime'])\n",
    "\n"
   ]
  },
  {
   "cell_type": "code",
   "execution_count": null,
   "id": "f9da9994",
   "metadata": {},
   "outputs": [],
   "source": []
  },
  {
   "cell_type": "code",
   "execution_count": null,
   "id": "9d105063",
   "metadata": {},
   "outputs": [],
   "source": [
    "def MonetaryMax(dataset=None, datetime_col=None, Key=None, groupby=None, amount_col=None ,groupby_type='No',groupby_col=None, window=None,NA=None, out_col=None):\n",
    "    dataset=dataset.sort_values(by='{datetime_col}'.format(datetime_col=datetime_col), ascending=True)\n",
    "    if groupby_type == \"No\":\n",
    "        df_amt_trnx=pd.DataFrame({'{out_col}'.format(out_col=out_col):dataset.set_index('{datetime_col}'.format(datetime_col=datetime_col)).sort_index().groupby(['{groupby}'.format(groupby=groupby)])['{amount_col}'.format(amount_col=amount_col)].rolling('{window}'.format(window=window), closed='left').max().fillna(NA)})\n",
    "        df_amt_trnx.reset_index(['{groupby}'.format(groupby=groupby),'{datetime_col}'.format(datetime_col=datetime_col)], inplace=True)\n",
    "        df_amt_trnx_TJ=df_amt_trnx.drop_duplicates(subset=['{groupby}'.format(groupby=groupby),'{datetime_col}'.format(datetime_col=datetime_col)], keep='last')\n",
    "        dataset_TJ=dataset[['{Key}'.format(Key=Key),'{groupby}'.format(groupby=groupby),'{datetime_col}'.format(datetime_col=datetime_col)]]\n",
    "        join_data=dataset_TJ.merge(df_amt_trnx_TJ, how='left', left_on=['{groupby}'.format(groupby=groupby),'{datetime_col}'.format(datetime_col=datetime_col)], right_on=['{groupby}'.format(groupby=groupby),'{datetime_col}'.format(datetime_col=datetime_col)])\n",
    "    elif groupby_type == \"Yes\":\n",
    "        df_amt_trnx=pd.DataFrame({'{out_col}'.format(out_col=out_col):dataset.set_index('{datetime_col}'.format(datetime_col=datetime_col)).sort_index().groupby(['{groupby}'.format(groupby=groupby),'{groupby_col}'.format(groupby_col=groupby_col)])['{amount_col}'.format(amount_col=amount_col)].rolling('{window}'.format(window=window), closed='left').max().fillna(NA)})\n",
    "        df_amt_trnx.reset_index(['{groupby}'.format(groupby=groupby),'{groupby_col}'.format(groupby_col=groupby_col),'{datetime_col}'.format(datetime_col=datetime_col)], inplace=True)\n",
    "        df_amt_trnx_TJ=df_amt_trnx.drop_duplicates(subset=['{groupby}'.format(groupby=groupby),'{groupby_col}'.format(groupby_col=groupby_col),'{datetime_col}'.format(datetime_col=datetime_col)], keep='last')\n",
    "        dataset_TJ=dataset[['{Key}'.format(Key=Key),'{groupby}'.format(groupby=groupby),'{groupby_col}'.format(groupby_col=groupby_col),'{datetime_col}'.format(datetime_col=datetime_col)]]\n",
    "        join_data=dataset_TJ.merge(df_amt_trnx_TJ, how='left', left_on=['{groupby}'.format(groupby=groupby),'{groupby_col}'.format(groupby_col=groupby_col),'{datetime_col}'.format(datetime_col=datetime_col)], right_on=['{groupby}'.format(groupby=groupby),'{groupby_col}'.format(groupby_col=groupby_col),'{datetime_col}'.format(datetime_col=datetime_col)])\n",
    "    dataset_output=join_data[['{Key}'.format(Key=Key),'{groupby}'.format(groupby=groupby),'{datetime_col}'.format(datetime_col=datetime_col),'{out_col}'.format(out_col=out_col)]]\n",
    "    return dataset_output"
   ]
  },
  {
   "cell_type": "markdown",
   "id": "3ec255f4",
   "metadata": {},
   "source": [
    "#### Maximum Transaction Amount"
   ]
  },
  {
   "cell_type": "code",
   "execution_count": null,
   "id": "daac9887",
   "metadata": {},
   "outputs": [],
   "source": [
    "%%time\n",
    "\n",
    "# Apply the function\n",
    "Max_Amt_L15M=MonetaryMax(dataset=df, datetime_col='transaction_datetime', Key='transaction_id', groupby='from_account_no', amount_col='amount' ,groupby_type='No',groupby_col=None, window='900S',NA=0, out_col='Max_Amt_L15M')\n",
    "Max_Amt_L1H=MonetaryMax(dataset=df, datetime_col='transaction_datetime', Key='transaction_id', groupby='from_account_no', amount_col='amount' ,groupby_type='No',groupby_col=None, window='1H',NA=0, out_col='Max_Amt_L1H')\n",
    "Max_Amt_L1D=MonetaryMax(dataset=df, datetime_col='transaction_datetime', Key='transaction_id', groupby='from_account_no', amount_col='amount' ,groupby_type='No',groupby_col=None, window='1D',NA=0, out_col='Max_Amt_L1D')\n",
    "Max_Amt_L7D=MonetaryMax(dataset=df, datetime_col='transaction_datetime', Key='transaction_id', groupby='from_account_no', amount_col='amount' ,groupby_type='No',groupby_col=None, window='7D',NA=0, out_col='Max_Amt_L7D')\n",
    "Max_Amt_L14D=MonetaryMax(dataset=df, datetime_col='transaction_datetime', Key='transaction_id', groupby='from_account_no', amount_col='amount' ,groupby_type='No',groupby_col=None, window='14D',NA=0, out_col='Max_Amt_L14D')\n",
    "Max_Amt_L30D=MonetaryMax(dataset=df, datetime_col='transaction_datetime', Key='transaction_id', groupby='from_account_no', amount_col='amount' ,groupby_type='No',groupby_col=None, window='30D',NA=0, out_col='Max_Amt_L30D')\n",
    "Max_Amt_L90D=MonetaryMax(dataset=df, datetime_col='transaction_datetime', Key='transaction_id', groupby='from_account_no', amount_col='amount' ,groupby_type='No',groupby_col=None, window='90D',NA=0, out_col='Max_Amt_L90D')\n"
   ]
  },
  {
   "cell_type": "code",
   "execution_count": null,
   "id": "b07c82b8",
   "metadata": {},
   "outputs": [],
   "source": [
    "Max_Amt_L7D.head()"
   ]
  },
  {
   "cell_type": "code",
   "execution_count": null,
   "id": "0de5a1ad",
   "metadata": {},
   "outputs": [],
   "source": [
    "%%time\n",
    "\n",
    "df = df.merge(Max_Amt_L15M, how='left', on=['transaction_id','from_account_no','transaction_datetime'])\n",
    "df = df.merge(Max_Amt_L1H, how='left', on=['transaction_id','from_account_no','transaction_datetime'])\n",
    "df = df.merge(Max_Amt_L1D, how='left', on=['transaction_id','from_account_no','transaction_datetime'])\n",
    "df = df.merge(Max_Amt_L7D, how='left', on=['transaction_id','from_account_no','transaction_datetime'])\n",
    "df = df.merge(Max_Amt_L14D, how='left', on=['transaction_id','from_account_no','transaction_datetime'])\n",
    "df = df.merge(Max_Amt_L30D, how='left', on=['transaction_id','from_account_no','transaction_datetime'])\n",
    "df = df.merge(Max_Amt_L90D, how='left', on=['transaction_id','from_account_no','transaction_datetime'])\n"
   ]
  },
  {
   "cell_type": "markdown",
   "id": "87893510",
   "metadata": {},
   "source": [
    "#### Maximum Available Balance"
   ]
  },
  {
   "cell_type": "code",
   "execution_count": null,
   "id": "2bda7c87",
   "metadata": {},
   "outputs": [],
   "source": [
    "%%time\n",
    "\n",
    "# Apply the function\n",
    "Max_Bal_L15M=MonetaryMax(dataset=df, datetime_col='transaction_datetime', Key='transaction_id', groupby='from_account_no', amount_col='available_balance' ,groupby_type='No',groupby_col=None, window='900S',NA=0, out_col='Max_Bal_L15M')\n",
    "Max_Bal_L1H=MonetaryMax(dataset=df, datetime_col='transaction_datetime', Key='transaction_id', groupby='from_account_no', amount_col='available_balance' ,groupby_type='No',groupby_col=None, window='1H',NA=0, out_col='Max_Bal_L1H')\n",
    "Max_Bal_L1D=MonetaryMax(dataset=df, datetime_col='transaction_datetime', Key='transaction_id', groupby='from_account_no', amount_col='available_balance' ,groupby_type='No',groupby_col=None, window='1D',NA=0, out_col='Max_Bal_L1D')\n",
    "Max_Bal_L7D=MonetaryMax(dataset=df, datetime_col='transaction_datetime', Key='transaction_id', groupby='from_account_no', amount_col='available_balance' ,groupby_type='No',groupby_col=None, window='7D',NA=0, out_col='Max_Bal_L7D')\n",
    "Max_Bal_L14D=MonetaryMax(dataset=df, datetime_col='transaction_datetime', Key='transaction_id', groupby='from_account_no', amount_col='available_balance' ,groupby_type='No',groupby_col=None, window='14D',NA=0, out_col='Max_Bal_L14D')\n",
    "Max_Bal_L30D=MonetaryMax(dataset=df, datetime_col='transaction_datetime', Key='transaction_id', groupby='from_account_no', amount_col='available_balance' ,groupby_type='No',groupby_col=None, window='30D',NA=0, out_col='Max_Bal_L30D')\n",
    "Max_Bal_L90D=MonetaryMax(dataset=df, datetime_col='transaction_datetime', Key='transaction_id', groupby='from_account_no', amount_col='available_balance' ,groupby_type='No',groupby_col=None, window='90D',NA=0, out_col='Max_Bal_L90D')\n"
   ]
  },
  {
   "cell_type": "code",
   "execution_count": null,
   "id": "1acaa71d",
   "metadata": {},
   "outputs": [],
   "source": [
    "%%time\n",
    "\n",
    "df = df.merge(Max_Bal_L15M, how='left', on=['transaction_id','from_account_no','transaction_datetime'])\n",
    "df = df.merge(Max_Bal_L1H, how='left', on=['transaction_id','from_account_no','transaction_datetime'])\n",
    "df = df.merge(Max_Bal_L1D, how='left', on=['transaction_id','from_account_no','transaction_datetime'])\n",
    "df = df.merge(Max_Bal_L7D, how='left', on=['transaction_id','from_account_no','transaction_datetime'])\n",
    "df = df.merge(Max_Bal_L14D, how='left', on=['transaction_id','from_account_no','transaction_datetime'])\n",
    "df = df.merge(Max_Bal_L30D, how='left', on=['transaction_id','from_account_no','transaction_datetime'])\n",
    "df = df.merge(Max_Bal_L90D, how='left', on=['transaction_id','from_account_no','transaction_datetime'])\n"
   ]
  },
  {
   "cell_type": "markdown",
   "id": "74e51310",
   "metadata": {},
   "source": [
    "#### Maximum Amount/Balance Ratio"
   ]
  },
  {
   "cell_type": "code",
   "execution_count": null,
   "id": "a5293d39",
   "metadata": {},
   "outputs": [],
   "source": [
    "%%time\n",
    "\n",
    "df = df.drop(columns = ['Max_AmtBalRatio_L15M','Max_AmtBalRatio_L1H','Max_AmtBalRatio_L1D','Max_AmtBalRatio_L7D',\n",
    "                       'Max_AmtBalRatio_L14D','Max_AmtBalRatio_L30D','Max_AmtBalRatio_L90D'])\n",
    "\n",
    "# Apply the function\n",
    "Max_AmtBalRatio_L15M=MonetaryMax(dataset=df, datetime_col='transaction_datetime', Key='transaction_id', groupby='from_account_no', amount_col='amount_balance_ratio' ,groupby_type='No',groupby_col=None, window='900S',NA=0, out_col='Max_AmtBalRatio_L15M')\n",
    "Max_AmtBalRatio_L1H=MonetaryMax(dataset=df, datetime_col='transaction_datetime', Key='transaction_id', groupby='from_account_no', amount_col='amount_balance_ratio' ,groupby_type='No',groupby_col=None, window='1H',NA=0, out_col='Max_AmtBalRatio_L1H')\n",
    "Max_AmtBalRatio_L1D=MonetaryMax(dataset=df, datetime_col='transaction_datetime', Key='transaction_id', groupby='from_account_no', amount_col='amount_balance_ratio' ,groupby_type='No',groupby_col=None, window='1D',NA=0, out_col='Max_AmtBalRatio_L1D')\n",
    "Max_AmtBalRatio_L7D=MonetaryMax(dataset=df, datetime_col='transaction_datetime', Key='transaction_id', groupby='from_account_no', amount_col='amount_balance_ratio' ,groupby_type='No',groupby_col=None, window='7D',NA=0, out_col='Max_AmtBalRatio_L7D')\n",
    "Max_AmtBalRatio_L14D=MonetaryMax(dataset=df, datetime_col='transaction_datetime', Key='transaction_id', groupby='from_account_no', amount_col='amount_balance_ratio' ,groupby_type='No',groupby_col=None, window='14D',NA=0, out_col='Max_AmtBalRatio_L14D')\n",
    "Max_AmtBalRatio_L30D=MonetaryMax(dataset=df, datetime_col='transaction_datetime', Key='transaction_id', groupby='from_account_no', amount_col='amount_balance_ratio' ,groupby_type='No',groupby_col=None, window='30D',NA=0, out_col='Max_AmtBalRatio_L30D')\n",
    "Max_AmtBalRatio_L90D=MonetaryMax(dataset=df, datetime_col='transaction_datetime', Key='transaction_id', groupby='from_account_no', amount_col='amount_balance_ratio' ,groupby_type='No',groupby_col=None, window='90D',NA=0, out_col='Max_AmtBalRatio_L90D')\n"
   ]
  },
  {
   "cell_type": "code",
   "execution_count": null,
   "id": "a65d12c0",
   "metadata": {},
   "outputs": [],
   "source": [
    "%%time\n",
    "\n",
    "df = df.merge(Max_AmtBalRatio_L15M, how='left', on=['transaction_id','from_account_no','transaction_datetime'])\n",
    "df = df.merge(Max_AmtBalRatio_L1H, how='left', on=['transaction_id','from_account_no','transaction_datetime'])\n",
    "df = df.merge(Max_AmtBalRatio_L1D, how='left', on=['transaction_id','from_account_no','transaction_datetime'])\n",
    "df = df.merge(Max_AmtBalRatio_L7D, how='left', on=['transaction_id','from_account_no','transaction_datetime'])\n",
    "df = df.merge(Max_AmtBalRatio_L14D, how='left', on=['transaction_id','from_account_no','transaction_datetime'])\n",
    "df = df.merge(Max_AmtBalRatio_L30D, how='left', on=['transaction_id','from_account_no','transaction_datetime'])\n",
    "df = df.merge(Max_AmtBalRatio_L90D, how='left', on=['transaction_id','from_account_no','transaction_datetime'])\n"
   ]
  },
  {
   "cell_type": "code",
   "execution_count": null,
   "id": "45ee8eab",
   "metadata": {},
   "outputs": [],
   "source": [
    "df.head()"
   ]
  },
  {
   "cell_type": "code",
   "execution_count": null,
   "id": "3401eafe",
   "metadata": {},
   "outputs": [],
   "source": []
  },
  {
   "cell_type": "code",
   "execution_count": null,
   "id": "f6047567",
   "metadata": {},
   "outputs": [],
   "source": [
    "# Save the dataframe to the disk\n",
    "df.to_csv(r'C:\\Users\\AEmslie\\OneDrive - GB Group PLC\\Sales\\TTB\\PoC 2\\Data\\MF_Data.csv', index=False)"
   ]
  },
  {
   "cell_type": "code",
   "execution_count": null,
   "id": "a88b8a3a",
   "metadata": {},
   "outputs": [],
   "source": []
  },
  {
   "cell_type": "code",
   "execution_count": null,
   "id": "8c22b877",
   "metadata": {},
   "outputs": [],
   "source": [
    "# Output a Training file\n",
    "\n",
    "df.loc[df['flag'] != 'TEST'].to_csv(r'C:\\Users\\AEmslie\\OneDrive - GB Group PLC\\Sales\\TTB\\PoC 2\\Data\\Files for MLS\\Train001.csv', index=False)"
   ]
  },
  {
   "cell_type": "code",
   "execution_count": null,
   "id": "dcb2604d",
   "metadata": {},
   "outputs": [],
   "source": [
    "# Output a Validation (TEST) file\n",
    "\n",
    "df_val = df\n",
    "df_val['Fraud_val'] = df_val['Fraud']\n",
    "df_val.loc[df_val['transaction_id'] == 'NT1937830033075700', 'Fraud_val'] = 1\n",
    "df_val['Fraud'] = df_val['Fraud_val']\n",
    "\n",
    "df_val.loc[df_val['flag'] == 'TEST'].to_csv(r'C:\\Users\\AEmslie\\OneDrive - GB Group PLC\\Sales\\TTB\\PoC 2\\Data\\Files for MLS\\Val002.csv', index=False)"
   ]
  },
  {
   "cell_type": "code",
   "execution_count": null,
   "id": "ebd01f87",
   "metadata": {},
   "outputs": [],
   "source": []
  },
  {
   "cell_type": "code",
   "execution_count": null,
   "id": "ec25c6e0",
   "metadata": {},
   "outputs": [],
   "source": []
  },
  {
   "cell_type": "code",
   "execution_count": null,
   "id": "a251fad5",
   "metadata": {},
   "outputs": [],
   "source": []
  },
  {
   "cell_type": "code",
   "execution_count": null,
   "id": "77b9d2cb",
   "metadata": {},
   "outputs": [],
   "source": []
  },
  {
   "cell_type": "markdown",
   "id": "03234533",
   "metadata": {},
   "source": [
    "## Cross-Channel"
   ]
  },
  {
   "cell_type": "markdown",
   "id": "05fce8c2",
   "metadata": {},
   "source": [
    "### Mobile Non-Financial"
   ]
  },
  {
   "cell_type": "code",
   "execution_count": null,
   "id": "10be584e",
   "metadata": {},
   "outputs": [],
   "source": [
    "mobile_non_financial.groupby(['transaction_type'], dropna=False).size()"
   ]
  },
  {
   "cell_type": "code",
   "execution_count": null,
   "id": "b05d8607",
   "metadata": {},
   "outputs": [],
   "source": [
    "# Create a grouping for transaction_type\n",
    "\n",
    "mobile_non_financial['transaction_type_group'] = 'Others'\n",
    "\n",
    "mobile_non_financial.loc[mobile_non_financial['transaction_type'].isin(['100000201','100000202','100000203','186']) == True, 'transaction_type_group'] = 'Verify Email'\n",
    "mobile_non_financial.loc[mobile_non_financial['transaction_type'].isin(['100200601','100200602','107']) == True, 'transaction_type_group'] = 'Set PIN-free Transactions Limit'\n",
    "mobile_non_financial.loc[mobile_non_financial['transaction_type'] == '035', 'transaction_type_group'] = 'Change International Limit'\n",
    "mobile_non_financial.loc[mobile_non_financial['transaction_type'] == '052', 'transaction_type_group'] = 'Change Daily Transaction Limit'\n",
    "mobile_non_financial.loc[mobile_non_financial['transaction_type'] == '069', 'transaction_type_group'] = 'Change Mobile No'\n",
    "mobile_non_financial.loc[mobile_non_financial['transaction_type'].isin(['100200801','100200802']) == True, 'transaction_type_group'] = 'Daily Transaction Limit'\n",
    "mobile_non_financial.loc[mobile_non_financial['transaction_type'].isin(['100701200','100701201','100701202']) == True, 'transaction_type_group'] = 'Manage Usage Limit'\n",
    "mobile_non_financial.loc[mobile_non_financial['transaction_type'].isin(['101700501','101700502']) == True, 'transaction_type_group'] = 'Change Limit Usage'\n",
    "mobile_non_financial.loc[mobile_non_financial['transaction_type'].isin(['401501401','401501402','401501403','401501404','401501405','401501406','401501409']) == True, 'transaction_type_group'] = 'Change Mobile-Contact Address'\n",
    "mobile_non_financial.loc[mobile_non_financial['transaction_type'] == '500100100', 'transaction_type_group'] = 'Request Activation Code'\n",
    "mobile_non_financial.loc[mobile_non_financial['transaction_type'].isin(['109','110','111','113','157']) == True, 'transaction_type_group'] = 'Activation'\n",
    "\n",
    "mobile_non_financial.groupby(['transaction_type_group'] ,dropna=False).size()\n"
   ]
  },
  {
   "cell_type": "code",
   "execution_count": null,
   "id": "239ebf06",
   "metadata": {},
   "outputs": [],
   "source": [
    "print(mobile_non_financial['transaction_id'].nunique())\n",
    "print(mobile_non_financial.shape[0])"
   ]
  },
  {
   "cell_type": "markdown",
   "id": "89d9dc1e",
   "metadata": {},
   "source": [
    "#### Remove Duplicate Transaction ID's"
   ]
  },
  {
   "cell_type": "code",
   "execution_count": null,
   "id": "a2e88b54",
   "metadata": {},
   "outputs": [],
   "source": [
    "print('Total Records in Non-Financial file:', mobile_non_financial.shape[0])\n",
    "print('Duplicate transaction_ids:', mobile_non_financial.duplicated(subset = ['transaction_id']).sum())\n",
    "dfn = mobile_non_financial.loc[mobile_non_financial['transaction_id'].duplicated() == False]\n",
    "print('Records after removing Duplicate transaction_id: ',dfn.shape[0])"
   ]
  },
  {
   "cell_type": "code",
   "execution_count": null,
   "id": "10aa2fd5",
   "metadata": {},
   "outputs": [],
   "source": []
  },
  {
   "cell_type": "markdown",
   "id": "924c28d7",
   "metadata": {},
   "source": [
    "#### Merge the Financial and Non-Financial using merge_asof"
   ]
  },
  {
   "cell_type": "code",
   "execution_count": null,
   "id": "b29afa60",
   "metadata": {},
   "outputs": [],
   "source": [
    "%%time\n",
    "\n",
    "# merge the Non-Financial to the Financial\n",
    "# this will merge the Financial record with the closest future transaction_datetime onto the Non-Financial transaction record\n",
    "# will include only transactions within 30 days\n",
    "\n",
    "dff = df\n",
    "dff = dff.sort_values(by = ['transaction_datetime'])\n",
    "dff['transaction_datetime_f'] = dff['transaction_datetime']\n",
    "\n",
    "dfn = dfn.sort_values(by = ['transaction_datetime'])\n",
    "dfn['transaction_datetime_nf'] = dfn['transaction_datetime']\n",
    "\n",
    "dfn = pd.merge_asof(dfn, dff,\n",
    "                           left_on = ['transaction_datetime_nf'], right_on = ['transaction_datetime_f'],\n",
    "                           left_by = ['customer_id'], right_by = ['customer_id'],\n",
    "                            tolerance = pd.Timedelta(days = 30),\n",
    "                            direction = 'forward',\n",
    "                           suffixes = ['_non_fin','_fin'])\n",
    "\n"
   ]
  },
  {
   "cell_type": "code",
   "execution_count": null,
   "id": "6d2bf209",
   "metadata": {},
   "outputs": [],
   "source": [
    "dfn.shape"
   ]
  },
  {
   "cell_type": "code",
   "execution_count": null,
   "id": "04cd6bd8",
   "metadata": {},
   "outputs": [],
   "source": [
    "dfn.head()"
   ]
  },
  {
   "cell_type": "code",
   "execution_count": null,
   "id": "d86cf31a",
   "metadata": {},
   "outputs": [],
   "source": [
    "print('Matches: ', dfn.loc[dfn['account_number'].isna() == False].shape[0])\n",
    "print('Non-Matches: ', dfn.loc[dfn['account_number'].isna() == True].shape[0])"
   ]
  },
  {
   "cell_type": "code",
   "execution_count": null,
   "id": "6183f44a",
   "metadata": {},
   "outputs": [],
   "source": [
    "dfn['transaction_id_fin'].nunique()"
   ]
  },
  {
   "cell_type": "markdown",
   "id": "143cfc96",
   "metadata": {},
   "source": [
    "#### Non-Financial Feature Engineering"
   ]
  },
  {
   "cell_type": "code",
   "execution_count": null,
   "id": "c879dce8",
   "metadata": {},
   "outputs": [],
   "source": [
    "# number of c01 transactions\n",
    "a01 = pd.DataFrame(dfn.groupby(by = ['transaction_id_fin']).size()).reset_index().rename(columns = {0:'Txn_Count_NF_L30D'})\n"
   ]
  },
  {
   "cell_type": "code",
   "execution_count": null,
   "id": "386e22b9",
   "metadata": {},
   "outputs": [],
   "source": [
    "a01.head()"
   ]
  },
  {
   "cell_type": "code",
   "execution_count": null,
   "id": "1961ee47",
   "metadata": {},
   "outputs": [],
   "source": [
    "%%time\n",
    "\n",
    "# number of transactions of top 4 transaction category codes\n",
    "a01 = a01.merge(pd.DataFrame(dfn.loc[dfn['transaction_type_group'] == 'Change Mobile-Contact Address'].groupby(by = ['transaction_id_fin']).size()).fillna(-1).reset_index().rename(columns = {0:'Txn_Count_NF_01_L30D'}), on = ['transaction_id_fin'], how = 'left')\n",
    "a01 = a01.merge(pd.DataFrame(dfn.loc[dfn['transaction_type_group'] == 'Daily Transaction Limit'].groupby(by = ['transaction_id_fin']).size()).fillna(-1).reset_index().rename(columns = {0:'Txn_Count_NF_02_L30D'}), on = ['transaction_id_fin'], how = 'left')\n",
    "a01 = a01.merge(pd.DataFrame(dfn.loc[dfn['transaction_type_group'] == 'Activation'].groupby(by = ['transaction_id_fin']).size()).fillna(-1).reset_index().rename(columns = {0:'Txn_Count_NF_03_L30D'}), on = ['transaction_id_fin'], how = 'left')\n",
    "a01 = a01.merge(pd.DataFrame(dfn.loc[dfn['transaction_type_group'] == 'Verify Email'].groupby(by = ['transaction_id_fin']).size()).fillna(-1).reset_index().rename(columns = {0:'Txn_Count_NF_04_L30D'}), on = ['transaction_id_fin'], how = 'left')\n",
    "\n",
    "\n",
    "# time of last NF transaction\n",
    "a01 = a01.merge(pd.DataFrame(dfn.groupby(by = ['transaction_id_fin'])['transaction_datetime_nf'].max()).reset_index().rename(columns = {'transaction_datetime_nf':'TimeLastTxn_NF'}), on = ['transaction_id_fin'], how = 'left')\n",
    "\n",
    "# time of last transaction of top 4 transaction category codes\n",
    "a01 = a01.merge(pd.DataFrame(dfn.loc[dfn['transaction_type_group'] == 'Change Mobile-Contact Address'].groupby(by = ['transaction_id_fin'])['transaction_datetime_nf'].max()).reset_index().rename(columns = {'transaction_datetime_nf':'TimeLastTxn_NF_01'}), on = ['transaction_id_fin'], how = 'left')\n",
    "a01 = a01.merge(pd.DataFrame(dfn.loc[dfn['transaction_type_group'] == 'Daily Transaction Limit'].groupby(by = ['transaction_id_fin'])['transaction_datetime_nf'].max()).reset_index().rename(columns = {'transaction_datetime_nf':'TimeLastTxn_NF_02'}), on = ['transaction_id_fin'], how = 'left')\n",
    "a01 = a01.merge(pd.DataFrame(dfn.loc[dfn['transaction_type_group'] == 'Activation'].groupby(by = ['transaction_id_fin'])['transaction_datetime_nf'].max()).reset_index().rename(columns = {'transaction_datetime_nf':'TimeLastTxn_NF_03'}), on = ['transaction_id_fin'], how = 'left')\n",
    "a01 = a01.merge(pd.DataFrame(dfn.loc[dfn['transaction_type_group'] == 'Verify Email'].groupby(by = ['transaction_id_fin'])['transaction_datetime_nf'].max()).reset_index().rename(columns = {'transaction_datetime_nf':'TimeLastTxn_NF_04'}), on = ['transaction_id_fin'], how = 'left')\n",
    "\n",
    "\n",
    "# number of unique transaction types/ip addresses\n",
    "a01 = a01.merge(pd.DataFrame(dfn.groupby(by = ['transaction_id_fin'])['transaction_type_non_fin'].nunique()).fillna(-1).reset_index().rename(columns = {'transaction_type_non_fin':'NF_Unique_Transaction_Type_L30D'}), on = ['transaction_id_fin'], how = 'left')\n",
    "a01 = a01.merge(pd.DataFrame(dfn.groupby(by = ['transaction_id_fin'])['ip_address_non_fin'].nunique()).fillna(-1).reset_index().rename(columns = {'ip_address_non_fin':'NF_Unique_IP_Address_L30D'}), on = ['transaction_id_fin'], how = 'left')\n",
    "\n",
    "a01['Txn_Count_NF_01_L30D'] = a01['Txn_Count_NF_01_L30D'].fillna(0)\n",
    "a01['Txn_Count_NF_02_L30D'] = a01['Txn_Count_NF_02_L30D'].fillna(0)\n",
    "a01['Txn_Count_NF_03_L30D'] = a01['Txn_Count_NF_03_L30D'].fillna(0)\n",
    "a01['Txn_Count_NF_04_L30D'] = a01['Txn_Count_NF_04_L30D'].fillna(0)\n",
    "\n"
   ]
  },
  {
   "cell_type": "code",
   "execution_count": null,
   "id": "213fb710",
   "metadata": {},
   "outputs": [],
   "source": [
    "a01.head()"
   ]
  },
  {
   "cell_type": "code",
   "execution_count": null,
   "id": "1acbead4",
   "metadata": {},
   "outputs": [],
   "source": []
  },
  {
   "cell_type": "markdown",
   "id": "9d2ab218",
   "metadata": {},
   "source": [
    "#### Merge back to Financial Transactions"
   ]
  },
  {
   "cell_type": "code",
   "execution_count": null,
   "id": "54203610",
   "metadata": {},
   "outputs": [],
   "source": [
    "print(dff.shape[0])\n",
    "print(dff['transaction_id'].nunique())\n",
    "print(a01.shape[0])\n",
    "print(a01['transaction_id_fin'].nunique())"
   ]
  },
  {
   "cell_type": "code",
   "execution_count": null,
   "id": "72661558",
   "metadata": {},
   "outputs": [],
   "source": [
    "fraud_mobile = dff.merge(a01,\n",
    "                         left_on = ['transaction_id'],\n",
    "                         right_on = ['transaction_id_fin'],\n",
    "                         how = 'left',\n",
    "                         indicator = 'merge_f_mf_a01')"
   ]
  },
  {
   "cell_type": "code",
   "execution_count": null,
   "id": "5c123068",
   "metadata": {
    "scrolled": true
   },
   "outputs": [],
   "source": [
    "fraud_mobile.head()"
   ]
  },
  {
   "cell_type": "code",
   "execution_count": null,
   "id": "d2b9542b",
   "metadata": {},
   "outputs": [],
   "source": [
    "fraud_mobile.groupby(by = ['merge_f_mf_a01','flag'], dropna=False).size()"
   ]
  },
  {
   "cell_type": "code",
   "execution_count": null,
   "id": "df247402",
   "metadata": {},
   "outputs": [],
   "source": [
    "# Fill NaN with -1\n",
    "\n",
    "fraud_mobile['Txn_Count_NF_L30D'] = fraud_mobile['Txn_Count_NF_L30D'].fillna(-1)\n",
    "fraud_mobile['Txn_Count_NF_01_L30D'] = fraud_mobile['Txn_Count_NF_01_L30D'].fillna(-1)\n",
    "fraud_mobile['Txn_Count_NF_02_L30D'] = fraud_mobile['Txn_Count_NF_02_L30D'].fillna(-1)\n",
    "fraud_mobile['Txn_Count_NF_03_L30D'] = fraud_mobile['Txn_Count_NF_03_L30D'].fillna(-1)\n",
    "fraud_mobile['Txn_Count_NF_04_L30D'] = fraud_mobile['Txn_Count_NF_04_L30D'].fillna(-1)\n",
    "\n",
    "fraud_mobile['NF_Unique_Transaction_Type_L30D'] = fraud_mobile['NF_Unique_Transaction_Type_L30D'].fillna(-1)\n",
    "fraud_mobile['NF_Unique_IP_Address_L30D'] = fraud_mobile['NF_Unique_IP_Address_L30D'].fillna(-1)\n"
   ]
  },
  {
   "cell_type": "code",
   "execution_count": null,
   "id": "e13152a0",
   "metadata": {},
   "outputs": [],
   "source": [
    "fraud_mobile.head()"
   ]
  },
  {
   "cell_type": "code",
   "execution_count": null,
   "id": "8141845f",
   "metadata": {},
   "outputs": [],
   "source": []
  },
  {
   "cell_type": "markdown",
   "id": "350fc6b4",
   "metadata": {},
   "source": [
    "### Deposit Transactions"
   ]
  },
  {
   "cell_type": "code",
   "execution_count": null,
   "id": "98e0e550",
   "metadata": {},
   "outputs": [],
   "source": [
    "deposit_transaction.head()"
   ]
  },
  {
   "cell_type": "code",
   "execution_count": null,
   "id": "4b34ea1e",
   "metadata": {},
   "outputs": [],
   "source": [
    "deposit_transaction.groupby(['record_type'], dropna=False).size()"
   ]
  },
  {
   "cell_type": "code",
   "execution_count": null,
   "id": "fe965a5a",
   "metadata": {},
   "outputs": [],
   "source": [
    "print(deposit_transaction['teller_id'].nunique())\n",
    "print(deposit_transaction['customer_id'].nunique())\n",
    "print(deposit_transaction['account_number'].nunique())\n",
    "print(deposit_transaction.shape[0])"
   ]
  },
  {
   "cell_type": "code",
   "execution_count": null,
   "id": "39ac4d5d",
   "metadata": {},
   "outputs": [],
   "source": [
    "deposit_transaction_account_numbers = deposit_transaction.loc[deposit_transaction.duplicated() == False]\n",
    "print(deposit_transaction_account_numbers.shape[0])"
   ]
  },
  {
   "cell_type": "code",
   "execution_count": null,
   "id": "22ebb0d8",
   "metadata": {},
   "outputs": [],
   "source": [
    "%%time\n",
    "print('Duplicated Deposit Records: ',deposit_transaction.duplicated().sum())\n",
    "print('Total Deposit Records: ',deposit_transaction.shape[0])\n",
    "dfd = deposit_transaction.loc[deposit_transaction.duplicated() == False]\n",
    "print('Records after removing duplicate records: ',dfd.shape[0])"
   ]
  },
  {
   "cell_type": "code",
   "execution_count": null,
   "id": "3a66b2a5",
   "metadata": {},
   "outputs": [],
   "source": [
    "test = dfd.merge(fraud4,\n",
    "                on = ['customer_id','account_number'],\n",
    "                how = 'left',\n",
    "                indicator = 'merge_dep_f')\n"
   ]
  },
  {
   "cell_type": "code",
   "execution_count": null,
   "id": "92e8a96a",
   "metadata": {},
   "outputs": [],
   "source": [
    "test.groupby(['flag'], dropna = False).size()"
   ]
  },
  {
   "cell_type": "code",
   "execution_count": null,
   "id": "e46498b6",
   "metadata": {},
   "outputs": [],
   "source": [
    "test.groupby(['merge_dep_f'], dropna = False).size()"
   ]
  },
  {
   "cell_type": "code",
   "execution_count": null,
   "id": "5b1045f5",
   "metadata": {},
   "outputs": [],
   "source": [
    "test.info()"
   ]
  },
  {
   "cell_type": "code",
   "execution_count": null,
   "id": "8742b3d6",
   "metadata": {},
   "outputs": [],
   "source": [
    "test.loc[(test['end_date'].isna() == False) & (test['end_date'] >= test['transaction_datetime'])].groupby(['flag'], dropna=False).size()"
   ]
  },
  {
   "cell_type": "code",
   "execution_count": null,
   "id": "5b15f388",
   "metadata": {},
   "outputs": [],
   "source": [
    "# Apply Fraud Transaction label based on end_date\n",
    "\n",
    "test['fraud_txn'] = 0\n",
    "\n",
    "test.loc[(test['end_date'].isna() == False) & (test['transaction_datetime'] >= test['end_date']), 'fraud_txn'] = 1\n",
    "\n",
    "test.loc[(test['end_date'].isna() == False) & (test['transaction_datetime'] < test['end_date']), 'fraud_txn'] = 2\n",
    "\n",
    "test.groupby(['fraud_txn'], dropna=False).size()\n"
   ]
  },
  {
   "cell_type": "code",
   "execution_count": null,
   "id": "96ca3677",
   "metadata": {},
   "outputs": [],
   "source": [
    "test.shape[0]"
   ]
  },
  {
   "cell_type": "code",
   "execution_count": null,
   "id": "34d6071a",
   "metadata": {},
   "outputs": [],
   "source": [
    "test.groupby(['flag','fraud_txn'], dropna=False).size()"
   ]
  },
  {
   "cell_type": "code",
   "execution_count": null,
   "id": "3992390f",
   "metadata": {},
   "outputs": [],
   "source": [
    "test = deposit_transaction.merge(fraud_mobile[['customer_id','from_account_no','transaction_datetime','amount','transaction_id']],\n",
    "                 left_on = ['customer_id','account_number','transaction_datetime','amount'],\n",
    "                 right_on = ['customer_id','from_account_no','transaction_datetime','amount'],\n",
    "                 how = 'left',\n",
    "                 indicator = 'merge_dep_mob')\n",
    "\n",
    "print(test.shape[0])\n",
    "print(test.groupby(['merge_dep_mob'], dropna=False).size())"
   ]
  },
  {
   "cell_type": "code",
   "execution_count": null,
   "id": "63a01098",
   "metadata": {},
   "outputs": [],
   "source": [
    "test = test.merge(reference_deposit, on = ['customer_id','account_number'],\n",
    "                 how = 'left',\n",
    "                 indicator = 'merge_test_ref')\n",
    "\n",
    "test.groupby(['merge_test_ref'], dropna=False).size()"
   ]
  },
  {
   "cell_type": "code",
   "execution_count": null,
   "id": "18aa3a2d",
   "metadata": {},
   "outputs": [],
   "source": [
    "test.head()"
   ]
  },
  {
   "cell_type": "code",
   "execution_count": null,
   "id": "8c759037",
   "metadata": {},
   "outputs": [],
   "source": [
    "test['account_age'] = (test['transaction_datetime'] - pd.to_datetime(test['account_open_date']))//np.timedelta64(1,'D')\n",
    "test['account_age'].describe()"
   ]
  },
  {
   "cell_type": "code",
   "execution_count": null,
   "id": "39022625",
   "metadata": {},
   "outputs": [],
   "source": [
    "print('Total Deposit Transactions: ',test.shape[0])\n",
    "print('Total Mobile Transactions: ',test.loc[test['transaction_id'].isna() == False].shape[0])\n",
    "\n",
    "deposit_transaction_ex = test.loc[test['transaction_id'].isna() == True]\n",
    "\n",
    "print('Remaining Deposit Transactions: ',deposit_transaction_ex.shape[0])"
   ]
  },
  {
   "cell_type": "code",
   "execution_count": null,
   "id": "cdf167ab",
   "metadata": {},
   "outputs": [],
   "source": [
    "deposit_transaction_ex.info(show_counts=True)"
   ]
  },
  {
   "cell_type": "code",
   "execution_count": null,
   "id": "d37e8420",
   "metadata": {},
   "outputs": [],
   "source": [
    "deposit_transaction_ex['account_age'].notna().sum()"
   ]
  },
  {
   "cell_type": "code",
   "execution_count": null,
   "id": "ec4777d2",
   "metadata": {},
   "outputs": [],
   "source": [
    "%%time\n",
    "\n",
    "# merge the Deposits to the Mobile\n",
    "# this will merge the Mobile record with the closest future transaction_datetime onto the Deposit transaction record\n",
    "# will include only transactions within 30 days\n",
    "\n",
    "dff = fraud_mobile\n",
    "dff = dff.sort_values(by = ['transaction_datetime_f'])\n",
    "\n",
    "dfd = deposit_transaction_ex.drop(columns = ['from_account_no','transaction_id','merge_dep_mob']).sort_values(by = ['transaction_datetime'])\n",
    "\n",
    "dfd = pd.merge_asof(dfd, dff,\n",
    "                           left_on = ['transaction_datetime'], right_on = ['transaction_datetime_f'],\n",
    "                           left_by = ['customer_id'], right_by = ['customer_id'],\n",
    "                            tolerance = pd.Timedelta(days = 30),\n",
    "                            direction = 'forward',\n",
    "                           suffixes = ['_dep','_mob'])\n",
    "\n"
   ]
  },
  {
   "cell_type": "code",
   "execution_count": null,
   "id": "3b689171",
   "metadata": {},
   "outputs": [],
   "source": [
    "print(dfd.shape[0])\n",
    "print(dfd['transaction_id'].nunique())"
   ]
  },
  {
   "cell_type": "code",
   "execution_count": null,
   "id": "7071e2f5",
   "metadata": {},
   "outputs": [],
   "source": [
    "dfd.head()"
   ]
  },
  {
   "cell_type": "code",
   "execution_count": null,
   "id": "c64cdf9f",
   "metadata": {},
   "outputs": [],
   "source": [
    "dfd.info(verbose=True)"
   ]
  },
  {
   "cell_type": "code",
   "execution_count": null,
   "id": "92283fe0",
   "metadata": {},
   "outputs": [],
   "source": [
    "dfd['account_age'].isna().sum()"
   ]
  },
  {
   "cell_type": "code",
   "execution_count": null,
   "id": "e2e6757d",
   "metadata": {},
   "outputs": [],
   "source": []
  },
  {
   "cell_type": "code",
   "execution_count": null,
   "id": "2a13b1a1",
   "metadata": {},
   "outputs": [],
   "source": [
    "# Make an Amount/Balance Ratio field\n",
    "dfd['amount_balance_ratio_dep'] = np.where(dfd['balance'] == 0, 0, dfd['amount_dep']/dfd['balance'])"
   ]
  },
  {
   "cell_type": "code",
   "execution_count": null,
   "id": "a7becede",
   "metadata": {},
   "outputs": [],
   "source": [
    "%%time\n",
    "\n",
    "# number of deposit transactions\n",
    "a01 = pd.DataFrame(dfd.groupby(by = ['transaction_id']).size()).reset_index().rename(columns = {0:'Txn_Count_Dep_L30D'})\n",
    "print(a01.shape[0])\n",
    "print(a01['transaction_id'].nunique())"
   ]
  },
  {
   "cell_type": "code",
   "execution_count": null,
   "id": "05820bb3",
   "metadata": {},
   "outputs": [],
   "source": [
    "dfd['transaction_datetime_dep'].isna().sum()"
   ]
  },
  {
   "cell_type": "code",
   "execution_count": null,
   "id": "7d9b7cb9",
   "metadata": {},
   "outputs": [],
   "source": [
    "%%time\n",
    "\n",
    "# number of transactions of top record types\n",
    "a01 = a01.merge(pd.DataFrame(dfd.loc[dfd['record_type'] == '40'].groupby(by = ['transaction_id']).size()).reset_index().rename(columns = {0:'Txn_Count_Dep_40_L30D'}), on = ['transaction_id'], how = 'left')\n",
    "a01 = a01.merge(pd.DataFrame(dfd.loc[dfd['record_type'] == '20'].groupby(by = ['transaction_id']).size()).reset_index().rename(columns = {0:'Txn_Count_Dep_20_L30D'}), on = ['transaction_id'], how = 'left')\n",
    "\n",
    "# date of last deposit transaction\n",
    "a01 = a01.merge(pd.DataFrame(dfd.groupby(by = ['transaction_id'])['transaction_datetime_dep'].max()).reset_index().rename(columns = {'transaction_datetime_dep':'DateLastTxn_Dep'}), on = ['transaction_id'], how = 'left')\n",
    "\n",
    "# number of unique teller id/transaction code/record type/amount/branch\n",
    "a01 = a01.merge(pd.DataFrame(dfd.groupby(by = ['transaction_id'])['teller_id'].nunique()).reset_index().rename(columns = {'teller_id':'Dep_Unique_TellerID_L30D'}), on = ['transaction_id'], how = 'left')\n",
    "a01 = a01.merge(pd.DataFrame(dfd.groupby(by = ['transaction_id'])['transaction_code'].nunique()).reset_index().rename(columns = {'transaction_code':'Dep_Unique_TransCode_L30D'}), on = ['transaction_id'], how = 'left')\n",
    "a01 = a01.merge(pd.DataFrame(dfd.groupby(by = ['transaction_id'])['amount_dep'].nunique()).reset_index().rename(columns = {'amount_dep':'Dep_Unique_Amount_L30D'}), on = ['transaction_id'], how = 'left')\n",
    "a01 = a01.merge(pd.DataFrame(dfd.groupby(by = ['transaction_id'])['record_type'].nunique()).reset_index().rename(columns = {'record_type':'Dep_Unique_RecordType_L30D'}), on = ['transaction_id'], how = 'left')\n",
    "a01 = a01.merge(pd.DataFrame(dfd.groupby(by = ['transaction_id'])['transaction_branch'].nunique()).reset_index().rename(columns = {'transaction_branch':'Dep_Unique_Branch_L30D'}), on = ['transaction_id'], how = 'left')\n",
    "\n",
    "\n",
    "# Average/Max Deposit Amount, Balance\n",
    "a01 = a01.merge(pd.DataFrame(dfd.groupby(by = ['transaction_id'])['amount_dep'].mean()).reset_index().rename(columns = {'amount_dep':'Dep_AvgAmoutL30D'}), on = ['transaction_id'], how = 'left')\n",
    "a01 = a01.merge(pd.DataFrame(dfd.groupby(by = ['transaction_id'])['amount_dep'].max()).reset_index().rename(columns = {'amount_dep':'Dep_MaxAmount_L30D'}), on = ['transaction_id'], how = 'left')\n",
    "a01 = a01.merge(pd.DataFrame(dfd.groupby(by = ['transaction_id'])['balance'].mean()).reset_index().rename(columns = {'balance':'Dep_AvgBalance_L30D'}), on = ['transaction_id'], how = 'left')\n",
    "a01 = a01.merge(pd.DataFrame(dfd.groupby(by = ['transaction_id'])['balance'].max()).reset_index().rename(columns = {'balance':'Dep_MaxBalance_L30D'}), on = ['transaction_id'], how = 'left')\n",
    "a01 = a01.merge(pd.DataFrame(dfd.groupby(by = ['transaction_id'])['balance'].min()).reset_index().rename(columns = {'balance':'Dep_MinBalance_L30D'}), on = ['transaction_id'], how = 'left')\n",
    "a01 = a01.merge(pd.DataFrame(dfd.groupby(by = ['transaction_id'])['amount_balance_ratio_dep'].mean()).reset_index().rename(columns = {'amount_balance_ratio_dep':'Dep_AvgAmtBalRatio_L30D'}), on = ['transaction_id'], how = 'left')\n",
    "a01 = a01.merge(pd.DataFrame(dfd.groupby(by = ['transaction_id'])['amount_balance_ratio_dep'].max()).reset_index().rename(columns = {'amount_balance_ratio_dep':'Dep_MaxAmtBalRatio_L30D'}), on = ['transaction_id'], how = 'left')\n",
    "a01 = a01.merge(pd.DataFrame(dfd.groupby(by = ['transaction_id'])['amount_balance_ratio_dep'].min()).reset_index().rename(columns = {'amount_balance_ratio_dep':'Dep_MinAmtBalRatio_L30D'}), on = ['transaction_id'], how = 'left')\n",
    "\n",
    "# Age of Account\n",
    "a01 = a01.merge(pd.DataFrame(dfd.groupby(by = ['transaction_id'])['account_age'].mean()).reset_index().rename(columns = {'account_age':'Dep_AvgAcctAge_L30D'}), on = ['transaction_id'], how = 'left')\n",
    "a01 = a01.merge(pd.DataFrame(dfd.groupby(by = ['transaction_id'])['account_age'].max()).reset_index().rename(columns = {'account_age':'Dep_MaxAcctAge_L30D'}), on = ['transaction_id'], how = 'left')\n",
    "a01 = a01.merge(pd.DataFrame(dfd.groupby(by = ['transaction_id'])['account_age'].min()).reset_index().rename(columns = {'account_age':'Dep_MinAcctAge_L30D'}), on = ['transaction_id'], how = 'left')\n",
    "\n"
   ]
  },
  {
   "cell_type": "code",
   "execution_count": null,
   "id": "2f4eb026",
   "metadata": {},
   "outputs": [],
   "source": [
    "a01.head()"
   ]
  },
  {
   "cell_type": "code",
   "execution_count": null,
   "id": "cbcb09ef",
   "metadata": {},
   "outputs": [],
   "source": [
    "a01['transaction_id'].nunique()"
   ]
  },
  {
   "cell_type": "code",
   "execution_count": null,
   "id": "6c1f1dbe",
   "metadata": {},
   "outputs": [],
   "source": [
    "a01.shape"
   ]
  },
  {
   "cell_type": "code",
   "execution_count": null,
   "id": "055820c7",
   "metadata": {},
   "outputs": [],
   "source": [
    "# Check the memory usage\n",
    "import sys\n",
    "\n",
    "ipython_vars = ['In', 'Out', 'exit', 'quit', 'get_ipython', 'ipython_vars']\n",
    "\n",
    "sorted([(x, sys.getsizeof(globals().get(x))*0.00000095367432) for x in dir() if not x.startswith('_') and x not in sys.modules and x not in ipython_vars], key=lambda x: x[1], reverse=True)"
   ]
  },
  {
   "cell_type": "code",
   "execution_count": null,
   "id": "94d033f8",
   "metadata": {},
   "outputs": [],
   "source": [
    "del(dfn)"
   ]
  },
  {
   "cell_type": "code",
   "execution_count": null,
   "id": "783ad887",
   "metadata": {},
   "outputs": [],
   "source": [
    "import gc\n",
    "gc.collect()"
   ]
  },
  {
   "cell_type": "code",
   "execution_count": null,
   "id": "d8fc47f9",
   "metadata": {},
   "outputs": [],
   "source": [
    "fraud_mobile.to_csv(r'C:\\Users\\AEmslie\\OneDrive - GB Group PLC\\Sales\\TTB\\PoC 2\\Data\\fraud_mobile.csv', index=False)"
   ]
  },
  {
   "cell_type": "markdown",
   "id": "aee55ac3",
   "metadata": {},
   "source": [
    "#### Merge to Mobile"
   ]
  },
  {
   "cell_type": "code",
   "execution_count": null,
   "id": "b289b7e7",
   "metadata": {},
   "outputs": [],
   "source": [
    "fraud_mobile_dep = fraud_mobile.merge(a01.drop(columns = ['Txn_Count_Dep_40_L30D_y','Txn_Count_Dep_20_L30D_y']).rename(columns = {'Txn_Count_Dep_40_L30D_x':'Txn_Count_Dep_40_L30D',\n",
    "                                                                                                                                 'Txn_Count_Dep_20_L30D_x':'Txn_Count_Dep_20_L30D'}),\n",
    "                         left_on = ['transaction_id'],\n",
    "                         right_on = ['transaction_id'],\n",
    "                         how = 'left',\n",
    "                         indicator = 'merge_mob_dep')"
   ]
  },
  {
   "cell_type": "code",
   "execution_count": null,
   "id": "efe4b253",
   "metadata": {},
   "outputs": [],
   "source": [
    "fraud_mobile_dep.groupby(by = ['merge_mob_dep','flag','Fraud'], dropna=False).size()"
   ]
  },
  {
   "cell_type": "code",
   "execution_count": null,
   "id": "1aa4fb06",
   "metadata": {},
   "outputs": [],
   "source": [
    "print(fraud_mobile_dep.shape[0])\n",
    "print(fraud_mobile_dep['customer_id'].nunique())\n",
    "print(fraud_mobile_dep['transaction_id'].nunique())"
   ]
  },
  {
   "cell_type": "code",
   "execution_count": null,
   "id": "0897c1d7",
   "metadata": {},
   "outputs": [],
   "source": [
    "print(fraud_mobile_financial.shape[0])\n",
    "print(fraud_mobile_financial['customer_id'].nunique())\n",
    "print(fraud_mobile_financial['transaction_id'].nunique())"
   ]
  },
  {
   "cell_type": "code",
   "execution_count": null,
   "id": "b7edfe4f",
   "metadata": {},
   "outputs": [],
   "source": [
    "fraud_mobile_dep.to_csv(r'C:\\Users\\AEmslie\\OneDrive - GB Group PLC\\Sales\\TTB\\PoC 2\\Data\\fraud_mobile_dep.csv', index=False)"
   ]
  },
  {
   "cell_type": "code",
   "execution_count": null,
   "id": "c046a8ad",
   "metadata": {},
   "outputs": [],
   "source": [
    "fraud_mobile_dep.head()"
   ]
  },
  {
   "cell_type": "markdown",
   "id": "d0994a7e",
   "metadata": {},
   "source": [
    "#### Add Reference Customer"
   ]
  },
  {
   "cell_type": "code",
   "execution_count": null,
   "id": "f2cdf7f2",
   "metadata": {},
   "outputs": [],
   "source": [
    "reference_customer.columns"
   ]
  },
  {
   "cell_type": "code",
   "execution_count": null,
   "id": "4d312e4b",
   "metadata": {},
   "outputs": [],
   "source": [
    "fraud_mobile_dep_cust = fraud_mobile_dep.merge(reference_customer,\n",
    "                                       on = ['customer_id'],\n",
    "                                       how = 'left',\n",
    "                                      indicator = 'merge_mob_dep_cust',\n",
    "                             suffixes = [None, '_refcust'])"
   ]
  },
  {
   "cell_type": "code",
   "execution_count": null,
   "id": "d2c8fcf5",
   "metadata": {},
   "outputs": [],
   "source": [
    "print(fraud_mobile_dep_cust.shape[0])\n",
    "print(fraud_mobile_dep_cust['customer_id'].nunique())\n",
    "print(fraud_mobile_dep_cust['transaction_id'].nunique())\n",
    "print(fraud_mobile_dep_cust['account_number'].nunique())"
   ]
  },
  {
   "cell_type": "code",
   "execution_count": null,
   "id": "6dc1fd4c",
   "metadata": {},
   "outputs": [],
   "source": [
    "fraud_mobile_dep_cust.groupby(['merge_mob_dep_cust'], dropna=False).size()"
   ]
  },
  {
   "cell_type": "markdown",
   "id": "2ab0b19b",
   "metadata": {},
   "source": [
    "#### Add Reference Deposit"
   ]
  },
  {
   "cell_type": "code",
   "execution_count": null,
   "id": "5bb2796f",
   "metadata": {},
   "outputs": [],
   "source": [
    "reference_deposit.columns"
   ]
  },
  {
   "cell_type": "code",
   "execution_count": null,
   "id": "738ec27b",
   "metadata": {},
   "outputs": [],
   "source": [
    "print(reference_deposit.shape[0])\n",
    "print(reference_deposit['account_number'].nunique())"
   ]
  },
  {
   "cell_type": "code",
   "execution_count": null,
   "id": "ee2de024",
   "metadata": {},
   "outputs": [],
   "source": [
    "data = fraud_mobile_dep_cust.merge(reference_deposit,\n",
    "                  on = ['account_number'],\n",
    "                  how = 'left',\n",
    "                  indicator = 'merge_mob_dep_cust_dep',\n",
    "                 suffixes = [None, '_refdep'])"
   ]
  },
  {
   "cell_type": "code",
   "execution_count": null,
   "id": "a4180677",
   "metadata": {},
   "outputs": [],
   "source": [
    "print(data.shape[0])\n",
    "print(data[['customer_id','account_number']].nunique())\n",
    "print(data['transaction_id'].nunique())"
   ]
  },
  {
   "cell_type": "code",
   "execution_count": null,
   "id": "2d561c79",
   "metadata": {},
   "outputs": [],
   "source": [
    "data.groupby(['merge_mob_dep_cust_dep']).size()"
   ]
  },
  {
   "cell_type": "code",
   "execution_count": null,
   "id": "b2519ecf",
   "metadata": {},
   "outputs": [],
   "source": [
    "del(fraud_mobile_dep_cust)\n",
    "gc.collect()"
   ]
  },
  {
   "cell_type": "markdown",
   "id": "f8cc0d31",
   "metadata": {},
   "source": [
    "#### Add Employee"
   ]
  },
  {
   "cell_type": "code",
   "execution_count": null,
   "id": "3f165c55",
   "metadata": {},
   "outputs": [],
   "source": [
    "data = data.merge(reference_employee,\n",
    "                  on = ['customer_id'],\n",
    "                  how = 'left',\n",
    "                  indicator = 'merge_employee')"
   ]
  },
  {
   "cell_type": "code",
   "execution_count": null,
   "id": "51a54474",
   "metadata": {},
   "outputs": [],
   "source": [
    "reference_employee.shape"
   ]
  },
  {
   "cell_type": "code",
   "execution_count": null,
   "id": "52197ea2",
   "metadata": {},
   "outputs": [],
   "source": [
    "data.groupby(['merge_employee'], dropna=False).size()"
   ]
  },
  {
   "cell_type": "markdown",
   "id": "a2490ac7",
   "metadata": {},
   "source": [
    "#### Extra Calculations"
   ]
  },
  {
   "cell_type": "code",
   "execution_count": null,
   "id": "ffc9d7df",
   "metadata": {},
   "outputs": [],
   "source": [
    "# create the \"time since last\" calculations\n",
    "data['TimeSinceLast_NF'] = (data['transaction_datetime'] - pd.to_datetime(data['TimeLastTxn_NF']))//np.timedelta64(1,'m')\n",
    "data['TimeSinceLast_NF01'] = (data['transaction_datetime'] - pd.to_datetime(data['TimeLastTxn_NF_01']))//np.timedelta64(1,'m')\n",
    "data['TimeSinceLast_NF02'] = (data['transaction_datetime'] - pd.to_datetime(data['TimeLastTxn_NF_02']))//np.timedelta64(1,'m')\n",
    "data['TimeSinceLast_NF03'] = (data['transaction_datetime'] - pd.to_datetime(data['TimeLastTxn_NF_03']))//np.timedelta64(1,'m')\n",
    "data['TimeSinceLast_NF04'] = (data['transaction_datetime'] - pd.to_datetime(data['TimeLastTxn_NF_04']))//np.timedelta64(1,'m')\n",
    "\n",
    "data['DaysSinceLast_Dep'] = (data['transaction_datetime'] - pd.to_datetime(data['DateLastTxn_Dep']))//np.timedelta64(1,'D')\n",
    "\n",
    "data['Customer_Age'] = (pd.to_datetime(data['transaction_datetime']) - pd.to_datetime(data['date_of_birth']))//np.timedelta64(1,'Y')\n",
    "\n",
    "data['Deposit_Account_Age'] = (pd.to_datetime(data['transaction_datetime']) - pd.to_datetime(data['account_open_date']))//np.timedelta64(1,'D')"
   ]
  },
  {
   "cell_type": "code",
   "execution_count": null,
   "id": "c518d7ff",
   "metadata": {},
   "outputs": [],
   "source": [
    "data.info(verbose=True)"
   ]
  },
  {
   "cell_type": "code",
   "execution_count": null,
   "id": "17fbc435",
   "metadata": {},
   "outputs": [],
   "source": [
    "data.head()"
   ]
  },
  {
   "cell_type": "code",
   "execution_count": null,
   "id": "87e3e47c",
   "metadata": {},
   "outputs": [],
   "source": [
    "data.groupby(['Fraud'])['Deposit_Account_Age'].mean()"
   ]
  },
  {
   "cell_type": "code",
   "execution_count": null,
   "id": "c2005491",
   "metadata": {},
   "outputs": [],
   "source": []
  },
  {
   "cell_type": "markdown",
   "id": "8d6377aa",
   "metadata": {},
   "source": [
    "#### Save the Data to Disk"
   ]
  },
  {
   "cell_type": "code",
   "execution_count": null,
   "id": "25c9688e",
   "metadata": {},
   "outputs": [],
   "source": [
    "data.to_csv(r'C:\\Users\\AEmslie\\OneDrive - GB Group PLC\\Sales\\TTB\\PoC 2\\Data\\data.csv', index=False)"
   ]
  },
  {
   "cell_type": "markdown",
   "id": "7ec5c432",
   "metadata": {},
   "source": [
    "#### Read the Data from Disk"
   ]
  },
  {
   "cell_type": "code",
   "execution_count": null,
   "id": "b18c6646",
   "metadata": {},
   "outputs": [],
   "source": [
    "date_fields = ['end_date',\n",
    "'transaction_datetime',\n",
    "'time_row_before',\n",
    "'time_row_before_transaction_type',\n",
    "'time_row_before_from_account_to_account',\n",
    "'time_row_before_to_account',\n",
    "'time_row_before_to_bank_code',\n",
    "'time_row_before_any_id_type',    \n",
    "'transaction_datetime_f',\n",
    "'TimeLastTxn_NF',\n",
    "'TimeLastTxn_NF_01',\n",
    "'TimeLastTxn_NF_02',\n",
    "'TimeLastTxn_NF_03',\n",
    "'TimeLastTxn_NF_04',  \n",
    "'DateLastTxn_Dep',\n",
    "'date_of_birth',\n",
    "'account_open_date']\n",
    "\n"
   ]
  },
  {
   "cell_type": "code",
   "execution_count": null,
   "id": "b8789bc3",
   "metadata": {},
   "outputs": [],
   "source": [
    "data = pd.read_csv(r'C:\\Users\\AEmslie\\OneDrive - GB Group PLC\\Sales\\TTB\\PoC 2\\Data\\data.csv',\n",
    "                  parse_dates = date_fields)"
   ]
  },
  {
   "cell_type": "code",
   "execution_count": null,
   "id": "1629e364",
   "metadata": {},
   "outputs": [],
   "source": [
    "data['time_row_before_any_id_type'].describe(datetime_is_numeric=True)"
   ]
  },
  {
   "cell_type": "code",
   "execution_count": null,
   "id": "e26708af",
   "metadata": {},
   "outputs": [],
   "source": [
    "data.info(verbose=True,show_counts=True)"
   ]
  },
  {
   "cell_type": "markdown",
   "id": "bdd54df5",
   "metadata": {},
   "source": [
    "#### Channel Transactions"
   ]
  },
  {
   "cell_type": "code",
   "execution_count": null,
   "id": "e8dcbc55",
   "metadata": {},
   "outputs": [],
   "source": [
    "channel_transaction.shape"
   ]
  },
  {
   "cell_type": "code",
   "execution_count": null,
   "id": "1c8a1209",
   "metadata": {},
   "outputs": [],
   "source": [
    "channel_transaction.info(show_counts=True)"
   ]
  },
  {
   "cell_type": "code",
   "execution_count": null,
   "id": "65a3b65d",
   "metadata": {},
   "outputs": [],
   "source": [
    "channel_transaction['from_account_number'].nunique()"
   ]
  },
  {
   "cell_type": "code",
   "execution_count": null,
   "id": "b31ed458",
   "metadata": {},
   "outputs": [],
   "source": [
    "data[['customer_id','from_account_no','transaction_id','transaction_datetime']].merge(channel_transaction[['customer_id','from_account_number','transaction_datetime']],\n",
    "                                                left_on = ['customer_id','from_account_no','transaction_datetime'],\n",
    "                                                right_on = ['customer_id','from_account_number','transaction_datetime'],\n",
    "                                                how = 'right',\n",
    "                                                indicator = 'merge_mob_channel').groupby(['merge_mob_channel']).size()\n"
   ]
  },
  {
   "cell_type": "code",
   "execution_count": null,
   "id": "016a6ebe",
   "metadata": {},
   "outputs": [],
   "source": [
    "channel_transaction.head()"
   ]
  },
  {
   "cell_type": "code",
   "execution_count": null,
   "id": "cc15e0ef",
   "metadata": {},
   "outputs": [],
   "source": [
    "channel_non_mobile = channel_transaction.merge(data[['transaction_id','from_account_no','customer_id','transaction_datetime','amount']],\n",
    "                         left_on = ['customer_id','from_account_number','transaction_datetime','amount'],\n",
    "                         right_on = ['customer_id','from_account_no','transaction_datetime','amount'],\n",
    "                         how = 'left')\n",
    "\n",
    "channel_non_mobile = channel_non_mobile.loc[channel_non_mobile['transaction_id'].isna() == True]"
   ]
  },
  {
   "cell_type": "code",
   "execution_count": null,
   "id": "c50480df",
   "metadata": {},
   "outputs": [],
   "source": [
    "channel_non_mobile.shape[0]"
   ]
  },
  {
   "cell_type": "code",
   "execution_count": null,
   "id": "6aec4d9f",
   "metadata": {},
   "outputs": [],
   "source": [
    "%%time\n",
    "\n",
    "# merge the Channel to the Mobile\n",
    "# this will merge the Mobile record with the closest future transaction_datetime onto the channel transaction record\n",
    "# will include only transactions within 30 days\n",
    "\n",
    "data = data.sort_values(by = ['transaction_datetime'])\n",
    "channel_non_mobile = channel_non_mobile.sort_values(by = ['transaction_datetime'])\n",
    "\n",
    "channel_non_mobile = pd.merge_asof(channel_non_mobile.drop(columns = ['from_account_no','transaction_id']),\n",
    "                                   data[['transaction_id','transaction_datetime','customer_id','from_account_no']],\n",
    "              left_on = ['transaction_datetime'], right_on = ['transaction_datetime'],\n",
    "              left_by = ['customer_id'], right_by = ['customer_id'],\n",
    "              tolerance = pd.Timedelta(days = 30),\n",
    "              direction = 'forward',\n",
    "              suffixes = ['_chan', None])\n",
    "\n",
    "channel_non_mobile.head()\n",
    "\n"
   ]
  },
  {
   "cell_type": "code",
   "execution_count": null,
   "id": "248d61e3",
   "metadata": {},
   "outputs": [],
   "source": [
    "channel_non_mobile['transaction_id'].nunique()"
   ]
  },
  {
   "cell_type": "code",
   "execution_count": null,
   "id": "2171cb16",
   "metadata": {},
   "outputs": [],
   "source": [
    "channel_non_mobile['transaction_id'].notna().sum()"
   ]
  },
  {
   "cell_type": "code",
   "execution_count": null,
   "id": "37314722",
   "metadata": {},
   "outputs": [],
   "source": [
    "channel_non_mobile.shape[0]"
   ]
  },
  {
   "cell_type": "code",
   "execution_count": null,
   "id": "e4a30937",
   "metadata": {},
   "outputs": [],
   "source": [
    "%%time\n",
    "\n",
    "# number of channel transactions\n",
    "a01 = pd.DataFrame(channel_non_mobile.groupby(by = ['transaction_id']).size()).reset_index().rename(columns = {0:'Txn_Count_ChannelNM_L30D'}).fillna(0)\n",
    "print(a01.shape[0])\n",
    "print(a01['transaction_id'].nunique())"
   ]
  },
  {
   "cell_type": "code",
   "execution_count": null,
   "id": "05355775",
   "metadata": {},
   "outputs": [],
   "source": [
    "%%time\n",
    "\n",
    "# number of transactions of specific service types\n",
    "a01 = a01.merge(pd.DataFrame(channel_non_mobile.loc[channel_non_mobile['service_type'] == 'MOB'].groupby(by = ['transaction_id']).size()).reset_index().rename(columns = {0:'Txn_Count_Ch_MOB_L30D'}), on = ['transaction_id'], how = 'left').fillna(0)\n",
    "a01 = a01.merge(pd.DataFrame(channel_non_mobile.loc[channel_non_mobile['service_type'] == 'INT'].groupby(by = ['transaction_id']).size()).reset_index().rename(columns = {0:'Txn_Count_Ch_INT_L30D'}), on = ['transaction_id'], how = 'left').fillna(0)\n",
    "a01 = a01.merge(pd.DataFrame(channel_non_mobile.loc[channel_non_mobile['service_type'] == 'BIT'].groupby(by = ['transaction_id']).size()).reset_index().rename(columns = {0:'Txn_Count_Ch_BIT_L30D'}), on = ['transaction_id'], how = 'left').fillna(0)\n",
    "a01 = a01.merge(pd.DataFrame(channel_non_mobile.loc[channel_non_mobile['channel'] == '74'].groupby(by = ['transaction_id']).size()).reset_index().rename(columns = {0:'Txn_Count_Ch_74_L30D'}), on = ['transaction_id'], how = 'left').fillna(0)\n",
    "a01 = a01.merge(pd.DataFrame(channel_non_mobile.loc[channel_non_mobile['channel'] == '76'].groupby(by = ['transaction_id']).size()).reset_index().rename(columns = {0:'Txn_Count_Ch_76_L30D'}), on = ['transaction_id'], how = 'left').fillna(0)\n",
    "\n",
    "\n",
    "# date of last channel transaction\n",
    "a01 = a01.merge(pd.DataFrame(channel_non_mobile.groupby(by = ['transaction_id'])['transaction_datetime'].max()).reset_index().rename(columns = {'transaction_datetime':'DateLastTxn_Ch'}), on = ['transaction_id'], how = 'left')\n",
    "\n",
    "# number of unique to_bank_code/transaction code/channel/amount/terminal_bank_id/terminal_id\n",
    "a01 = a01.merge(pd.DataFrame(channel_non_mobile.groupby(by = ['transaction_id'])['to_bank_code'].nunique()).reset_index().rename(columns = {'to_bank_code':'Ch_Unique_ToBank_L30D'}), on = ['transaction_id'], how = 'left')\n",
    "a01 = a01.merge(pd.DataFrame(channel_non_mobile.groupby(by = ['transaction_id'])['transaction_code'].nunique()).reset_index().rename(columns = {'transaction_code':'Ch_Unique_TransCode_L30D'}), on = ['transaction_id'], how = 'left')\n",
    "a01 = a01.merge(pd.DataFrame(channel_non_mobile.groupby(by = ['transaction_id'])['amount'].nunique()).reset_index().rename(columns = {'amount':'Ch_Unique_Amount_L30D'}), on = ['transaction_id'], how = 'left')\n",
    "a01 = a01.merge(pd.DataFrame(channel_non_mobile.groupby(by = ['transaction_id'])['channel'].nunique()).reset_index().rename(columns = {'channel':'Ch_Unique_Channel_L30D'}), on = ['transaction_id'], how = 'left')\n",
    "a01 = a01.merge(pd.DataFrame(channel_non_mobile.groupby(by = ['transaction_id'])['terminal_bank_id'].nunique()).reset_index().rename(columns = {'terminal_bank_id':'Ch_Unique_TermBankId_L30D'}), on = ['transaction_id'], how = 'left')\n",
    "a01 = a01.merge(pd.DataFrame(channel_non_mobile.groupby(by = ['transaction_id'])['terminal_id'].nunique()).reset_index().rename(columns = {'terminal_id':'Ch_Unique_TermId_L30D'}), on = ['transaction_id'], how = 'left')\n",
    "\n",
    "\n",
    "# Average/Max Amount\n",
    "a01 = a01.merge(pd.DataFrame(channel_non_mobile.groupby(by = ['transaction_id'])['amount'].mean()).reset_index().rename(columns = {'amount':'Ch_AvgAmoutL30D'}), on = ['transaction_id'], how = 'left')\n",
    "a01 = a01.merge(pd.DataFrame(channel_non_mobile.groupby(by = ['transaction_id'])['amount'].max()).reset_index().rename(columns = {'amount':'Ch_MaxAmount_L30D'}), on = ['transaction_id'], how = 'left')\n"
   ]
  },
  {
   "cell_type": "code",
   "execution_count": null,
   "id": "51c3a925",
   "metadata": {},
   "outputs": [],
   "source": [
    "a01.head()"
   ]
  },
  {
   "cell_type": "code",
   "execution_count": null,
   "id": "cf5ba41d",
   "metadata": {},
   "outputs": [],
   "source": [
    "# Merge back to the Mobile Financial transactions\n",
    "\n",
    "data = data.merge(a01,\n",
    "                  left_on = ['transaction_id'],\n",
    "                  right_on = ['transaction_id'],\n",
    "                  how = 'left',\n",
    "                  indicator = 'merge_channel')"
   ]
  },
  {
   "cell_type": "code",
   "execution_count": null,
   "id": "d37a626d",
   "metadata": {},
   "outputs": [],
   "source": [
    "data.info(verbose=True)"
   ]
  },
  {
   "cell_type": "code",
   "execution_count": null,
   "id": "c24caf00",
   "metadata": {},
   "outputs": [],
   "source": []
  },
  {
   "cell_type": "markdown",
   "id": "6d869ee9",
   "metadata": {},
   "source": [
    "#### Deposit Customer Maintenance"
   ]
  },
  {
   "cell_type": "code",
   "execution_count": null,
   "id": "066703f0",
   "metadata": {},
   "outputs": [],
   "source": [
    "deposit_customer_maintenance.info(show_counts=True)"
   ]
  },
  {
   "cell_type": "code",
   "execution_count": null,
   "id": "cc03355e",
   "metadata": {},
   "outputs": [],
   "source": [
    "deposit_customer_maintenance.head()"
   ]
  },
  {
   "cell_type": "code",
   "execution_count": null,
   "id": "6c3a743e",
   "metadata": {},
   "outputs": [],
   "source": [
    "deposit_customer_maintenance.groupby(['action_code'], dropna=False).size()"
   ]
  },
  {
   "cell_type": "code",
   "execution_count": null,
   "id": "72246868",
   "metadata": {},
   "outputs": [],
   "source": [
    "%%time\n",
    "\n",
    "# merge the Channel to the Mobile\n",
    "# this will merge the Mobile record with the closest future transaction_datetime onto the channel transaction record\n",
    "# will include only transactions within 30 days\n",
    "\n",
    "data = data.sort_values(by = ['transaction_datetime'])\n",
    "deposit_customer_maintenance = deposit_customer_maintenance.sort_values(by = ['transaction_datetime'])\n",
    "\n",
    "deposit_customer_maintenance = pd.merge_asof(deposit_customer_maintenance,\n",
    "                                   data[['transaction_id','transaction_datetime','customer_id']],\n",
    "              left_on = ['transaction_datetime'], right_on = ['transaction_datetime'],\n",
    "              left_by = ['customer_id'], right_by = ['customer_id'],\n",
    "              tolerance = pd.Timedelta(days = 30),\n",
    "              direction = 'forward',\n",
    "              suffixes = ['_dcm', None])\n",
    "\n",
    "deposit_customer_maintenance.head()"
   ]
  },
  {
   "cell_type": "code",
   "execution_count": null,
   "id": "c2d0467d",
   "metadata": {},
   "outputs": [],
   "source": [
    "%%time\n",
    "\n",
    "# number of DCM transactions\n",
    "a01 = pd.DataFrame(deposit_customer_maintenance.groupby(by = ['transaction_id']).size()).reset_index().rename(columns = {0:'Txn_Count_DCM_L30D'}).fillna(0)\n",
    "print(a01.shape[0])\n",
    "print(a01['transaction_id'].nunique())"
   ]
  },
  {
   "cell_type": "code",
   "execution_count": null,
   "id": "f4254217",
   "metadata": {},
   "outputs": [],
   "source": [
    "%%time\n",
    "\n",
    "# number of transactions of specific service types\n",
    "a01 = a01.merge(pd.DataFrame(deposit_customer_maintenance.loc[deposit_customer_maintenance['action_code'] == 'A'].groupby(by = ['transaction_id']).size()).reset_index().rename(columns = {0:'Txn_Count_DCM_A_L30D'}), on = ['transaction_id'], how = 'left').fillna(0)\n",
    "a01 = a01.merge(pd.DataFrame(deposit_customer_maintenance.loc[deposit_customer_maintenance['action_code'] == 'U'].groupby(by = ['transaction_id']).size()).reset_index().rename(columns = {0:'Txn_Count_DCM_U_L30D'}), on = ['transaction_id'], how = 'left').fillna(0)\n",
    "\n",
    "# date of last DCM transaction\n",
    "a01 = a01.merge(pd.DataFrame(deposit_customer_maintenance.groupby(by = ['transaction_id'])['transaction_datetime'].max()).reset_index().rename(columns = {'transaction_datetime':'DateLastTxn_DCM'}), on = ['transaction_id'], how = 'left')\n",
    "\n",
    "# number of unique action_code/user_id/update_field_code\n",
    "a01 = a01.merge(pd.DataFrame(deposit_customer_maintenance.groupby(by = ['transaction_id'])['action_code'].nunique()).reset_index().rename(columns = {'action_code':'DCM_Unique_ActionCode_L30D'}), on = ['transaction_id'], how = 'left')\n",
    "a01 = a01.merge(pd.DataFrame(deposit_customer_maintenance.groupby(by = ['transaction_id'])['user_id'].nunique()).reset_index().rename(columns = {'user_id':'DCM_Unique_UserId_L30D'}), on = ['transaction_id'], how = 'left')\n",
    "a01 = a01.merge(pd.DataFrame(deposit_customer_maintenance.groupby(by = ['transaction_id'])['update_field_code'].nunique()).reset_index().rename(columns = {'update_field_code':'DCM_Unique_UFieldCode_L30D'}), on = ['transaction_id'], how = 'left')\n"
   ]
  },
  {
   "cell_type": "code",
   "execution_count": null,
   "id": "1db6f35d",
   "metadata": {},
   "outputs": [],
   "source": [
    "a01.head()"
   ]
  },
  {
   "cell_type": "code",
   "execution_count": null,
   "id": "baaae7d4",
   "metadata": {},
   "outputs": [],
   "source": [
    "a01.shape"
   ]
  },
  {
   "cell_type": "code",
   "execution_count": null,
   "id": "2b360e4e",
   "metadata": {},
   "outputs": [],
   "source": [
    "# Merge back to the Mobile Financial transactions\n",
    "\n",
    "data = data.merge(a01,\n",
    "                  left_on = ['transaction_id'],\n",
    "                  right_on = ['transaction_id'],\n",
    "                  how = 'left',\n",
    "                  indicator = 'merge_DCM')"
   ]
  },
  {
   "cell_type": "code",
   "execution_count": null,
   "id": "f2f4cc1f",
   "metadata": {},
   "outputs": [],
   "source": [
    "# Make the Time Since fields\n",
    "\n",
    "data['TimeSinceLast_DCM'] = (data['transaction_datetime'] - pd.to_datetime(data['DateLastTxn_DCM']))//np.timedelta64(1,'D')\n",
    "data['TimeSinceLast_Ch'] = (data['transaction_datetime'] - pd.to_datetime(data['DateLastTxn_Ch']))//np.timedelta64(1,'D')\n"
   ]
  },
  {
   "cell_type": "code",
   "execution_count": null,
   "id": "cddbddfe",
   "metadata": {},
   "outputs": [],
   "source": []
  },
  {
   "cell_type": "markdown",
   "id": "69cc9f24",
   "metadata": {},
   "source": [
    "#### Card Transactions"
   ]
  },
  {
   "cell_type": "code",
   "execution_count": null,
   "id": "d99d561a",
   "metadata": {},
   "outputs": [],
   "source": [
    "card_transaction.head()"
   ]
  },
  {
   "cell_type": "code",
   "execution_count": null,
   "id": "fa301332",
   "metadata": {},
   "outputs": [],
   "source": [
    "card_transaction['transaction_datetime'].describe(datetime_is_numeric=True)"
   ]
  },
  {
   "cell_type": "code",
   "execution_count": null,
   "id": "362cfac2",
   "metadata": {},
   "outputs": [],
   "source": [
    "data['customer_id'].nunique()"
   ]
  },
  {
   "cell_type": "code",
   "execution_count": null,
   "id": "ca4dd1a2",
   "metadata": {},
   "outputs": [],
   "source": [
    "x = data[['transaction_id','transaction_datetime','customer_id']].merge(card_daily,\n",
    "                                                                   on = ['customer_id'],\n",
    "                                                                   how = 'left',\n",
    "                                                                   indicator = \"merge_card\")\n",
    "x.loc[x['merge_card'] == 'both']['customer_id'].nunique()"
   ]
  },
  {
   "cell_type": "markdown",
   "id": "a99142ab",
   "metadata": {},
   "source": [
    "#### Only 4 matching customer_ids - OMIT card data\n"
   ]
  },
  {
   "cell_type": "code",
   "execution_count": null,
   "id": "25e9ce65",
   "metadata": {},
   "outputs": [],
   "source": [
    "%%time\n",
    "\n",
    "# merge the Card Transactions to the Mobile\n",
    "# this will merge the Mobile record with the closest future transaction_datetime onto the card transaction record\n",
    "# will include only transactions within 30 days\n",
    "\n",
    "data = data.sort_values(by = ['transaction_datetime'])\n",
    "card_transaction = card_transaction.sort_values(by = ['transaction_datetime'])\n",
    "\n",
    "card_transaction = pd.merge_asof(card_transaction,\n",
    "                                 data[['transaction_id','transaction_datetime','customer_id']],\n",
    "              left_on = ['transaction_datetime'], right_on = ['transaction_datetime'],\n",
    "              left_by = ['customer_id'], right_by = ['customer_id'],\n",
    "              tolerance = pd.Timedelta(days = 90),\n",
    "              direction = 'forward',\n",
    "              suffixes = ['_card', None])\n",
    "\n",
    "card_transaction.head()"
   ]
  },
  {
   "cell_type": "code",
   "execution_count": null,
   "id": "c1875096",
   "metadata": {},
   "outputs": [],
   "source": [
    "%%time\n",
    "\n",
    "# number of DCM transactions\n",
    "a01 = pd.DataFrame(card_transaction.groupby(by = ['transaction_id']).size()).reset_index().rename(columns = {0:'Txn_Count_Card_L30D'}).fillna(0)\n",
    "print(a01.shape[0])\n",
    "print(a01['transaction_id'].nunique())"
   ]
  },
  {
   "cell_type": "code",
   "execution_count": null,
   "id": "c6bd994b",
   "metadata": {},
   "outputs": [],
   "source": [
    "%%time\n",
    "\n",
    "# number of transactions of specific things\n",
    "a01 = a01.merge(pd.DataFrame(card_transaction.loc[card_transaction['source_currency'] == 'THB'].groupby(by = ['transaction_id']).size()).reset_index().rename(columns = {0:'Txn_Count_Card_THB_L30D'}), on = ['transaction_id'], how = 'left').fillna(0)\n",
    "a01 = a01.merge(pd.DataFrame(card_transaction.loc[card_transaction['source_currency'] != 'THB'].groupby(by = ['transaction_id']).size()).reset_index().rename(columns = {0:'Txn_Count_Card_NotTHB_L30D'}), on = ['transaction_id'], how = 'left').fillna(0)\n",
    "a01 = a01.merge(pd.DataFrame(card_transaction.loc[card_transaction['pos_condition_code'] == '59'].groupby(by = ['transaction_id']).size()).reset_index().rename(columns = {0:'Txn_Count_Card_eComm_L30D'}), on = ['transaction_id'], how = 'left').fillna(0)\n",
    "a01 = a01.merge(pd.DataFrame(card_transaction.loc[card_transaction['domestic'] == 0].groupby(by = ['transaction_id']).size()).reset_index().rename(columns = {0:'Txn_Count_Card_Dom0_L30D'}), on = ['transaction_id'], how = 'left').fillna(0)\n",
    "a01 = a01.merge(pd.DataFrame(card_transaction.loc[card_transaction['country_code'] == '764'].groupby(by = ['transaction_id']).size()).reset_index().rename(columns = {0:'Txn_Count_Card_Country764_L30D'}), on = ['transaction_id'], how = 'left').fillna(0)\n",
    "a01 = a01.merge(pd.DataFrame(card_transaction.loc[card_transaction['country_code'] != '764'].groupby(by = ['transaction_id']).size()).reset_index().rename(columns = {0:'Txn_Count_Card_CountryNot764_L30D'}), on = ['transaction_id'], how = 'left').fillna(0)\n",
    "a01 = a01.merge(pd.DataFrame(card_transaction.loc[card_transaction['pos_entry_mode'] == '01'].groupby(by = ['transaction_id']).size()).reset_index().rename(columns = {0:'Txn_Count_Card_PEM01_L30D'}), on = ['transaction_id'], how = 'left').fillna(0)\n",
    "a01 = a01.merge(pd.DataFrame(card_transaction.loc[card_transaction['pos_entry_mode'] == '05'].groupby(by = ['transaction_id']).size()).reset_index().rename(columns = {0:'Txn_Count_Card_PEM05_L30D'}), on = ['transaction_id'], how = 'left').fillna(0)\n",
    "a01 = a01.merge(pd.DataFrame(card_transaction.loc[card_transaction['pos_entry_mode'] == '07'].groupby(by = ['transaction_id']).size()).reset_index().rename(columns = {0:'Txn_Count_Card_PEM07_L30D'}), on = ['transaction_id'], how = 'left').fillna(0)\n",
    "a01 = a01.merge(pd.DataFrame(card_transaction.loc[card_transaction['pos_entry_mode'] == '10'].groupby(by = ['transaction_id']).size()).reset_index().rename(columns = {0:'Txn_Count_Card_PEM10_L30D'}), on = ['transaction_id'], how = 'left').fillna(0)\n",
    "a01 = a01.merge(pd.DataFrame(card_transaction.loc[card_transaction['decision'] == 'Approve'].groupby(by = ['transaction_id']).size()).reset_index().rename(columns = {0:'Txn_Count_Card_Approve_L30D'}), on = ['transaction_id'], how = 'left').fillna(0)\n",
    "a01 = a01.merge(pd.DataFrame(card_transaction.loc[card_transaction['decision'] == 'Reject'].groupby(by = ['transaction_id']).size()).reset_index().rename(columns = {0:'Txn_Count_Card_Reject_L30D'}), on = ['transaction_id'], how = 'left').fillna(0)\n",
    "\n",
    "\n",
    "# date of last channel transaction\n",
    "a01 = a01.merge(pd.DataFrame(card_transaction.groupby(by = ['transaction_id'])['transaction_datetime'].max()).reset_index().rename(columns = {'transaction_datetime':'DateLastTxn_Card'}), on = ['transaction_id'], how = 'left')\n",
    "a01 = a01.merge(pd.DataFrame(card_transaction.loc[card_transaction['decision'] == 'Approve'].groupby(by = ['transaction_id'])['transaction_datetime'].max()).reset_index().rename(columns = {'transaction_datetime':'DateLastTxn_CardApp'}), on = ['transaction_id'], how = 'left')\n",
    "a01 = a01.merge(pd.DataFrame(card_transaction.loc[card_transaction['decision'] == 'Reject'].groupby(by = ['transaction_id'])['transaction_datetime'].max()).reset_index().rename(columns = {'transaction_datetime':'DateLastTxn_CardRej'}), on = ['transaction_id'], how = 'left')\n",
    "\n",
    "\n",
    "# number of unique to_bank_code/transaction code/channel/amount/terminal_bank_id/terminal_id\n",
    "a01 = a01.merge(pd.DataFrame(card_transaction.groupby(by = ['transaction_id'])['merchant_id'].nunique()).reset_index().rename(columns = {'merchant_id':'Card_Unique_MerchIdL30D'}), on = ['transaction_id'], how = 'left')\n",
    "a01 = a01.merge(pd.DataFrame(card_transaction.groupby(by = ['transaction_id'])['merchant_category_code'].nunique()).reset_index().rename(columns = {'merchant_category_code':'Card_Unique_MCC_L30D'}), on = ['transaction_id'], how = 'left')\n",
    "a01 = a01.merge(pd.DataFrame(card_transaction.groupby(by = ['transaction_id'])['source_currency'].nunique()).reset_index().rename(columns = {'source_currency':'Card_Unique_Currency_L30D'}), on = ['transaction_id'], how = 'left')\n",
    "a01 = a01.merge(pd.DataFrame(card_transaction.groupby(by = ['transaction_id'])['country_code'].nunique()).reset_index().rename(columns = {'country_code':'Card_Unique_CountryCode_L30D'}), on = ['transaction_id'], how = 'left')\n",
    "a01 = a01.merge(pd.DataFrame(card_transaction.groupby(by = ['transaction_id'])['card_acceptor_terminal'].nunique()).reset_index().rename(columns = {'card_acceptor_terminal':'Card_Unique_Terminal_L30D'}), on = ['transaction_id'], how = 'left')\n",
    "a01 = a01.merge(pd.DataFrame(card_transaction.groupby(by = ['transaction_id'])['pos_mode'].nunique()).reset_index().rename(columns = {'pos_mode':'Card_Unique_POSMode_L30D'}), on = ['transaction_id'], how = 'left')\n",
    "\n",
    "\n",
    "# Average/Max Amount\n",
    "a01 = a01.merge(pd.DataFrame(card_transaction.groupby(by = ['transaction_id'])['card_holder_billing_amount'].mean()).reset_index().rename(columns = {'card_holder_billing_amount':'Card_AvgAmoutL30D'}), on = ['transaction_id'], how = 'left')\n",
    "a01 = a01.merge(pd.DataFrame(card_transaction.groupby(by = ['transaction_id'])['card_holder_billing_amount'].max()).reset_index().rename(columns = {'card_holder_billing_amount':'Card_MaxAmount_L30D'}), on = ['transaction_id'], how = 'left')\n"
   ]
  },
  {
   "cell_type": "code",
   "execution_count": null,
   "id": "21122e3f",
   "metadata": {},
   "outputs": [],
   "source": []
  },
  {
   "cell_type": "markdown",
   "id": "2abad323",
   "metadata": {},
   "source": [
    "#### Auto Loan Applications"
   ]
  },
  {
   "cell_type": "code",
   "execution_count": null,
   "id": "636414ea",
   "metadata": {},
   "outputs": [],
   "source": [
    "auto_application.head()"
   ]
  },
  {
   "cell_type": "code",
   "execution_count": null,
   "id": "d7a24719",
   "metadata": {},
   "outputs": [],
   "source": [
    "print(auto_application['citizen_id'].nunique())\n",
    "print(auto_application.shape[0])\n",
    "\n",
    "print(data['citizen_id'].nunique())\n",
    "print(data.shape[0])\n",
    "\n",
    "print(data['customer_id'].nunique())"
   ]
  },
  {
   "cell_type": "code",
   "execution_count": null,
   "id": "861dcb61",
   "metadata": {},
   "outputs": [],
   "source": [
    "data.info(verbose=True)"
   ]
  },
  {
   "cell_type": "code",
   "execution_count": null,
   "id": "4fb4195e",
   "metadata": {},
   "outputs": [],
   "source": [
    "x = data[['citizen_id','transaction_id','customer_id']].merge(auto_application,\n",
    "                                                         on = ['citizen_id'],\n",
    "                                                         how = 'left',\n",
    "                                                         indicator = 'merge_auto')\n",
    "\n",
    "x.loc[x['merge_auto'] == 'both']['customer_id'].nunique()"
   ]
  },
  {
   "cell_type": "code",
   "execution_count": null,
   "id": "19a1969c",
   "metadata": {},
   "outputs": [],
   "source": [
    "x.loc[x['merge_auto'] == 'both']['transaction_id'].nunique()"
   ]
  },
  {
   "cell_type": "code",
   "execution_count": null,
   "id": "f988c959",
   "metadata": {},
   "outputs": [],
   "source": [
    "x.shape[0]"
   ]
  },
  {
   "cell_type": "code",
   "execution_count": null,
   "id": "7c945224",
   "metadata": {},
   "outputs": [],
   "source": [
    "%%time\n",
    "\n",
    "# merge the auto applications to the Mobile\n",
    "# this will merge the Mobile record with the closest future transaction_datetime onto the auto application record\n",
    "# will include only transactions within 180 days\n",
    "\n",
    "data = data.sort_values(by = ['transaction_datetime'])\n",
    "auto_application = auto_application.sort_values(by = ['request_date'])\n",
    "\n",
    "auto_application = pd.merge_asof(auto_application,\n",
    "                                 data[['transaction_id','transaction_datetime','customer_id','citizen_id']],\n",
    "              left_on = ['request_date'], right_on = ['transaction_datetime'],\n",
    "              left_by = ['citizen_id'], right_by = ['citizen_id'],\n",
    "              tolerance = pd.Timedelta(days = 180),\n",
    "              direction = 'forward',\n",
    "              suffixes = ['_auto', None])\n",
    "\n",
    "auto_application.head()"
   ]
  },
  {
   "cell_type": "code",
   "execution_count": null,
   "id": "bf77e921",
   "metadata": {},
   "outputs": [],
   "source": [
    "auto_application['transaction_id'].notna().sum()"
   ]
  },
  {
   "cell_type": "code",
   "execution_count": null,
   "id": "b4c49816",
   "metadata": {},
   "outputs": [],
   "source": [
    "auto_application['customer_id'].nunique()"
   ]
  },
  {
   "cell_type": "markdown",
   "id": "00cd58cc",
   "metadata": {},
   "source": [
    "#### < 200 transactions where Auto Loan Application submitted within 180 days - OMIT auto loan data"
   ]
  },
  {
   "cell_type": "code",
   "execution_count": null,
   "id": "fd610297",
   "metadata": {},
   "outputs": [],
   "source": []
  },
  {
   "cell_type": "code",
   "execution_count": null,
   "id": "811079fc",
   "metadata": {},
   "outputs": [],
   "source": []
  },
  {
   "cell_type": "markdown",
   "id": "215c5785",
   "metadata": {},
   "source": [
    "#### deposit_idcardtracking"
   ]
  },
  {
   "cell_type": "code",
   "execution_count": null,
   "id": "dd21e5d2",
   "metadata": {},
   "outputs": [],
   "source": [
    "deposit_idcardtracking.head()"
   ]
  },
  {
   "cell_type": "code",
   "execution_count": null,
   "id": "ab406495",
   "metadata": {},
   "outputs": [],
   "source": [
    "deposit_idcardtracking.shape"
   ]
  },
  {
   "cell_type": "code",
   "execution_count": null,
   "id": "28be7428",
   "metadata": {},
   "outputs": [],
   "source": [
    "del(x)\n",
    "import gc\n",
    "gc.collect()"
   ]
  },
  {
   "cell_type": "code",
   "execution_count": null,
   "id": "0d76f561",
   "metadata": {},
   "outputs": [],
   "source": [
    "%%time\n",
    "\n",
    "# merge the Card Transactions to the Mobile\n",
    "# this will merge the Mobile record with the closest future transaction_datetime onto the card transaction record\n",
    "# will include only transactions within 30 days\n",
    "\n",
    "data = data.sort_values(by = ['transaction_datetime'])\n",
    "deposit_idcardtracking = deposit_idcardtracking.sort_values(by = ['transaction_datetime'])\n",
    "\n",
    "deposit_idcardtracking = pd.merge_asof(deposit_idcardtracking,\n",
    "                                       data[['transaction_id','transaction_datetime','customer_id','from_account_no','citizen_id']],\n",
    "              left_on = ['transaction_datetime'], right_on = ['transaction_datetime'],\n",
    "              left_by = ['IDCARDNO'], right_by = ['citizen_id'],\n",
    "              tolerance = pd.Timedelta(days = 30),\n",
    "              direction = 'forward',\n",
    "              suffixes = ['_idc', None])\n",
    "\n",
    "deposit_idcardtracking.head()"
   ]
  },
  {
   "cell_type": "code",
   "execution_count": null,
   "id": "8092ffc2",
   "metadata": {},
   "outputs": [],
   "source": [
    "deposit_idcardtracking['transaction_id'].notna().sum()"
   ]
  },
  {
   "cell_type": "code",
   "execution_count": null,
   "id": "8cfbf938",
   "metadata": {},
   "outputs": [],
   "source": [
    "deposit_idcardtracking.shape[0]"
   ]
  },
  {
   "cell_type": "code",
   "execution_count": null,
   "id": "7da7e71a",
   "metadata": {},
   "outputs": [],
   "source": [
    "%%time\n",
    "\n",
    "# number of DCM transactions\n",
    "a01 = pd.DataFrame(deposit_idcardtracking.groupby(by = ['transaction_id']).size()).reset_index().rename(columns = {0:'Txn_Count_IDC_L30D'}).fillna(0)\n",
    "print(a01.shape[0])\n",
    "print(a01['transaction_id'].nunique())"
   ]
  },
  {
   "cell_type": "code",
   "execution_count": null,
   "id": "e1833425",
   "metadata": {},
   "outputs": [],
   "source": [
    "%%time\n",
    "\n",
    "# date of last idcard transaction\n",
    "a01 = a01.merge(pd.DataFrame(deposit_idcardtracking.groupby(by = ['transaction_id'])['transaction_datetime'].max()).reset_index().rename(columns = {'transaction_datetime':'DateLastTxn_IDC'}), on = ['transaction_id'], how = 'left')\n",
    "\n",
    "a01.head()"
   ]
  },
  {
   "cell_type": "code",
   "execution_count": null,
   "id": "558a106f",
   "metadata": {},
   "outputs": [],
   "source": [
    "# Merge back to the Mobile Financial transactions\n",
    "\n",
    "data = data.merge(a01,\n",
    "                  left_on = ['transaction_id'],\n",
    "                  right_on = ['transaction_id'],\n",
    "                  how = 'left',\n",
    "                  indicator = 'merge_IDC')"
   ]
  },
  {
   "cell_type": "code",
   "execution_count": null,
   "id": "a0188c9c",
   "metadata": {},
   "outputs": [],
   "source": [
    "# Make the Time Since fields\n",
    "\n",
    "data['TimeSinceLast_IDC'] = (data['transaction_datetime'] - pd.to_datetime(data['DateLastTxn_IDC']))//np.timedelta64(1,'D')\n"
   ]
  },
  {
   "cell_type": "code",
   "execution_count": null,
   "id": "09c566b2",
   "metadata": {},
   "outputs": [],
   "source": []
  },
  {
   "cell_type": "markdown",
   "id": "c87d3211",
   "metadata": {},
   "source": [
    "#### Deposit SD Activity"
   ]
  },
  {
   "cell_type": "code",
   "execution_count": null,
   "id": "381aec88",
   "metadata": {},
   "outputs": [],
   "source": [
    "deposit_sd_activity.head()"
   ]
  },
  {
   "cell_type": "code",
   "execution_count": null,
   "id": "75250d98",
   "metadata": {},
   "outputs": [],
   "source": [
    "%%time\n",
    "\n",
    "# merge the Card Transactions to the Mobile\n",
    "# this will merge the Mobile record with the closest future transaction_datetime onto the card transaction record\n",
    "# will include only transactions within 30 days\n",
    "\n",
    "data = data.sort_values(by = ['transaction_datetime'])\n",
    "deposit_sd_activity = deposit_sd_activity.sort_values(by = ['transaction_datetime'])\n",
    "\n",
    "deposit_sd_activity = pd.merge_asof(deposit_sd_activity,\n",
    "                                       data[['transaction_id','transaction_datetime','customer_id','from_account_no','citizen_id']],\n",
    "              left_on = ['transaction_datetime'], right_on = ['transaction_datetime'],\n",
    "              left_by = ['tmb_account_id'], right_by = ['from_account_no'],\n",
    "              tolerance = pd.Timedelta(days = 30),\n",
    "              direction = 'forward',\n",
    "              suffixes = ['_sd', None])\n",
    "\n",
    "deposit_sd_activity.head()"
   ]
  },
  {
   "cell_type": "code",
   "execution_count": null,
   "id": "ed661bc1",
   "metadata": {},
   "outputs": [],
   "source": [
    "deposit_sd_activity['transaction_id'].notna().sum()"
   ]
  },
  {
   "cell_type": "code",
   "execution_count": null,
   "id": "da0f49bf",
   "metadata": {},
   "outputs": [],
   "source": [
    "deposit_sd_activity.shape"
   ]
  },
  {
   "cell_type": "code",
   "execution_count": null,
   "id": "e76c86e7",
   "metadata": {},
   "outputs": [],
   "source": [
    "%%time\n",
    "\n",
    "# number of DCM transactions\n",
    "a01 = pd.DataFrame(deposit_sd_activity.groupby(by = ['transaction_id']).size()).reset_index().rename(columns = {0:'Txn_Count_SD_L30D'}).fillna(0)\n",
    "print(a01.shape[0])\n",
    "print(a01['transaction_id'].nunique())"
   ]
  },
  {
   "cell_type": "code",
   "execution_count": null,
   "id": "2d5d4055",
   "metadata": {},
   "outputs": [],
   "source": [
    "%%time\n",
    "\n",
    "# date of last idcard transaction\n",
    "a01 = a01.merge(pd.DataFrame(deposit_sd_activity.groupby(by = ['transaction_id'])['transaction_datetime'].max()).reset_index().rename(columns = {'transaction_datetime':'DateLastTxn_SD'}), on = ['transaction_id'], how = 'left')\n",
    "\n",
    "a01.head()"
   ]
  },
  {
   "cell_type": "code",
   "execution_count": null,
   "id": "f01c454a",
   "metadata": {},
   "outputs": [],
   "source": [
    "%%time\n",
    "\n",
    "# Merge back to the Mobile Financial transactions\n",
    "\n",
    "data = data.merge(a01,\n",
    "                  left_on = ['transaction_id'],\n",
    "                  right_on = ['transaction_id'],\n",
    "                  how = 'left',\n",
    "                  indicator = 'merge_SD')"
   ]
  },
  {
   "cell_type": "code",
   "execution_count": null,
   "id": "556ae2b1",
   "metadata": {},
   "outputs": [],
   "source": [
    "# Make the Time Since fields\n",
    "\n",
    "data['TimeSinceLast_SD'] = (data['transaction_datetime'] - pd.to_datetime(data['DateLastTxn_SD']))//np.timedelta64(1,'D')\n"
   ]
  },
  {
   "cell_type": "code",
   "execution_count": null,
   "id": "b0661cff",
   "metadata": {},
   "outputs": [],
   "source": []
  },
  {
   "cell_type": "markdown",
   "id": "f8bcaa14",
   "metadata": {},
   "source": [
    "#### Deposit Cheque Transaction"
   ]
  },
  {
   "cell_type": "code",
   "execution_count": null,
   "id": "06499772",
   "metadata": {},
   "outputs": [],
   "source": [
    "deposit_cheque_transaction.head()"
   ]
  },
  {
   "cell_type": "code",
   "execution_count": null,
   "id": "d258d821",
   "metadata": {},
   "outputs": [],
   "source": [
    "deposit_cheque_transaction.shape"
   ]
  },
  {
   "cell_type": "code",
   "execution_count": null,
   "id": "17ed0bf4",
   "metadata": {},
   "outputs": [],
   "source": [
    "%%time\n",
    "\n",
    "# merge the Card Transactions to the Mobile\n",
    "# this will merge the Mobile record with the closest future transaction_datetime onto the card transaction record\n",
    "# will include only transactions within 30 days\n",
    "\n",
    "data = data.sort_values(by = ['transaction_datetime'])\n",
    "deposit_cheque_transaction = deposit_cheque_transaction.sort_values(by = ['clearing_date'])\n",
    "\n",
    "deposit_cheque_transaction = pd.merge_asof(deposit_cheque_transaction,\n",
    "                    data[['transaction_id','transaction_datetime','customer_id','from_account_no']],\n",
    "              left_on = ['clearing_date'], right_on = ['transaction_datetime'],\n",
    "              left_by = ['payin_account'], right_by = ['from_account_no'],\n",
    "              tolerance = pd.Timedelta(days = 30),\n",
    "              direction = 'forward',\n",
    "              suffixes = ['_chq1', None])\n",
    "\n",
    "deposit_cheque_transaction.head()"
   ]
  },
  {
   "cell_type": "code",
   "execution_count": null,
   "id": "b8e3d93f",
   "metadata": {},
   "outputs": [],
   "source": [
    "deposit_cheque_transaction['transaction_id'].notna().sum()"
   ]
  },
  {
   "cell_type": "code",
   "execution_count": null,
   "id": "15e67ea3",
   "metadata": {},
   "outputs": [],
   "source": [
    "%%time\n",
    "\n",
    "# number of CHQ IN transactions\n",
    "a01 = pd.DataFrame(deposit_cheque_transaction.groupby(by = ['transaction_id']).size()).reset_index().rename(columns = {0:'Txn_Count_CHQIN_L30D'}).fillna(0)\n",
    "print(a01.shape[0])\n",
    "print(a01['transaction_id'].nunique())"
   ]
  },
  {
   "cell_type": "code",
   "execution_count": null,
   "id": "44250ff7",
   "metadata": {},
   "outputs": [],
   "source": [
    "%%time\n",
    "\n",
    "# date of last idcard transaction\n",
    "a01 = a01.merge(pd.DataFrame(deposit_cheque_transaction.groupby(by = ['transaction_id'])['clearing_date'].max()).reset_index().rename(columns = {'clearing_date':'DateLastTxn_CHQIN'}), on = ['transaction_id'], how = 'left')\n",
    "\n",
    "a01.head()"
   ]
  },
  {
   "cell_type": "code",
   "execution_count": null,
   "id": "55465f92",
   "metadata": {},
   "outputs": [],
   "source": [
    "%%time\n",
    "\n",
    "\n",
    "# Merge back to the Mobile Financial transactions\n",
    "\n",
    "data = data.merge(a01,\n",
    "                  left_on = ['transaction_id'],\n",
    "                  right_on = ['transaction_id'],\n",
    "                  how = 'left',\n",
    "                  indicator = 'merge_CHQ')"
   ]
  },
  {
   "cell_type": "code",
   "execution_count": null,
   "id": "21b931f8",
   "metadata": {},
   "outputs": [],
   "source": [
    "# Make the Time Since fields\n",
    "\n",
    "data['TimeSinceLast_CHQIN'] = (data['transaction_datetime'] - pd.to_datetime(data['DateLastTxn_CHQIN']))//np.timedelta64(1,'D')\n"
   ]
  },
  {
   "cell_type": "code",
   "execution_count": null,
   "id": "34a55587",
   "metadata": {},
   "outputs": [],
   "source": []
  },
  {
   "cell_type": "markdown",
   "id": "cfb18c26",
   "metadata": {},
   "source": [
    "#### Deposit Change Passbook"
   ]
  },
  {
   "cell_type": "code",
   "execution_count": null,
   "id": "efe8caa2",
   "metadata": {},
   "outputs": [],
   "source": [
    "deposit_change_passbook.head()"
   ]
  },
  {
   "cell_type": "code",
   "execution_count": null,
   "id": "5e032254",
   "metadata": {},
   "outputs": [],
   "source": [
    "deposit_change_passbook.shape"
   ]
  },
  {
   "cell_type": "code",
   "execution_count": null,
   "id": "20774c5d",
   "metadata": {},
   "outputs": [],
   "source": [
    "%%time\n",
    "\n",
    "# merge the Card Transactions to the Mobile\n",
    "# this will merge the Mobile record with the closest future transaction_datetime onto the card transaction record\n",
    "# will include only transactions within 30 days\n",
    "\n",
    "data = data.sort_values(by = ['transaction_datetime'])\n",
    "deposit_change_passbook = deposit_change_passbook.sort_values(by = ['transaction_datetime'])\n",
    "\n",
    "deposit_change_passbook = pd.merge_asof(deposit_change_passbook,\n",
    "                    data[['transaction_id','transaction_datetime','customer_id','from_account_no']],\n",
    "              left_on = ['transaction_datetime'], right_on = ['transaction_datetime'],\n",
    "              left_by = ['account_number'], right_by = ['from_account_no'],\n",
    "              tolerance = pd.Timedelta(days = 30),\n",
    "              direction = 'forward',\n",
    "              suffixes = ['_pass', None])\n",
    "\n",
    "deposit_change_passbook.head()"
   ]
  },
  {
   "cell_type": "code",
   "execution_count": null,
   "id": "26eeeeae",
   "metadata": {},
   "outputs": [],
   "source": [
    "%%time\n",
    "\n",
    "# number of CHQ IN transactions\n",
    "a01 = pd.DataFrame(deposit_change_passbook.groupby(by = ['transaction_id']).size()).reset_index().rename(columns = {0:'Txn_Count_PASS_L30D'}).fillna(0)\n",
    "print(a01.shape[0])\n",
    "print(a01['transaction_id'].nunique())\n",
    "\n",
    "# date of last idcard transaction\n",
    "a01 = a01.merge(pd.DataFrame(deposit_change_passbook.groupby(by = ['transaction_id'])['transaction_datetime'].max()).reset_index().rename(columns = {'transaction_datetime':'DateLastTxn_PASS'}), on = ['transaction_id'], how = 'left')\n",
    "\n",
    "a01.head()"
   ]
  },
  {
   "cell_type": "code",
   "execution_count": null,
   "id": "c1af65fd",
   "metadata": {},
   "outputs": [],
   "source": [
    "%%time\n",
    "\n",
    "\n",
    "# Merge back to the Mobile Financial transactions\n",
    "\n",
    "data = data.merge(a01,\n",
    "                  left_on = ['transaction_id'],\n",
    "                  right_on = ['transaction_id'],\n",
    "                  how = 'left',\n",
    "                  indicator = 'merge_PASS')"
   ]
  },
  {
   "cell_type": "code",
   "execution_count": null,
   "id": "7223f869",
   "metadata": {},
   "outputs": [],
   "source": [
    "# Make the Time Since fields\n",
    "\n",
    "data['TimeSinceLast_PASS'] = (data['transaction_datetime'] - pd.to_datetime(data['DateLastTxn_PASS']))//np.timedelta64(1,'D')\n"
   ]
  },
  {
   "cell_type": "code",
   "execution_count": null,
   "id": "fc57d593",
   "metadata": {},
   "outputs": [],
   "source": []
  },
  {
   "cell_type": "markdown",
   "id": "2898021b",
   "metadata": {},
   "source": [
    "#### Deposit Branch Activity"
   ]
  },
  {
   "cell_type": "code",
   "execution_count": null,
   "id": "211208d0",
   "metadata": {},
   "outputs": [],
   "source": [
    "deposit_branch_activity.head()"
   ]
  },
  {
   "cell_type": "code",
   "execution_count": null,
   "id": "0c9ad51e",
   "metadata": {},
   "outputs": [],
   "source": [
    "deposit_branch_activity = deposit_branch_activity.loc[deposit_branch_activity['transaction_datetime'].isna() == False]"
   ]
  },
  {
   "cell_type": "code",
   "execution_count": null,
   "id": "f4602c84",
   "metadata": {},
   "outputs": [],
   "source": [
    "%%time\n",
    "\n",
    "# merge the Card Transactions to the Mobile\n",
    "# this will merge the Mobile record with the closest future transaction_datetime onto the card transaction record\n",
    "# will include only transactions within 30 days\n",
    "\n",
    "data = data.sort_values(by = ['transaction_datetime'])\n",
    "deposit_branch_activity = deposit_branch_activity.loc[deposit_branch_activity['to_customer_id'].isna() == False].sort_values(by = ['transaction_datetime'])\n",
    "\n",
    "deposit_branch_activity = pd.merge_asof(deposit_branch_activity,\n",
    "                    data[['transaction_id','transaction_datetime','customer_id','from_account_no']],\n",
    "              left_on = ['transaction_datetime'], right_on = ['transaction_datetime'],\n",
    "              left_by = ['to_customer_id'], right_by = ['customer_id'],\n",
    "              tolerance = pd.Timedelta(days = 30),\n",
    "              direction = 'forward',\n",
    "              suffixes = ['_branch', None])\n",
    "\n",
    "deposit_branch_activity.head()"
   ]
  },
  {
   "cell_type": "code",
   "execution_count": null,
   "id": "1a6cd589",
   "metadata": {},
   "outputs": [],
   "source": [
    "deposit_branch_activity['transaction_id'].notna().sum()"
   ]
  },
  {
   "cell_type": "code",
   "execution_count": null,
   "id": "2670755b",
   "metadata": {},
   "outputs": [],
   "source": [
    "%%time\n",
    "\n",
    "# number of Branch To transactions\n",
    "a01 = pd.DataFrame(deposit_branch_activity.groupby(by = ['transaction_id']).size()).reset_index().rename(columns = {0:'Txn_Count_BranchTo_L30D'}).fillna(0)\n",
    "print(a01.shape[0])\n",
    "print(a01['transaction_id'].nunique())\n",
    "\n",
    "# date of last Branch To transaction\n",
    "a01 = a01.merge(pd.DataFrame(deposit_branch_activity.groupby(by = ['transaction_id'])['transaction_datetime'].max()).reset_index().rename(columns = {'transaction_datetime':'DateLastTxn_BranchTo'}), on = ['transaction_id'], how = 'left')\n",
    "\n",
    "a01.head()"
   ]
  },
  {
   "cell_type": "code",
   "execution_count": null,
   "id": "b6dc3752",
   "metadata": {},
   "outputs": [],
   "source": [
    "%%time\n",
    "\n",
    "# Merge back to the Mobile Financial transactions\n",
    "\n",
    "data = data.drop(columns = ['merge_BranchFrom','Txn_Count_BranchFrom_L30D', 'DateLastTxn_BranchFrom','merge_BranchFroma',\n",
    "                            'TimeSinceLast_BranchFrom','DateLastTxn_PASS_y','DateLastTxn_PASS_x','Txn_Count_PASS_L30D_x']).rename(columns = {'Txn_Count_PASS_L30D_y':'Txn_Count_PASS_L30D'}).merge(a01,\n",
    "                  left_on = ['transaction_id'],\n",
    "                  right_on = ['transaction_id'],\n",
    "                  how = 'left',\n",
    "                  indicator = 'merge_BranchTo')"
   ]
  },
  {
   "cell_type": "code",
   "execution_count": null,
   "id": "c2173434",
   "metadata": {},
   "outputs": [],
   "source": [
    "# Make the Time Since fields\n",
    "\n",
    "data['TimeSinceLast_BranchTo'] = (data['transaction_datetime'] - pd.to_datetime(data['DateLastTxn_BranchTo']))//np.timedelta64(1,'D')\n"
   ]
  },
  {
   "cell_type": "code",
   "execution_count": null,
   "id": "a0870ab7",
   "metadata": {},
   "outputs": [],
   "source": [
    "data.groupby(['merge_BranchTo'], dropna=False).size()"
   ]
  },
  {
   "cell_type": "code",
   "execution_count": null,
   "id": "b5ad42b7",
   "metadata": {},
   "outputs": [],
   "source": [
    "data.head()"
   ]
  },
  {
   "cell_type": "code",
   "execution_count": null,
   "id": "3aaecda8",
   "metadata": {},
   "outputs": [],
   "source": []
  },
  {
   "cell_type": "markdown",
   "id": "64d44ee9",
   "metadata": {},
   "source": [
    "#### Fraud Warning"
   ]
  },
  {
   "cell_type": "code",
   "execution_count": null,
   "id": "dc948300",
   "metadata": {},
   "outputs": [],
   "source": [
    "fraud_warning.head()"
   ]
  },
  {
   "cell_type": "code",
   "execution_count": null,
   "id": "971af17d",
   "metadata": {},
   "outputs": [],
   "source": [
    "fraud_warning.shape"
   ]
  },
  {
   "cell_type": "code",
   "execution_count": null,
   "id": "003c51c7",
   "metadata": {},
   "outputs": [],
   "source": [
    "fraud_warning['citzn_id'].nunique()"
   ]
  },
  {
   "cell_type": "markdown",
   "id": "2e3829a5",
   "metadata": {},
   "source": [
    "#### NO DATE Field - omit"
   ]
  },
  {
   "cell_type": "code",
   "execution_count": null,
   "id": "32475460",
   "metadata": {},
   "outputs": [],
   "source": []
  },
  {
   "cell_type": "markdown",
   "id": "b891f4b2",
   "metadata": {},
   "source": [
    "### Write data to Disk"
   ]
  },
  {
   "cell_type": "code",
   "execution_count": null,
   "id": "9be82ff9",
   "metadata": {},
   "outputs": [],
   "source": [
    "data.to_csv(r'C:\\Users\\AEmslie\\OneDrive - GB Group PLC\\Sales\\TTB\\PoC 2\\Data\\MF_Phase2.csv',\n",
    "           index=False)"
   ]
  },
  {
   "cell_type": "markdown",
   "id": "ade0855a",
   "metadata": {},
   "source": [
    "### Read data from Disk"
   ]
  },
  {
   "cell_type": "code",
   "execution_count": null,
   "id": "40651d87",
   "metadata": {},
   "outputs": [],
   "source": [
    "date_fields = ['end_date',\n",
    "'transaction_datetime',\n",
    "'time_row_before',\n",
    "'time_row_before_transaction_type',\n",
    "'time_row_before_from_account_to_account',\n",
    "'time_row_before_to_account',\n",
    "'time_row_before_to_bank_code',\n",
    "'time_row_before_any_id_type',    \n",
    "'transaction_datetime_f',\n",
    "'TimeLastTxn_NF',\n",
    "'TimeLastTxn_NF_01',\n",
    "'TimeLastTxn_NF_02',\n",
    "'TimeLastTxn_NF_03',\n",
    "'TimeLastTxn_NF_04',  \n",
    "'DateLastTxn_Dep',\n",
    "'date_of_birth',\n",
    "'account_open_date']"
   ]
  },
  {
   "cell_type": "code",
   "execution_count": null,
   "id": "84093aa1",
   "metadata": {},
   "outputs": [],
   "source": [
    "data = pd.read_csv(r'C:\\Users\\AEmslie\\OneDrive - GB Group PLC\\Sales\\TTB\\PoC 2\\Data\\MF_Phase2.csv',\n",
    "                  parse_dates = date_fields)"
   ]
  },
  {
   "cell_type": "code",
   "execution_count": null,
   "id": "1e51aaa8",
   "metadata": {},
   "outputs": [],
   "source": [
    "data.info(verbose=True)"
   ]
  },
  {
   "cell_type": "code",
   "execution_count": null,
   "id": "a6f1d793",
   "metadata": {},
   "outputs": [],
   "source": []
  },
  {
   "cell_type": "code",
   "execution_count": null,
   "id": "6573fcf5",
   "metadata": {},
   "outputs": [],
   "source": []
  },
  {
   "cell_type": "code",
   "execution_count": null,
   "id": "cf091c37",
   "metadata": {},
   "outputs": [],
   "source": []
  },
  {
   "cell_type": "markdown",
   "id": "b3cfd747",
   "metadata": {},
   "source": [
    "### Feature Selection"
   ]
  },
  {
   "cell_type": "code",
   "execution_count": null,
   "id": "f6819bd1",
   "metadata": {},
   "outputs": [],
   "source": [
    "pd.DataFrame(data.columns).to_csv(r'C:\\Users\\AEmslie\\OneDrive - GB Group PLC\\Sales\\TTB\\PoC 2\\Data\\mob_data_columns.csv', index=False)"
   ]
  },
  {
   "cell_type": "code",
   "execution_count": null,
   "id": "388f55fe",
   "metadata": {},
   "outputs": [],
   "source": [
    "data.drop_duplicates(subset = ['from_account_no']).groupby(['flag']).size()"
   ]
  },
  {
   "cell_type": "code",
   "execution_count": null,
   "id": "a15250fa",
   "metadata": {},
   "outputs": [],
   "source": [
    "data.drop_duplicates(subset = ['from_account_no']).shape"
   ]
  },
  {
   "cell_type": "code",
   "execution_count": null,
   "id": "a931c53e",
   "metadata": {},
   "outputs": [],
   "source": [
    "print(data.shape)\n",
    "df_train = data.loc[data['flag'] != 'TEST']\n",
    "print(df_train.shape)"
   ]
  },
  {
   "cell_type": "code",
   "execution_count": null,
   "id": "4fced6c6",
   "metadata": {},
   "outputs": [],
   "source": [
    "df_train_mule = data.loc[data['flag'] != 'TEST'].loc[data['incident_type'] != '[Social Engineering]']\n",
    "df_train_se = data.loc[data['flag'] != 'TEST'].loc[data['incident_type'] != '[Mule]']\n",
    "print(df_train_mule.groupby(['flag','incident_type','Fraud'], dropna=False).size())\n",
    "print(df_train_se.groupby(['flag','incident_type','Fraud'], dropna=False).size())"
   ]
  },
  {
   "cell_type": "code",
   "execution_count": null,
   "id": "32967b44",
   "metadata": {},
   "outputs": [],
   "source": [
    "print(df_train_mule.groupby(['flag','incident_type','fraud_txn'], dropna=False).size())\n",
    "print(df_train_se.groupby(['flag','incident_type','fraud_txn'], dropna=False).size())"
   ]
  },
  {
   "cell_type": "code",
   "execution_count": null,
   "id": "5a581287",
   "metadata": {},
   "outputs": [],
   "source": [
    "print(data.shape)\n",
    "df_test = data.loc[data['flag'] == 'TEST']\n",
    "print(df_test.shape)\n",
    "\n",
    "df_test['Fraud'] = np.where(df_test['transaction_id'] == 'NT1937830033075700', 1, 0)\n",
    "df_test.groupby(['Fraud'], dropna=False).size()"
   ]
  },
  {
   "cell_type": "code",
   "execution_count": null,
   "id": "9eba2337",
   "metadata": {},
   "outputs": [],
   "source": [
    "df_train_mule.head()"
   ]
  },
  {
   "cell_type": "code",
   "execution_count": null,
   "id": "fe1fe275",
   "metadata": {},
   "outputs": [],
   "source": []
  },
  {
   "cell_type": "markdown",
   "id": "d11f398d",
   "metadata": {},
   "source": [
    "#### Pandas Profiling"
   ]
  },
  {
   "cell_type": "code",
   "execution_count": null,
   "id": "2ffb9fbb",
   "metadata": {},
   "outputs": [],
   "source": [
    "profile = ProfileReport(data, title=\"Exploratory Data Analysis - TTB\", minimal = True)"
   ]
  },
  {
   "cell_type": "code",
   "execution_count": null,
   "id": "3df44368",
   "metadata": {},
   "outputs": [],
   "source": [
    "# Write the report to a file\n",
    "profile.to_file(r'C:\\Users\\AEmslie\\OneDrive - GB Group PLC\\Sales\\TTB\\PoC 2\\Data\\EDA_Mobile.html')"
   ]
  },
  {
   "cell_type": "code",
   "execution_count": null,
   "id": "14e11fcc",
   "metadata": {},
   "outputs": [],
   "source": [
    "cols = ['to_bank_code',\n",
    "'transaction_type',\n",
    "'amount',\n",
    "'top_up_billers',\n",
    "'any_id_type',\n",
    "'available_balance',\n",
    "'TSLastMFTxn_mins',\n",
    "'TSLastMFTxn_TransactionType_mins',\n",
    "'TSLastMFTxn_fromacct_to_acct_mins',\n",
    "'TSLastMFTxn_toacct_mins',\n",
    "'TSLastMFTxn_tobankcode_mins',\n",
    "'TSLastMFTxn_anyidtype_mins',\n",
    "'MFTxnCount_L15M',\n",
    "'MFTxnCount_L1H',\n",
    "'MFTxnCount_L1D',\n",
    "'MFTxnCount_L7D',\n",
    "'MFTxnCount_L14D',\n",
    "'MFTxnCount_L30D',\n",
    "'MFTxnCount_L90D',\n",
    "'amount_balance_ratio',\n",
    "'Unique_To_Account_No_L15M',\n",
    "'Unique_To_Account_No_L1H',\n",
    "'Unique_To_Account_No_L1D',\n",
    "'Unique_To_Account_No_L7D',\n",
    "'Unique_To_Account_No_L14D',\n",
    "'Unique_To_Account_No_L30D',\n",
    "'Unique_To_Account_No_L90D',\n",
    "'Unique_From_Account_No_L15M',\n",
    "'Unique_From_Account_No_L1H',\n",
    "'Unique_From_Account_No_L1D',\n",
    "'Unique_From_Account_No_L7D',\n",
    "'Unique_From_Account_No_L14D',\n",
    "'Unique_From_Account_No_L30D',\n",
    "'Unique_From_Account_No_L90D',\n",
    "'Unique_AmountTo_L15M',\n",
    "'Unique_AmountTo_L1H',\n",
    "'Unique_AmountTo_L1D',\n",
    "'Unique_AmountTo_L7D',\n",
    "'Unique_AmountTo_L14D',\n",
    "'Unique_AmountTo_L30D',\n",
    "'Unique_AmountTo_L90D',\n",
    "'Unique_AmountFrom_L15M',\n",
    "'Unique_AmountFrom_L1H',\n",
    "'Unique_AmountFrom_L1D',\n",
    "'Unique_AmountFrom_L7D',\n",
    "'Unique_AmountFrom_L14D',\n",
    "'Unique_AmountFrom_L30D',\n",
    "'Unique_AmountFrom_L90D',\n",
    "'MFTxnCountSameType_L15M',\n",
    "'MFTxnCountSameType_L1H',\n",
    "'MFTxnCountSameType_L1D',\n",
    "'MFTxnCountSameType_L7D',\n",
    "'MFTxnCountSameType_L14D',\n",
    "'MFTxnCountSameType_L30D',\n",
    "'MFTxnCountSameType_L90D',\n",
    "'MFTxnCountSameToAcc_L15M',\n",
    "'MFTxnCountSameToAcc_L1H',\n",
    "'MFTxnCountSameToAcc_L1D',\n",
    "'MFTxnCountSameToAcc_L7D',\n",
    "'MFTxnCountSameToAcc_L14D',\n",
    "'MFTxnCountSameToAcc_L30D',\n",
    "'MFTxnCountSameToAcc_L90D',\n",
    "'Avg_Amt_L15M',\n",
    "'Avg_Amt_L1H',\n",
    "'Avg_Amt_L1D',\n",
    "'Avg_Amt_L7D',\n",
    "'Avg_Amt_L14D',\n",
    "'Avg_Amt_L30D',\n",
    "'Avg_Amt_L90D',\n",
    "'Avg_Amt_SameToAcc_L15M',\n",
    "'Avg_Amt_SameToAcc_L1H',\n",
    "'Avg_Amt_SameToAcc_L1D',\n",
    "'Avg_Amt_SameToAcc_L7D',\n",
    "'Avg_Amt_SameToAcc_L14D',\n",
    "'Avg_Amt_SameToAcc_L30D',\n",
    "'Avg_Amt_SameToAcc_L90D',\n",
    "'Avg_Amt_SameType_L15M',\n",
    "'Avg_Amt_SameType_L1H',\n",
    "'Avg_Amt_SameType_L1D',\n",
    "'Avg_Amt_SameType_L7D',\n",
    "'Avg_Amt_SameType_L14D',\n",
    "'Avg_Amt_SameType_L30D',\n",
    "'Avg_Amt_SameType_L90D',\n",
    "'Avg_Bal_L15M',\n",
    "'Avg_Bal_L1H',\n",
    "'Avg_Bal_L1D',\n",
    "'Avg_Bal_L7D',\n",
    "'Avg_Bal_L14D',\n",
    "'Avg_Bal_L30D',\n",
    "'Avg_Bal_L90D',\n",
    "'Avg_Bal_SameToAcc_L15M',\n",
    "'Avg_Bal_SameToAcc_L1H',\n",
    "'Avg_Bal_SameToAcc_L1D',\n",
    "'Avg_Bal_SameToAcc_L7D',\n",
    "'Avg_Bal_SameToAcc_L14D',\n",
    "'Avg_Bal_SameToAcc_L30D',\n",
    "'Avg_Bal_SameToAcc_L90D',\n",
    "'Avg_AmtBalRatio_L15M',\n",
    "'Avg_AmtBalRatio_L1H',\n",
    "'Avg_AmtBalRatio_L1D',\n",
    "'Avg_AmtBalRatio_L7D',\n",
    "'Avg_AmtBalRatio_L14D',\n",
    "'Avg_AmtBalRatio_L30D',\n",
    "'Avg_AmtBalRatio_L90D',\n",
    "'Max_Amt_L15M',\n",
    "'Max_Amt_L1H',\n",
    "'Max_Amt_L1D',\n",
    "'Max_Amt_L7D',\n",
    "'Max_Amt_L14D',\n",
    "'Max_Amt_L30D',\n",
    "'Max_Amt_L90D',\n",
    "'Max_Bal_L15M',\n",
    "'Max_Bal_L1H',\n",
    "'Max_Bal_L1D',\n",
    "'Max_Bal_L7D',\n",
    "'Max_Bal_L14D',\n",
    "'Max_Bal_L30D',\n",
    "'Max_Bal_L90D',\n",
    "'Max_AmtBalRatio_L15M',\n",
    "'Max_AmtBalRatio_L1H',\n",
    "'Max_AmtBalRatio_L1D',\n",
    "'Max_AmtBalRatio_L7D',\n",
    "'Max_AmtBalRatio_L14D',\n",
    "'Max_AmtBalRatio_L30D',\n",
    "'Max_AmtBalRatio_L90D',\n",
    "'Txn_Count_NF_L30D',\n",
    "'Txn_Count_NF_01_L30D',\n",
    "'Txn_Count_NF_02_L30D',\n",
    "'Txn_Count_NF_03_L30D',\n",
    "'Txn_Count_NF_04_L30D',\n",
    "'NF_Unique_Transaction_Type_L30D',\n",
    "'NF_Unique_IP_Address_L30D',\n",
    "'Txn_Count_Dep_L30D',\n",
    "'Txn_Count_Dep_40_L30D',\n",
    "'Txn_Count_Dep_20_L30D',\n",
    "'Dep_Unique_TellerID_L30D',\n",
    "'Dep_Unique_TransCode_L30D',\n",
    "'Dep_Unique_Amount_L30D',\n",
    "'Dep_Unique_RecordType_L30D',\n",
    "'Dep_Unique_Branch_L30D',\n",
    "'Dep_AvgAmoutL30D',\n",
    "'Dep_MaxAmount_L30D',\n",
    "'Dep_AvgBalance_L30D',\n",
    "'Dep_MaxBalance_L30D',\n",
    "'Dep_MinBalance_L30D',\n",
    "'Dep_AvgAmtBalRatio_L30D',\n",
    "'Dep_MaxAmtBalRatio_L30D',\n",
    "'Dep_MinAmtBalRatio_L30D',\n",
    "'Dep_AvgAcctAge_L30D',\n",
    "'Dep_MaxAcctAge_L30D',\n",
    "'Dep_MinAcctAge_L30D',\n",
    "'customer_subtype',\n",
    "'customer_segment',\n",
    "'occupation',\n",
    "'account_open_amount',\n",
    "'account_type',\n",
    "'TimeSinceLast_NF',\n",
    "'TimeSinceLast_NF01',\n",
    "'TimeSinceLast_NF02',\n",
    "'TimeSinceLast_NF03',\n",
    "'TimeSinceLast_NF04',\n",
    "'DaysSinceLast_Dep',\n",
    "'Customer_Age',\n",
    "'Deposit_Account_Age',\n",
    "'Txn_Count_ChannelNM_L30D',\n",
    "'Txn_Count_Ch_MOB_L30D',\n",
    "'Txn_Count_Ch_INT_L30D',\n",
    "'Txn_Count_Ch_BIT_L30D',\n",
    "'Txn_Count_Ch_74_L30D',\n",
    "'Txn_Count_Ch_76_L30D',\n",
    "'Ch_Unique_ToBank_L30D',\n",
    "'Ch_Unique_TransCode_L30D',\n",
    "'Ch_Unique_Amount_L30D',\n",
    "'Ch_Unique_Channel_L30D',\n",
    "'Ch_Unique_TermBankId_L30D',\n",
    "'Ch_Unique_TermId_L30D',\n",
    "'Ch_AvgAmoutL30D',\n",
    "'Ch_MaxAmount_L30D',\n",
    "'Txn_Count_DCM_L30D',\n",
    "'Txn_Count_DCM_A_L30D',\n",
    "'Txn_Count_DCM_U_L30D',\n",
    "'DCM_Unique_ActionCode_L30D',\n",
    "'DCM_Unique_UserId_L30D',\n",
    "'DCM_Unique_UFieldCode_L30D',\n",
    "'TimeSinceLast_DCM',\n",
    "'TimeSinceLast_Ch',\n",
    "'Txn_Count_IDC_L30D',\n",
    "'TimeSinceLast_IDC',\n",
    "'Txn_Count_SD_L30D',\n",
    "'TimeSinceLast_SD',\n",
    "'Txn_Count_CHQIN_L30D',\n",
    "'TimeSinceLast_CHQIN',\n",
    "'Txn_Count_PASS_L30D',\n",
    "'TimeSinceLast_PASS',\n",
    "'Txn_Count_BranchTo_L30D',\n",
    "'TimeSinceLast_BranchTo']\n",
    "\n",
    "cols_num = ['amount',\n",
    "'available_balance',\n",
    "'TSLastMFTxn_mins',\n",
    "'TSLastMFTxn_TransactionType_mins',\n",
    "'TSLastMFTxn_fromacct_to_acct_mins',\n",
    "'TSLastMFTxn_toacct_mins',\n",
    "'TSLastMFTxn_tobankcode_mins',\n",
    "'TSLastMFTxn_anyidtype_mins',\n",
    "'MFTxnCount_L15M',\n",
    "'MFTxnCount_L1H',\n",
    "'MFTxnCount_L1D',\n",
    "'MFTxnCount_L7D',\n",
    "'MFTxnCount_L14D',\n",
    "'MFTxnCount_L30D',\n",
    "'MFTxnCount_L90D',\n",
    "'amount_balance_ratio',\n",
    "'Unique_To_Account_No_L15M',\n",
    "'Unique_To_Account_No_L1H',\n",
    "'Unique_To_Account_No_L1D',\n",
    "'Unique_To_Account_No_L7D',\n",
    "'Unique_To_Account_No_L14D',\n",
    "'Unique_To_Account_No_L30D',\n",
    "'Unique_To_Account_No_L90D',\n",
    "'Unique_From_Account_No_L15M',\n",
    "'Unique_From_Account_No_L1H',\n",
    "'Unique_From_Account_No_L1D',\n",
    "'Unique_From_Account_No_L7D',\n",
    "'Unique_From_Account_No_L14D',\n",
    "'Unique_From_Account_No_L30D',\n",
    "'Unique_From_Account_No_L90D',\n",
    "'Unique_AmountTo_L15M',\n",
    "'Unique_AmountTo_L1H',\n",
    "'Unique_AmountTo_L1D',\n",
    "'Unique_AmountTo_L7D',\n",
    "'Unique_AmountTo_L14D',\n",
    "'Unique_AmountTo_L30D',\n",
    "'Unique_AmountTo_L90D',\n",
    "'Unique_AmountFrom_L15M',\n",
    "'Unique_AmountFrom_L1H',\n",
    "'Unique_AmountFrom_L1D',\n",
    "'Unique_AmountFrom_L7D',\n",
    "'Unique_AmountFrom_L14D',\n",
    "'Unique_AmountFrom_L30D',\n",
    "'Unique_AmountFrom_L90D',\n",
    "'MFTxnCountSameType_L15M',\n",
    "'MFTxnCountSameType_L1H',\n",
    "'MFTxnCountSameType_L1D',\n",
    "'MFTxnCountSameType_L7D',\n",
    "'MFTxnCountSameType_L14D',\n",
    "'MFTxnCountSameType_L30D',\n",
    "'MFTxnCountSameType_L90D',\n",
    "'MFTxnCountSameToAcc_L15M',\n",
    "'MFTxnCountSameToAcc_L1H',\n",
    "'MFTxnCountSameToAcc_L1D',\n",
    "'MFTxnCountSameToAcc_L7D',\n",
    "'MFTxnCountSameToAcc_L14D',\n",
    "'MFTxnCountSameToAcc_L30D',\n",
    "'MFTxnCountSameToAcc_L90D',\n",
    "'Avg_Amt_L15M',\n",
    "'Avg_Amt_L1H',\n",
    "'Avg_Amt_L1D',\n",
    "'Avg_Amt_L7D',\n",
    "'Avg_Amt_L14D',\n",
    "'Avg_Amt_L30D',\n",
    "'Avg_Amt_L90D',\n",
    "'Avg_Amt_SameToAcc_L15M',\n",
    "'Avg_Amt_SameToAcc_L1H',\n",
    "'Avg_Amt_SameToAcc_L1D',\n",
    "'Avg_Amt_SameToAcc_L7D',\n",
    "'Avg_Amt_SameToAcc_L14D',\n",
    "'Avg_Amt_SameToAcc_L30D',\n",
    "'Avg_Amt_SameToAcc_L90D',\n",
    "'Avg_Amt_SameType_L15M',\n",
    "'Avg_Amt_SameType_L1H',\n",
    "'Avg_Amt_SameType_L1D',\n",
    "'Avg_Amt_SameType_L7D',\n",
    "'Avg_Amt_SameType_L14D',\n",
    "'Avg_Amt_SameType_L30D',\n",
    "'Avg_Amt_SameType_L90D',\n",
    "'Avg_Bal_L15M',\n",
    "'Avg_Bal_L1H',\n",
    "'Avg_Bal_L1D',\n",
    "'Avg_Bal_L7D',\n",
    "'Avg_Bal_L14D',\n",
    "'Avg_Bal_L30D',\n",
    "'Avg_Bal_L90D',\n",
    "'Avg_Bal_SameToAcc_L15M',\n",
    "'Avg_Bal_SameToAcc_L1H',\n",
    "'Avg_Bal_SameToAcc_L1D',\n",
    "'Avg_Bal_SameToAcc_L7D',\n",
    "'Avg_Bal_SameToAcc_L14D',\n",
    "'Avg_Bal_SameToAcc_L30D',\n",
    "'Avg_Bal_SameToAcc_L90D',\n",
    "'Avg_AmtBalRatio_L15M',\n",
    "'Avg_AmtBalRatio_L1H',\n",
    "'Avg_AmtBalRatio_L1D',\n",
    "'Avg_AmtBalRatio_L7D',\n",
    "'Avg_AmtBalRatio_L14D',\n",
    "'Avg_AmtBalRatio_L30D',\n",
    "'Avg_AmtBalRatio_L90D',\n",
    "'Max_Amt_L15M',\n",
    "'Max_Amt_L1H',\n",
    "'Max_Amt_L1D',\n",
    "'Max_Amt_L7D',\n",
    "'Max_Amt_L14D',\n",
    "'Max_Amt_L30D',\n",
    "'Max_Amt_L90D',\n",
    "'Max_Bal_L15M',\n",
    "'Max_Bal_L1H',\n",
    "'Max_Bal_L1D',\n",
    "'Max_Bal_L7D',\n",
    "'Max_Bal_L14D',\n",
    "'Max_Bal_L30D',\n",
    "'Max_Bal_L90D',\n",
    "'Max_AmtBalRatio_L15M',\n",
    "'Max_AmtBalRatio_L1H',\n",
    "'Max_AmtBalRatio_L1D',\n",
    "'Max_AmtBalRatio_L7D',\n",
    "'Max_AmtBalRatio_L14D',\n",
    "'Max_AmtBalRatio_L30D',\n",
    "'Max_AmtBalRatio_L90D',\n",
    "'Txn_Count_NF_L30D',\n",
    "'Txn_Count_NF_01_L30D',\n",
    "'Txn_Count_NF_02_L30D',\n",
    "'Txn_Count_NF_03_L30D',\n",
    "'Txn_Count_NF_04_L30D',\n",
    "'NF_Unique_Transaction_Type_L30D',\n",
    "'NF_Unique_IP_Address_L30D',\n",
    "'Txn_Count_Dep_L30D',\n",
    "'Txn_Count_Dep_40_L30D',\n",
    "'Txn_Count_Dep_20_L30D',\n",
    "'Dep_Unique_TellerID_L30D',\n",
    "'Dep_Unique_TransCode_L30D',\n",
    "'Dep_Unique_Amount_L30D',\n",
    "'Dep_Unique_RecordType_L30D',\n",
    "'Dep_Unique_Branch_L30D',\n",
    "'Dep_AvgAmoutL30D',\n",
    "'Dep_MaxAmount_L30D',\n",
    "'Dep_AvgBalance_L30D',\n",
    "'Dep_MaxBalance_L30D',\n",
    "'Dep_MinBalance_L30D',\n",
    "'Dep_AvgAmtBalRatio_L30D',\n",
    "'Dep_MaxAmtBalRatio_L30D',\n",
    "'Dep_MinAmtBalRatio_L30D',\n",
    "'Dep_AvgAcctAge_L30D',\n",
    "'Dep_MaxAcctAge_L30D',\n",
    "'Dep_MinAcctAge_L30D',\n",
    "'account_open_amount',\n",
    "'TimeSinceLast_NF',\n",
    "'TimeSinceLast_NF01',\n",
    "'TimeSinceLast_NF02',\n",
    "'TimeSinceLast_NF03',\n",
    "'TimeSinceLast_NF04',\n",
    "'DaysSinceLast_Dep',\n",
    "'Customer_Age',\n",
    "'Deposit_Account_Age',\n",
    "           \n",
    "'Txn_Count_ChannelNM_L30D',\n",
    "'Txn_Count_Ch_MOB_L30D',\n",
    "'Txn_Count_Ch_INT_L30D',\n",
    "'Txn_Count_Ch_BIT_L30D',\n",
    "'Txn_Count_Ch_74_L30D',\n",
    "'Txn_Count_Ch_76_L30D',\n",
    "'Ch_Unique_ToBank_L30D',\n",
    "'Ch_Unique_TransCode_L30D',\n",
    "'Ch_Unique_Amount_L30D',\n",
    "'Ch_Unique_Channel_L30D',\n",
    "'Ch_Unique_TermBankId_L30D',\n",
    "'Ch_Unique_TermId_L30D',\n",
    "'Ch_AvgAmoutL30D',\n",
    "'Ch_MaxAmount_L30D',\n",
    "'Txn_Count_DCM_L30D',\n",
    "'Txn_Count_DCM_A_L30D',\n",
    "'Txn_Count_DCM_U_L30D',\n",
    "'DCM_Unique_ActionCode_L30D',\n",
    "'DCM_Unique_UserId_L30D',\n",
    "'DCM_Unique_UFieldCode_L30D',\n",
    "'TimeSinceLast_DCM',\n",
    "'TimeSinceLast_Ch',\n",
    "'Txn_Count_IDC_L30D',\n",
    "'TimeSinceLast_IDC',\n",
    "'Txn_Count_SD_L30D',\n",
    "'TimeSinceLast_SD',\n",
    "'Txn_Count_CHQIN_L30D',\n",
    "'TimeSinceLast_CHQIN',\n",
    "'Txn_Count_PASS_L30D',\n",
    "'TimeSinceLast_PASS',\n",
    "'Txn_Count_BranchTo_L30D',\n",
    "'TimeSinceLast_BranchTo']\n",
    "\n",
    "cols_cat = ['to_bank_code',\n",
    "'transaction_type',\n",
    "'top_up_billers',\n",
    "'any_id_type',\n",
    "'customer_subtype',\n",
    "'customer_segment',\n",
    "'occupation',\n",
    "'account_type']\n",
    "\n"
   ]
  },
  {
   "cell_type": "code",
   "execution_count": null,
   "id": "73b38d9f",
   "metadata": {},
   "outputs": [],
   "source": [
    "# Define the optimal binning objects\n",
    "optb_cat = OptimalBinning(dtype=\"categorical\", solver=\"cp\")\n",
    "optb_num = OptimalBinning(dtype=\"numerical\", solver=\"cp\")"
   ]
  },
  {
   "cell_type": "code",
   "execution_count": null,
   "id": "82125359",
   "metadata": {},
   "outputs": [],
   "source": [
    "# Function to create the dataframe for numeric columns\n",
    "def multi_table_num(col_num, data):\n",
    "    dfn = pd.DataFrame()\n",
    "    for i in col_num:\n",
    "        x = data[i].values\n",
    "        y = data['Fraud']\n",
    "        optb_num.fit(x, y)\n",
    "        dfn1 = optb_num.binning_table.build()\n",
    "        dfn1['Name'] = i\n",
    "        dfn = dfn1.append(dfn)\n",
    "    return dfn   "
   ]
  },
  {
   "cell_type": "code",
   "execution_count": null,
   "id": "d7a68725",
   "metadata": {},
   "outputs": [],
   "source": [
    "# Display Results\n",
    "dfn = multi_table_num(cols_num, df_train_se)"
   ]
  },
  {
   "cell_type": "code",
   "execution_count": null,
   "id": "ca6c6284",
   "metadata": {},
   "outputs": [],
   "source": [
    "# Save to file\n",
    "dfn.to_csv(r'C:\\Users\\AEmslie\\OneDrive - GB Group PLC\\Sales\\TTB\\PoC 2\\Data\\ob_num_data_train_se.txt', sep='\\t')"
   ]
  },
  {
   "cell_type": "code",
   "execution_count": null,
   "id": "227dd4bb",
   "metadata": {},
   "outputs": [],
   "source": [
    "# Function to create the dataframe for categorical columns\n",
    "def multi_table_cat(col_cat, data):\n",
    "    dfc = pd.DataFrame()\n",
    "    for i in col_cat:\n",
    "        x = data[i].values\n",
    "        y = data['Fraud']\n",
    "        optb_cat.fit(x, y)\n",
    "        dfc1 = optb_cat.binning_table.build()\n",
    "        dfc1['Name'] = i\n",
    "        dfc = dfc1.append(dfc)\n",
    "    return dfc"
   ]
  },
  {
   "cell_type": "code",
   "execution_count": null,
   "id": "210ffc30",
   "metadata": {},
   "outputs": [],
   "source": [
    "# Display Results\n",
    "dfc = multi_table_cat(cols_cat, df_train_se)"
   ]
  },
  {
   "cell_type": "code",
   "execution_count": null,
   "id": "a1554e9e",
   "metadata": {},
   "outputs": [],
   "source": [
    "# Save to file\n",
    "dfc.to_csv(r'C:\\Users\\AEmslie\\OneDrive - GB Group PLC\\Sales\\TTB\\PoC 2\\Data\\ob_cat_data_train_se.txt', sep='\\t')"
   ]
  },
  {
   "cell_type": "code",
   "execution_count": null,
   "id": "85e7c580",
   "metadata": {},
   "outputs": [],
   "source": [
    "bivariate_tables = dfn.append(dfc)\n",
    "\n",
    "bivariate_tables.to_csv(r'C:\\Users\\AEmslie\\OneDrive - GB Group PLC\\Sales\\TTB\\PoC 2\\Data\\CA_Reports_data_train_se.txt', sep='\\t')"
   ]
  },
  {
   "cell_type": "code",
   "execution_count": null,
   "id": "96b9aca9",
   "metadata": {},
   "outputs": [],
   "source": [
    "# 1) Define list of features and categorical ones\n",
    "y = df_train_se['Fraud']\n",
    "X = df_train_se[cols]\n",
    "# 2) Instantiate BinningProcess\n",
    "binning_process = BinningProcess(\n",
    "    categorical_variables = cols_cat,\n",
    "    variable_names = cols)\n",
    "# 3) Fit and transform dataset\n",
    "df_binned = binning_process.fit(X, y)"
   ]
  },
  {
   "cell_type": "code",
   "execution_count": null,
   "id": "421c7913",
   "metadata": {},
   "outputs": [],
   "source": [
    "featurelist = df_binned.summary()\n",
    "\n",
    "featurelist.to_csv(r'C:\\Users\\AEmslie\\OneDrive - GB Group PLC\\Sales\\TTB\\PoC 2\\Data\\Feature_List_data__train_se.txt', sep='\\t')"
   ]
  },
  {
   "cell_type": "code",
   "execution_count": null,
   "id": "f57f95ae",
   "metadata": {},
   "outputs": [],
   "source": []
  },
  {
   "cell_type": "code",
   "execution_count": null,
   "id": "c7b69bcb",
   "metadata": {},
   "outputs": [],
   "source": []
  },
  {
   "cell_type": "code",
   "execution_count": null,
   "id": "719e70cc",
   "metadata": {},
   "outputs": [],
   "source": []
  },
  {
   "cell_type": "code",
   "execution_count": null,
   "id": "f729fb1e",
   "metadata": {},
   "outputs": [],
   "source": []
  },
  {
   "cell_type": "code",
   "execution_count": null,
   "id": "f1d65e5d",
   "metadata": {},
   "outputs": [],
   "source": []
  },
  {
   "cell_type": "code",
   "execution_count": null,
   "id": "cb2eeb67",
   "metadata": {},
   "outputs": [],
   "source": []
  },
  {
   "cell_type": "markdown",
   "id": "f2af032b",
   "metadata": {},
   "source": [
    "### Make the Input Files for MLS"
   ]
  },
  {
   "cell_type": "markdown",
   "id": "49cccb37",
   "metadata": {},
   "source": [
    "#### Mule Target"
   ]
  },
  {
   "cell_type": "code",
   "execution_count": null,
   "id": "402fe837",
   "metadata": {},
   "outputs": [],
   "source": [
    "df_train_mule[['transaction_id',\n",
    "'Fraud',\n",
    "'Deposit_Account_Age',\n",
    "'MFTxnCountSameToAcc_L1D',\n",
    "'Unique_AmountFrom_L1D',\n",
    "'MFTxnCountSameToAcc_L1H',\n",
    "'TSLastMFTxn_sametoacc_mins',\n",
    "'Unique_Amount_L1D',\n",
    "'MFTxnCount_L1D',\n",
    "'MFTxnCountSameType_L1D',\n",
    "'Unique_Amount_L1H',\n",
    "'account_open_amount',\n",
    "'Avg_Amt_SameToAcc_L1H',\n",
    "'TSLastMFTxn_sametype_mins',\n",
    "'MFTxnCountSameType_L1H',\n",
    "'Avg_Amt_SameToAcc_L1D',\n",
    "'Unique_AmountFrom_L1H',\n",
    "'Max_Amt_L1D',\n",
    "'MFTxnCount_L1H',\n",
    "'Avg_Amt_SameType_L1D',\n",
    "'Avg_Amt_SameType_L1H',\n",
    "'Unique_Amount_L7D',\n",
    "'TSLastMFTxn_mins',\n",
    "'Avg_Amt_L1D',\n",
    "'Max_Amt_L1H',\n",
    "'Avg_Amt_L1H',\n",
    "'Unique_From_Account_No_L1H']].to_csv(r'C:\\Users\\AEmslie\\OneDrive - GB Group PLC\\Sales\\TTB\\PoC 2\\Data\\Files for MLS\\Train_Mule001.csv')"
   ]
  },
  {
   "cell_type": "code",
   "execution_count": null,
   "id": "5b00857f",
   "metadata": {},
   "outputs": [],
   "source": [
    "df_train_mule[['transaction_id',\n",
    "'Fraud',\n",
    "'Deposit_Account_Age',\n",
    "'MFTxnCountSameToAcc_L1D',\n",
    "'Unique_AmountFrom_L1D',\n",
    "'MFTxnCountSameToAcc_L1H',\n",
    "'TSLastMFTxn_sametoacc_mins',\n",
    "'Unique_Amount_L1D',\n",
    "'MFTxnCount_L1D',\n",
    "'MFTxnCountSameType_L1D',\n",
    "'Unique_Amount_L1H',\n",
    "'account_open_amount',\n",
    "'Avg_Amt_SameToAcc_L1H',\n",
    "'TSLastMFTxn_sametype_mins',\n",
    "'MFTxnCountSameType_L1H',\n",
    "'Avg_Amt_SameToAcc_L1D',\n",
    "'Unique_AmountFrom_L1H',\n",
    "'Max_Amt_L1D',\n",
    "'MFTxnCount_L1H',\n",
    "'Avg_Amt_SameType_L1D',\n",
    "'Avg_Amt_SameType_L1H',\n",
    "'Unique_Amount_L7D',\n",
    "'TSLastMFTxn_mins',\n",
    "'Avg_Amt_L1D',\n",
    "'Max_Amt_L1H',\n",
    "'Avg_Amt_L1H',\n",
    "'Unique_From_Account_No_L1H']].fillna(-1).to_csv(r'C:\\Users\\AEmslie\\OneDrive - GB Group PLC\\Sales\\TTB\\PoC 2\\Data\\Files for MLS\\Train_Mule001_RF.csv')"
   ]
  },
  {
   "cell_type": "code",
   "execution_count": null,
   "id": "0dea87b9",
   "metadata": {},
   "outputs": [],
   "source": [
    "df_train_mule[['transaction_id',\n",
    "'Fraud',\n",
    "'Deposit_Account_Age',\n",
    "'MFTxnCountSameToAcc_L1D',\n",
    "'Unique_AmountFrom_L1D',\n",
    "'MFTxnCountSameToAcc_L1H',\n",
    "'TSLastMFTxn_sametoacc_mins',\n",
    "'Unique_Amount_L1D',\n",
    "'MFTxnCount_L1D',\n",
    "'MFTxnCountSameType_L1D',\n",
    "'Unique_Amount_L1H',\n",
    "'account_open_amount',\n",
    "'Avg_Amt_SameToAcc_L1H',\n",
    "'TSLastMFTxn_sametype_mins',\n",
    "'MFTxnCountSameType_L1H',\n",
    "'Avg_Amt_SameToAcc_L1D',\n",
    "'Unique_AmountFrom_L1H',\n",
    "'Max_Amt_L1D',\n",
    "'MFTxnCount_L1H',\n",
    "'Avg_Amt_SameType_L1D',\n",
    "'Avg_Amt_SameType_L1H',\n",
    "'Unique_Amount_L7D',\n",
    "'TSLastMFTxn_mins',\n",
    "'Avg_Amt_L1D',\n",
    "'Max_Amt_L1H',\n",
    "'Avg_Amt_L1H',\n",
    "'Unique_From_Account_No_L1H',\n",
    "'Unique_Amount_L14D',\n",
    "'MFTxnCountSameToAcc_L7D',\n",
    "'Dep_Unique_TellerID_L30D',\n",
    "'Unique_To_Account_No_L1H',\n",
    "'Txn_Count_Dep_L30D',\n",
    "'Avg_Amt_SameToAcc_L7D',\n",
    "'Unique_Amount_L30D',\n",
    "'transaction_type',\n",
    "'Dep_Unique_RecordType_L30D',\n",
    "'Avg_Amt_SameToAcc_L14D',\n",
    "'Unique_From_Account_No_L1D',\n",
    "'Avg_Amt_SameType_L7D',\n",
    "'Dep_Unique_Amount_L30D',\n",
    "'MFTxnCountSameType_L7D',\n",
    "'MFTxnCountSameToAcc_L14D',\n",
    "'Dep_Unique_Branch_L30D',\n",
    "'Unique_AmountFrom_L7D',\n",
    "'Txn_Count_Dep_40_L30D',\n",
    "'Max_Amt_L7D',\n",
    "'Avg_Amt_L7D',\n",
    "'Dep_Unique_TransCode_L30D',\n",
    "'Unique_Amount_L90D',\n",
    "'MFTxnCount_L7D',\n",
    "'Avg_Amt_SameType_L14D',\n",
    "'Avg_Amt_SameToAcc_L30D',\n",
    "'Unique_From_Account_No_L7D',\n",
    "'MFTxnCountSameToAcc_L30D',\n",
    "'Dep_MaxAmount_L30D',\n",
    "'Dep_MaxBalance_L30D',\n",
    "'Avg_Amt_SameToAcc_L90D',\n",
    "'Avg_Amt_L14D',\n",
    "'Unique_From_Account_No_L90D',\n",
    "'MFTxnCountSameType_L14D',\n",
    "'Unique_To_Account_No_L1D',\n",
    "'Dep_MinBalance_L30D',\n",
    "'Unique_From_Account_No_L14D',\n",
    "'Avg_Amt_SameType_L30D',\n",
    "'available_balance',\n",
    "'Dep_AvgAmoutL30D',\n",
    "'Dep_AvgBalance_L30D',\n",
    "'Max_Amt_L14D',\n",
    "'Unique_AmountFrom_L14D',\n",
    "'Unique_From_Account_No_L30D',\n",
    "'Avg_Amt_L30D',\n",
    "'MFTxnCountSameToAcc_L90D',\n",
    "'DaysSinceLast_Dep',\n",
    "'occupation',\n",
    "'MFTxnCount_L14D',\n",
    "'Unique_To_Account_No_L90D',\n",
    "'Customer_Age',\n",
    "'MFTxnCountSameType_L30D',\n",
    "'Unique_To_Account_No_L30D',\n",
    "'Avg_Amt_L90D',\n",
    "'Unique_To_Account_No_L14D',\n",
    "'Unique_To_Account_No_L7D',\n",
    "'Txn_Count_Dep_20_L30D',\n",
    "'Max_Amt_L30D',\n",
    "'to_bank_code',\n",
    "'MFTxnCountSameType_L90D',\n",
    "'Unique_AmountFrom_L30D',\n",
    "'customer_segment',\n",
    "'MFTxnCount_L30D',\n",
    "'Max_Amt_L90D',\n",
    "'Avg_Amt_SameType_L90D',\n",
    "'any_id_type',\n",
    "'MFTxnCount_L90D',\n",
    "'Unique_AmountFrom_L90D',\n",
    "'amount']].fillna(-1).to_csv(r'C:\\Users\\AEmslie\\OneDrive - GB Group PLC\\Sales\\TTB\\PoC 2\\Data\\Files for MLS\\Train_Mule001_Large_RF.csv')"
   ]
  },
  {
   "cell_type": "code",
   "execution_count": null,
   "id": "30c082c9",
   "metadata": {},
   "outputs": [],
   "source": [
    "data.loc[data['flag'] == 'TEST'][['transaction_id',\n",
    "'Fraud',\n",
    "'Deposit_Account_Age',\n",
    "'MFTxnCountSameToAcc_L1D',\n",
    "'Unique_AmountFrom_L1D',\n",
    "'MFTxnCountSameToAcc_L1H',\n",
    "'TSLastMFTxn_sametoacc_mins',\n",
    "'Unique_Amount_L1D',\n",
    "'MFTxnCount_L1D',\n",
    "'MFTxnCountSameType_L1D',\n",
    "'Unique_Amount_L1H',\n",
    "'account_open_amount',\n",
    "'Avg_Amt_SameToAcc_L1H',\n",
    "'TSLastMFTxn_sametype_mins',\n",
    "'MFTxnCountSameType_L1H',\n",
    "'Avg_Amt_SameToAcc_L1D',\n",
    "'Unique_AmountFrom_L1H',\n",
    "'Max_Amt_L1D',\n",
    "'MFTxnCount_L1H',\n",
    "'Avg_Amt_SameType_L1D',\n",
    "'Avg_Amt_SameType_L1H',\n",
    "'Unique_Amount_L7D',\n",
    "'TSLastMFTxn_mins',\n",
    "'Avg_Amt_L1D',\n",
    "'Max_Amt_L1H',\n",
    "'Avg_Amt_L1H',\n",
    "'Unique_From_Account_No_L1H']].fillna(-1).to_csv(r'C:\\Users\\AEmslie\\OneDrive - GB Group PLC\\Sales\\TTB\\PoC 2\\Data\\Files for MLS\\TEST_Mule001_RF.csv')"
   ]
  },
  {
   "cell_type": "code",
   "execution_count": null,
   "id": "f43126ee",
   "metadata": {},
   "outputs": [],
   "source": [
    "data.loc[data['flag'] == 'TEST'][['transaction_id',\n",
    "'Fraud',\n",
    "'Deposit_Account_Age',\n",
    "'MFTxnCountSameToAcc_L1D',\n",
    "'Unique_AmountFrom_L1D',\n",
    "'MFTxnCountSameToAcc_L1H',\n",
    "'TSLastMFTxn_sametoacc_mins',\n",
    "'Unique_Amount_L1D',\n",
    "'MFTxnCount_L1D',\n",
    "'MFTxnCountSameType_L1D',\n",
    "'Unique_Amount_L1H',\n",
    "'account_open_amount',\n",
    "'Avg_Amt_SameToAcc_L1H',\n",
    "'TSLastMFTxn_sametype_mins',\n",
    "'MFTxnCountSameType_L1H',\n",
    "'Avg_Amt_SameToAcc_L1D',\n",
    "'Unique_AmountFrom_L1H',\n",
    "'Max_Amt_L1D',\n",
    "'MFTxnCount_L1H',\n",
    "'Avg_Amt_SameType_L1D',\n",
    "'Avg_Amt_SameType_L1H',\n",
    "'Unique_Amount_L7D',\n",
    "'TSLastMFTxn_mins',\n",
    "'Avg_Amt_L1D',\n",
    "'Max_Amt_L1H',\n",
    "'Avg_Amt_L1H',\n",
    "'Unique_From_Account_No_L1H',\n",
    "'Unique_Amount_L14D',\n",
    "'MFTxnCountSameToAcc_L7D',\n",
    "'Dep_Unique_TellerID_L30D',\n",
    "'Unique_To_Account_No_L1H',\n",
    "'Txn_Count_Dep_L30D',\n",
    "'Avg_Amt_SameToAcc_L7D',\n",
    "'Unique_Amount_L30D',\n",
    "'transaction_type',\n",
    "'Dep_Unique_RecordType_L30D',\n",
    "'Avg_Amt_SameToAcc_L14D',\n",
    "'Unique_From_Account_No_L1D',\n",
    "'Avg_Amt_SameType_L7D',\n",
    "'Dep_Unique_Amount_L30D',\n",
    "'MFTxnCountSameType_L7D',\n",
    "'MFTxnCountSameToAcc_L14D',\n",
    "'Dep_Unique_Branch_L30D',\n",
    "'Unique_AmountFrom_L7D',\n",
    "'Txn_Count_Dep_40_L30D',\n",
    "'Max_Amt_L7D',\n",
    "'Avg_Amt_L7D',\n",
    "'Dep_Unique_TransCode_L30D',\n",
    "'Unique_Amount_L90D',\n",
    "'MFTxnCount_L7D',\n",
    "'Avg_Amt_SameType_L14D',\n",
    "'Avg_Amt_SameToAcc_L30D',\n",
    "'Unique_From_Account_No_L7D',\n",
    "'MFTxnCountSameToAcc_L30D',\n",
    "'Dep_MaxAmount_L30D',\n",
    "'Dep_MaxBalance_L30D',\n",
    "'Avg_Amt_SameToAcc_L90D',\n",
    "'Avg_Amt_L14D',\n",
    "'Unique_From_Account_No_L90D',\n",
    "'MFTxnCountSameType_L14D',\n",
    "'Unique_To_Account_No_L1D',\n",
    "'Dep_MinBalance_L30D',\n",
    "'Unique_From_Account_No_L14D',\n",
    "'Avg_Amt_SameType_L30D',\n",
    "'available_balance',\n",
    "'Dep_AvgAmoutL30D',\n",
    "'Dep_AvgBalance_L30D',\n",
    "'Max_Amt_L14D',\n",
    "'Unique_AmountFrom_L14D',\n",
    "'Unique_From_Account_No_L30D',\n",
    "'Avg_Amt_L30D',\n",
    "'MFTxnCountSameToAcc_L90D',\n",
    "'DaysSinceLast_Dep',\n",
    "'occupation',\n",
    "'MFTxnCount_L14D',\n",
    "'Unique_To_Account_No_L90D',\n",
    "'Customer_Age',\n",
    "'MFTxnCountSameType_L30D',\n",
    "'Unique_To_Account_No_L30D',\n",
    "'Avg_Amt_L90D',\n",
    "'Unique_To_Account_No_L14D',\n",
    "'Unique_To_Account_No_L7D',\n",
    "'Txn_Count_Dep_20_L30D',\n",
    "'Max_Amt_L30D',\n",
    "'to_bank_code',\n",
    "'MFTxnCountSameType_L90D',\n",
    "'Unique_AmountFrom_L30D',\n",
    "'customer_segment',\n",
    "'MFTxnCount_L30D',\n",
    "'Max_Amt_L90D',\n",
    "'Avg_Amt_SameType_L90D',\n",
    "'any_id_type',\n",
    "'MFTxnCount_L90D',\n",
    "'Unique_AmountFrom_L90D',\n",
    "'amount']].fillna(-1).to_csv(r'C:\\Users\\AEmslie\\OneDrive - GB Group PLC\\Sales\\TTB\\PoC 2\\Data\\Files for MLS\\TEST_Mule001_Large_RF.csv')"
   ]
  },
  {
   "cell_type": "code",
   "execution_count": null,
   "id": "64b82457",
   "metadata": {},
   "outputs": [],
   "source": [
    "data.loc[data['flag'] == 'TEST'].loc[data['transaction_type'].str.len() > 3][['transaction_id',\n",
    "'Fraud',\n",
    "'Deposit_Account_Age',\n",
    "'MFTxnCountSameToAcc_L1D',\n",
    "'Unique_AmountFrom_L1D',\n",
    "'MFTxnCountSameToAcc_L1H',\n",
    "'TSLastMFTxn_sametoacc_mins',\n",
    "'Unique_Amount_L1D',\n",
    "'MFTxnCount_L1D',\n",
    "'MFTxnCountSameType_L1D',\n",
    "'Unique_Amount_L1H',\n",
    "'account_open_amount',\n",
    "'Avg_Amt_SameToAcc_L1H',\n",
    "'TSLastMFTxn_sametype_mins',\n",
    "'MFTxnCountSameType_L1H',\n",
    "'Avg_Amt_SameToAcc_L1D',\n",
    "'Unique_AmountFrom_L1H',\n",
    "'Max_Amt_L1D',\n",
    "'MFTxnCount_L1H',\n",
    "'Avg_Amt_SameType_L1D',\n",
    "'Avg_Amt_SameType_L1H',\n",
    "'Unique_Amount_L7D',\n",
    "'TSLastMFTxn_mins',\n",
    "'Avg_Amt_L1D',\n",
    "'Max_Amt_L1H',\n",
    "'Avg_Amt_L1H',\n",
    "'Unique_From_Account_No_L1H']].fillna(-1).to_csv(r'C:\\Users\\AEmslie\\OneDrive - GB Group PLC\\Sales\\TTB\\PoC 2\\Data\\Files for MLS\\TEST_Mule001_RF_TTRestricted.csv')"
   ]
  },
  {
   "cell_type": "code",
   "execution_count": null,
   "id": "37744671",
   "metadata": {},
   "outputs": [],
   "source": []
  },
  {
   "cell_type": "code",
   "execution_count": null,
   "id": "785e13be",
   "metadata": {},
   "outputs": [],
   "source": []
  },
  {
   "cell_type": "code",
   "execution_count": null,
   "id": "54e0aad9",
   "metadata": {},
   "outputs": [],
   "source": []
  },
  {
   "cell_type": "markdown",
   "id": "8aaa915e",
   "metadata": {},
   "source": [
    "### Phase 2 Files for ML Module"
   ]
  },
  {
   "cell_type": "code",
   "execution_count": null,
   "id": "d0768a87",
   "metadata": {},
   "outputs": [],
   "source": [
    "df_train_mule.groupby(['flag','fraud_txn','Fraud'], dropna=False).size()"
   ]
  },
  {
   "cell_type": "code",
   "execution_count": null,
   "id": "f626c9ee",
   "metadata": {},
   "outputs": [],
   "source": [
    "df_train_mule[['transaction_id',\n",
    "'Fraud',\n",
    "'Deposit_Account_Age',\n",
    "'MFTxnCountSameToAcc_L1D',\n",
    "'Unique_AmountFrom_L1D',\n",
    "'TSLastMFTxn_fromacct_to_acct_mins',\n",
    "'Unique_AmountTo_L1D',\n",
    "'Dep_AvgAcctAge_L30D',\n",
    "'MFTxnCount_L1D',\n",
    "'MFTxnCountSameType_L1D',\n",
    "'TSLastMFTxn_tobankcode_mins',\n",
    "'TSLastMFTxn_toacct_mins',\n",
    "'account_open_amount',\n",
    "'Avg_Amt_SameToAcc_L1H',\n",
    "'Avg_Amt_L1H',\n",
    "'Avg_Bal_L14D',\n",
    "'Max_AmtBalRatio_L1H',\n",
    "'transaction_type',\n",
    "'available_balance',\n",
    "'occupation',\n",
    "'Customer_Age',\n",
    "'amount_balance_ratio',\n",
    "'customer_segment',\n",
    "'TimeSinceLast_Ch',\n",
    "'amount',\n",
    "'Txn_Count_SD_L30D',\n",
    "'Txn_Count_IDC_L30D',\n",
    "'Txn_Count_DCM_L30D',\n",
    "'Txn_Count_PASS_L30D',\n",
    "'Txn_Count_CHQIN_L30D',\n",
    "'Txn_Count_BranchTo_L30D']].fillna(-1).to_csv(r'C:\\Users\\AEmslie\\OneDrive - GB Group PLC\\Sales\\TTB\\PoC 2\\Data\\Files for MLS\\Phase 2\\Train_Mule_Small01_FillNA.csv')"
   ]
  },
  {
   "cell_type": "code",
   "execution_count": null,
   "id": "1074fc78",
   "metadata": {},
   "outputs": [],
   "source": [
    "df_test[['transaction_id',\n",
    "         'customer_id',\n",
    "         'account_number',\n",
    "         transaction_datetime',\n",
    "'Fraud',\n",
    "'Deposit_Account_Age',\n",
    "'MFTxnCountSameToAcc_L1D',\n",
    "'Unique_AmountFrom_L1D',\n",
    "'TSLastMFTxn_fromacct_to_acct_mins',\n",
    "'Unique_AmountTo_L1D',\n",
    "'Dep_AvgAcctAge_L30D',\n",
    "'MFTxnCount_L1D',\n",
    "'MFTxnCountSameType_L1D',\n",
    "'TSLastMFTxn_tobankcode_mins',\n",
    "'TSLastMFTxn_toacct_mins',\n",
    "'account_open_amount',\n",
    "'Avg_Amt_SameToAcc_L1H',\n",
    "'Avg_Amt_L1H',\n",
    "'Avg_Bal_L14D',\n",
    "'Max_AmtBalRatio_L1H',\n",
    "'transaction_type',\n",
    "'available_balance',\n",
    "'occupation',\n",
    "'Customer_Age',\n",
    "'amount_balance_ratio',\n",
    "'customer_segment',\n",
    "'TimeSinceLast_Ch',\n",
    "'amount',\n",
    "'Txn_Count_SD_L30D',\n",
    "'Txn_Count_IDC_L30D',\n",
    "'Txn_Count_DCM_L30D',\n",
    "'Txn_Count_PASS_L30D',\n",
    "'Txn_Count_CHQIN_L30D',\n",
    "'Txn_Count_BranchTo_L30D']].fillna(-1).to_csv(r'C:\\Users\\AEmslie\\OneDrive - GB Group PLC\\Sales\\TTB\\PoC 2\\Data\\Files for MLS\\Phase 2\\TEST_Mule_Small01_FillNA.csv')\n"
   ]
  },
  {
   "cell_type": "code",
   "execution_count": null,
   "id": "ebc8484f",
   "metadata": {},
   "outputs": [],
   "source": [
    "df_train_se[['transaction_id',\n",
    "'Fraud',\n",
    "'transaction_type',\n",
    "'to_bank_code',\n",
    "'TSLastMFTxn_fromacct_to_acct_mins',\n",
    "'TSLastMFTxn_toacct_mins',\n",
    "'Max_Amt_L1D',\n",
    "'Customer_Age',\n",
    "'TSLastMFTxn_mins',\n",
    "'Avg_Amt_L1D',\n",
    "'Max_AmtBalRatio_L1D',\n",
    "'Avg_AmtBalRatio_L1D',\n",
    "'Avg_Amt_SameToAcc_L1H',\n",
    "'Unique_AmountFrom_L90D']].fillna(-1).to_csv(r'C:\\Users\\AEmslie\\OneDrive - GB Group PLC\\Sales\\TTB\\PoC 2\\Data\\Files for MLS\\Phase 2\\Train_SE_Small01_FillNA.csv',\n",
    "                                            index=False)\n"
   ]
  },
  {
   "cell_type": "code",
   "execution_count": null,
   "id": "9e5d7e00",
   "metadata": {},
   "outputs": [],
   "source": [
    "df_test[['transaction_id',\n",
    "'Fraud',\n",
    "'transaction_type',\n",
    "'to_bank_code',\n",
    "'TSLastMFTxn_fromacct_to_acct_mins',\n",
    "'TSLastMFTxn_toacct_mins',\n",
    "'Max_Amt_L1D',\n",
    "'Customer_Age',\n",
    "'TSLastMFTxn_mins',\n",
    "'Avg_Amt_L1D',\n",
    "'Max_AmtBalRatio_L1D',\n",
    "'Avg_AmtBalRatio_L1D',\n",
    "'Avg_Amt_SameToAcc_L1H',\n",
    "'Unique_AmountFrom_L90D']].fillna(-1).to_csv(r'C:\\Users\\AEmslie\\OneDrive - GB Group PLC\\Sales\\TTB\\PoC 2\\Data\\Files for MLS\\Phase 2\\TEST_SE_Small01_FillNA.csv',\n",
    "                                            index=False)\n"
   ]
  },
  {
   "cell_type": "code",
   "execution_count": null,
   "id": "69808e49",
   "metadata": {},
   "outputs": [],
   "source": []
  },
  {
   "cell_type": "code",
   "execution_count": null,
   "id": "bd5bbe5a",
   "metadata": {},
   "outputs": [],
   "source": []
  },
  {
   "cell_type": "code",
   "execution_count": null,
   "id": "e54fb3f1",
   "metadata": {},
   "outputs": [],
   "source": [
    "df_test[['transaction_id',\n",
    "         'customer_id',\n",
    "         'account_number',\n",
    "         'transaction_datetime',\n",
    "'Fraud',\n",
    "'Deposit_Account_Age',\n",
    "'MFTxnCountSameToAcc_L1D',\n",
    "'Unique_AmountFrom_L1D',\n",
    "'TSLastMFTxn_fromacct_to_acct_mins',\n",
    "'Unique_AmountTo_L1D',\n",
    "'Dep_AvgAcctAge_L30D',\n",
    "'MFTxnCount_L1D',\n",
    "'MFTxnCountSameType_L1D',\n",
    "'TSLastMFTxn_tobankcode_mins',\n",
    "'TSLastMFTxn_toacct_mins',\n",
    "'account_open_amount',\n",
    "'Avg_Amt_SameToAcc_L1H',\n",
    "'Avg_Amt_L1H',\n",
    "'Avg_Bal_L14D',\n",
    "'Max_AmtBalRatio_L1H',\n",
    "'transaction_type',\n",
    "'available_balance',\n",
    "'occupation',\n",
    "'Customer_Age',\n",
    "'amount_balance_ratio',\n",
    "'customer_segment',\n",
    "'TimeSinceLast_Ch',\n",
    "'amount',\n",
    "'Txn_Count_SD_L30D',\n",
    "'Txn_Count_IDC_L30D',\n",
    "'Txn_Count_DCM_L30D',\n",
    "'Txn_Count_PASS_L30D',\n",
    "'Txn_Count_CHQIN_L30D',\n",
    "'Txn_Count_BranchTo_L30D']].to_csv(r'C:\\Users\\AEmslie\\OneDrive - GB Group PLC\\Sales\\TTB\\PoC 2\\Data\\Files for MLS\\Phase 2\\TEST_Mule_Small02.csv')\n"
   ]
  },
  {
   "cell_type": "code",
   "execution_count": null,
   "id": "9a79dd5e",
   "metadata": {},
   "outputs": [],
   "source": []
  },
  {
   "cell_type": "code",
   "execution_count": null,
   "id": "4e19f44d",
   "metadata": {},
   "outputs": [],
   "source": []
  },
  {
   "cell_type": "code",
   "execution_count": null,
   "id": "1f3cd244",
   "metadata": {},
   "outputs": [],
   "source": [
    "x = pd.read_csv(r'C:\\Users\\AEmslie\\OneDrive - GB Group PLC\\Sales\\TTB\\PoC 2\\Data\\Files from MLS\\Deposit\\Deposit Mule Customer IDs ML Detected.txt')"
   ]
  },
  {
   "cell_type": "code",
   "execution_count": null,
   "id": "21f2fd9f",
   "metadata": {},
   "outputs": [],
   "source": [
    "x.shape"
   ]
  },
  {
   "cell_type": "code",
   "execution_count": null,
   "id": "f36dcf9b",
   "metadata": {},
   "outputs": [],
   "source": [
    "x = pd.read_csv(r'C:\\Users\\AEmslie\\OneDrive - GB Group PLC\\Sales\\TTB\\PoC 2\\Data\\Files from MLS\\Mobile Financial Phase 2\\Mobile Financial Mule Customer IDs ML Detected.txt')"
   ]
  },
  {
   "cell_type": "code",
   "execution_count": null,
   "id": "1c50244a",
   "metadata": {},
   "outputs": [],
   "source": []
  },
  {
   "cell_type": "code",
   "execution_count": null,
   "id": "72f09f04",
   "metadata": {},
   "outputs": [],
   "source": [
    "a = pd.read_csv(r'C:\\Users\\AEmslie\\OneDrive - GB Group PLC\\Sales\\TTB\\PoC 2\\Data\\Files for MLS\\Phase 2\\Test_Mule_Small02.csv')"
   ]
  },
  {
   "cell_type": "code",
   "execution_count": null,
   "id": "5dc05be5",
   "metadata": {},
   "outputs": [],
   "source": [
    "a.shape"
   ]
  },
  {
   "cell_type": "code",
   "execution_count": null,
   "id": "ada5840b",
   "metadata": {},
   "outputs": [],
   "source": [
    "a.columns"
   ]
  },
  {
   "cell_type": "code",
   "execution_count": null,
   "id": "c615a0a2",
   "metadata": {},
   "outputs": [],
   "source": [
    "b = pd.read_csv(r'C:\\Users\\AEmslie\\OneDrive - GB Group PLC\\Sales\\TTB\\PoC 2\\Data\\Files from MLS\\Phase2_TEST_MULE_LGBM02.csv')"
   ]
  },
  {
   "cell_type": "code",
   "execution_count": null,
   "id": "593587c0",
   "metadata": {},
   "outputs": [],
   "source": [
    "b.shape"
   ]
  },
  {
   "cell_type": "code",
   "execution_count": null,
   "id": "ff4bcf3b",
   "metadata": {},
   "outputs": [],
   "source": [
    "b.columns"
   ]
  },
  {
   "cell_type": "code",
   "execution_count": null,
   "id": "77296bb6",
   "metadata": {},
   "outputs": [],
   "source": [
    "c = pd.concat([a[['transaction_id','customer_id','account_number',\n",
    "                 'transaction_datetime']],b[['fraud','ML_Score','transaction_type']]], axis=1)"
   ]
  },
  {
   "cell_type": "code",
   "execution_count": null,
   "id": "eaaeb5d5",
   "metadata": {},
   "outputs": [],
   "source": [
    "c['transaction_id'].nunique()"
   ]
  },
  {
   "cell_type": "code",
   "execution_count": null,
   "id": "f463861d",
   "metadata": {},
   "outputs": [],
   "source": []
  },
  {
   "cell_type": "code",
   "execution_count": null,
   "id": "0dea4436",
   "metadata": {},
   "outputs": [],
   "source": [
    "d = c.loc[c['transaction_type'] > 1000].merge(mobile_rule_result[['transaction_id','rules']],\n",
    "            on = ['transaction_id'],\n",
    "            how = 'left',\n",
    "            indicator = \"merge_rules\")"
   ]
  },
  {
   "cell_type": "code",
   "execution_count": null,
   "id": "8d36d3d2",
   "metadata": {},
   "outputs": [],
   "source": [
    "d.groupby(['rules'], dropna=False).size()"
   ]
  },
  {
   "cell_type": "code",
   "execution_count": null,
   "id": "034503ce",
   "metadata": {},
   "outputs": [],
   "source": [
    "\n",
    "print('Number of TEST cases: ',d.shape[0])\n",
    "\n",
    "print('Number of ML Alerts: ',d.loc[d['ML_Score'] >= 0.353].shape[0])\n",
    "\n",
    "print('ML Alert Rate: ', (d.loc[d['ML_Score'] >= 0.353].shape[0])/d.shape[0])\n",
    "\n",
    "print('Number of Rule-Based Alerts: ',d.loc[d['rules'].isna() == False].shape[0])\n",
    "\n",
    "print('Rules-based Alert Rate:', d.loc[d['rules'].isna() == False].shape[0]/d.shape[0])\n",
    "\n",
    "print('Number of ML+Rules Alerts:',d.loc[(d['ML_Score'] >= 0.353) & (d['rules'].isna() == False)].shape[0])\n",
    "\n",
    "print('ML+Rules Alert Rate:',d.loc[(d['ML_Score'] >= 0.353) & (d['rules'].isna() == False)].shape[0]/d.shape[0])\n",
    "\n"
   ]
  },
  {
   "cell_type": "code",
   "execution_count": null,
   "id": "2186a01e",
   "metadata": {},
   "outputs": [],
   "source": [
    "d.loc[d['ML_Score'] >= 0.353].drop(columns=['transaction_type','merge_rules','fraud']).to_csv(r'C:\\Users\\AEmslie\\OneDrive - GB Group PLC\\Sales\\TTB\\PoC 2\\Data\\Files from MLS\\Mobile Financial Phase 2\\MobileFinancial_MLAlerts_Phase2.txt',\n",
    "                                    sep = '\\t',\n",
    "                                    index=False)"
   ]
  },
  {
   "cell_type": "code",
   "execution_count": null,
   "id": "1ffa1417",
   "metadata": {},
   "outputs": [],
   "source": [
    "d.loc[(d['rules'].isna() == False) & (d['ML_Score'] >= 0.353)].drop(columns=['transaction_type','merge_rules','fraud']).to_csv(r'C:\\Users\\AEmslie\\OneDrive - GB Group PLC\\Sales\\TTB\\PoC 2\\Data\\Files from MLS\\Mobile Financial Phase 2\\MobileFinancial_ML+RulesAlerts_Phase2.txt',\n",
    "                                    sep = '\\t',\n",
    "                                    index=False)"
   ]
  },
  {
   "cell_type": "code",
   "execution_count": null,
   "id": "20b3503e",
   "metadata": {},
   "outputs": [],
   "source": [
    "d.groupby"
   ]
  },
  {
   "cell_type": "code",
   "execution_count": null,
   "id": "49174e5f",
   "metadata": {},
   "outputs": [],
   "source": [
    "# Make a file with flagged Customer ID's and number of transactions\n",
    "\n",
    "pd.DataFrame(d.loc[d['ML_Score'] >= 0.353].groupby(['customer_id']).size()).reset_index().rename(columns = {0:'Number of Transactions'}).to_csv(r'C:\\Users\\AEmslie\\OneDrive - GB Group PLC\\Sales\\TTB\\PoC 2\\Data\\Files from MLS\\Mobile Financial Phase 2\\Mobile Financial Mule Customer IDs ML Detected.txt', index=False)"
   ]
  },
  {
   "cell_type": "code",
   "execution_count": null,
   "id": "47ed7370",
   "metadata": {},
   "outputs": [],
   "source": [
    "# Make a file with flagged account numbers and number of transactions\n",
    "\n",
    "pd.DataFrame(d.loc[d['ML_Score'] >= 0.353].groupby(['account_number']).size()).reset_index().rename(columns = {0:'Number of Transactions'}).to_csv(r'C:\\Users\\AEmslie\\OneDrive - GB Group PLC\\Sales\\TTB\\PoC 2\\Data\\Files from MLS\\Mobile Financial Phase 2\\Mobile Financial Mule Account Numbers ML Detected.txt', index=False)"
   ]
  },
  {
   "cell_type": "code",
   "execution_count": null,
   "id": "ad9b9c0f",
   "metadata": {},
   "outputs": [],
   "source": [
    "pd.DataFrame(d.loc[d['ML_Score'] >= 0.353].groupby(['account_number']).size()).sum()"
   ]
  },
  {
   "cell_type": "code",
   "execution_count": null,
   "id": "aff51bdb",
   "metadata": {},
   "outputs": [],
   "source": []
  },
  {
   "cell_type": "code",
   "execution_count": null,
   "id": "ea49ee06",
   "metadata": {},
   "outputs": [],
   "source": []
  },
  {
   "cell_type": "code",
   "execution_count": null,
   "id": "ac35c771",
   "metadata": {},
   "outputs": [],
   "source": [
    "df_train_mule.shape"
   ]
  },
  {
   "cell_type": "code",
   "execution_count": null,
   "id": "fb2f4459",
   "metadata": {},
   "outputs": [],
   "source": [
    "f = df_train_mule[['transaction_id','customer_id','account_number','transaction_datetime','Fraud','fraud_txn']].merge(mobile_rule_result[['transaction_id','rules']],\n",
    "                                                                                                                 on = ['transaction_id'],\n",
    "                                                                                                                 how = 'left')\n",
    "\n",
    "\n",
    "f['rule_triggered'] = f['rules'].isna() == False"
   ]
  },
  {
   "cell_type": "code",
   "execution_count": null,
   "id": "ba4c125c",
   "metadata": {},
   "outputs": [],
   "source": [
    "f.groupby(['rule_triggered','Fraud'], dropna=False).size()"
   ]
  },
  {
   "cell_type": "code",
   "execution_count": null,
   "id": "30a995f6",
   "metadata": {},
   "outputs": [],
   "source": [
    "f.groupby(['rule_triggered'], dropna=False).size()"
   ]
  },
  {
   "cell_type": "code",
   "execution_count": null,
   "id": "fa18db80",
   "metadata": {},
   "outputs": [],
   "source": [
    "f.loc[f['rule_triggered'] == True].shape[0]/f.shape[0]"
   ]
  },
  {
   "cell_type": "code",
   "execution_count": null,
   "id": "06b7b946",
   "metadata": {},
   "outputs": [],
   "source": []
  },
  {
   "cell_type": "code",
   "execution_count": null,
   "id": "7cd82791",
   "metadata": {},
   "outputs": [],
   "source": []
  },
  {
   "cell_type": "code",
   "execution_count": null,
   "id": "6138b122",
   "metadata": {},
   "outputs": [],
   "source": []
  },
  {
   "cell_type": "code",
   "execution_count": null,
   "id": "1cb906a0",
   "metadata": {},
   "outputs": [],
   "source": []
  },
  {
   "cell_type": "code",
   "execution_count": null,
   "id": "0f1de4ed",
   "metadata": {},
   "outputs": [],
   "source": []
  },
  {
   "cell_type": "code",
   "execution_count": null,
   "id": "b2c3f7bd",
   "metadata": {},
   "outputs": [],
   "source": []
  },
  {
   "cell_type": "code",
   "execution_count": null,
   "id": "ff8db2ed",
   "metadata": {},
   "outputs": [],
   "source": []
  },
  {
   "cell_type": "code",
   "execution_count": null,
   "id": "02e5e81b",
   "metadata": {},
   "outputs": [],
   "source": []
  },
  {
   "cell_type": "code",
   "execution_count": null,
   "id": "271b2008",
   "metadata": {},
   "outputs": [],
   "source": []
  },
  {
   "cell_type": "code",
   "execution_count": null,
   "id": "9f82bf65",
   "metadata": {},
   "outputs": [],
   "source": []
  },
  {
   "cell_type": "code",
   "execution_count": 78,
   "id": "a52a5149",
   "metadata": {},
   "outputs": [
    {
     "name": "stdout",
     "output_type": "stream",
     "text": [
      "<class 'pandas.core.frame.DataFrame'>\n",
      "RangeIndex: 4096478 entries, 0 to 4096477\n",
      "Data columns (total 19 columns):\n",
      " #   Column                 Dtype         \n",
      "---  ------                 -----         \n",
      " 0   transaction_id         object        \n",
      " 1   transaction_datetime   datetime64[ns]\n",
      " 2   customer_id            object        \n",
      " 3   from_account_no        object        \n",
      " 4   to_account_no          object        \n",
      " 5   to_bank_code           object        \n",
      " 6   transaction_type       object        \n",
      " 7   amount                 Float64       \n",
      " 8   top_up_billers         object        \n",
      " 9   top_up_reference_no    object        \n",
      " 10  transaction_status     object        \n",
      " 11  any_id_type            object        \n",
      " 12  any_id_value           object        \n",
      " 13  ip_address             object        \n",
      " 14  device_id              object        \n",
      " 15  available_balance      Float64       \n",
      " 16  old_value              object        \n",
      " 17  new_value              object        \n",
      " 18  transaction_datetime1  datetime64[ns]\n",
      "dtypes: Float64(2), datetime64[ns](2), object(15)\n",
      "memory usage: 601.6+ MB\n"
     ]
    }
   ],
   "source": [
    "mobile_financial.info()"
   ]
  },
  {
   "cell_type": "code",
   "execution_count": 77,
   "id": "553d9af9",
   "metadata": {},
   "outputs": [],
   "source": [
    "mobile_financial['transaction_datetime'] = mobile_financial['transaction_datetime1']"
   ]
  },
  {
   "cell_type": "code",
   "execution_count": 80,
   "id": "ffd94cd6",
   "metadata": {},
   "outputs": [],
   "source": [
    "df_train_in = pd.read_csv(r'C:\\Users\\AEmslie\\OneDrive - GB Group PLC\\Sales\\TTB\\PoC 2\\Data\\Files for MLS\\Phase 2\\Train_Mule_Small01.csv',\n",
    "                        dtype = {'transaction_type':'object'}).drop(columns = ['Unnamed: 0'])"
   ]
  },
  {
   "cell_type": "code",
   "execution_count": 81,
   "id": "608e7d5a",
   "metadata": {},
   "outputs": [
    {
     "name": "stdout",
     "output_type": "stream",
     "text": [
      "<class 'pandas.core.frame.DataFrame'>\n",
      "RangeIndex: 1299009 entries, 0 to 1299008\n",
      "Data columns (total 31 columns):\n",
      " #   Column                             Non-Null Count    Dtype  \n",
      "---  ------                             --------------    -----  \n",
      " 0   transaction_id                     1299009 non-null  object \n",
      " 1   Fraud                              1299009 non-null  int64  \n",
      " 2   Deposit_Account_Age                1298822 non-null  float64\n",
      " 3   MFTxnCountSameToAcc_L1D            1299009 non-null  float64\n",
      " 4   Unique_AmountFrom_L1D              1299009 non-null  float64\n",
      " 5   TSLastMFTxn_fromacct_to_acct_mins  1299009 non-null  float64\n",
      " 6   Unique_AmountTo_L1D                1299009 non-null  float64\n",
      " 7   Dep_AvgAcctAge_L30D                781639 non-null   float64\n",
      " 8   MFTxnCount_L1D                     1299009 non-null  float64\n",
      " 9   MFTxnCountSameType_L1D             1299009 non-null  float64\n",
      " 10  TSLastMFTxn_tobankcode_mins        1299009 non-null  float64\n",
      " 11  TSLastMFTxn_toacct_mins            1299009 non-null  float64\n",
      " 12  account_open_amount                1296417 non-null  float64\n",
      " 13  Avg_Amt_SameToAcc_L1H              1299009 non-null  float64\n",
      " 14  Avg_Amt_L1H                        1299009 non-null  float64\n",
      " 15  Avg_Bal_L14D                       1299009 non-null  float64\n",
      " 16  Max_AmtBalRatio_L1H                1299009 non-null  float64\n",
      " 17  transaction_type                   1299009 non-null  object \n",
      " 18  available_balance                  1299009 non-null  float64\n",
      " 19  occupation                         1299009 non-null  float64\n",
      " 20  Customer_Age                       1299009 non-null  float64\n",
      " 21  amount_balance_ratio               1299009 non-null  float64\n",
      " 22  customer_segment                   1299009 non-null  float64\n",
      " 23  TimeSinceLast_Ch                   119513 non-null   float64\n",
      " 24  amount                             1299009 non-null  float64\n",
      " 25  Txn_Count_SD_L30D                  10507 non-null    float64\n",
      " 26  Txn_Count_IDC_L30D                 9458 non-null     float64\n",
      " 27  Txn_Count_DCM_L30D                 12055 non-null    float64\n",
      " 28  Txn_Count_PASS_L30D                2737 non-null     float64\n",
      " 29  Txn_Count_CHQIN_L30D               840 non-null      float64\n",
      " 30  Txn_Count_BranchTo_L30D            171 non-null      float64\n",
      "dtypes: float64(28), int64(1), object(2)\n",
      "memory usage: 307.2+ MB\n"
     ]
    }
   ],
   "source": [
    "df_train_in.info()"
   ]
  },
  {
   "cell_type": "code",
   "execution_count": 82,
   "id": "95a168a7",
   "metadata": {},
   "outputs": [
    {
     "name": "stdout",
     "output_type": "stream",
     "text": [
      "0\n",
      "0\n",
      "1299009\n",
      "4096478\n"
     ]
    }
   ],
   "source": [
    "df_train_in['transaction_id'] = df_train_in['transaction_id'].astype('str')\n",
    "mobile_financial['transaction_id'] = mobile_financial['transaction_id'].astype('str')\n",
    "\n",
    "print(df_train_in['transaction_id'].isna().sum())\n",
    "print(mobile_financial['transaction_id'].isna().sum())\n",
    "print(df_train_in.shape[0])\n",
    "print(mobile_financial.shape[0])"
   ]
  },
  {
   "cell_type": "code",
   "execution_count": 83,
   "id": "d8b16c68",
   "metadata": {},
   "outputs": [],
   "source": [
    "df_train_in_test = df_train_in.merge(mobile_financial[['transaction_id','transaction_datetime','customer_id','from_account_no']],\n",
    "                                     left_on = ['transaction_id'],\n",
    "                                     right_on = ['transaction_id'],\n",
    "                                     how = 'left',\n",
    "                                     indicator = 'merge_mf_train')"
   ]
  },
  {
   "cell_type": "code",
   "execution_count": 84,
   "id": "360f8030",
   "metadata": {},
   "outputs": [
    {
     "name": "stdout",
     "output_type": "stream",
     "text": [
      "1299009\n",
      "0\n",
      "4096478\n",
      "0\n",
      "0\n",
      "1299009\n",
      "4096478\n",
      "1299009\n"
     ]
    }
   ],
   "source": [
    "print(df_train_in.shape[0])\n",
    "print(df_train_in['transaction_id'].isna().sum())\n",
    "print(mobile_financial.shape[0])\n",
    "print(mobile_financial['transaction_id'].isna().sum())\n",
    "print(df_train_in_test['transaction_id'].isna().sum())\n",
    "print(df_train_in_test.shape[0])\n",
    "print(mobile_financial['transaction_id'].nunique())\n",
    "print(df_train_in_test['transaction_id'].nunique())"
   ]
  },
  {
   "cell_type": "code",
   "execution_count": 85,
   "id": "81fd8dd8",
   "metadata": {},
   "outputs": [
    {
     "data": {
      "text/plain": [
       "merge_mf_train\n",
       "left_only           0\n",
       "right_only          0\n",
       "both          1299009\n",
       "dtype: int64"
      ]
     },
     "execution_count": 85,
     "metadata": {},
     "output_type": "execute_result"
    }
   ],
   "source": [
    "df_train_in_test.groupby(['merge_mf_train'], dropna=False).size()"
   ]
  },
  {
   "cell_type": "code",
   "execution_count": 86,
   "id": "8d3b4bfe",
   "metadata": {},
   "outputs": [
    {
     "name": "stdout",
     "output_type": "stream",
     "text": [
      "<class 'pandas.core.frame.DataFrame'>\n",
      "Int64Index: 1299009 entries, 0 to 1299008\n",
      "Data columns (total 35 columns):\n",
      " #   Column                             Non-Null Count    Dtype         \n",
      "---  ------                             --------------    -----         \n",
      " 0   transaction_id                     1299009 non-null  object        \n",
      " 1   Fraud                              1299009 non-null  int64         \n",
      " 2   Deposit_Account_Age                1298822 non-null  float64       \n",
      " 3   MFTxnCountSameToAcc_L1D            1299009 non-null  float64       \n",
      " 4   Unique_AmountFrom_L1D              1299009 non-null  float64       \n",
      " 5   TSLastMFTxn_fromacct_to_acct_mins  1299009 non-null  float64       \n",
      " 6   Unique_AmountTo_L1D                1299009 non-null  float64       \n",
      " 7   Dep_AvgAcctAge_L30D                781639 non-null   float64       \n",
      " 8   MFTxnCount_L1D                     1299009 non-null  float64       \n",
      " 9   MFTxnCountSameType_L1D             1299009 non-null  float64       \n",
      " 10  TSLastMFTxn_tobankcode_mins        1299009 non-null  float64       \n",
      " 11  TSLastMFTxn_toacct_mins            1299009 non-null  float64       \n",
      " 12  account_open_amount                1296417 non-null  float64       \n",
      " 13  Avg_Amt_SameToAcc_L1H              1299009 non-null  float64       \n",
      " 14  Avg_Amt_L1H                        1299009 non-null  float64       \n",
      " 15  Avg_Bal_L14D                       1299009 non-null  float64       \n",
      " 16  Max_AmtBalRatio_L1H                1299009 non-null  float64       \n",
      " 17  transaction_type                   1299009 non-null  object        \n",
      " 18  available_balance                  1299009 non-null  float64       \n",
      " 19  occupation                         1299009 non-null  float64       \n",
      " 20  Customer_Age                       1299009 non-null  float64       \n",
      " 21  amount_balance_ratio               1299009 non-null  float64       \n",
      " 22  customer_segment                   1299009 non-null  float64       \n",
      " 23  TimeSinceLast_Ch                   119513 non-null   float64       \n",
      " 24  amount                             1299009 non-null  float64       \n",
      " 25  Txn_Count_SD_L30D                  10507 non-null    float64       \n",
      " 26  Txn_Count_IDC_L30D                 9458 non-null     float64       \n",
      " 27  Txn_Count_DCM_L30D                 12055 non-null    float64       \n",
      " 28  Txn_Count_PASS_L30D                2737 non-null     float64       \n",
      " 29  Txn_Count_CHQIN_L30D               840 non-null      float64       \n",
      " 30  Txn_Count_BranchTo_L30D            171 non-null      float64       \n",
      " 31  transaction_datetime               1299009 non-null  datetime64[ns]\n",
      " 32  customer_id                        1299009 non-null  object        \n",
      " 33  from_account_no                    1299009 non-null  object        \n",
      " 34  merge_mf_train                     1299009 non-null  category      \n",
      "dtypes: category(1), datetime64[ns](1), float64(28), int64(1), object(4)\n",
      "memory usage: 348.1+ MB\n"
     ]
    }
   ],
   "source": [
    "df_train_in_test.info()"
   ]
  },
  {
   "cell_type": "code",
   "execution_count": null,
   "id": "e2d95647",
   "metadata": {},
   "outputs": [],
   "source": [
    "# OLD Data from EL/CR (Phase 1)\n",
    "\n",
    "mobile_rule_result = pd.read_csv(r'C:\\Users\\AEmslie\\OneDrive - GB Group PLC\\Sales\\TTB\\PoC 2\\Rules\\mobile_rule_result_v2.csv',\n",
    "                                parse_dates = ['transaction_date_time'])"
   ]
  },
  {
   "cell_type": "code",
   "execution_count": 9,
   "id": "0382c228",
   "metadata": {},
   "outputs": [],
   "source": [
    "# NEW data from EL/CR\n",
    "\n",
    "mobile_rule_result = pd.read_csv(r'C:\\Users\\AEmslie\\OneDrive - GB Group PLC\\Sales\\TTB\\PoC 2\\Rules\\poc2_result.txt',\n",
    "                                parse_dates = ['datetime']).rename(columns = {'string_agg':'rules'})"
   ]
  },
  {
   "cell_type": "code",
   "execution_count": 87,
   "id": "752d3d5c",
   "metadata": {},
   "outputs": [
    {
     "name": "stdout",
     "output_type": "stream",
     "text": [
      "<class 'pandas.core.frame.DataFrame'>\n",
      "RangeIndex: 686924 entries, 0 to 686923\n",
      "Data columns (total 5 columns):\n",
      " #   Column            Non-Null Count   Dtype         \n",
      "---  ------            --------------   -----         \n",
      " 0   reference_number  686924 non-null  object        \n",
      " 1   customer_id       686924 non-null  object        \n",
      " 2   account_number    686824 non-null  object        \n",
      " 3   datetime          686924 non-null  datetime64[ns]\n",
      " 4   rules             686924 non-null  object        \n",
      "dtypes: datetime64[ns](1), object(4)\n",
      "memory usage: 26.2+ MB\n"
     ]
    }
   ],
   "source": [
    "mobile_rule_result.info()"
   ]
  },
  {
   "cell_type": "code",
   "execution_count": 88,
   "id": "f08534a6",
   "metadata": {},
   "outputs": [],
   "source": [
    "df_train_out = pd.read_csv(r'C:\\Users\\AEmslie\\OneDrive - GB Group PLC\\Sales\\TTB\\PoC 2\\Rules\\Mobile Train Result\\validation.csv',\n",
    "                         dtype = {'transaction_type':'object'})"
   ]
  },
  {
   "cell_type": "code",
   "execution_count": 89,
   "id": "71309b09",
   "metadata": {},
   "outputs": [
    {
     "name": "stdout",
     "output_type": "stream",
     "text": [
      "<class 'pandas.core.frame.DataFrame'>\n",
      "RangeIndex: 1299009 entries, 0 to 1299008\n",
      "Data columns (total 31 columns):\n",
      " #   Column                             Non-Null Count    Dtype  \n",
      "---  ------                             --------------    -----  \n",
      " 0   deposit_account_age                1298822 non-null  float64\n",
      " 1   mftxncountsametoacc_l1d            1299009 non-null  float64\n",
      " 2   unique_amountfrom_l1d              1299009 non-null  float64\n",
      " 3   tslastmftxn_fromacct_to_acct_mins  1299009 non-null  float64\n",
      " 4   unique_amountto_l1d                1299009 non-null  float64\n",
      " 5   dep_avgacctage_l30d                781639 non-null   float64\n",
      " 6   mftxncount_l1d                     1299009 non-null  float64\n",
      " 7   mftxncountsametype_l1d             1299009 non-null  float64\n",
      " 8   tslastmftxn_tobankcode_mins        1299009 non-null  float64\n",
      " 9   tslastmftxn_toacct_mins            1299009 non-null  float64\n",
      " 10  account_open_amount                1296417 non-null  float64\n",
      " 11  avg_amt_sametoacc_l1h              1299009 non-null  float64\n",
      " 12  avg_amt_l1h                        1299009 non-null  float64\n",
      " 13  avg_bal_l14d                       1299009 non-null  float64\n",
      " 14  max_amtbalratio_l1h                1299009 non-null  float64\n",
      " 15  transaction_type                   1299009 non-null  object \n",
      " 16  available_balance                  1299009 non-null  float64\n",
      " 17  occupation                         1299009 non-null  float64\n",
      " 18  customer_age                       1299009 non-null  float64\n",
      " 19  amount_balance_ratio               1299009 non-null  float64\n",
      " 20  customer_segment                   1299009 non-null  float64\n",
      " 21  timesincelast_ch                   119513 non-null   float64\n",
      " 22  amount                             1299009 non-null  float64\n",
      " 23  txn_count_sd_l30d                  10507 non-null    float64\n",
      " 24  txn_count_idc_l30d                 9458 non-null     float64\n",
      " 25  txn_count_dcm_l30d                 12055 non-null    float64\n",
      " 26  txn_count_pass_l30d                2737 non-null     float64\n",
      " 27  txn_count_chqin_l30d               840 non-null      float64\n",
      " 28  txn_count_branchto_l30d            171 non-null      float64\n",
      " 29  fraud                              1299009 non-null  int64  \n",
      " 30  ML_Score                           1299009 non-null  float64\n",
      "dtypes: float64(29), int64(1), object(1)\n",
      "memory usage: 307.2+ MB\n"
     ]
    }
   ],
   "source": [
    "df_train_out.info()"
   ]
  },
  {
   "cell_type": "code",
   "execution_count": 90,
   "id": "393675aa",
   "metadata": {},
   "outputs": [
    {
     "data": {
      "text/html": [
       "<div>\n",
       "<style scoped>\n",
       "    .dataframe tbody tr th:only-of-type {\n",
       "        vertical-align: middle;\n",
       "    }\n",
       "\n",
       "    .dataframe tbody tr th {\n",
       "        vertical-align: top;\n",
       "    }\n",
       "\n",
       "    .dataframe thead th {\n",
       "        text-align: right;\n",
       "    }\n",
       "</style>\n",
       "<table border=\"1\" class=\"dataframe\">\n",
       "  <thead>\n",
       "    <tr style=\"text-align: right;\">\n",
       "      <th></th>\n",
       "      <th>deposit_account_age</th>\n",
       "      <th>mftxncountsametoacc_l1d</th>\n",
       "      <th>unique_amountfrom_l1d</th>\n",
       "      <th>tslastmftxn_fromacct_to_acct_mins</th>\n",
       "      <th>unique_amountto_l1d</th>\n",
       "      <th>dep_avgacctage_l30d</th>\n",
       "      <th>mftxncount_l1d</th>\n",
       "      <th>mftxncountsametype_l1d</th>\n",
       "      <th>tslastmftxn_tobankcode_mins</th>\n",
       "      <th>tslastmftxn_toacct_mins</th>\n",
       "      <th>account_open_amount</th>\n",
       "      <th>avg_amt_sametoacc_l1h</th>\n",
       "      <th>avg_amt_l1h</th>\n",
       "      <th>avg_bal_l14d</th>\n",
       "      <th>max_amtbalratio_l1h</th>\n",
       "      <th>transaction_type</th>\n",
       "      <th>available_balance</th>\n",
       "      <th>occupation</th>\n",
       "      <th>customer_age</th>\n",
       "      <th>amount_balance_ratio</th>\n",
       "      <th>customer_segment</th>\n",
       "      <th>timesincelast_ch</th>\n",
       "      <th>amount</th>\n",
       "      <th>txn_count_sd_l30d</th>\n",
       "      <th>txn_count_idc_l30d</th>\n",
       "      <th>txn_count_dcm_l30d</th>\n",
       "      <th>txn_count_pass_l30d</th>\n",
       "      <th>txn_count_chqin_l30d</th>\n",
       "      <th>txn_count_branchto_l30d</th>\n",
       "      <th>fraud</th>\n",
       "      <th>ML_Score</th>\n",
       "    </tr>\n",
       "  </thead>\n",
       "  <tbody>\n",
       "    <tr>\n",
       "      <th>1299004</th>\n",
       "      <td>2.0</td>\n",
       "      <td>0.0</td>\n",
       "      <td>0.0</td>\n",
       "      <td>-1.000000</td>\n",
       "      <td>0.0</td>\n",
       "      <td>209.0</td>\n",
       "      <td>0.0</td>\n",
       "      <td>0.0</td>\n",
       "      <td>-1.000000</td>\n",
       "      <td>-1.000000</td>\n",
       "      <td>0.1</td>\n",
       "      <td>0.0</td>\n",
       "      <td>0.0</td>\n",
       "      <td>0.000000</td>\n",
       "      <td>0.000000</td>\n",
       "      <td>100400220</td>\n",
       "      <td>0.23</td>\n",
       "      <td>407.0</td>\n",
       "      <td>26.0</td>\n",
       "      <td>0.434783</td>\n",
       "      <td>7.0</td>\n",
       "      <td>28.0</td>\n",
       "      <td>0.1</td>\n",
       "      <td>NaN</td>\n",
       "      <td>NaN</td>\n",
       "      <td>NaN</td>\n",
       "      <td>NaN</td>\n",
       "      <td>NaN</td>\n",
       "      <td>NaN</td>\n",
       "      <td>1</td>\n",
       "      <td>0.097268</td>\n",
       "    </tr>\n",
       "    <tr>\n",
       "      <th>1299005</th>\n",
       "      <td>119.0</td>\n",
       "      <td>0.0</td>\n",
       "      <td>0.0</td>\n",
       "      <td>-1.000000</td>\n",
       "      <td>2.0</td>\n",
       "      <td>NaN</td>\n",
       "      <td>0.0</td>\n",
       "      <td>0.0</td>\n",
       "      <td>7085.083333</td>\n",
       "      <td>92.366667</td>\n",
       "      <td>6.0</td>\n",
       "      <td>0.0</td>\n",
       "      <td>0.0</td>\n",
       "      <td>1913.440000</td>\n",
       "      <td>0.000000</td>\n",
       "      <td>100400220</td>\n",
       "      <td>51.48</td>\n",
       "      <td>229.0</td>\n",
       "      <td>23.0</td>\n",
       "      <td>77.700078</td>\n",
       "      <td>7.0</td>\n",
       "      <td>NaN</td>\n",
       "      <td>4000.0</td>\n",
       "      <td>NaN</td>\n",
       "      <td>NaN</td>\n",
       "      <td>NaN</td>\n",
       "      <td>NaN</td>\n",
       "      <td>NaN</td>\n",
       "      <td>NaN</td>\n",
       "      <td>1</td>\n",
       "      <td>0.032419</td>\n",
       "    </tr>\n",
       "    <tr>\n",
       "      <th>1299006</th>\n",
       "      <td>119.0</td>\n",
       "      <td>0.0</td>\n",
       "      <td>1.0</td>\n",
       "      <td>-1.000000</td>\n",
       "      <td>0.0</td>\n",
       "      <td>NaN</td>\n",
       "      <td>1.0</td>\n",
       "      <td>1.0</td>\n",
       "      <td>40.583333</td>\n",
       "      <td>-1.000000</td>\n",
       "      <td>6.0</td>\n",
       "      <td>0.0</td>\n",
       "      <td>4000.0</td>\n",
       "      <td>1603.113333</td>\n",
       "      <td>77.700078</td>\n",
       "      <td>100400220</td>\n",
       "      <td>51.04</td>\n",
       "      <td>229.0</td>\n",
       "      <td>23.0</td>\n",
       "      <td>88.166144</td>\n",
       "      <td>7.0</td>\n",
       "      <td>0.0</td>\n",
       "      <td>4500.0</td>\n",
       "      <td>NaN</td>\n",
       "      <td>NaN</td>\n",
       "      <td>NaN</td>\n",
       "      <td>NaN</td>\n",
       "      <td>NaN</td>\n",
       "      <td>NaN</td>\n",
       "      <td>1</td>\n",
       "      <td>0.056278</td>\n",
       "    </tr>\n",
       "    <tr>\n",
       "      <th>1299007</th>\n",
       "      <td>119.0</td>\n",
       "      <td>0.0</td>\n",
       "      <td>2.0</td>\n",
       "      <td>39520.983333</td>\n",
       "      <td>0.0</td>\n",
       "      <td>NaN</td>\n",
       "      <td>2.0</td>\n",
       "      <td>2.0</td>\n",
       "      <td>117.016667</td>\n",
       "      <td>39520.983333</td>\n",
       "      <td>6.0</td>\n",
       "      <td>0.0</td>\n",
       "      <td>0.0</td>\n",
       "      <td>1381.388571</td>\n",
       "      <td>0.000000</td>\n",
       "      <td>100400220</td>\n",
       "      <td>51.04</td>\n",
       "      <td>229.0</td>\n",
       "      <td>23.0</td>\n",
       "      <td>195.924765</td>\n",
       "      <td>7.0</td>\n",
       "      <td>NaN</td>\n",
       "      <td>10000.0</td>\n",
       "      <td>NaN</td>\n",
       "      <td>NaN</td>\n",
       "      <td>NaN</td>\n",
       "      <td>NaN</td>\n",
       "      <td>NaN</td>\n",
       "      <td>NaN</td>\n",
       "      <td>1</td>\n",
       "      <td>0.032419</td>\n",
       "    </tr>\n",
       "    <tr>\n",
       "      <th>1299008</th>\n",
       "      <td>4178.0</td>\n",
       "      <td>0.0</td>\n",
       "      <td>0.0</td>\n",
       "      <td>138314.266667</td>\n",
       "      <td>0.0</td>\n",
       "      <td>NaN</td>\n",
       "      <td>0.0</td>\n",
       "      <td>0.0</td>\n",
       "      <td>77771.950000</td>\n",
       "      <td>1891.483333</td>\n",
       "      <td>5000.0</td>\n",
       "      <td>0.0</td>\n",
       "      <td>0.0</td>\n",
       "      <td>0.000000</td>\n",
       "      <td>0.000000</td>\n",
       "      <td>100400220</td>\n",
       "      <td>15409.89</td>\n",
       "      <td>105.0</td>\n",
       "      <td>49.0</td>\n",
       "      <td>0.085010</td>\n",
       "      <td>6.0</td>\n",
       "      <td>NaN</td>\n",
       "      <td>1310.0</td>\n",
       "      <td>NaN</td>\n",
       "      <td>NaN</td>\n",
       "      <td>NaN</td>\n",
       "      <td>NaN</td>\n",
       "      <td>NaN</td>\n",
       "      <td>NaN</td>\n",
       "      <td>0</td>\n",
       "      <td>0.025338</td>\n",
       "    </tr>\n",
       "  </tbody>\n",
       "</table>\n",
       "</div>"
      ],
      "text/plain": [
       "         deposit_account_age  mftxncountsametoacc_l1d  unique_amountfrom_l1d  \\\n",
       "1299004                  2.0                      0.0                    0.0   \n",
       "1299005                119.0                      0.0                    0.0   \n",
       "1299006                119.0                      0.0                    1.0   \n",
       "1299007                119.0                      0.0                    2.0   \n",
       "1299008               4178.0                      0.0                    0.0   \n",
       "\n",
       "         tslastmftxn_fromacct_to_acct_mins  unique_amountto_l1d  \\\n",
       "1299004                          -1.000000                  0.0   \n",
       "1299005                          -1.000000                  2.0   \n",
       "1299006                          -1.000000                  0.0   \n",
       "1299007                       39520.983333                  0.0   \n",
       "1299008                      138314.266667                  0.0   \n",
       "\n",
       "         dep_avgacctage_l30d  mftxncount_l1d  mftxncountsametype_l1d  \\\n",
       "1299004                209.0             0.0                     0.0   \n",
       "1299005                  NaN             0.0                     0.0   \n",
       "1299006                  NaN             1.0                     1.0   \n",
       "1299007                  NaN             2.0                     2.0   \n",
       "1299008                  NaN             0.0                     0.0   \n",
       "\n",
       "         tslastmftxn_tobankcode_mins  tslastmftxn_toacct_mins  \\\n",
       "1299004                    -1.000000                -1.000000   \n",
       "1299005                  7085.083333                92.366667   \n",
       "1299006                    40.583333                -1.000000   \n",
       "1299007                   117.016667             39520.983333   \n",
       "1299008                 77771.950000              1891.483333   \n",
       "\n",
       "         account_open_amount  avg_amt_sametoacc_l1h  avg_amt_l1h  \\\n",
       "1299004                  0.1                    0.0          0.0   \n",
       "1299005                  6.0                    0.0          0.0   \n",
       "1299006                  6.0                    0.0       4000.0   \n",
       "1299007                  6.0                    0.0          0.0   \n",
       "1299008               5000.0                    0.0          0.0   \n",
       "\n",
       "         avg_bal_l14d  max_amtbalratio_l1h transaction_type  \\\n",
       "1299004      0.000000             0.000000        100400220   \n",
       "1299005   1913.440000             0.000000        100400220   \n",
       "1299006   1603.113333            77.700078        100400220   \n",
       "1299007   1381.388571             0.000000        100400220   \n",
       "1299008      0.000000             0.000000        100400220   \n",
       "\n",
       "         available_balance  occupation  customer_age  amount_balance_ratio  \\\n",
       "1299004               0.23       407.0          26.0              0.434783   \n",
       "1299005              51.48       229.0          23.0             77.700078   \n",
       "1299006              51.04       229.0          23.0             88.166144   \n",
       "1299007              51.04       229.0          23.0            195.924765   \n",
       "1299008           15409.89       105.0          49.0              0.085010   \n",
       "\n",
       "         customer_segment  timesincelast_ch   amount  txn_count_sd_l30d  \\\n",
       "1299004               7.0              28.0      0.1                NaN   \n",
       "1299005               7.0               NaN   4000.0                NaN   \n",
       "1299006               7.0               0.0   4500.0                NaN   \n",
       "1299007               7.0               NaN  10000.0                NaN   \n",
       "1299008               6.0               NaN   1310.0                NaN   \n",
       "\n",
       "         txn_count_idc_l30d  txn_count_dcm_l30d  txn_count_pass_l30d  \\\n",
       "1299004                 NaN                 NaN                  NaN   \n",
       "1299005                 NaN                 NaN                  NaN   \n",
       "1299006                 NaN                 NaN                  NaN   \n",
       "1299007                 NaN                 NaN                  NaN   \n",
       "1299008                 NaN                 NaN                  NaN   \n",
       "\n",
       "         txn_count_chqin_l30d  txn_count_branchto_l30d  fraud  ML_Score  \n",
       "1299004                   NaN                      NaN      1  0.097268  \n",
       "1299005                   NaN                      NaN      1  0.032419  \n",
       "1299006                   NaN                      NaN      1  0.056278  \n",
       "1299007                   NaN                      NaN      1  0.032419  \n",
       "1299008                   NaN                      NaN      0  0.025338  "
      ]
     },
     "execution_count": 90,
     "metadata": {},
     "output_type": "execute_result"
    }
   ],
   "source": [
    "df_train_out.tail()"
   ]
  },
  {
   "cell_type": "code",
   "execution_count": 91,
   "id": "ef6780f7",
   "metadata": {},
   "outputs": [
    {
     "data": {
      "text/html": [
       "<div>\n",
       "<style scoped>\n",
       "    .dataframe tbody tr th:only-of-type {\n",
       "        vertical-align: middle;\n",
       "    }\n",
       "\n",
       "    .dataframe tbody tr th {\n",
       "        vertical-align: top;\n",
       "    }\n",
       "\n",
       "    .dataframe thead th {\n",
       "        text-align: right;\n",
       "    }\n",
       "</style>\n",
       "<table border=\"1\" class=\"dataframe\">\n",
       "  <thead>\n",
       "    <tr style=\"text-align: right;\">\n",
       "      <th></th>\n",
       "      <th>transaction_id</th>\n",
       "      <th>Fraud</th>\n",
       "      <th>Deposit_Account_Age</th>\n",
       "      <th>MFTxnCountSameToAcc_L1D</th>\n",
       "      <th>Unique_AmountFrom_L1D</th>\n",
       "      <th>TSLastMFTxn_fromacct_to_acct_mins</th>\n",
       "      <th>Unique_AmountTo_L1D</th>\n",
       "      <th>Dep_AvgAcctAge_L30D</th>\n",
       "      <th>MFTxnCount_L1D</th>\n",
       "      <th>MFTxnCountSameType_L1D</th>\n",
       "      <th>TSLastMFTxn_tobankcode_mins</th>\n",
       "      <th>TSLastMFTxn_toacct_mins</th>\n",
       "      <th>account_open_amount</th>\n",
       "      <th>Avg_Amt_SameToAcc_L1H</th>\n",
       "      <th>Avg_Amt_L1H</th>\n",
       "      <th>Avg_Bal_L14D</th>\n",
       "      <th>Max_AmtBalRatio_L1H</th>\n",
       "      <th>transaction_type</th>\n",
       "      <th>available_balance</th>\n",
       "      <th>occupation</th>\n",
       "      <th>Customer_Age</th>\n",
       "      <th>amount_balance_ratio</th>\n",
       "      <th>customer_segment</th>\n",
       "      <th>TimeSinceLast_Ch</th>\n",
       "      <th>amount</th>\n",
       "      <th>Txn_Count_SD_L30D</th>\n",
       "      <th>Txn_Count_IDC_L30D</th>\n",
       "      <th>Txn_Count_DCM_L30D</th>\n",
       "      <th>Txn_Count_PASS_L30D</th>\n",
       "      <th>Txn_Count_CHQIN_L30D</th>\n",
       "      <th>Txn_Count_BranchTo_L30D</th>\n",
       "    </tr>\n",
       "  </thead>\n",
       "  <tbody>\n",
       "    <tr>\n",
       "      <th>1299004</th>\n",
       "      <td>202305041201091175</td>\n",
       "      <td>1</td>\n",
       "      <td>2.0</td>\n",
       "      <td>0.0</td>\n",
       "      <td>0.0</td>\n",
       "      <td>-1.000000</td>\n",
       "      <td>0.0</td>\n",
       "      <td>209.0</td>\n",
       "      <td>0.0</td>\n",
       "      <td>0.0</td>\n",
       "      <td>-1.000000</td>\n",
       "      <td>-1.000000</td>\n",
       "      <td>0.1</td>\n",
       "      <td>0.0</td>\n",
       "      <td>0.0</td>\n",
       "      <td>0.000000</td>\n",
       "      <td>0.000000</td>\n",
       "      <td>100400220</td>\n",
       "      <td>0.23</td>\n",
       "      <td>407.0</td>\n",
       "      <td>26.0</td>\n",
       "      <td>0.434783</td>\n",
       "      <td>7.0</td>\n",
       "      <td>28.0</td>\n",
       "      <td>0.1</td>\n",
       "      <td>NaN</td>\n",
       "      <td>NaN</td>\n",
       "      <td>NaN</td>\n",
       "      <td>NaN</td>\n",
       "      <td>NaN</td>\n",
       "      <td>NaN</td>\n",
       "    </tr>\n",
       "    <tr>\n",
       "      <th>1299005</th>\n",
       "      <td>202305051601748443</td>\n",
       "      <td>1</td>\n",
       "      <td>119.0</td>\n",
       "      <td>0.0</td>\n",
       "      <td>0.0</td>\n",
       "      <td>-1.000000</td>\n",
       "      <td>2.0</td>\n",
       "      <td>NaN</td>\n",
       "      <td>0.0</td>\n",
       "      <td>0.0</td>\n",
       "      <td>7085.083333</td>\n",
       "      <td>92.366667</td>\n",
       "      <td>6.0</td>\n",
       "      <td>0.0</td>\n",
       "      <td>0.0</td>\n",
       "      <td>1913.440000</td>\n",
       "      <td>0.000000</td>\n",
       "      <td>100400220</td>\n",
       "      <td>51.48</td>\n",
       "      <td>229.0</td>\n",
       "      <td>23.0</td>\n",
       "      <td>77.700078</td>\n",
       "      <td>7.0</td>\n",
       "      <td>NaN</td>\n",
       "      <td>4000.0</td>\n",
       "      <td>NaN</td>\n",
       "      <td>NaN</td>\n",
       "      <td>NaN</td>\n",
       "      <td>NaN</td>\n",
       "      <td>NaN</td>\n",
       "      <td>NaN</td>\n",
       "    </tr>\n",
       "    <tr>\n",
       "      <th>1299006</th>\n",
       "      <td>202305051701875577</td>\n",
       "      <td>1</td>\n",
       "      <td>119.0</td>\n",
       "      <td>0.0</td>\n",
       "      <td>1.0</td>\n",
       "      <td>-1.000000</td>\n",
       "      <td>0.0</td>\n",
       "      <td>NaN</td>\n",
       "      <td>1.0</td>\n",
       "      <td>1.0</td>\n",
       "      <td>40.583333</td>\n",
       "      <td>-1.000000</td>\n",
       "      <td>6.0</td>\n",
       "      <td>0.0</td>\n",
       "      <td>4000.0</td>\n",
       "      <td>1603.113333</td>\n",
       "      <td>77.700078</td>\n",
       "      <td>100400220</td>\n",
       "      <td>51.04</td>\n",
       "      <td>229.0</td>\n",
       "      <td>23.0</td>\n",
       "      <td>88.166144</td>\n",
       "      <td>7.0</td>\n",
       "      <td>0.0</td>\n",
       "      <td>4500.0</td>\n",
       "      <td>NaN</td>\n",
       "      <td>NaN</td>\n",
       "      <td>NaN</td>\n",
       "      <td>NaN</td>\n",
       "      <td>NaN</td>\n",
       "      <td>NaN</td>\n",
       "    </tr>\n",
       "    <tr>\n",
       "      <th>1299007</th>\n",
       "      <td>202305051902283327</td>\n",
       "      <td>1</td>\n",
       "      <td>119.0</td>\n",
       "      <td>0.0</td>\n",
       "      <td>2.0</td>\n",
       "      <td>39520.983333</td>\n",
       "      <td>0.0</td>\n",
       "      <td>NaN</td>\n",
       "      <td>2.0</td>\n",
       "      <td>2.0</td>\n",
       "      <td>117.016667</td>\n",
       "      <td>39520.983333</td>\n",
       "      <td>6.0</td>\n",
       "      <td>0.0</td>\n",
       "      <td>0.0</td>\n",
       "      <td>1381.388571</td>\n",
       "      <td>0.000000</td>\n",
       "      <td>100400220</td>\n",
       "      <td>51.04</td>\n",
       "      <td>229.0</td>\n",
       "      <td>23.0</td>\n",
       "      <td>195.924765</td>\n",
       "      <td>7.0</td>\n",
       "      <td>NaN</td>\n",
       "      <td>10000.0</td>\n",
       "      <td>NaN</td>\n",
       "      <td>NaN</td>\n",
       "      <td>NaN</td>\n",
       "      <td>NaN</td>\n",
       "      <td>NaN</td>\n",
       "      <td>NaN</td>\n",
       "    </tr>\n",
       "    <tr>\n",
       "      <th>1299008</th>\n",
       "      <td>202305091401457631</td>\n",
       "      <td>0</td>\n",
       "      <td>4178.0</td>\n",
       "      <td>0.0</td>\n",
       "      <td>0.0</td>\n",
       "      <td>138314.266667</td>\n",
       "      <td>0.0</td>\n",
       "      <td>NaN</td>\n",
       "      <td>0.0</td>\n",
       "      <td>0.0</td>\n",
       "      <td>77771.950000</td>\n",
       "      <td>1891.483333</td>\n",
       "      <td>5000.0</td>\n",
       "      <td>0.0</td>\n",
       "      <td>0.0</td>\n",
       "      <td>0.000000</td>\n",
       "      <td>0.000000</td>\n",
       "      <td>100400220</td>\n",
       "      <td>15409.89</td>\n",
       "      <td>105.0</td>\n",
       "      <td>49.0</td>\n",
       "      <td>0.085010</td>\n",
       "      <td>6.0</td>\n",
       "      <td>NaN</td>\n",
       "      <td>1310.0</td>\n",
       "      <td>NaN</td>\n",
       "      <td>NaN</td>\n",
       "      <td>NaN</td>\n",
       "      <td>NaN</td>\n",
       "      <td>NaN</td>\n",
       "      <td>NaN</td>\n",
       "    </tr>\n",
       "  </tbody>\n",
       "</table>\n",
       "</div>"
      ],
      "text/plain": [
       "             transaction_id  Fraud  Deposit_Account_Age  \\\n",
       "1299004  202305041201091175      1                  2.0   \n",
       "1299005  202305051601748443      1                119.0   \n",
       "1299006  202305051701875577      1                119.0   \n",
       "1299007  202305051902283327      1                119.0   \n",
       "1299008  202305091401457631      0               4178.0   \n",
       "\n",
       "         MFTxnCountSameToAcc_L1D  Unique_AmountFrom_L1D  \\\n",
       "1299004                      0.0                    0.0   \n",
       "1299005                      0.0                    0.0   \n",
       "1299006                      0.0                    1.0   \n",
       "1299007                      0.0                    2.0   \n",
       "1299008                      0.0                    0.0   \n",
       "\n",
       "         TSLastMFTxn_fromacct_to_acct_mins  Unique_AmountTo_L1D  \\\n",
       "1299004                          -1.000000                  0.0   \n",
       "1299005                          -1.000000                  2.0   \n",
       "1299006                          -1.000000                  0.0   \n",
       "1299007                       39520.983333                  0.0   \n",
       "1299008                      138314.266667                  0.0   \n",
       "\n",
       "         Dep_AvgAcctAge_L30D  MFTxnCount_L1D  MFTxnCountSameType_L1D  \\\n",
       "1299004                209.0             0.0                     0.0   \n",
       "1299005                  NaN             0.0                     0.0   \n",
       "1299006                  NaN             1.0                     1.0   \n",
       "1299007                  NaN             2.0                     2.0   \n",
       "1299008                  NaN             0.0                     0.0   \n",
       "\n",
       "         TSLastMFTxn_tobankcode_mins  TSLastMFTxn_toacct_mins  \\\n",
       "1299004                    -1.000000                -1.000000   \n",
       "1299005                  7085.083333                92.366667   \n",
       "1299006                    40.583333                -1.000000   \n",
       "1299007                   117.016667             39520.983333   \n",
       "1299008                 77771.950000              1891.483333   \n",
       "\n",
       "         account_open_amount  Avg_Amt_SameToAcc_L1H  Avg_Amt_L1H  \\\n",
       "1299004                  0.1                    0.0          0.0   \n",
       "1299005                  6.0                    0.0          0.0   \n",
       "1299006                  6.0                    0.0       4000.0   \n",
       "1299007                  6.0                    0.0          0.0   \n",
       "1299008               5000.0                    0.0          0.0   \n",
       "\n",
       "         Avg_Bal_L14D  Max_AmtBalRatio_L1H transaction_type  \\\n",
       "1299004      0.000000             0.000000        100400220   \n",
       "1299005   1913.440000             0.000000        100400220   \n",
       "1299006   1603.113333            77.700078        100400220   \n",
       "1299007   1381.388571             0.000000        100400220   \n",
       "1299008      0.000000             0.000000        100400220   \n",
       "\n",
       "         available_balance  occupation  Customer_Age  amount_balance_ratio  \\\n",
       "1299004               0.23       407.0          26.0              0.434783   \n",
       "1299005              51.48       229.0          23.0             77.700078   \n",
       "1299006              51.04       229.0          23.0             88.166144   \n",
       "1299007              51.04       229.0          23.0            195.924765   \n",
       "1299008           15409.89       105.0          49.0              0.085010   \n",
       "\n",
       "         customer_segment  TimeSinceLast_Ch   amount  Txn_Count_SD_L30D  \\\n",
       "1299004               7.0              28.0      0.1                NaN   \n",
       "1299005               7.0               NaN   4000.0                NaN   \n",
       "1299006               7.0               0.0   4500.0                NaN   \n",
       "1299007               7.0               NaN  10000.0                NaN   \n",
       "1299008               6.0               NaN   1310.0                NaN   \n",
       "\n",
       "         Txn_Count_IDC_L30D  Txn_Count_DCM_L30D  Txn_Count_PASS_L30D  \\\n",
       "1299004                 NaN                 NaN                  NaN   \n",
       "1299005                 NaN                 NaN                  NaN   \n",
       "1299006                 NaN                 NaN                  NaN   \n",
       "1299007                 NaN                 NaN                  NaN   \n",
       "1299008                 NaN                 NaN                  NaN   \n",
       "\n",
       "         Txn_Count_CHQIN_L30D  Txn_Count_BranchTo_L30D  \n",
       "1299004                   NaN                      NaN  \n",
       "1299005                   NaN                      NaN  \n",
       "1299006                   NaN                      NaN  \n",
       "1299007                   NaN                      NaN  \n",
       "1299008                   NaN                      NaN  "
      ]
     },
     "execution_count": 91,
     "metadata": {},
     "output_type": "execute_result"
    }
   ],
   "source": [
    "df_train_in.tail()"
   ]
  },
  {
   "cell_type": "code",
   "execution_count": 92,
   "id": "624a60a3",
   "metadata": {},
   "outputs": [],
   "source": [
    "df_train_in_out = pd.concat([df_train_out[['ML_Score','fraud']],df_train_in_test[['transaction_id','transaction_type','customer_id','from_account_no','transaction_datetime']]],\n",
    "                           axis = 1).merge(mobile_rule_result[['rules','customer_id','account_number','datetime']],\n",
    "                                           left_on = ['customer_id','from_account_no','transaction_datetime'],\n",
    "                                           right_on = ['customer_id','account_number','datetime'],\n",
    "                                                                   how = 'left',\n",
    "                                                                   indicator = \"merge_rules\")"
   ]
  },
  {
   "cell_type": "code",
   "execution_count": 93,
   "id": "ef712162",
   "metadata": {},
   "outputs": [
    {
     "data": {
      "text/plain": [
       "rules\n",
       "BRANCH010                                                                     162\n",
       "BRANCH010,BRANCH011                                                             3\n",
       "BRANCH011                                                                  111645\n",
       "BRANCH011,BRANCH010                                                             6\n",
       "MOBILE002                                                                   29863\n",
       "MOBILE002,MOBILE002                                                         28234\n",
       "MOBILE002,MOBILE002,MULE017                                                   511\n",
       "MOBILE002,MOBILE002,MULE017,MULE017                                             6\n",
       "MOBILE002,MOBILE002,MULE017,MULE017,MULE025                                     1\n",
       "MOBILE002,MOBILE002,MULE017,MULE025                                             5\n",
       "MOBILE002,MOBILE002,MULE017,MULE025,MULE017                                     5\n",
       "MOBILE002,MOBILE002,MULE017,MULE025,MULE025                                     1\n",
       "MOBILE002,MOBILE002,MULE022                                                     1\n",
       "MOBILE002,MOBILE002,MULE025                                                  1112\n",
       "MOBILE002,MOBILE002,MULE025,MULE017                                            13\n",
       "MOBILE002,MOBILE002,MULE025,MULE017,MULE017                                     1\n",
       "MOBILE002,MOBILE002,MULE025,MULE025                                             7\n",
       "MOBILE002,MOBILE002,MULE025,MULE025,MULE017                                     1\n",
       "MOBILE002,MOBILE002,MULE025,MULE026                                             1\n",
       "MOBILE002,MOBILE002,MULE026                                                    88\n",
       "MOBILE002,MOBILE002,MULE026,MULE017,MULE026                                     2\n",
       "MOBILE002,MOBILE002,MULE026,MULE025                                             1\n",
       "MOBILE002,MOBILE002,MULE026,MULE026                                             2\n",
       "MOBILE002,MULE017                                                            1608\n",
       "MOBILE002,MULE017,MOBILE002                                                  1566\n",
       "MOBILE002,MULE017,MOBILE002,MULE017                                           356\n",
       "MOBILE002,MULE017,MOBILE002,MULE017,MULE025                                    21\n",
       "MOBILE002,MULE017,MOBILE002,MULE022                                             1\n",
       "MOBILE002,MULE017,MOBILE002,MULE025                                            62\n",
       "MOBILE002,MULE017,MOBILE002,MULE025,MULE017                                    82\n",
       "MOBILE002,MULE017,MOBILE002,MULE026                                            30\n",
       "MOBILE002,MULE017,MOBILE002,MULE026,MULE017                                     3\n",
       "MOBILE002,MULE017,MULE017,MOBILE002                                           553\n",
       "MOBILE002,MULE017,MULE017,MOBILE002,MULE025                                    40\n",
       "MOBILE002,MULE017,MULE017,MULE025,MOBILE002                                    89\n",
       "MOBILE002,MULE017,MULE017,MULE026,MOBILE002                                     1\n",
       "MOBILE002,MULE017,MULE025                                                      89\n",
       "MOBILE002,MULE017,MULE025,MOBILE002                                           113\n",
       "MOBILE002,MULE017,MULE025,MOBILE002,MULE017                                    66\n",
       "MOBILE002,MULE017,MULE025,MOBILE002,MULE017,MULE025                             3\n",
       "MOBILE002,MULE017,MULE025,MOBILE002,MULE025                                     1\n",
       "MOBILE002,MULE017,MULE025,MOBILE002,MULE025,MULE017                             8\n",
       "MOBILE002,MULE017,MULE025,MULE017,MOBILE002                                   200\n",
       "MOBILE002,MULE017,MULE025,MULE017,MOBILE002,MULE025                             2\n",
       "MOBILE002,MULE017,MULE025,MULE017,MULE025,MOBILE002                             4\n",
       "MOBILE002,MULE017,MULE025,MULE025,MOBILE002                                     6\n",
       "MOBILE002,MULE017,MULE025,MULE025,MOBILE002,MULE017                             2\n",
       "MOBILE002,MULE017,MULE025,MULE025,MULE017,MOBILE002                            14\n",
       "MOBILE002,MULE017,MULE025,MULE026                                               3\n",
       "MOBILE002,MULE017,MULE026                                                      58\n",
       "MOBILE002,MULE017,MULE026,MOBILE002                                            45\n",
       "MOBILE002,MULE017,MULE026,MOBILE002,MULE017                                     2\n",
       "MOBILE002,MULE017,MULE026,MOBILE002,MULE026                                     9\n",
       "MOBILE002,MULE017,MULE026,MOBILE002,MULE026,MULE017                             2\n",
       "MOBILE002,MULE017,MULE026,MULE017,MOBILE002                                     8\n",
       "MOBILE002,MULE017,MULE026,MULE017,MULE026,MOBILE002                             1\n",
       "MOBILE002,MULE017,MULE026,MULE026,MOBILE002                                    15\n",
       "MOBILE002,MULE017,MULE026,MULE026,MULE017,MOBILE002                             4\n",
       "MOBILE002,MULE017,MULE026,MULE027                                               2\n",
       "MOBILE002,MULE022                                                               4\n",
       "MOBILE002,MULE022,MOBILE002                                                    10\n",
       "MOBILE002,MULE022,MULE017                                                       1\n",
       "MOBILE002,MULE022,MULE017,MOBILE002                                             1\n",
       "MOBILE002,MULE025                                                            1519\n",
       "MOBILE002,MULE025,MOBILE002                                                  2883\n",
       "MOBILE002,MULE025,MOBILE002,MULE017                                            59\n",
       "MOBILE002,MULE025,MOBILE002,MULE017,MULE017                                     1\n",
       "MOBILE002,MULE025,MOBILE002,MULE017,MULE017,MULE025                             1\n",
       "MOBILE002,MULE025,MOBILE002,MULE017,MULE025                                     4\n",
       "MOBILE002,MULE025,MOBILE002,MULE025                                           154\n",
       "MOBILE002,MULE025,MOBILE002,MULE025,MULE017                                     6\n",
       "MOBILE002,MULE025,MOBILE002,MULE026                                             1\n",
       "MOBILE002,MULE025,MULE017                                                     325\n",
       "MOBILE002,MULE025,MULE017,MOBILE002                                           152\n",
       "MOBILE002,MULE025,MULE017,MOBILE002,MULE017                                    80\n",
       "MOBILE002,MULE025,MULE017,MOBILE002,MULE017,MULE025                             8\n",
       "MOBILE002,MULE025,MULE017,MOBILE002,MULE025                                     8\n",
       "MOBILE002,MULE025,MULE017,MOBILE002,MULE025,MULE017                            19\n",
       "MOBILE002,MULE025,MULE017,MULE017,MOBILE002                                   168\n",
       "MOBILE002,MULE025,MULE017,MULE017,MOBILE002,MULE025                             4\n",
       "MOBILE002,MULE025,MULE017,MULE017,MULE025,MOBILE002                            20\n",
       "MOBILE002,MULE025,MULE017,MULE025,MOBILE002                                    16\n",
       "MOBILE002,MULE025,MULE017,MULE025,MOBILE002,MULE017                             6\n",
       "MOBILE002,MULE025,MULE017,MULE025,MULE017,MOBILE002                            38\n",
       "MOBILE002,MULE025,MULE025,MOBILE002                                           270\n",
       "MOBILE002,MULE025,MULE025,MOBILE002,MULE017                                     5\n",
       "MOBILE002,MULE025,MULE025,MULE017,MOBILE002                                    18\n",
       "MOBILE002,MULE025,MULE026,MOBILE002                                             1\n",
       "MOBILE002,MULE026                                                             549\n",
       "MOBILE002,MULE026,MOBILE002                                                   226\n",
       "MOBILE002,MULE026,MOBILE002,MULE017                                            21\n",
       "MOBILE002,MULE026,MOBILE002,MULE017,MULE026                                     8\n",
       "MOBILE002,MULE026,MOBILE002,MULE026                                            59\n",
       "MOBILE002,MULE026,MOBILE002,MULE026,MULE017                                    22\n",
       "MOBILE002,MULE026,MULE017                                                     158\n",
       "MOBILE002,MULE026,MULE017,MOBILE002                                            49\n",
       "MOBILE002,MULE026,MULE017,MOBILE002,MULE017                                     4\n",
       "MOBILE002,MULE026,MULE017,MOBILE002,MULE017,MULE026                             2\n",
       "MOBILE002,MULE026,MULE017,MOBILE002,MULE026                                    27\n",
       "MOBILE002,MULE026,MULE017,MOBILE002,MULE026,MULE017                             6\n",
       "MOBILE002,MULE026,MULE017,MULE017,MOBILE002                                    10\n",
       "MOBILE002,MULE026,MULE017,MULE017,MOBILE002,MULE026                             5\n",
       "MOBILE002,MULE026,MULE017,MULE017,MULE026,MOBILE002                             6\n",
       "MOBILE002,MULE026,MULE017,MULE025,MOBILE002,MULE026,MULE025                     1\n",
       "MOBILE002,MULE026,MULE017,MULE026,MOBILE002                                    68\n",
       "MOBILE002,MULE026,MULE017,MULE026,MOBILE002,MULE017                             1\n",
       "MOBILE002,MULE026,MULE017,MULE026,MULE017,MOBILE002                             5\n",
       "MOBILE002,MULE026,MULE025                                                       1\n",
       "MOBILE002,MULE026,MULE025,MOBILE002                                             3\n",
       "MOBILE002,MULE026,MULE025,MULE017                                               2\n",
       "MOBILE002,MULE026,MULE025,MULE025,MOBILE002                                     1\n",
       "MOBILE002,MULE026,MULE026,MOBILE002                                           110\n",
       "MOBILE002,MULE026,MULE026,MOBILE002,MULE017                                     4\n",
       "MOBILE002,MULE026,MULE026,MULE017,MOBILE002                                    40\n",
       "MOBILE002,MULE027                                                               3\n",
       "MOBILE002,MULE027,MULE017                                                       4\n",
       "MOBILE002,MULE027,MULE026                                                       1\n",
       "MOBILE002,MULE027,MULE026,MULE017                                               2\n",
       "MOBILE002,MULE029                                                               2\n",
       "MOBILE002,MULE029,MOBILE002,MULE029                                             4\n",
       "MOBILE002,MULE029,MULE029,MOBILE002                                            11\n",
       "MULE017                                                                     65662\n",
       "MULE017,MOBILE002                                                            3484\n",
       "MULE017,MOBILE002,MOBILE002                                                   992\n",
       "MULE017,MOBILE002,MOBILE002,MULE017                                           620\n",
       "MULE017,MOBILE002,MOBILE002,MULE017,MULE025                                    66\n",
       "MULE017,MOBILE002,MOBILE002,MULE017,MULE026                                     2\n",
       "MULE017,MOBILE002,MOBILE002,MULE017,MULE026,MULE026                             1\n",
       "MULE017,MOBILE002,MOBILE002,MULE025                                           100\n",
       "MULE017,MOBILE002,MOBILE002,MULE025,MULE017                                   145\n",
       "MULE017,MOBILE002,MOBILE002,MULE026                                            34\n",
       "MULE017,MOBILE002,MOBILE002,MULE026,MULE017                                     6\n",
       "MULE017,MOBILE002,MOBILE002,MULE026,MULE026                                     1\n",
       "MULE017,MOBILE002,MULE017,MOBILE002                                           974\n",
       "MULE017,MOBILE002,MULE017,MOBILE002,MULE025                                    61\n",
       "MULE017,MOBILE002,MULE017,MULE025,MOBILE002                                   158\n",
       "MULE017,MOBILE002,MULE017,MULE026,MOBILE002                                     2\n",
       "MULE017,MOBILE002,MULE025                                                     101\n",
       "MULE017,MOBILE002,MULE025,MOBILE002                                           167\n",
       "MULE017,MOBILE002,MULE025,MOBILE002,MULE017                                    93\n",
       "MULE017,MOBILE002,MULE025,MOBILE002,MULE017,MULE025                             4\n",
       "MULE017,MOBILE002,MULE025,MOBILE002,MULE025,MULE017                             9\n",
       "MULE017,MOBILE002,MULE025,MULE017,MOBILE002                                   318\n",
       "MULE017,MOBILE002,MULE025,MULE017,MOBILE002,MULE025                             2\n",
       "MULE017,MOBILE002,MULE025,MULE017,MULE025,MOBILE002                             9\n",
       "MULE017,MOBILE002,MULE025,MULE025,MOBILE002                                     9\n",
       "MULE017,MOBILE002,MULE025,MULE025,MOBILE002,MULE017                             4\n",
       "MULE017,MOBILE002,MULE025,MULE025,MULE017,MOBILE002                             9\n",
       "MULE017,MOBILE002,MULE026                                                      47\n",
       "MULE017,MOBILE002,MULE026,MOBILE002                                            73\n",
       "MULE017,MOBILE002,MULE026,MOBILE002,MULE017                                     2\n",
       "MULE017,MOBILE002,MULE026,MOBILE002,MULE026                                     5\n",
       "MULE017,MOBILE002,MULE026,MOBILE002,MULE026,MULE017                             3\n",
       "MULE017,MOBILE002,MULE026,MULE017,MOBILE002                                     7\n",
       "MULE017,MOBILE002,MULE026,MULE017,MULE026,MOBILE002                             4\n",
       "MULE017,MOBILE002,MULE026,MULE025                                               1\n",
       "MULE017,MOBILE002,MULE026,MULE025,MOBILE002,MULE026,MULE017                     1\n",
       "MULE017,MOBILE002,MULE026,MULE026,MOBILE002                                    16\n",
       "MULE017,MULE017                                                             15541\n",
       "MULE017,MULE017,MOBILE002,MOBILE002                                            10\n",
       "MULE017,MULE017,MOBILE002,MULE025,MOBILE002                                     1\n",
       "MULE017,MULE017,MULE017                                                       143\n",
       "MULE017,MULE017,MULE017,MULE017                                               158\n",
       "MULE017,MULE017,MULE017,MULE017,MULE026                                         3\n",
       "MULE017,MULE017,MULE017,MULE025                                                 3\n",
       "MULE017,MULE017,MULE017,MULE025,MULE017                                         3\n",
       "MULE017,MULE017,MULE017,MULE026                                                12\n",
       "MULE017,MULE017,MULE017,MULE026,MULE017                                        13\n",
       "MULE017,MULE017,MULE017,MULE026,MULE025                                         1\n",
       "MULE017,MULE017,MULE025                                                       716\n",
       "MULE017,MULE017,MULE025,MOBILE002,MOBILE002                                     1\n",
       "MULE017,MULE017,MULE025,MULE017                                                 4\n",
       "MULE017,MULE017,MULE025,MULE017,MULE017                                         2\n",
       "MULE017,MULE017,MULE025,MULE017,MULE026                                         2\n",
       "MULE017,MULE017,MULE025,MULE025                                                 2\n",
       "MULE017,MULE017,MULE025,MULE026                                                 2\n",
       "MULE017,MULE017,MULE025,MULE026,MULE017                                         4\n",
       "MULE017,MULE017,MULE026                                                       717\n",
       "MULE017,MULE017,MULE026,MULE017                                                28\n",
       "MULE017,MULE017,MULE026,MULE017,MULE017                                        12\n",
       "MULE017,MULE017,MULE026,MULE017,MULE025                                         1\n",
       "MULE017,MULE017,MULE026,MULE025                                                 5\n",
       "MULE017,MULE017,MULE026,MULE025,MULE017                                         3\n",
       "MULE017,MULE017,MULE026,MULE026                                                17\n",
       "MULE017,MULE017,MULE026,MULE027                                                 1\n",
       "MULE017,MULE017,MULE027,MULE026                                                 1\n",
       "MULE017,MULE022                                                                 6\n",
       "MULE017,MULE022,MOBILE002                                                       1\n",
       "MULE017,MULE022,MULE017                                                         5\n",
       "MULE017,MULE022,MULE022                                                         3\n",
       "MULE017,MULE022,MULE022,MULE017                                                 1\n",
       "MULE017,MULE025                                                              1763\n",
       "MULE017,MULE025,MOBILE002                                                     319\n",
       "MULE017,MULE025,MOBILE002,MOBILE002                                            15\n",
       "MULE017,MULE025,MOBILE002,MOBILE002,MULE017                                    84\n",
       "MULE017,MULE025,MOBILE002,MOBILE002,MULE017,MULE025                             4\n",
       "MULE017,MULE025,MOBILE002,MOBILE002,MULE025                                     6\n",
       "MULE017,MULE025,MOBILE002,MOBILE002,MULE025,MULE017                            20\n",
       "MULE017,MULE025,MOBILE002,MULE017,MOBILE002                                   152\n",
       "MULE017,MULE025,MOBILE002,MULE017,MOBILE002,MULE025                            11\n",
       "MULE017,MULE025,MOBILE002,MULE017,MULE025,MOBILE002                            18\n",
       "MULE017,MULE025,MOBILE002,MULE025,MOBILE002                                    10\n",
       "MULE017,MULE025,MOBILE002,MULE025,MOBILE002,MULE017                             4\n",
       "MULE017,MULE025,MOBILE002,MULE025,MULE017,MOBILE002                            41\n",
       "MULE017,MULE025,MOBILE002,MULE026                                               1\n",
       "MULE017,MULE025,MULE017                                                      1963\n",
       "MULE017,MULE025,MULE017,MOBILE002,MOBILE002                                     4\n",
       "MULE017,MULE025,MULE017,MOBILE002,MOBILE002,MULE025                             1\n",
       "MULE017,MULE025,MULE017,MULE017                                                 5\n",
       "MULE017,MULE025,MULE017,MULE017,MULE017                                         1\n",
       "MULE017,MULE025,MULE017,MULE025                                                56\n",
       "MULE017,MULE025,MULE017,MULE025,MULE025,MULE017                                 1\n",
       "MULE017,MULE025,MULE017,MULE026                                                 6\n",
       "MULE017,MULE025,MULE017,MULE026,MULE017                                         2\n",
       "MULE017,MULE025,MULE025                                                        27\n",
       "MULE017,MULE025,MULE025,MOBILE002,MOBILE002                                     1\n",
       "MULE017,MULE025,MULE025,MULE017                                               121\n",
       "MULE017,MULE025,MULE025,MULE017,MULE017,MULE025                                 1\n",
       "MULE017,MULE025,MULE025,MULE017,MULE026                                         1\n",
       "MULE017,MULE025,MULE025,MULE026                                                 1\n",
       "MULE017,MULE025,MULE026                                                        10\n",
       "MULE017,MULE025,MULE026,MULE017                                                 7\n",
       "MULE017,MULE025,MULE026,MULE017,MULE017                                         1\n",
       "MULE017,MULE025,MULE026,MULE017,MULE025,MULE026                                 1\n",
       "MULE017,MULE025,MULE026,MULE025,MULE017                                         1\n",
       "MULE017,MULE025,MULE026,MULE025,MULE026                                         1\n",
       "MULE017,MULE025,MULE026,MULE026,MULE017                                         2\n",
       "MULE017,MULE025,MULE026,MULE026,MULE017,MULE025                                 1\n",
       "MULE017,MULE026                                                              7349\n",
       "MULE017,MULE026,MOBILE002                                                     178\n",
       "MULE017,MULE026,MOBILE002,MOBILE002,MULE017                                     3\n",
       "MULE017,MULE026,MOBILE002,MOBILE002,MULE026                                    22\n",
       "MULE017,MULE026,MOBILE002,MOBILE002,MULE026,MULE017                             2\n",
       "MULE017,MULE026,MOBILE002,MULE017,MOBILE002                                     3\n",
       "MULE017,MULE026,MOBILE002,MULE017,MOBILE002,MULE026                             4\n",
       "MULE017,MULE026,MOBILE002,MULE017,MULE026,MOBILE002                             4\n",
       "MULE017,MULE026,MOBILE002,MULE026,MOBILE002                                    38\n",
       "MULE017,MULE026,MOBILE002,MULE026,MOBILE002,MULE017                             2\n",
       "MULE017,MULE026,MOBILE002,MULE026,MULE017,MOBILE002                             8\n",
       "MULE017,MULE026,MULE017                                                      2068\n",
       "MULE017,MULE026,MULE017,MULE017                                                20\n",
       "MULE017,MULE026,MULE017,MULE017,MULE017                                         7\n",
       "MULE017,MULE026,MULE017,MULE025                                                 2\n",
       "MULE017,MULE026,MULE017,MULE025,MULE017                                         2\n",
       "MULE017,MULE026,MULE017,MULE026                                               577\n",
       "MULE017,MULE026,MULE017,MULE026,MULE017,MULE026                                 1\n",
       "MULE017,MULE026,MULE017,MULE026,MULE017,MULE026,MULE017,MULE026                 3\n",
       "MULE017,MULE026,MULE017,MULE026,MULE025                                         2\n",
       "MULE017,MULE026,MULE017,MULE026,MULE026,MULE017                                 4\n",
       "MULE017,MULE026,MULE017,MULE026,MULE026,MULE017,MULE017,MULE026                 1\n",
       "MULE017,MULE026,MULE017,MULE026,MULE026,MULE017,MULE026,MULE017                 2\n",
       "MULE017,MULE026,MULE017,MULE027                                                 1\n",
       "MULE017,MULE026,MULE022,MULE017,MULE026                                         1\n",
       "MULE017,MULE026,MULE025                                                        25\n",
       "MULE017,MULE026,MULE025,MOBILE002                                               8\n",
       "MULE017,MULE026,MULE025,MULE017                                                28\n",
       "MULE017,MULE026,MULE025,MULE017,MULE017                                         5\n",
       "MULE017,MULE026,MULE025,MULE017,MULE025                                         1\n",
       "MULE017,MULE026,MULE025,MULE017,MULE026                                         8\n",
       "MULE017,MULE026,MULE025,MULE017,MULE026,MULE017,MULE026                         1\n",
       "MULE017,MULE026,MULE025,MULE025,MULE026,MULE017                                 1\n",
       "MULE017,MULE026,MULE025,MULE026                                                 1\n",
       "MULE017,MULE026,MULE025,MULE026,MULE017                                         4\n",
       "MULE017,MULE026,MULE025,MULE026,MULE025,MULE017                                 1\n",
       "MULE017,MULE026,MULE026                                                      1990\n",
       "MULE017,MULE026,MULE026,MOBILE002,MOBILE002                                     1\n",
       "MULE017,MULE026,MULE026,MULE017                                              1006\n",
       "MULE017,MULE026,MULE026,MULE017,MULE017,MULE026                                 3\n",
       "MULE017,MULE026,MULE026,MULE017,MULE017,MULE026,MULE026,MULE017                 1\n",
       "MULE017,MULE026,MULE026,MULE017,MULE025                                         3\n",
       "MULE017,MULE026,MULE026,MULE017,MULE026,MULE017                                 5\n",
       "MULE017,MULE026,MULE026,MULE017,MULE026,MULE017,MULE017,MULE026                 2\n",
       "MULE017,MULE026,MULE026,MULE017,MULE026,MULE017,MULE026,MULE017                 3\n",
       "MULE017,MULE026,MULE026,MULE025                                                 5\n",
       "MULE017,MULE026,MULE026,MULE025,MULE017                                         9\n",
       "MULE017,MULE026,MULE026,MULE027                                                13\n",
       "MULE017,MULE026,MULE026,MULE027,MULE027                                         1\n",
       "MULE017,MULE026,MULE027                                                        49\n",
       "MULE017,MULE026,MULE027,MULE026                                                21\n",
       "MULE017,MULE026,MULE027,MULE026,MULE027                                         8\n",
       "MULE017,MULE026,MULE027,MULE027                                                 1\n",
       "MULE017,MULE026,MULE027,MULE027,MULE026                                         7\n",
       "MULE017,MULE027                                                               154\n",
       "MULE017,MULE027,MOBILE002                                                       1\n",
       "MULE017,MULE027,MULE017                                                         1\n",
       "MULE017,MULE027,MULE026                                                       103\n",
       "MULE017,MULE027,MULE026,MOBILE002                                               9\n",
       "MULE017,MULE027,MULE026,MULE026,MULE027                                         5\n",
       "MULE017,MULE027,MULE026,MULE027                                                 8\n",
       "MULE017,MULE027,MULE026,MULE027,MULE026                                        17\n",
       "MULE017,MULE027,MULE027                                                         9\n",
       "MULE017,MULE027,MULE027,MULE026                                                14\n",
       "MULE017,MULE029,MULE029                                                         4\n",
       "MULE022                                                                        85\n",
       "MULE022,MOBILE002                                                               8\n",
       "MULE022,MOBILE002,MOBILE002                                                     7\n",
       "MULE022,MOBILE002,MOBILE002,MULE017                                             1\n",
       "MULE022,MOBILE002,MULE017,MOBILE002                                             1\n",
       "MULE022,MOBILE002,MULE022,MOBILE002                                             1\n",
       "MULE022,MULE017                                                                14\n",
       "MULE022,MULE017,MULE017                                                         3\n",
       "MULE022,MULE017,MULE017,MULE022                                                 1\n",
       "MULE022,MULE017,MULE022                                                         5\n",
       "MULE022,MULE017,MULE026                                                         1\n",
       "MULE022,MULE017,MULE026,MULE017                                                 2\n",
       "MULE022,MULE022                                                                42\n",
       "MULE022,MULE022,MULE017                                                         3\n",
       "MULE022,MULE022,MULE017,MULE017,MULE022,MULE022,MULE017                         1\n",
       "MULE022,MULE022,MULE022,MULE022                                                 1\n",
       "MULE025                                                                      7411\n",
       "MULE025,MOBILE002                                                            2636\n",
       "MULE025,MOBILE002,MOBILE002                                                  1937\n",
       "MULE025,MOBILE002,MOBILE002,MULE017                                            85\n",
       "MULE025,MOBILE002,MOBILE002,MULE017,MULE017                                     1\n",
       "MULE025,MOBILE002,MOBILE002,MULE017,MULE025                                     3\n",
       "MULE025,MOBILE002,MOBILE002,MULE025                                           285\n",
       "MULE025,MOBILE002,MOBILE002,MULE025,MULE017                                    11\n",
       "MULE025,MOBILE002,MULE017                                                      87\n",
       "MULE025,MOBILE002,MULE017,MOBILE002                                           168\n",
       "MULE025,MOBILE002,MULE017,MOBILE002,MULE017                                    45\n",
       "MULE025,MOBILE002,MULE017,MOBILE002,MULE017,MULE025                             4\n",
       "MULE025,MOBILE002,MULE017,MOBILE002,MULE025                                     4\n",
       "MULE025,MOBILE002,MULE017,MOBILE002,MULE025,MULE017                             4\n",
       "MULE025,MOBILE002,MULE017,MULE017,MOBILE002                                    76\n",
       "MULE025,MOBILE002,MULE017,MULE017,MOBILE002,MULE025                             2\n",
       "MULE025,MOBILE002,MULE017,MULE017,MULE025,MOBILE002                            16\n",
       "MULE025,MOBILE002,MULE017,MULE025,MOBILE002                                     7\n",
       "MULE025,MOBILE002,MULE017,MULE025,MOBILE002,MULE017                             1\n",
       "MULE025,MOBILE002,MULE017,MULE025,MULE017,MOBILE002                            10\n",
       "MULE025,MOBILE002,MULE017,MULE026                                               1\n",
       "MULE025,MOBILE002,MULE017,MULE026,MOBILE002,MULE017,MULE025                     1\n",
       "MULE025,MOBILE002,MULE017,MULE026,MOBILE002,MULE026,MULE025                     1\n",
       "MULE025,MOBILE002,MULE025,MOBILE002                                           467\n",
       "MULE025,MOBILE002,MULE025,MOBILE002,MULE017                                     7\n",
       "MULE025,MOBILE002,MULE025,MULE017,MOBILE002                                    20\n",
       "MULE025,MOBILE002,MULE026,MULE025,MOBILE002                                     1\n",
       "MULE025,MULE017                                                              2757\n",
       "MULE025,MULE017,MOBILE002                                                     488\n",
       "MULE025,MULE017,MOBILE002,MOBILE002                                            14\n",
       "MULE025,MULE017,MOBILE002,MOBILE002,MULE017                                   128\n",
       "MULE025,MULE017,MOBILE002,MOBILE002,MULE017,MULE025                             9\n",
       "MULE025,MULE017,MOBILE002,MOBILE002,MULE025                                    23\n",
       "MULE025,MULE017,MOBILE002,MOBILE002,MULE025,MULE017                            41\n",
       "MULE025,MULE017,MOBILE002,MULE017,MOBILE002                                   240\n",
       "MULE025,MULE017,MOBILE002,MULE017,MOBILE002,MULE025                            13\n",
       "MULE025,MULE017,MOBILE002,MULE017,MULE025,MOBILE002                            25\n",
       "MULE025,MULE017,MOBILE002,MULE025,MOBILE002                                    18\n",
       "MULE025,MULE017,MOBILE002,MULE025,MOBILE002,MULE017                             9\n",
       "MULE025,MULE017,MOBILE002,MULE025,MULE017,MOBILE002                            50\n",
       "MULE025,MULE017,MOBILE002,MULE026                                               1\n",
       "MULE025,MULE017,MULE017                                                      1415\n",
       "MULE025,MULE017,MULE017,MULE017                                                 2\n",
       "MULE025,MULE017,MULE017,MULE025                                               104\n",
       "MULE025,MULE017,MULE017,MULE025,MULE017,MULE025                                 1\n",
       "MULE025,MULE017,MULE025                                                        57\n",
       "MULE025,MULE017,MULE025,MULE017                                               253\n",
       "MULE025,MULE017,MULE025,MULE017,MULE026,MULE025,MULE017                         1\n",
       "MULE025,MULE017,MULE026                                                        13\n",
       "MULE025,MULE017,MULE026,MULE017                                                 3\n",
       "MULE025,MULE017,MULE026,MULE017,MULE025,MULE026                                 1\n",
       "MULE025,MULE017,MULE026,MULE017,MULE026                                         2\n",
       "MULE025,MULE017,MULE026,MULE025                                                 1\n",
       "MULE025,MULE017,MULE026,MULE025,MULE017                                         2\n",
       "MULE025,MULE017,MULE026,MULE025,MULE026                                         1\n",
       "MULE025,MULE017,MULE026,MULE026,MULE017                                         5\n",
       "MULE025,MULE025                                                               595\n",
       "MULE025,MULE025,MOBILE002,MOBILE002                                             3\n",
       "MULE025,MULE025,MULE017                                                        38\n",
       "MULE025,MULE025,MULE017,MOBILE002,MOBILE002,MULE017                             1\n",
       "MULE025,MULE025,MULE017,MOBILE002,MULE017,MOBILE002                             1\n",
       "MULE025,MULE025,MULE017,MULE017                                                 1\n",
       "MULE025,MULE025,MULE025                                                         1\n",
       "MULE025,MULE025,MULE026                                                         4\n",
       "MULE025,MULE025,MULE026,MULE026                                                 1\n",
       "MULE025,MULE026                                                                26\n",
       "MULE025,MULE026,MOBILE002,MULE017,MULE026,MOBILE002                             1\n",
       "MULE025,MULE026,MOBILE002,MULE025,MOBILE002,MULE026                             1\n",
       "MULE025,MULE026,MOBILE002,MULE026,MOBILE002                                     1\n",
       "MULE025,MULE026,MULE017                                                        19\n",
       "MULE025,MULE026,MULE017,MULE017                                                 3\n",
       "MULE025,MULE026,MULE017,MULE017,MULE017                                         1\n",
       "MULE025,MULE026,MULE017,MULE017,MULE017,MULE025                                 1\n",
       "MULE025,MULE026,MULE017,MULE026,MULE017                                         5\n",
       "MULE025,MULE026,MULE017,MULE026,MULE025                                         1\n",
       "MULE025,MULE026,MULE025                                                         4\n",
       "MULE025,MULE026,MULE025,MULE017                                                 1\n",
       "MULE025,MULE026,MULE025,MULE026                                                 3\n",
       "MULE025,MULE026,MULE026                                                        17\n",
       "MULE025,MULE026,MULE026,MULE017                                                 3\n",
       "MULE025,MULE026,MULE026,MULE025                                                 2\n",
       "MULE025,MULE027                                                                 2\n",
       "MULE026                                                                     41681\n",
       "MULE026,MOBILE002                                                            1039\n",
       "MULE026,MOBILE002,MOBILE002                                                   142\n",
       "MULE026,MOBILE002,MOBILE002,MULE017                                            53\n",
       "MULE026,MOBILE002,MOBILE002,MULE017,MULE026                                     8\n",
       "MULE026,MOBILE002,MOBILE002,MULE026                                           115\n",
       "MULE026,MOBILE002,MOBILE002,MULE026,MULE017                                    40\n",
       "MULE026,MOBILE002,MULE017                                                      56\n",
       "MULE026,MOBILE002,MULE017,MOBILE002                                            79\n",
       "MULE026,MOBILE002,MULE017,MOBILE002,MULE017                                     2\n",
       "MULE026,MOBILE002,MULE017,MOBILE002,MULE026                                    21\n",
       "MULE026,MOBILE002,MULE017,MOBILE002,MULE026,MULE017                             2\n",
       "MULE026,MOBILE002,MULE017,MULE017,MOBILE002                                     1\n",
       "MULE026,MOBILE002,MULE017,MULE017,MOBILE002,MULE026                             1\n",
       "MULE026,MOBILE002,MULE017,MULE017,MULE026,MOBILE002                             1\n",
       "MULE026,MOBILE002,MULE017,MULE025                                               2\n",
       "MULE026,MOBILE002,MULE017,MULE026,MOBILE002                                    54\n",
       "MULE026,MOBILE002,MULE017,MULE026,MOBILE002,MULE017                             1\n",
       "MULE026,MOBILE002,MULE017,MULE026,MULE017,MOBILE002                             3\n",
       "MULE026,MOBILE002,MULE025                                                       1\n",
       "MULE026,MOBILE002,MULE025,MOBILE002                                             1\n",
       "MULE026,MOBILE002,MULE025,MOBILE002,MULE026                                     1\n",
       "MULE026,MOBILE002,MULE026,MOBILE002                                           237\n",
       "MULE026,MOBILE002,MULE026,MOBILE002,MULE017                                    10\n",
       "MULE026,MOBILE002,MULE026,MULE017,MOBILE002                                    60\n",
       "MULE026,MULE017                                                              9666\n",
       "MULE026,MULE017,MOBILE002                                                     285\n",
       "MULE026,MULE017,MOBILE002,MOBILE002                                             3\n",
       "MULE026,MULE017,MOBILE002,MOBILE002,MULE017                                     4\n",
       "MULE026,MULE017,MOBILE002,MOBILE002,MULE017,MULE026                             2\n",
       "MULE026,MULE017,MOBILE002,MOBILE002,MULE026                                    30\n",
       "MULE026,MULE017,MOBILE002,MOBILE002,MULE026,MULE017                             7\n",
       "MULE026,MULE017,MOBILE002,MULE017,MOBILE002                                     8\n",
       "MULE026,MULE017,MOBILE002,MULE017,MOBILE002,MULE026                             4\n",
       "MULE026,MULE017,MOBILE002,MULE017,MULE026,MOBILE002                            11\n",
       "MULE026,MULE017,MOBILE002,MULE026,MOBILE002                                    65\n",
       "MULE026,MULE017,MOBILE002,MULE026,MOBILE002,MULE017                             3\n",
       "MULE026,MULE017,MOBILE002,MULE026,MULE017,MOBILE002                            18\n",
       "MULE026,MULE017,MOBILE002,MULE026,MULE025,MOBILE002                             1\n",
       "MULE026,MULE017,MULE017                                                      1366\n",
       "MULE026,MULE017,MULE017,MULE017                                                 7\n",
       "MULE026,MULE017,MULE017,MULE017,MULE017                                         4\n",
       "MULE026,MULE017,MULE017,MULE017,MULE026,MULE026                                 1\n",
       "MULE026,MULE017,MULE017,MULE025,MULE026                                         2\n",
       "MULE026,MULE017,MULE017,MULE026                                               993\n",
       "MULE026,MULE017,MULE017,MULE026,MULE017,MULE026                                 3\n",
       "MULE026,MULE017,MULE017,MULE026,MULE017,MULE026,MULE017,MULE026                 1\n",
       "MULE026,MULE017,MULE017,MULE026,MULE017,MULE026,MULE026,MULE017                 2\n",
       "MULE026,MULE017,MULE017,MULE026,MULE025                                         1\n",
       "MULE026,MULE017,MULE017,MULE026,MULE026,MULE017                                 4\n",
       "MULE026,MULE017,MULE017,MULE026,MULE026,MULE017,MULE017,MULE026                 1\n",
       "MULE026,MULE017,MULE017,MULE026,MULE026,MULE017,MULE026,MULE017                 2\n",
       "MULE026,MULE017,MULE025                                                         8\n",
       "MULE026,MULE017,MULE025,MOBILE002,MULE026,MULE025,MULE017,MOBILE002             1\n",
       "MULE026,MULE017,MULE025,MULE017                                                 6\n",
       "MULE026,MULE017,MULE025,MULE017,MULE025,MULE026,MULE025,MULE026,MULE017         1\n",
       "MULE026,MULE017,MULE025,MULE017,MULE026                                         3\n",
       "MULE026,MULE017,MULE025,MULE026                                                 6\n",
       "MULE026,MULE017,MULE025,MULE026,MULE017                                         4\n",
       "MULE026,MULE017,MULE025,MULE026,MULE017,MULE025                                 1\n",
       "MULE026,MULE017,MULE026                                                      5394\n",
       "MULE026,MULE017,MULE026,MULE017                                              1991\n",
       "MULE026,MULE017,MULE026,MULE017,MULE017,MULE026                                 1\n",
       "MULE026,MULE017,MULE026,MULE017,MULE017,MULE026,MULE017,MULE026                 2\n",
       "MULE026,MULE017,MULE026,MULE017,MULE017,MULE026,MULE026,MULE017                 1\n",
       "MULE026,MULE017,MULE026,MULE017,MULE025                                         3\n",
       "MULE026,MULE017,MULE026,MULE017,MULE026,MULE017                                 5\n",
       "MULE026,MULE017,MULE026,MULE017,MULE026,MULE017,MULE017,MULE026                 1\n",
       "MULE026,MULE017,MULE026,MULE017,MULE026,MULE017,MULE026,MULE017                 1\n",
       "MULE026,MULE017,MULE026,MULE025                                                 7\n",
       "MULE026,MULE017,MULE026,MULE025,MULE017                                         9\n",
       "MULE026,MULE017,MULE026,MULE025,MULE017,MULE026,MULE017                         1\n",
       "MULE026,MULE017,MULE026,MULE026,MULE017,MULE017,MULE025                         1\n",
       "MULE026,MULE017,MULE026,MULE027                                                28\n",
       "MULE026,MULE017,MULE026,MULE027,MULE027                                         1\n",
       "MULE026,MULE017,MULE027                                                         7\n",
       "MULE026,MULE017,MULE027,MOBILE002                                               1\n",
       "MULE026,MULE017,MULE027,MULE026                                                63\n",
       "MULE026,MULE017,MULE027,MULE026,MULE027                                         3\n",
       "MULE026,MULE017,MULE027,MULE027                                                 1\n",
       "MULE026,MULE017,MULE027,MULE027,MULE026                                         4\n",
       "MULE026,MULE022,MULE017                                                         2\n",
       "MULE026,MULE022,MULE017,MULE017,MULE026                                         2\n",
       "MULE026,MULE022,MULE017,MULE026,MULE017                                         1\n",
       "MULE026,MULE025                                                                31\n",
       "MULE026,MULE025,MOBILE002                                                       3\n",
       "MULE026,MULE025,MOBILE002,MOBILE002,MULE026,MULE017                             1\n",
       "MULE026,MULE025,MOBILE002,MULE025,MOBILE002                                     1\n",
       "MULE026,MULE025,MULE017                                                        73\n",
       "MULE026,MULE025,MULE017,MOBILE002                                               7\n",
       "MULE026,MULE025,MULE017,MOBILE002,MOBILE002,MULE026                             1\n",
       "MULE026,MULE025,MULE017,MOBILE002,MULE025,MULE017,MULE026,MOBILE002             1\n",
       "MULE026,MULE025,MULE017,MOBILE002,MULE026,MOBILE002,MULE017                     1\n",
       "MULE026,MULE025,MULE017,MOBILE002,MULE026,MULE017,MOBILE002                     1\n",
       "MULE026,MULE025,MULE017,MULE017                                                23\n",
       "MULE026,MULE025,MULE017,MULE017,MULE017                                         4\n",
       "MULE026,MULE025,MULE017,MULE017,MULE025,MULE026                                 1\n",
       "MULE026,MULE025,MULE017,MULE017,MULE026                                         7\n",
       "MULE026,MULE025,MULE017,MULE017,MULE026,MULE025                                 1\n",
       "MULE026,MULE025,MULE017,MULE025,MULE026,MULE017                                 1\n",
       "MULE026,MULE025,MULE017,MULE026                                                 5\n",
       "MULE026,MULE025,MULE017,MULE026,MULE017                                         7\n",
       "MULE026,MULE025,MULE017,MULE026,MULE025                                         2\n",
       "MULE026,MULE025,MULE017,MULE026,MULE025,MULE017                                 5\n",
       "MULE026,MULE025,MULE025                                                         2\n",
       "MULE026,MULE025,MULE025,MULE017                                                 1\n",
       "MULE026,MULE025,MULE025,MULE026                                                 7\n",
       "MULE026,MULE025,MULE025,MULE026,MULE017                                         1\n",
       "MULE026,MULE025,MULE026                                                        24\n",
       "MULE026,MULE025,MULE026,MULE017                                                 1\n",
       "MULE026,MULE025,MULE026,MULE025                                                 6\n",
       "MULE026,MULE025,MULE026,MULE025,MULE017                                         2\n",
       "MULE026,MULE026                                                             16059\n",
       "MULE026,MULE026,MOBILE002,MOBILE002                                             1\n",
       "MULE026,MULE026,MOBILE002,MULE017,MOBILE002                                     1\n",
       "MULE026,MULE026,MOBILE002,MULE017,MULE025,MOBILE002,MULE017                     1\n",
       "MULE026,MULE026,MULE017                                                      3507\n",
       "MULE026,MULE026,MULE017,MULE017                                                19\n",
       "MULE026,MULE026,MULE017,MULE027,MULE027                                         1\n",
       "MULE026,MULE026,MULE025                                                        15\n",
       "MULE026,MULE026,MULE026                                                        51\n",
       "MULE026,MULE026,MULE026,MULE026                                                45\n",
       "MULE026,MULE026,MULE026,MULE027,MULE026                                         2\n",
       "MULE026,MULE026,MULE027                                                        78\n",
       "MULE026,MULE026,MULE027,MULE026,MULE026                                         2\n",
       "MULE026,MULE026,MULE027,MULE027                                                 2\n",
       "MULE026,MULE027                                                               627\n",
       "MULE026,MULE027,MOBILE002,MULE017                                               1\n",
       "MULE026,MULE027,MULE017                                                        55\n",
       "MULE026,MULE027,MULE017,MOBILE002                                               1\n",
       "MULE026,MULE027,MULE017,MULE017                                                 1\n",
       "MULE026,MULE027,MULE017,MULE026                                                14\n",
       "MULE026,MULE027,MULE017,MULE026,MULE027                                         7\n",
       "MULE026,MULE027,MULE017,MULE027                                                 9\n",
       "MULE026,MULE027,MULE017,MULE027,MULE026                                        14\n",
       "MULE026,MULE027,MULE026                                                       238\n",
       "MULE026,MULE027,MULE026,MULE017                                                31\n",
       "MULE026,MULE027,MULE026,MULE017,MULE027                                         3\n",
       "MULE026,MULE027,MULE026,MULE027                                                37\n",
       "MULE026,MULE027,MULE026,MULE027,MULE017                                         6\n",
       "MULE026,MULE027,MULE027                                                         9\n",
       "MULE026,MULE027,MULE027,MULE017                                                 4\n",
       "MULE026,MULE027,MULE027,MULE017,MULE026                                         3\n",
       "MULE026,MULE027,MULE027,MULE026                                                83\n",
       "MULE026,MULE027,MULE027,MULE026,MULE017                                        13\n",
       "MULE026,MULE029                                                                 2\n",
       "MULE027                                                                      2545\n",
       "MULE027,MOBILE002                                                              12\n",
       "MULE027,MOBILE002,MULE017                                                       1\n",
       "MULE027,MULE017                                                               198\n",
       "MULE027,MULE017,MOBILE002                                                       3\n",
       "MULE027,MULE017,MULE017                                                         2\n",
       "MULE027,MULE017,MULE026                                                         5\n",
       "MULE027,MULE017,MULE026,MULE027                                                 9\n",
       "MULE027,MULE017,MULE026,MULE027,MULE026                                         6\n",
       "MULE027,MULE017,MULE027                                                        17\n",
       "MULE027,MULE017,MULE027,MULE026                                                25\n",
       "MULE027,MULE026                                                               994\n",
       "MULE027,MULE026,MOBILE002                                                       6\n",
       "MULE027,MULE026,MULE017                                                       104\n",
       "MULE027,MULE026,MULE017,MOBILE002                                               6\n",
       "MULE027,MULE026,MULE017,MULE026                                                28\n",
       "MULE027,MULE026,MULE017,MULE026,MULE027                                        19\n",
       "MULE027,MULE026,MULE017,MULE027                                                 8\n",
       "MULE027,MULE026,MULE017,MULE027,MULE026                                        52\n",
       "MULE027,MULE026,MULE025,MULE025,MULE026                                         1\n",
       "MULE027,MULE026,MULE026                                                       156\n",
       "MULE027,MULE026,MULE026,MULE017                                                64\n",
       "MULE027,MULE026,MULE026,MULE017,MULE027                                         8\n",
       "MULE027,MULE026,MULE026,MULE027                                                93\n",
       "MULE027,MULE026,MULE026,MULE027,MULE017                                        14\n",
       "MULE027,MULE026,MULE027                                                        42\n",
       "MULE027,MULE026,MULE027,MULE017                                                20\n",
       "MULE027,MULE026,MULE027,MULE017,MULE026                                         5\n",
       "MULE027,MULE026,MULE027,MULE026                                               216\n",
       "MULE027,MULE026,MULE027,MULE026,MULE017                                        29\n",
       "MULE027,MULE027                                                               103\n",
       "MULE027,MULE027,MULE017                                                        21\n",
       "MULE027,MULE027,MULE026                                                        26\n",
       "MULE027,MULE027,MULE026,MULE017,MULE026                                         1\n",
       "MULE027,MULE027,MULE026,MULE026                                                 1\n",
       "MULE027,MULE027,MULE027                                                         5\n",
       "MULE027,MULE027,MULE027,MULE027                                                 1\n",
       "MULE029                                                                       652\n",
       "MULE029,MOBILE002                                                              19\n",
       "MULE029,MOBILE002,MOBILE002,MULE029                                             7\n",
       "MULE029,MOBILE002,MULE029,MOBILE002                                            12\n",
       "MULE029,MULE017,MULE029                                                        11\n",
       "MULE029,MULE025                                                                 1\n",
       "MULE029,MULE026                                                                 7\n",
       "MULE029,MULE029                                                               685\n",
       "MULE029,MULE029,MULE017                                                         8\n",
       "MULE029,MULE029,MULE029                                                         4\n",
       "MULE029,MULE029,MULE029,MULE029                                                 5\n",
       "NaN                                                                        988109\n",
       "dtype: int64"
      ]
     },
     "execution_count": 93,
     "metadata": {},
     "output_type": "execute_result"
    }
   ],
   "source": [
    "df_train_in_out.groupby(['rules'], dropna=False).size()"
   ]
  },
  {
   "cell_type": "code",
   "execution_count": 94,
   "id": "a9174b20",
   "metadata": {},
   "outputs": [
    {
     "data": {
      "text/plain": [
       "transaction_type\n",
       "100400120      5539\n",
       "100400220     59091\n",
       "100400320    321380\n",
       "100400420       120\n",
       "100400520      1819\n",
       "100400620         1\n",
       "100400720        41\n",
       "100600120       656\n",
       "100600220       146\n",
       "101200120       306\n",
       "101200220      1607\n",
       "101200320        22\n",
       "101200420       226\n",
       "23              123\n",
       "24              343\n",
       "25            12226\n",
       "30                2\n",
       "604              13\n",
       "605             253\n",
       "607              22\n",
       "611              79\n",
       "63                3\n",
       "dtype: int64"
      ]
     },
     "execution_count": 94,
     "metadata": {},
     "output_type": "execute_result"
    }
   ],
   "source": [
    "df_train_in_out.loc[df_train_in_out['rules'].isna() == False].groupby(['transaction_type'], dropna=False).size()"
   ]
  },
  {
   "cell_type": "code",
   "execution_count": null,
   "id": "d8fe3de2",
   "metadata": {},
   "outputs": [],
   "source": [
    "df_train_in_out.head()"
   ]
  },
  {
   "cell_type": "code",
   "execution_count": 95,
   "id": "a4f49ae5",
   "metadata": {},
   "outputs": [
    {
     "data": {
      "text/plain": [
       "merge_rules\n",
       "left_only     988109\n",
       "right_only         0\n",
       "both          404018\n",
       "dtype: int64"
      ]
     },
     "execution_count": 95,
     "metadata": {},
     "output_type": "execute_result"
    }
   ],
   "source": [
    "df_train_in_out.groupby(['merge_rules'], dropna=False).size()"
   ]
  },
  {
   "cell_type": "code",
   "execution_count": 96,
   "id": "5ef58b55",
   "metadata": {},
   "outputs": [],
   "source": [
    "df_train_in_out['rules_alert'] = np.where(df_train_in_out['rules'].isna() == False,1,0)\n",
    "df_train_in_out['ML_alert'] = np.where(df_train_in_out['ML_Score'] >= 0.353,1,0)\n",
    "df_train_in_out['ML_rules_alert'] = np.where((df_train_in_out['ML_Score'] >= 0.353) & (df_train_in_out['rules'].isna() == False),1,0)"
   ]
  },
  {
   "cell_type": "code",
   "execution_count": 97,
   "id": "d17cdc4c",
   "metadata": {},
   "outputs": [
    {
     "name": "stdout",
     "output_type": "stream",
     "text": [
      "rules_alert  fraud\n",
      "0            0        988109\n",
      "1            0        286537\n",
      "             1        117481\n",
      "dtype: int64\n",
      "ML_alert  fraud\n",
      "0         0        1254447\n",
      "          1          56596\n",
      "1         0          20199\n",
      "          1          60885\n",
      "dtype: int64\n",
      "ML_rules_alert  fraud\n",
      "0               0        1261766\n",
      "                1          56596\n",
      "1               0          12880\n",
      "                1          60885\n",
      "dtype: int64\n"
     ]
    }
   ],
   "source": [
    "print(df_train_in_out.groupby(['rules_alert','fraud'], dropna=False).size())\n",
    "print(df_train_in_out.groupby(['ML_alert','fraud'], dropna=False).size())\n",
    "print(df_train_in_out.groupby(['ML_rules_alert','fraud'], dropna=False).size())"
   ]
  },
  {
   "cell_type": "code",
   "execution_count": 98,
   "id": "8992450a",
   "metadata": {},
   "outputs": [
    {
     "name": "stdout",
     "output_type": "stream",
     "text": [
      "Rules Alerts =  404018\n",
      "Rules Alert Rate =  0.2902163380208846\n",
      "ML Alerts =  81084\n",
      "ML Alert Rate =  0.05824468600925059\n",
      "ML + Rules Alerts =  73765\n",
      "ML + Rules Alert Rate =  0.05298726337467774\n"
     ]
    }
   ],
   "source": [
    "print('Rules Alerts = ',df_train_in_out.loc[df_train_in_out['rules_alert'] == 1].shape[0])\n",
    "print('Rules Alert Rate = ',df_train_in_out.loc[df_train_in_out['rules_alert'] == 1].shape[0]/df_train_in_out.shape[0])\n",
    "print('ML Alerts = ',df_train_in_out.loc[df_train_in_out['ML_alert'] == 1].shape[0])\n",
    "print('ML Alert Rate = ',df_train_in_out.loc[df_train_in_out['ML_alert'] == 1].shape[0]/df_train_in_out.shape[0])\n",
    "print('ML + Rules Alerts = ',df_train_in_out.loc[df_train_in_out['ML_rules_alert'] == 1].shape[0])\n",
    "print('ML + Rules Alert Rate = ',df_train_in_out.loc[df_train_in_out['ML_rules_alert'] == 1].shape[0]/df_train_in_out.shape[0])\n"
   ]
  },
  {
   "cell_type": "code",
   "execution_count": 99,
   "id": "270204d5",
   "metadata": {},
   "outputs": [
    {
     "name": "stdout",
     "output_type": "stream",
     "text": [
      "Rules Alert Precision =  0.29078159883965565\n",
      "Rules Alert Recall =  1.0\n",
      "ML Alert Precision =  0.7508879680331508\n",
      "ML Alert Recall =  0.5182540155429388\n",
      "ML+Rules Alert Precision =  0.8253914458076324\n",
      "ML+Rules Alert Recall =  0.5182540155429388\n"
     ]
    }
   ],
   "source": [
    "print('Rules Alert Precision = ',df_train_in_out.loc[(df_train_in_out['rules_alert'] == 1)&(df_train_in_out['fraud'] == 1)].shape[0]/df_train_in_out.loc[df_train_in_out['rules_alert'] == 1].shape[0])\n",
    "print('Rules Alert Recall = ',df_train_in_out.loc[(df_train_in_out['rules_alert'] == 1)&(df_train_in_out['fraud'] == 1)].shape[0]/df_train_in_out.loc[df_train_in_out['fraud'] == 1].shape[0])\n",
    "print('ML Alert Precision = ',df_train_in_out.loc[(df_train_in_out['ML_alert'] == 1)&(df_train_in_out['fraud'] == 1)].shape[0]/df_train_in_out.loc[df_train_in_out['ML_alert'] == 1].shape[0])\n",
    "print('ML Alert Recall = ',df_train_in_out.loc[(df_train_in_out['ML_alert'] == 1)&(df_train_in_out['fraud'] == 1)].shape[0]/df_train_in_out.loc[df_train_in_out['fraud'] == 1].shape[0])\n",
    "print('ML+Rules Alert Precision = ',df_train_in_out.loc[(df_train_in_out['ML_rules_alert'] == 1)&(df_train_in_out['fraud'] == 1)].shape[0]/df_train_in_out.loc[df_train_in_out['ML_rules_alert'] == 1].shape[0])\n",
    "print('ML+Rules Alert Recall = ',df_train_in_out.loc[(df_train_in_out['ML_rules_alert'] == 1)&(df_train_in_out['fraud'] == 1)].shape[0]/df_train_in_out.loc[df_train_in_out['fraud'] == 1].shape[0])\n"
   ]
  },
  {
   "cell_type": "code",
   "execution_count": null,
   "id": "4646e2e5",
   "metadata": {},
   "outputs": [],
   "source": []
  },
  {
   "cell_type": "code",
   "execution_count": null,
   "id": "56b6567e",
   "metadata": {},
   "outputs": [],
   "source": []
  },
  {
   "cell_type": "markdown",
   "id": "12cdd1b7",
   "metadata": {},
   "source": [
    "### TEST data"
   ]
  },
  {
   "cell_type": "code",
   "execution_count": 36,
   "id": "7a7dd0fc",
   "metadata": {},
   "outputs": [],
   "source": [
    "test = pd.read_csv(r'C:\\Users\\AEmslie\\OneDrive - GB Group PLC\\Sales\\TTB\\PoC 2\\Data\\Files from MLS\\Mobile Financial Phase 2\\TEST Data MF Model Phase 2.csv')"
   ]
  },
  {
   "cell_type": "code",
   "execution_count": 37,
   "id": "3fdf0fcc",
   "metadata": {},
   "outputs": [
    {
     "name": "stdout",
     "output_type": "stream",
     "text": [
      "<class 'pandas.core.frame.DataFrame'>\n",
      "RangeIndex: 1807633 entries, 0 to 1807632\n",
      "Data columns (total 31 columns):\n",
      " #   Column                             Dtype  \n",
      "---  ------                             -----  \n",
      " 0   deposit_account_age                float64\n",
      " 1   mftxncountsametoacc_l1d            float64\n",
      " 2   unique_amountfrom_l1d              float64\n",
      " 3   tslastmftxn_fromacct_to_acct_mins  float64\n",
      " 4   unique_amountto_l1d                float64\n",
      " 5   dep_avgacctage_l30d                float64\n",
      " 6   mftxncount_l1d                     float64\n",
      " 7   mftxncountsametype_l1d             float64\n",
      " 8   tslastmftxn_tobankcode_mins        float64\n",
      " 9   tslastmftxn_toacct_mins            float64\n",
      " 10  account_open_amount                float64\n",
      " 11  avg_amt_sametoacc_l1h              float64\n",
      " 12  avg_amt_l1h                        float64\n",
      " 13  avg_bal_l14d                       float64\n",
      " 14  max_amtbalratio_l1h                float64\n",
      " 15  transaction_type                   int64  \n",
      " 16  available_balance                  float64\n",
      " 17  occupation                         float64\n",
      " 18  customer_age                       float64\n",
      " 19  amount_balance_ratio               float64\n",
      " 20  customer_segment                   float64\n",
      " 21  timesincelast_ch                   float64\n",
      " 22  amount                             float64\n",
      " 23  txn_count_sd_l30d                  float64\n",
      " 24  txn_count_idc_l30d                 float64\n",
      " 25  txn_count_dcm_l30d                 float64\n",
      " 26  txn_count_pass_l30d                float64\n",
      " 27  txn_count_chqin_l30d               float64\n",
      " 28  txn_count_branchto_l30d            float64\n",
      " 29  fraud                              int64  \n",
      " 30  ML_Score                           float64\n",
      "dtypes: float64(29), int64(2)\n",
      "memory usage: 427.5 MB\n"
     ]
    }
   ],
   "source": [
    "test.info()"
   ]
  },
  {
   "cell_type": "code",
   "execution_count": 38,
   "id": "1d2c6643",
   "metadata": {},
   "outputs": [
    {
     "name": "stderr",
     "output_type": "stream",
     "text": [
      "C:\\Users\\AEmslie\\Anaconda3\\envs\\ENV02\\lib\\site-packages\\IPython\\core\\interactiveshell.py:3437: DtypeWarning: Columns (1) have mixed types.Specify dtype option on import or set low_memory=False.\n",
      "  exec(code_obj, self.user_global_ns, self.user_ns)\n"
     ]
    }
   ],
   "source": [
    "test_in = pd.read_csv(r'C:\\Users\\AEmslie\\OneDrive - GB Group PLC\\Sales\\TTB\\PoC 2\\Data\\Files for MLS\\Phase 2\\TEST_Mule_Small01.csv')"
   ]
  },
  {
   "cell_type": "code",
   "execution_count": 39,
   "id": "dd98351d",
   "metadata": {},
   "outputs": [
    {
     "name": "stdout",
     "output_type": "stream",
     "text": [
      "<class 'pandas.core.frame.DataFrame'>\n",
      "RangeIndex: 1807633 entries, 0 to 1807632\n",
      "Data columns (total 32 columns):\n",
      " #   Column                             Dtype  \n",
      "---  ------                             -----  \n",
      " 0   Unnamed: 0                         int64  \n",
      " 1   transaction_id                     object \n",
      " 2   Fraud                              int64  \n",
      " 3   Deposit_Account_Age                float64\n",
      " 4   MFTxnCountSameToAcc_L1D            float64\n",
      " 5   Unique_AmountFrom_L1D              float64\n",
      " 6   TSLastMFTxn_fromacct_to_acct_mins  float64\n",
      " 7   Unique_AmountTo_L1D                float64\n",
      " 8   Dep_AvgAcctAge_L30D                float64\n",
      " 9   MFTxnCount_L1D                     float64\n",
      " 10  MFTxnCountSameType_L1D             float64\n",
      " 11  TSLastMFTxn_tobankcode_mins        float64\n",
      " 12  TSLastMFTxn_toacct_mins            float64\n",
      " 13  account_open_amount                float64\n",
      " 14  Avg_Amt_SameToAcc_L1H              float64\n",
      " 15  Avg_Amt_L1H                        float64\n",
      " 16  Avg_Bal_L14D                       float64\n",
      " 17  Max_AmtBalRatio_L1H                float64\n",
      " 18  transaction_type                   int64  \n",
      " 19  available_balance                  float64\n",
      " 20  occupation                         float64\n",
      " 21  Customer_Age                       float64\n",
      " 22  amount_balance_ratio               float64\n",
      " 23  customer_segment                   float64\n",
      " 24  TimeSinceLast_Ch                   float64\n",
      " 25  amount                             float64\n",
      " 26  Txn_Count_SD_L30D                  float64\n",
      " 27  Txn_Count_IDC_L30D                 float64\n",
      " 28  Txn_Count_DCM_L30D                 float64\n",
      " 29  Txn_Count_PASS_L30D                float64\n",
      " 30  Txn_Count_CHQIN_L30D               float64\n",
      " 31  Txn_Count_BranchTo_L30D            float64\n",
      "dtypes: float64(28), int64(3), object(1)\n",
      "memory usage: 441.3+ MB\n"
     ]
    }
   ],
   "source": [
    "test_in.info()"
   ]
  },
  {
   "cell_type": "code",
   "execution_count": 40,
   "id": "c0fe609c",
   "metadata": {},
   "outputs": [
    {
     "data": {
      "text/html": [
       "<div>\n",
       "<style scoped>\n",
       "    .dataframe tbody tr th:only-of-type {\n",
       "        vertical-align: middle;\n",
       "    }\n",
       "\n",
       "    .dataframe tbody tr th {\n",
       "        vertical-align: top;\n",
       "    }\n",
       "\n",
       "    .dataframe thead th {\n",
       "        text-align: right;\n",
       "    }\n",
       "</style>\n",
       "<table border=\"1\" class=\"dataframe\">\n",
       "  <thead>\n",
       "    <tr style=\"text-align: right;\">\n",
       "      <th></th>\n",
       "      <th>deposit_account_age</th>\n",
       "      <th>mftxncountsametoacc_l1d</th>\n",
       "      <th>unique_amountfrom_l1d</th>\n",
       "      <th>tslastmftxn_fromacct_to_acct_mins</th>\n",
       "      <th>unique_amountto_l1d</th>\n",
       "      <th>dep_avgacctage_l30d</th>\n",
       "      <th>mftxncount_l1d</th>\n",
       "      <th>mftxncountsametype_l1d</th>\n",
       "      <th>tslastmftxn_tobankcode_mins</th>\n",
       "      <th>tslastmftxn_toacct_mins</th>\n",
       "      <th>account_open_amount</th>\n",
       "      <th>avg_amt_sametoacc_l1h</th>\n",
       "      <th>avg_amt_l1h</th>\n",
       "      <th>avg_bal_l14d</th>\n",
       "      <th>max_amtbalratio_l1h</th>\n",
       "      <th>transaction_type</th>\n",
       "      <th>available_balance</th>\n",
       "      <th>occupation</th>\n",
       "      <th>customer_age</th>\n",
       "      <th>amount_balance_ratio</th>\n",
       "      <th>customer_segment</th>\n",
       "      <th>timesincelast_ch</th>\n",
       "      <th>amount</th>\n",
       "      <th>txn_count_sd_l30d</th>\n",
       "      <th>txn_count_idc_l30d</th>\n",
       "      <th>txn_count_dcm_l30d</th>\n",
       "      <th>txn_count_pass_l30d</th>\n",
       "      <th>txn_count_chqin_l30d</th>\n",
       "      <th>txn_count_branchto_l30d</th>\n",
       "      <th>fraud</th>\n",
       "      <th>ML_Score</th>\n",
       "    </tr>\n",
       "  </thead>\n",
       "  <tbody>\n",
       "    <tr>\n",
       "      <th>0</th>\n",
       "      <td>2498.0</td>\n",
       "      <td>0.0</td>\n",
       "      <td>0.0</td>\n",
       "      <td>-1.00</td>\n",
       "      <td>0.0</td>\n",
       "      <td>NaN</td>\n",
       "      <td>0.0</td>\n",
       "      <td>0.0</td>\n",
       "      <td>-1.000000</td>\n",
       "      <td>-1.00</td>\n",
       "      <td>2585.0</td>\n",
       "      <td>0.0</td>\n",
       "      <td>0.0</td>\n",
       "      <td>0.0</td>\n",
       "      <td>0.0</td>\n",
       "      <td>25</td>\n",
       "      <td>3818.0</td>\n",
       "      <td>401.0</td>\n",
       "      <td>47.0</td>\n",
       "      <td>0.130959</td>\n",
       "      <td>6.0</td>\n",
       "      <td>NaN</td>\n",
       "      <td>500.0</td>\n",
       "      <td>NaN</td>\n",
       "      <td>NaN</td>\n",
       "      <td>NaN</td>\n",
       "      <td>NaN</td>\n",
       "      <td>NaN</td>\n",
       "      <td>NaN</td>\n",
       "      <td>1</td>\n",
       "      <td>0.025338</td>\n",
       "    </tr>\n",
       "    <tr>\n",
       "      <th>1</th>\n",
       "      <td>2500.0</td>\n",
       "      <td>0.0</td>\n",
       "      <td>0.0</td>\n",
       "      <td>2317.25</td>\n",
       "      <td>0.0</td>\n",
       "      <td>NaN</td>\n",
       "      <td>0.0</td>\n",
       "      <td>0.0</td>\n",
       "      <td>2317.250000</td>\n",
       "      <td>2317.25</td>\n",
       "      <td>2585.0</td>\n",
       "      <td>0.0</td>\n",
       "      <td>0.0</td>\n",
       "      <td>3818.0</td>\n",
       "      <td>0.0</td>\n",
       "      <td>25</td>\n",
       "      <td>2818.0</td>\n",
       "      <td>401.0</td>\n",
       "      <td>47.0</td>\n",
       "      <td>0.354862</td>\n",
       "      <td>6.0</td>\n",
       "      <td>NaN</td>\n",
       "      <td>1000.0</td>\n",
       "      <td>NaN</td>\n",
       "      <td>NaN</td>\n",
       "      <td>NaN</td>\n",
       "      <td>NaN</td>\n",
       "      <td>NaN</td>\n",
       "      <td>NaN</td>\n",
       "      <td>0</td>\n",
       "      <td>0.025338</td>\n",
       "    </tr>\n",
       "    <tr>\n",
       "      <th>2</th>\n",
       "      <td>2500.0</td>\n",
       "      <td>0.0</td>\n",
       "      <td>1.0</td>\n",
       "      <td>-1.00</td>\n",
       "      <td>0.0</td>\n",
       "      <td>2500.0</td>\n",
       "      <td>1.0</td>\n",
       "      <td>1.0</td>\n",
       "      <td>580.233333</td>\n",
       "      <td>-1.00</td>\n",
       "      <td>2585.0</td>\n",
       "      <td>0.0</td>\n",
       "      <td>0.0</td>\n",
       "      <td>3318.0</td>\n",
       "      <td>0.0</td>\n",
       "      <td>25</td>\n",
       "      <td>1818.0</td>\n",
       "      <td>401.0</td>\n",
       "      <td>47.0</td>\n",
       "      <td>0.550055</td>\n",
       "      <td>6.0</td>\n",
       "      <td>NaN</td>\n",
       "      <td>1000.0</td>\n",
       "      <td>NaN</td>\n",
       "      <td>NaN</td>\n",
       "      <td>NaN</td>\n",
       "      <td>NaN</td>\n",
       "      <td>NaN</td>\n",
       "      <td>NaN</td>\n",
       "      <td>0</td>\n",
       "      <td>0.025338</td>\n",
       "    </tr>\n",
       "    <tr>\n",
       "      <th>3</th>\n",
       "      <td>2501.0</td>\n",
       "      <td>0.0</td>\n",
       "      <td>0.0</td>\n",
       "      <td>-1.00</td>\n",
       "      <td>0.0</td>\n",
       "      <td>2501.0</td>\n",
       "      <td>0.0</td>\n",
       "      <td>0.0</td>\n",
       "      <td>-1.000000</td>\n",
       "      <td>-1.00</td>\n",
       "      <td>2585.0</td>\n",
       "      <td>0.0</td>\n",
       "      <td>0.0</td>\n",
       "      <td>2818.0</td>\n",
       "      <td>0.0</td>\n",
       "      <td>25</td>\n",
       "      <td>19318.0</td>\n",
       "      <td>401.0</td>\n",
       "      <td>47.0</td>\n",
       "      <td>0.051765</td>\n",
       "      <td>6.0</td>\n",
       "      <td>NaN</td>\n",
       "      <td>1000.0</td>\n",
       "      <td>NaN</td>\n",
       "      <td>NaN</td>\n",
       "      <td>NaN</td>\n",
       "      <td>NaN</td>\n",
       "      <td>NaN</td>\n",
       "      <td>NaN</td>\n",
       "      <td>0</td>\n",
       "      <td>0.025338</td>\n",
       "    </tr>\n",
       "    <tr>\n",
       "      <th>4</th>\n",
       "      <td>2503.0</td>\n",
       "      <td>0.0</td>\n",
       "      <td>0.0</td>\n",
       "      <td>-1.00</td>\n",
       "      <td>0.0</td>\n",
       "      <td>2502.0</td>\n",
       "      <td>0.0</td>\n",
       "      <td>0.0</td>\n",
       "      <td>3670.783333</td>\n",
       "      <td>-1.00</td>\n",
       "      <td>2585.0</td>\n",
       "      <td>0.0</td>\n",
       "      <td>0.0</td>\n",
       "      <td>6943.0</td>\n",
       "      <td>0.0</td>\n",
       "      <td>25</td>\n",
       "      <td>16818.0</td>\n",
       "      <td>401.0</td>\n",
       "      <td>47.0</td>\n",
       "      <td>0.029730</td>\n",
       "      <td>6.0</td>\n",
       "      <td>NaN</td>\n",
       "      <td>500.0</td>\n",
       "      <td>NaN</td>\n",
       "      <td>NaN</td>\n",
       "      <td>NaN</td>\n",
       "      <td>NaN</td>\n",
       "      <td>NaN</td>\n",
       "      <td>NaN</td>\n",
       "      <td>0</td>\n",
       "      <td>0.025338</td>\n",
       "    </tr>\n",
       "  </tbody>\n",
       "</table>\n",
       "</div>"
      ],
      "text/plain": [
       "   deposit_account_age  mftxncountsametoacc_l1d  unique_amountfrom_l1d  \\\n",
       "0               2498.0                      0.0                    0.0   \n",
       "1               2500.0                      0.0                    0.0   \n",
       "2               2500.0                      0.0                    1.0   \n",
       "3               2501.0                      0.0                    0.0   \n",
       "4               2503.0                      0.0                    0.0   \n",
       "\n",
       "   tslastmftxn_fromacct_to_acct_mins  unique_amountto_l1d  \\\n",
       "0                              -1.00                  0.0   \n",
       "1                            2317.25                  0.0   \n",
       "2                              -1.00                  0.0   \n",
       "3                              -1.00                  0.0   \n",
       "4                              -1.00                  0.0   \n",
       "\n",
       "   dep_avgacctage_l30d  mftxncount_l1d  mftxncountsametype_l1d  \\\n",
       "0                  NaN             0.0                     0.0   \n",
       "1                  NaN             0.0                     0.0   \n",
       "2               2500.0             1.0                     1.0   \n",
       "3               2501.0             0.0                     0.0   \n",
       "4               2502.0             0.0                     0.0   \n",
       "\n",
       "   tslastmftxn_tobankcode_mins  tslastmftxn_toacct_mins  account_open_amount  \\\n",
       "0                    -1.000000                    -1.00               2585.0   \n",
       "1                  2317.250000                  2317.25               2585.0   \n",
       "2                   580.233333                    -1.00               2585.0   \n",
       "3                    -1.000000                    -1.00               2585.0   \n",
       "4                  3670.783333                    -1.00               2585.0   \n",
       "\n",
       "   avg_amt_sametoacc_l1h  avg_amt_l1h  avg_bal_l14d  max_amtbalratio_l1h  \\\n",
       "0                    0.0          0.0           0.0                  0.0   \n",
       "1                    0.0          0.0        3818.0                  0.0   \n",
       "2                    0.0          0.0        3318.0                  0.0   \n",
       "3                    0.0          0.0        2818.0                  0.0   \n",
       "4                    0.0          0.0        6943.0                  0.0   \n",
       "\n",
       "   transaction_type  available_balance  occupation  customer_age  \\\n",
       "0                25             3818.0       401.0          47.0   \n",
       "1                25             2818.0       401.0          47.0   \n",
       "2                25             1818.0       401.0          47.0   \n",
       "3                25            19318.0       401.0          47.0   \n",
       "4                25            16818.0       401.0          47.0   \n",
       "\n",
       "   amount_balance_ratio  customer_segment  timesincelast_ch  amount  \\\n",
       "0              0.130959               6.0               NaN   500.0   \n",
       "1              0.354862               6.0               NaN  1000.0   \n",
       "2              0.550055               6.0               NaN  1000.0   \n",
       "3              0.051765               6.0               NaN  1000.0   \n",
       "4              0.029730               6.0               NaN   500.0   \n",
       "\n",
       "   txn_count_sd_l30d  txn_count_idc_l30d  txn_count_dcm_l30d  \\\n",
       "0                NaN                 NaN                 NaN   \n",
       "1                NaN                 NaN                 NaN   \n",
       "2                NaN                 NaN                 NaN   \n",
       "3                NaN                 NaN                 NaN   \n",
       "4                NaN                 NaN                 NaN   \n",
       "\n",
       "   txn_count_pass_l30d  txn_count_chqin_l30d  txn_count_branchto_l30d  fraud  \\\n",
       "0                  NaN                   NaN                      NaN      1   \n",
       "1                  NaN                   NaN                      NaN      0   \n",
       "2                  NaN                   NaN                      NaN      0   \n",
       "3                  NaN                   NaN                      NaN      0   \n",
       "4                  NaN                   NaN                      NaN      0   \n",
       "\n",
       "   ML_Score  \n",
       "0  0.025338  \n",
       "1  0.025338  \n",
       "2  0.025338  \n",
       "3  0.025338  \n",
       "4  0.025338  "
      ]
     },
     "execution_count": 40,
     "metadata": {},
     "output_type": "execute_result"
    }
   ],
   "source": [
    "test.head()"
   ]
  },
  {
   "cell_type": "code",
   "execution_count": 41,
   "id": "2042c20b",
   "metadata": {},
   "outputs": [
    {
     "data": {
      "text/html": [
       "<div>\n",
       "<style scoped>\n",
       "    .dataframe tbody tr th:only-of-type {\n",
       "        vertical-align: middle;\n",
       "    }\n",
       "\n",
       "    .dataframe tbody tr th {\n",
       "        vertical-align: top;\n",
       "    }\n",
       "\n",
       "    .dataframe thead th {\n",
       "        text-align: right;\n",
       "    }\n",
       "</style>\n",
       "<table border=\"1\" class=\"dataframe\">\n",
       "  <thead>\n",
       "    <tr style=\"text-align: right;\">\n",
       "      <th></th>\n",
       "      <th>Unnamed: 0</th>\n",
       "      <th>transaction_id</th>\n",
       "      <th>Fraud</th>\n",
       "      <th>Deposit_Account_Age</th>\n",
       "      <th>MFTxnCountSameToAcc_L1D</th>\n",
       "      <th>Unique_AmountFrom_L1D</th>\n",
       "      <th>TSLastMFTxn_fromacct_to_acct_mins</th>\n",
       "      <th>Unique_AmountTo_L1D</th>\n",
       "      <th>Dep_AvgAcctAge_L30D</th>\n",
       "      <th>MFTxnCount_L1D</th>\n",
       "      <th>MFTxnCountSameType_L1D</th>\n",
       "      <th>TSLastMFTxn_tobankcode_mins</th>\n",
       "      <th>TSLastMFTxn_toacct_mins</th>\n",
       "      <th>account_open_amount</th>\n",
       "      <th>Avg_Amt_SameToAcc_L1H</th>\n",
       "      <th>Avg_Amt_L1H</th>\n",
       "      <th>Avg_Bal_L14D</th>\n",
       "      <th>Max_AmtBalRatio_L1H</th>\n",
       "      <th>transaction_type</th>\n",
       "      <th>available_balance</th>\n",
       "      <th>occupation</th>\n",
       "      <th>Customer_Age</th>\n",
       "      <th>amount_balance_ratio</th>\n",
       "      <th>customer_segment</th>\n",
       "      <th>TimeSinceLast_Ch</th>\n",
       "      <th>amount</th>\n",
       "      <th>Txn_Count_SD_L30D</th>\n",
       "      <th>Txn_Count_IDC_L30D</th>\n",
       "      <th>Txn_Count_DCM_L30D</th>\n",
       "      <th>Txn_Count_PASS_L30D</th>\n",
       "      <th>Txn_Count_CHQIN_L30D</th>\n",
       "      <th>Txn_Count_BranchTo_L30D</th>\n",
       "    </tr>\n",
       "  </thead>\n",
       "  <tbody>\n",
       "    <tr>\n",
       "      <th>0</th>\n",
       "      <td>0</td>\n",
       "      <td>NT1937830033075700</td>\n",
       "      <td>1</td>\n",
       "      <td>2498.0</td>\n",
       "      <td>0.0</td>\n",
       "      <td>0.0</td>\n",
       "      <td>-1.00</td>\n",
       "      <td>0.0</td>\n",
       "      <td>NaN</td>\n",
       "      <td>0.0</td>\n",
       "      <td>0.0</td>\n",
       "      <td>-1.000000</td>\n",
       "      <td>-1.00</td>\n",
       "      <td>2585.0</td>\n",
       "      <td>0.0</td>\n",
       "      <td>0.0</td>\n",
       "      <td>0.0</td>\n",
       "      <td>0.0</td>\n",
       "      <td>25</td>\n",
       "      <td>3818.0</td>\n",
       "      <td>401.0</td>\n",
       "      <td>47.0</td>\n",
       "      <td>0.130959</td>\n",
       "      <td>6.0</td>\n",
       "      <td>NaN</td>\n",
       "      <td>500.0</td>\n",
       "      <td>NaN</td>\n",
       "      <td>NaN</td>\n",
       "      <td>NaN</td>\n",
       "      <td>NaN</td>\n",
       "      <td>NaN</td>\n",
       "      <td>NaN</td>\n",
       "    </tr>\n",
       "    <tr>\n",
       "      <th>1</th>\n",
       "      <td>1</td>\n",
       "      <td>NT1937880074349300</td>\n",
       "      <td>0</td>\n",
       "      <td>2500.0</td>\n",
       "      <td>0.0</td>\n",
       "      <td>0.0</td>\n",
       "      <td>2317.25</td>\n",
       "      <td>0.0</td>\n",
       "      <td>NaN</td>\n",
       "      <td>0.0</td>\n",
       "      <td>0.0</td>\n",
       "      <td>2317.250000</td>\n",
       "      <td>2317.25</td>\n",
       "      <td>2585.0</td>\n",
       "      <td>0.0</td>\n",
       "      <td>0.0</td>\n",
       "      <td>3818.0</td>\n",
       "      <td>0.0</td>\n",
       "      <td>25</td>\n",
       "      <td>2818.0</td>\n",
       "      <td>401.0</td>\n",
       "      <td>47.0</td>\n",
       "      <td>0.354862</td>\n",
       "      <td>6.0</td>\n",
       "      <td>NaN</td>\n",
       "      <td>1000.0</td>\n",
       "      <td>NaN</td>\n",
       "      <td>NaN</td>\n",
       "      <td>NaN</td>\n",
       "      <td>NaN</td>\n",
       "      <td>NaN</td>\n",
       "      <td>NaN</td>\n",
       "    </tr>\n",
       "    <tr>\n",
       "      <th>2</th>\n",
       "      <td>2</td>\n",
       "      <td>NT1937980086848600</td>\n",
       "      <td>0</td>\n",
       "      <td>2500.0</td>\n",
       "      <td>0.0</td>\n",
       "      <td>1.0</td>\n",
       "      <td>-1.00</td>\n",
       "      <td>0.0</td>\n",
       "      <td>2500.0</td>\n",
       "      <td>1.0</td>\n",
       "      <td>1.0</td>\n",
       "      <td>580.233333</td>\n",
       "      <td>-1.00</td>\n",
       "      <td>2585.0</td>\n",
       "      <td>0.0</td>\n",
       "      <td>0.0</td>\n",
       "      <td>3318.0</td>\n",
       "      <td>0.0</td>\n",
       "      <td>25</td>\n",
       "      <td>1818.0</td>\n",
       "      <td>401.0</td>\n",
       "      <td>47.0</td>\n",
       "      <td>0.550055</td>\n",
       "      <td>6.0</td>\n",
       "      <td>NaN</td>\n",
       "      <td>1000.0</td>\n",
       "      <td>NaN</td>\n",
       "      <td>NaN</td>\n",
       "      <td>NaN</td>\n",
       "      <td>NaN</td>\n",
       "      <td>NaN</td>\n",
       "      <td>NaN</td>\n",
       "    </tr>\n",
       "    <tr>\n",
       "      <th>3</th>\n",
       "      <td>3</td>\n",
       "      <td>NT1938500119987600</td>\n",
       "      <td>0</td>\n",
       "      <td>2501.0</td>\n",
       "      <td>0.0</td>\n",
       "      <td>0.0</td>\n",
       "      <td>-1.00</td>\n",
       "      <td>0.0</td>\n",
       "      <td>2501.0</td>\n",
       "      <td>0.0</td>\n",
       "      <td>0.0</td>\n",
       "      <td>-1.000000</td>\n",
       "      <td>-1.00</td>\n",
       "      <td>2585.0</td>\n",
       "      <td>0.0</td>\n",
       "      <td>0.0</td>\n",
       "      <td>2818.0</td>\n",
       "      <td>0.0</td>\n",
       "      <td>25</td>\n",
       "      <td>19318.0</td>\n",
       "      <td>401.0</td>\n",
       "      <td>47.0</td>\n",
       "      <td>0.051765</td>\n",
       "      <td>6.0</td>\n",
       "      <td>NaN</td>\n",
       "      <td>1000.0</td>\n",
       "      <td>NaN</td>\n",
       "      <td>NaN</td>\n",
       "      <td>NaN</td>\n",
       "      <td>NaN</td>\n",
       "      <td>NaN</td>\n",
       "      <td>NaN</td>\n",
       "    </tr>\n",
       "    <tr>\n",
       "      <th>4</th>\n",
       "      <td>4</td>\n",
       "      <td>NT1938850156163200</td>\n",
       "      <td>0</td>\n",
       "      <td>2503.0</td>\n",
       "      <td>0.0</td>\n",
       "      <td>0.0</td>\n",
       "      <td>-1.00</td>\n",
       "      <td>0.0</td>\n",
       "      <td>2502.0</td>\n",
       "      <td>0.0</td>\n",
       "      <td>0.0</td>\n",
       "      <td>3670.783333</td>\n",
       "      <td>-1.00</td>\n",
       "      <td>2585.0</td>\n",
       "      <td>0.0</td>\n",
       "      <td>0.0</td>\n",
       "      <td>6943.0</td>\n",
       "      <td>0.0</td>\n",
       "      <td>25</td>\n",
       "      <td>16818.0</td>\n",
       "      <td>401.0</td>\n",
       "      <td>47.0</td>\n",
       "      <td>0.029730</td>\n",
       "      <td>6.0</td>\n",
       "      <td>NaN</td>\n",
       "      <td>500.0</td>\n",
       "      <td>NaN</td>\n",
       "      <td>NaN</td>\n",
       "      <td>NaN</td>\n",
       "      <td>NaN</td>\n",
       "      <td>NaN</td>\n",
       "      <td>NaN</td>\n",
       "    </tr>\n",
       "  </tbody>\n",
       "</table>\n",
       "</div>"
      ],
      "text/plain": [
       "   Unnamed: 0      transaction_id  Fraud  Deposit_Account_Age  \\\n",
       "0           0  NT1937830033075700      1               2498.0   \n",
       "1           1  NT1937880074349300      0               2500.0   \n",
       "2           2  NT1937980086848600      0               2500.0   \n",
       "3           3  NT1938500119987600      0               2501.0   \n",
       "4           4  NT1938850156163200      0               2503.0   \n",
       "\n",
       "   MFTxnCountSameToAcc_L1D  Unique_AmountFrom_L1D  \\\n",
       "0                      0.0                    0.0   \n",
       "1                      0.0                    0.0   \n",
       "2                      0.0                    1.0   \n",
       "3                      0.0                    0.0   \n",
       "4                      0.0                    0.0   \n",
       "\n",
       "   TSLastMFTxn_fromacct_to_acct_mins  Unique_AmountTo_L1D  \\\n",
       "0                              -1.00                  0.0   \n",
       "1                            2317.25                  0.0   \n",
       "2                              -1.00                  0.0   \n",
       "3                              -1.00                  0.0   \n",
       "4                              -1.00                  0.0   \n",
       "\n",
       "   Dep_AvgAcctAge_L30D  MFTxnCount_L1D  MFTxnCountSameType_L1D  \\\n",
       "0                  NaN             0.0                     0.0   \n",
       "1                  NaN             0.0                     0.0   \n",
       "2               2500.0             1.0                     1.0   \n",
       "3               2501.0             0.0                     0.0   \n",
       "4               2502.0             0.0                     0.0   \n",
       "\n",
       "   TSLastMFTxn_tobankcode_mins  TSLastMFTxn_toacct_mins  account_open_amount  \\\n",
       "0                    -1.000000                    -1.00               2585.0   \n",
       "1                  2317.250000                  2317.25               2585.0   \n",
       "2                   580.233333                    -1.00               2585.0   \n",
       "3                    -1.000000                    -1.00               2585.0   \n",
       "4                  3670.783333                    -1.00               2585.0   \n",
       "\n",
       "   Avg_Amt_SameToAcc_L1H  Avg_Amt_L1H  Avg_Bal_L14D  Max_AmtBalRatio_L1H  \\\n",
       "0                    0.0          0.0           0.0                  0.0   \n",
       "1                    0.0          0.0        3818.0                  0.0   \n",
       "2                    0.0          0.0        3318.0                  0.0   \n",
       "3                    0.0          0.0        2818.0                  0.0   \n",
       "4                    0.0          0.0        6943.0                  0.0   \n",
       "\n",
       "   transaction_type  available_balance  occupation  Customer_Age  \\\n",
       "0                25             3818.0       401.0          47.0   \n",
       "1                25             2818.0       401.0          47.0   \n",
       "2                25             1818.0       401.0          47.0   \n",
       "3                25            19318.0       401.0          47.0   \n",
       "4                25            16818.0       401.0          47.0   \n",
       "\n",
       "   amount_balance_ratio  customer_segment  TimeSinceLast_Ch  amount  \\\n",
       "0              0.130959               6.0               NaN   500.0   \n",
       "1              0.354862               6.0               NaN  1000.0   \n",
       "2              0.550055               6.0               NaN  1000.0   \n",
       "3              0.051765               6.0               NaN  1000.0   \n",
       "4              0.029730               6.0               NaN   500.0   \n",
       "\n",
       "   Txn_Count_SD_L30D  Txn_Count_IDC_L30D  Txn_Count_DCM_L30D  \\\n",
       "0                NaN                 NaN                 NaN   \n",
       "1                NaN                 NaN                 NaN   \n",
       "2                NaN                 NaN                 NaN   \n",
       "3                NaN                 NaN                 NaN   \n",
       "4                NaN                 NaN                 NaN   \n",
       "\n",
       "   Txn_Count_PASS_L30D  Txn_Count_CHQIN_L30D  Txn_Count_BranchTo_L30D  \n",
       "0                  NaN                   NaN                      NaN  \n",
       "1                  NaN                   NaN                      NaN  \n",
       "2                  NaN                   NaN                      NaN  \n",
       "3                  NaN                   NaN                      NaN  \n",
       "4                  NaN                   NaN                      NaN  "
      ]
     },
     "execution_count": 41,
     "metadata": {},
     "output_type": "execute_result"
    }
   ],
   "source": [
    "test_in.head()"
   ]
  },
  {
   "cell_type": "code",
   "execution_count": 42,
   "id": "0a1cb7db",
   "metadata": {},
   "outputs": [
    {
     "data": {
      "text/html": [
       "<div>\n",
       "<style scoped>\n",
       "    .dataframe tbody tr th:only-of-type {\n",
       "        vertical-align: middle;\n",
       "    }\n",
       "\n",
       "    .dataframe tbody tr th {\n",
       "        vertical-align: top;\n",
       "    }\n",
       "\n",
       "    .dataframe thead th {\n",
       "        text-align: right;\n",
       "    }\n",
       "</style>\n",
       "<table border=\"1\" class=\"dataframe\">\n",
       "  <thead>\n",
       "    <tr style=\"text-align: right;\">\n",
       "      <th></th>\n",
       "      <th>deposit_account_age</th>\n",
       "      <th>mftxncountsametoacc_l1d</th>\n",
       "      <th>unique_amountfrom_l1d</th>\n",
       "      <th>tslastmftxn_fromacct_to_acct_mins</th>\n",
       "      <th>unique_amountto_l1d</th>\n",
       "      <th>dep_avgacctage_l30d</th>\n",
       "      <th>mftxncount_l1d</th>\n",
       "      <th>mftxncountsametype_l1d</th>\n",
       "      <th>tslastmftxn_tobankcode_mins</th>\n",
       "      <th>tslastmftxn_toacct_mins</th>\n",
       "      <th>account_open_amount</th>\n",
       "      <th>avg_amt_sametoacc_l1h</th>\n",
       "      <th>avg_amt_l1h</th>\n",
       "      <th>avg_bal_l14d</th>\n",
       "      <th>max_amtbalratio_l1h</th>\n",
       "      <th>transaction_type</th>\n",
       "      <th>available_balance</th>\n",
       "      <th>occupation</th>\n",
       "      <th>customer_age</th>\n",
       "      <th>amount_balance_ratio</th>\n",
       "      <th>customer_segment</th>\n",
       "      <th>timesincelast_ch</th>\n",
       "      <th>amount</th>\n",
       "      <th>txn_count_sd_l30d</th>\n",
       "      <th>txn_count_idc_l30d</th>\n",
       "      <th>txn_count_dcm_l30d</th>\n",
       "      <th>txn_count_pass_l30d</th>\n",
       "      <th>txn_count_chqin_l30d</th>\n",
       "      <th>txn_count_branchto_l30d</th>\n",
       "      <th>fraud</th>\n",
       "      <th>ML_Score</th>\n",
       "    </tr>\n",
       "  </thead>\n",
       "  <tbody>\n",
       "    <tr>\n",
       "      <th>1807628</th>\n",
       "      <td>3886.0</td>\n",
       "      <td>0.0</td>\n",
       "      <td>1.0</td>\n",
       "      <td>2895.850000</td>\n",
       "      <td>0.0</td>\n",
       "      <td>3886.0</td>\n",
       "      <td>1.0</td>\n",
       "      <td>1.0</td>\n",
       "      <td>2895.850000</td>\n",
       "      <td>2895.850000</td>\n",
       "      <td>500000.0</td>\n",
       "      <td>0.00</td>\n",
       "      <td>0.00</td>\n",
       "      <td>5733.333333</td>\n",
       "      <td>0.000000</td>\n",
       "      <td>100400320</td>\n",
       "      <td>5000.00</td>\n",
       "      <td>406.0</td>\n",
       "      <td>58.0</td>\n",
       "      <td>7.426000</td>\n",
       "      <td>6.0</td>\n",
       "      <td>NaN</td>\n",
       "      <td>37130.00</td>\n",
       "      <td>NaN</td>\n",
       "      <td>NaN</td>\n",
       "      <td>NaN</td>\n",
       "      <td>NaN</td>\n",
       "      <td>NaN</td>\n",
       "      <td>NaN</td>\n",
       "      <td>0</td>\n",
       "      <td>0.025338</td>\n",
       "    </tr>\n",
       "    <tr>\n",
       "      <th>1807629</th>\n",
       "      <td>3069.0</td>\n",
       "      <td>0.0</td>\n",
       "      <td>1.0</td>\n",
       "      <td>4319.050000</td>\n",
       "      <td>0.0</td>\n",
       "      <td>NaN</td>\n",
       "      <td>1.0</td>\n",
       "      <td>1.0</td>\n",
       "      <td>122.416667</td>\n",
       "      <td>4319.050000</td>\n",
       "      <td>30000.0</td>\n",
       "      <td>0.00</td>\n",
       "      <td>0.00</td>\n",
       "      <td>960.065283</td>\n",
       "      <td>0.000000</td>\n",
       "      <td>100400320</td>\n",
       "      <td>194.14</td>\n",
       "      <td>102.0</td>\n",
       "      <td>43.0</td>\n",
       "      <td>9.374678</td>\n",
       "      <td>6.0</td>\n",
       "      <td>NaN</td>\n",
       "      <td>1820.00</td>\n",
       "      <td>NaN</td>\n",
       "      <td>NaN</td>\n",
       "      <td>NaN</td>\n",
       "      <td>NaN</td>\n",
       "      <td>NaN</td>\n",
       "      <td>NaN</td>\n",
       "      <td>0</td>\n",
       "      <td>0.025338</td>\n",
       "    </tr>\n",
       "    <tr>\n",
       "      <th>1807630</th>\n",
       "      <td>11623.0</td>\n",
       "      <td>0.0</td>\n",
       "      <td>2.0</td>\n",
       "      <td>1945.133333</td>\n",
       "      <td>0.0</td>\n",
       "      <td>NaN</td>\n",
       "      <td>2.0</td>\n",
       "      <td>0.0</td>\n",
       "      <td>1945.133333</td>\n",
       "      <td>1945.133333</td>\n",
       "      <td>0.0</td>\n",
       "      <td>0.00</td>\n",
       "      <td>0.00</td>\n",
       "      <td>67147.120000</td>\n",
       "      <td>0.000000</td>\n",
       "      <td>100400720</td>\n",
       "      <td>55027.92</td>\n",
       "      <td>109.0</td>\n",
       "      <td>93.0</td>\n",
       "      <td>0.045431</td>\n",
       "      <td>6.0</td>\n",
       "      <td>NaN</td>\n",
       "      <td>2500.00</td>\n",
       "      <td>NaN</td>\n",
       "      <td>NaN</td>\n",
       "      <td>NaN</td>\n",
       "      <td>NaN</td>\n",
       "      <td>NaN</td>\n",
       "      <td>NaN</td>\n",
       "      <td>0</td>\n",
       "      <td>0.025338</td>\n",
       "    </tr>\n",
       "    <tr>\n",
       "      <th>1807631</th>\n",
       "      <td>1548.0</td>\n",
       "      <td>4.0</td>\n",
       "      <td>11.0</td>\n",
       "      <td>44.916667</td>\n",
       "      <td>4.0</td>\n",
       "      <td>1548.0</td>\n",
       "      <td>12.0</td>\n",
       "      <td>4.0</td>\n",
       "      <td>44.916667</td>\n",
       "      <td>44.916667</td>\n",
       "      <td>2000.0</td>\n",
       "      <td>570.00</td>\n",
       "      <td>755.00</td>\n",
       "      <td>4425.205347</td>\n",
       "      <td>3.524175</td>\n",
       "      <td>100400220</td>\n",
       "      <td>1171.74</td>\n",
       "      <td>306.0</td>\n",
       "      <td>51.0</td>\n",
       "      <td>0.418182</td>\n",
       "      <td>5.0</td>\n",
       "      <td>NaN</td>\n",
       "      <td>490.00</td>\n",
       "      <td>NaN</td>\n",
       "      <td>NaN</td>\n",
       "      <td>NaN</td>\n",
       "      <td>NaN</td>\n",
       "      <td>NaN</td>\n",
       "      <td>NaN</td>\n",
       "      <td>0</td>\n",
       "      <td>0.031608</td>\n",
       "    </tr>\n",
       "    <tr>\n",
       "      <th>1807632</th>\n",
       "      <td>2438.0</td>\n",
       "      <td>5.0</td>\n",
       "      <td>13.0</td>\n",
       "      <td>8.333333</td>\n",
       "      <td>5.0</td>\n",
       "      <td>NaN</td>\n",
       "      <td>14.0</td>\n",
       "      <td>14.0</td>\n",
       "      <td>8.333333</td>\n",
       "      <td>8.333333</td>\n",
       "      <td>400.0</td>\n",
       "      <td>100.74</td>\n",
       "      <td>100.74</td>\n",
       "      <td>1437.032659</td>\n",
       "      <td>0.241972</td>\n",
       "      <td>100400320</td>\n",
       "      <td>315.40</td>\n",
       "      <td>407.0</td>\n",
       "      <td>50.0</td>\n",
       "      <td>0.319087</td>\n",
       "      <td>6.0</td>\n",
       "      <td>NaN</td>\n",
       "      <td>100.64</td>\n",
       "      <td>NaN</td>\n",
       "      <td>NaN</td>\n",
       "      <td>NaN</td>\n",
       "      <td>NaN</td>\n",
       "      <td>NaN</td>\n",
       "      <td>NaN</td>\n",
       "      <td>0</td>\n",
       "      <td>0.031013</td>\n",
       "    </tr>\n",
       "  </tbody>\n",
       "</table>\n",
       "</div>"
      ],
      "text/plain": [
       "         deposit_account_age  mftxncountsametoacc_l1d  unique_amountfrom_l1d  \\\n",
       "1807628               3886.0                      0.0                    1.0   \n",
       "1807629               3069.0                      0.0                    1.0   \n",
       "1807630              11623.0                      0.0                    2.0   \n",
       "1807631               1548.0                      4.0                   11.0   \n",
       "1807632               2438.0                      5.0                   13.0   \n",
       "\n",
       "         tslastmftxn_fromacct_to_acct_mins  unique_amountto_l1d  \\\n",
       "1807628                        2895.850000                  0.0   \n",
       "1807629                        4319.050000                  0.0   \n",
       "1807630                        1945.133333                  0.0   \n",
       "1807631                          44.916667                  4.0   \n",
       "1807632                           8.333333                  5.0   \n",
       "\n",
       "         dep_avgacctage_l30d  mftxncount_l1d  mftxncountsametype_l1d  \\\n",
       "1807628               3886.0             1.0                     1.0   \n",
       "1807629                  NaN             1.0                     1.0   \n",
       "1807630                  NaN             2.0                     0.0   \n",
       "1807631               1548.0            12.0                     4.0   \n",
       "1807632                  NaN            14.0                    14.0   \n",
       "\n",
       "         tslastmftxn_tobankcode_mins  tslastmftxn_toacct_mins  \\\n",
       "1807628                  2895.850000              2895.850000   \n",
       "1807629                   122.416667              4319.050000   \n",
       "1807630                  1945.133333              1945.133333   \n",
       "1807631                    44.916667                44.916667   \n",
       "1807632                     8.333333                 8.333333   \n",
       "\n",
       "         account_open_amount  avg_amt_sametoacc_l1h  avg_amt_l1h  \\\n",
       "1807628             500000.0                   0.00         0.00   \n",
       "1807629              30000.0                   0.00         0.00   \n",
       "1807630                  0.0                   0.00         0.00   \n",
       "1807631               2000.0                 570.00       755.00   \n",
       "1807632                400.0                 100.74       100.74   \n",
       "\n",
       "         avg_bal_l14d  max_amtbalratio_l1h  transaction_type  \\\n",
       "1807628   5733.333333             0.000000         100400320   \n",
       "1807629    960.065283             0.000000         100400320   \n",
       "1807630  67147.120000             0.000000         100400720   \n",
       "1807631   4425.205347             3.524175         100400220   \n",
       "1807632   1437.032659             0.241972         100400320   \n",
       "\n",
       "         available_balance  occupation  customer_age  amount_balance_ratio  \\\n",
       "1807628            5000.00       406.0          58.0              7.426000   \n",
       "1807629             194.14       102.0          43.0              9.374678   \n",
       "1807630           55027.92       109.0          93.0              0.045431   \n",
       "1807631            1171.74       306.0          51.0              0.418182   \n",
       "1807632             315.40       407.0          50.0              0.319087   \n",
       "\n",
       "         customer_segment  timesincelast_ch    amount  txn_count_sd_l30d  \\\n",
       "1807628               6.0               NaN  37130.00                NaN   \n",
       "1807629               6.0               NaN   1820.00                NaN   \n",
       "1807630               6.0               NaN   2500.00                NaN   \n",
       "1807631               5.0               NaN    490.00                NaN   \n",
       "1807632               6.0               NaN    100.64                NaN   \n",
       "\n",
       "         txn_count_idc_l30d  txn_count_dcm_l30d  txn_count_pass_l30d  \\\n",
       "1807628                 NaN                 NaN                  NaN   \n",
       "1807629                 NaN                 NaN                  NaN   \n",
       "1807630                 NaN                 NaN                  NaN   \n",
       "1807631                 NaN                 NaN                  NaN   \n",
       "1807632                 NaN                 NaN                  NaN   \n",
       "\n",
       "         txn_count_chqin_l30d  txn_count_branchto_l30d  fraud  ML_Score  \n",
       "1807628                   NaN                      NaN      0  0.025338  \n",
       "1807629                   NaN                      NaN      0  0.025338  \n",
       "1807630                   NaN                      NaN      0  0.025338  \n",
       "1807631                   NaN                      NaN      0  0.031608  \n",
       "1807632                   NaN                      NaN      0  0.031013  "
      ]
     },
     "execution_count": 42,
     "metadata": {},
     "output_type": "execute_result"
    }
   ],
   "source": [
    "test.tail()"
   ]
  },
  {
   "cell_type": "code",
   "execution_count": 43,
   "id": "1ed7e06d",
   "metadata": {},
   "outputs": [
    {
     "data": {
      "text/html": [
       "<div>\n",
       "<style scoped>\n",
       "    .dataframe tbody tr th:only-of-type {\n",
       "        vertical-align: middle;\n",
       "    }\n",
       "\n",
       "    .dataframe tbody tr th {\n",
       "        vertical-align: top;\n",
       "    }\n",
       "\n",
       "    .dataframe thead th {\n",
       "        text-align: right;\n",
       "    }\n",
       "</style>\n",
       "<table border=\"1\" class=\"dataframe\">\n",
       "  <thead>\n",
       "    <tr style=\"text-align: right;\">\n",
       "      <th></th>\n",
       "      <th>Unnamed: 0</th>\n",
       "      <th>transaction_id</th>\n",
       "      <th>Fraud</th>\n",
       "      <th>Deposit_Account_Age</th>\n",
       "      <th>MFTxnCountSameToAcc_L1D</th>\n",
       "      <th>Unique_AmountFrom_L1D</th>\n",
       "      <th>TSLastMFTxn_fromacct_to_acct_mins</th>\n",
       "      <th>Unique_AmountTo_L1D</th>\n",
       "      <th>Dep_AvgAcctAge_L30D</th>\n",
       "      <th>MFTxnCount_L1D</th>\n",
       "      <th>MFTxnCountSameType_L1D</th>\n",
       "      <th>TSLastMFTxn_tobankcode_mins</th>\n",
       "      <th>TSLastMFTxn_toacct_mins</th>\n",
       "      <th>account_open_amount</th>\n",
       "      <th>Avg_Amt_SameToAcc_L1H</th>\n",
       "      <th>Avg_Amt_L1H</th>\n",
       "      <th>Avg_Bal_L14D</th>\n",
       "      <th>Max_AmtBalRatio_L1H</th>\n",
       "      <th>transaction_type</th>\n",
       "      <th>available_balance</th>\n",
       "      <th>occupation</th>\n",
       "      <th>Customer_Age</th>\n",
       "      <th>amount_balance_ratio</th>\n",
       "      <th>customer_segment</th>\n",
       "      <th>TimeSinceLast_Ch</th>\n",
       "      <th>amount</th>\n",
       "      <th>Txn_Count_SD_L30D</th>\n",
       "      <th>Txn_Count_IDC_L30D</th>\n",
       "      <th>Txn_Count_DCM_L30D</th>\n",
       "      <th>Txn_Count_PASS_L30D</th>\n",
       "      <th>Txn_Count_CHQIN_L30D</th>\n",
       "      <th>Txn_Count_BranchTo_L30D</th>\n",
       "    </tr>\n",
       "  </thead>\n",
       "  <tbody>\n",
       "    <tr>\n",
       "      <th>1807628</th>\n",
       "      <td>3698362</td>\n",
       "      <td>202305262303583668</td>\n",
       "      <td>0</td>\n",
       "      <td>3886.0</td>\n",
       "      <td>0.0</td>\n",
       "      <td>1.0</td>\n",
       "      <td>2895.850000</td>\n",
       "      <td>0.0</td>\n",
       "      <td>3886.0</td>\n",
       "      <td>1.0</td>\n",
       "      <td>1.0</td>\n",
       "      <td>2895.850000</td>\n",
       "      <td>2895.850000</td>\n",
       "      <td>500000.0</td>\n",
       "      <td>0.00</td>\n",
       "      <td>0.00</td>\n",
       "      <td>5733.333333</td>\n",
       "      <td>0.000000</td>\n",
       "      <td>100400320</td>\n",
       "      <td>5000.00</td>\n",
       "      <td>406.0</td>\n",
       "      <td>58.0</td>\n",
       "      <td>7.426000</td>\n",
       "      <td>6.0</td>\n",
       "      <td>NaN</td>\n",
       "      <td>37130.00</td>\n",
       "      <td>NaN</td>\n",
       "      <td>NaN</td>\n",
       "      <td>NaN</td>\n",
       "      <td>NaN</td>\n",
       "      <td>NaN</td>\n",
       "      <td>NaN</td>\n",
       "    </tr>\n",
       "    <tr>\n",
       "      <th>1807629</th>\n",
       "      <td>3698363</td>\n",
       "      <td>202305262303584044</td>\n",
       "      <td>0</td>\n",
       "      <td>3069.0</td>\n",
       "      <td>0.0</td>\n",
       "      <td>1.0</td>\n",
       "      <td>4319.050000</td>\n",
       "      <td>0.0</td>\n",
       "      <td>NaN</td>\n",
       "      <td>1.0</td>\n",
       "      <td>1.0</td>\n",
       "      <td>122.416667</td>\n",
       "      <td>4319.050000</td>\n",
       "      <td>30000.0</td>\n",
       "      <td>0.00</td>\n",
       "      <td>0.00</td>\n",
       "      <td>960.065283</td>\n",
       "      <td>0.000000</td>\n",
       "      <td>100400320</td>\n",
       "      <td>194.14</td>\n",
       "      <td>102.0</td>\n",
       "      <td>43.0</td>\n",
       "      <td>9.374678</td>\n",
       "      <td>6.0</td>\n",
       "      <td>NaN</td>\n",
       "      <td>1820.00</td>\n",
       "      <td>NaN</td>\n",
       "      <td>NaN</td>\n",
       "      <td>NaN</td>\n",
       "      <td>NaN</td>\n",
       "      <td>NaN</td>\n",
       "      <td>NaN</td>\n",
       "    </tr>\n",
       "    <tr>\n",
       "      <th>1807630</th>\n",
       "      <td>3698364</td>\n",
       "      <td>202305262303587943</td>\n",
       "      <td>0</td>\n",
       "      <td>11623.0</td>\n",
       "      <td>0.0</td>\n",
       "      <td>2.0</td>\n",
       "      <td>1945.133333</td>\n",
       "      <td>0.0</td>\n",
       "      <td>NaN</td>\n",
       "      <td>2.0</td>\n",
       "      <td>0.0</td>\n",
       "      <td>1945.133333</td>\n",
       "      <td>1945.133333</td>\n",
       "      <td>0.0</td>\n",
       "      <td>0.00</td>\n",
       "      <td>0.00</td>\n",
       "      <td>67147.120000</td>\n",
       "      <td>0.000000</td>\n",
       "      <td>100400720</td>\n",
       "      <td>55027.92</td>\n",
       "      <td>109.0</td>\n",
       "      <td>93.0</td>\n",
       "      <td>0.045431</td>\n",
       "      <td>6.0</td>\n",
       "      <td>NaN</td>\n",
       "      <td>2500.00</td>\n",
       "      <td>NaN</td>\n",
       "      <td>NaN</td>\n",
       "      <td>NaN</td>\n",
       "      <td>NaN</td>\n",
       "      <td>NaN</td>\n",
       "      <td>NaN</td>\n",
       "    </tr>\n",
       "    <tr>\n",
       "      <th>1807631</th>\n",
       "      <td>3698365</td>\n",
       "      <td>202305262303591022</td>\n",
       "      <td>0</td>\n",
       "      <td>1548.0</td>\n",
       "      <td>4.0</td>\n",
       "      <td>11.0</td>\n",
       "      <td>44.916667</td>\n",
       "      <td>4.0</td>\n",
       "      <td>1548.0</td>\n",
       "      <td>12.0</td>\n",
       "      <td>4.0</td>\n",
       "      <td>44.916667</td>\n",
       "      <td>44.916667</td>\n",
       "      <td>2000.0</td>\n",
       "      <td>570.00</td>\n",
       "      <td>755.00</td>\n",
       "      <td>4425.205347</td>\n",
       "      <td>3.524175</td>\n",
       "      <td>100400220</td>\n",
       "      <td>1171.74</td>\n",
       "      <td>306.0</td>\n",
       "      <td>51.0</td>\n",
       "      <td>0.418182</td>\n",
       "      <td>5.0</td>\n",
       "      <td>NaN</td>\n",
       "      <td>490.00</td>\n",
       "      <td>NaN</td>\n",
       "      <td>NaN</td>\n",
       "      <td>NaN</td>\n",
       "      <td>NaN</td>\n",
       "      <td>NaN</td>\n",
       "      <td>NaN</td>\n",
       "    </tr>\n",
       "    <tr>\n",
       "      <th>1807632</th>\n",
       "      <td>3698366</td>\n",
       "      <td>202305262303591175</td>\n",
       "      <td>0</td>\n",
       "      <td>2438.0</td>\n",
       "      <td>5.0</td>\n",
       "      <td>13.0</td>\n",
       "      <td>8.333333</td>\n",
       "      <td>5.0</td>\n",
       "      <td>NaN</td>\n",
       "      <td>14.0</td>\n",
       "      <td>14.0</td>\n",
       "      <td>8.333333</td>\n",
       "      <td>8.333333</td>\n",
       "      <td>400.0</td>\n",
       "      <td>100.74</td>\n",
       "      <td>100.74</td>\n",
       "      <td>1437.032659</td>\n",
       "      <td>0.241972</td>\n",
       "      <td>100400320</td>\n",
       "      <td>315.40</td>\n",
       "      <td>407.0</td>\n",
       "      <td>50.0</td>\n",
       "      <td>0.319087</td>\n",
       "      <td>6.0</td>\n",
       "      <td>NaN</td>\n",
       "      <td>100.64</td>\n",
       "      <td>NaN</td>\n",
       "      <td>NaN</td>\n",
       "      <td>NaN</td>\n",
       "      <td>NaN</td>\n",
       "      <td>NaN</td>\n",
       "      <td>NaN</td>\n",
       "    </tr>\n",
       "  </tbody>\n",
       "</table>\n",
       "</div>"
      ],
      "text/plain": [
       "         Unnamed: 0      transaction_id  Fraud  Deposit_Account_Age  \\\n",
       "1807628     3698362  202305262303583668      0               3886.0   \n",
       "1807629     3698363  202305262303584044      0               3069.0   \n",
       "1807630     3698364  202305262303587943      0              11623.0   \n",
       "1807631     3698365  202305262303591022      0               1548.0   \n",
       "1807632     3698366  202305262303591175      0               2438.0   \n",
       "\n",
       "         MFTxnCountSameToAcc_L1D  Unique_AmountFrom_L1D  \\\n",
       "1807628                      0.0                    1.0   \n",
       "1807629                      0.0                    1.0   \n",
       "1807630                      0.0                    2.0   \n",
       "1807631                      4.0                   11.0   \n",
       "1807632                      5.0                   13.0   \n",
       "\n",
       "         TSLastMFTxn_fromacct_to_acct_mins  Unique_AmountTo_L1D  \\\n",
       "1807628                        2895.850000                  0.0   \n",
       "1807629                        4319.050000                  0.0   \n",
       "1807630                        1945.133333                  0.0   \n",
       "1807631                          44.916667                  4.0   \n",
       "1807632                           8.333333                  5.0   \n",
       "\n",
       "         Dep_AvgAcctAge_L30D  MFTxnCount_L1D  MFTxnCountSameType_L1D  \\\n",
       "1807628               3886.0             1.0                     1.0   \n",
       "1807629                  NaN             1.0                     1.0   \n",
       "1807630                  NaN             2.0                     0.0   \n",
       "1807631               1548.0            12.0                     4.0   \n",
       "1807632                  NaN            14.0                    14.0   \n",
       "\n",
       "         TSLastMFTxn_tobankcode_mins  TSLastMFTxn_toacct_mins  \\\n",
       "1807628                  2895.850000              2895.850000   \n",
       "1807629                   122.416667              4319.050000   \n",
       "1807630                  1945.133333              1945.133333   \n",
       "1807631                    44.916667                44.916667   \n",
       "1807632                     8.333333                 8.333333   \n",
       "\n",
       "         account_open_amount  Avg_Amt_SameToAcc_L1H  Avg_Amt_L1H  \\\n",
       "1807628             500000.0                   0.00         0.00   \n",
       "1807629              30000.0                   0.00         0.00   \n",
       "1807630                  0.0                   0.00         0.00   \n",
       "1807631               2000.0                 570.00       755.00   \n",
       "1807632                400.0                 100.74       100.74   \n",
       "\n",
       "         Avg_Bal_L14D  Max_AmtBalRatio_L1H  transaction_type  \\\n",
       "1807628   5733.333333             0.000000         100400320   \n",
       "1807629    960.065283             0.000000         100400320   \n",
       "1807630  67147.120000             0.000000         100400720   \n",
       "1807631   4425.205347             3.524175         100400220   \n",
       "1807632   1437.032659             0.241972         100400320   \n",
       "\n",
       "         available_balance  occupation  Customer_Age  amount_balance_ratio  \\\n",
       "1807628            5000.00       406.0          58.0              7.426000   \n",
       "1807629             194.14       102.0          43.0              9.374678   \n",
       "1807630           55027.92       109.0          93.0              0.045431   \n",
       "1807631            1171.74       306.0          51.0              0.418182   \n",
       "1807632             315.40       407.0          50.0              0.319087   \n",
       "\n",
       "         customer_segment  TimeSinceLast_Ch    amount  Txn_Count_SD_L30D  \\\n",
       "1807628               6.0               NaN  37130.00                NaN   \n",
       "1807629               6.0               NaN   1820.00                NaN   \n",
       "1807630               6.0               NaN   2500.00                NaN   \n",
       "1807631               5.0               NaN    490.00                NaN   \n",
       "1807632               6.0               NaN    100.64                NaN   \n",
       "\n",
       "         Txn_Count_IDC_L30D  Txn_Count_DCM_L30D  Txn_Count_PASS_L30D  \\\n",
       "1807628                 NaN                 NaN                  NaN   \n",
       "1807629                 NaN                 NaN                  NaN   \n",
       "1807630                 NaN                 NaN                  NaN   \n",
       "1807631                 NaN                 NaN                  NaN   \n",
       "1807632                 NaN                 NaN                  NaN   \n",
       "\n",
       "         Txn_Count_CHQIN_L30D  Txn_Count_BranchTo_L30D  \n",
       "1807628                   NaN                      NaN  \n",
       "1807629                   NaN                      NaN  \n",
       "1807630                   NaN                      NaN  \n",
       "1807631                   NaN                      NaN  \n",
       "1807632                   NaN                      NaN  "
      ]
     },
     "execution_count": 43,
     "metadata": {},
     "output_type": "execute_result"
    }
   ],
   "source": [
    "test_in.tail()"
   ]
  },
  {
   "cell_type": "code",
   "execution_count": 44,
   "id": "a5af7b94",
   "metadata": {},
   "outputs": [],
   "source": [
    "test_in_out = pd.concat([test[['fraud','ML_Score']],test_in[['transaction_id','transaction_type']]], axis = 1)\n",
    "test_in_out['transaction_type'] = test_in_out['transaction_type'].astype('object')"
   ]
  },
  {
   "cell_type": "code",
   "execution_count": 45,
   "id": "6374fe6b",
   "metadata": {},
   "outputs": [
    {
     "name": "stdout",
     "output_type": "stream",
     "text": [
      "<class 'pandas.core.frame.DataFrame'>\n",
      "RangeIndex: 1807633 entries, 0 to 1807632\n",
      "Data columns (total 4 columns):\n",
      " #   Column            Dtype  \n",
      "---  ------            -----  \n",
      " 0   fraud             int64  \n",
      " 1   ML_Score          float64\n",
      " 2   transaction_id    object \n",
      " 3   transaction_type  object \n",
      "dtypes: float64(1), int64(1), object(2)\n",
      "memory usage: 55.2+ MB\n"
     ]
    }
   ],
   "source": [
    "test_in_out.info()"
   ]
  },
  {
   "cell_type": "code",
   "execution_count": 55,
   "id": "35b11db7",
   "metadata": {},
   "outputs": [],
   "source": [
    "test_in_out['transaction_id'] = test_in_out['transaction_id'].astype('str')\n",
    "mobile_financial['transaction_id'] = mobile_financial['transaction_id'].astype('str')"
   ]
  },
  {
   "cell_type": "code",
   "execution_count": 56,
   "id": "284a3f61",
   "metadata": {},
   "outputs": [],
   "source": [
    "test_in_out_test = test_in_out.merge(mobile_financial[['transaction_id','transaction_datetime1','customer_id','from_account_no']],\n",
    "                                     left_on = ['transaction_id'],\n",
    "                                     right_on = ['transaction_id'],\n",
    "                                     how = 'left',\n",
    "                                     indicator = 'merge_test_mf')"
   ]
  },
  {
   "cell_type": "code",
   "execution_count": 57,
   "id": "32070e63",
   "metadata": {},
   "outputs": [
    {
     "data": {
      "text/plain": [
       "merge_test_mf\n",
       "left_only           0\n",
       "right_only          0\n",
       "both          1807633\n",
       "dtype: int64"
      ]
     },
     "execution_count": 57,
     "metadata": {},
     "output_type": "execute_result"
    }
   ],
   "source": [
    "test_in_out_test.groupby(['merge_test_mf'], dropna=False).size()"
   ]
  },
  {
   "cell_type": "code",
   "execution_count": 58,
   "id": "841bcc30",
   "metadata": {},
   "outputs": [
    {
     "data": {
      "text/html": [
       "<div>\n",
       "<style scoped>\n",
       "    .dataframe tbody tr th:only-of-type {\n",
       "        vertical-align: middle;\n",
       "    }\n",
       "\n",
       "    .dataframe tbody tr th {\n",
       "        vertical-align: top;\n",
       "    }\n",
       "\n",
       "    .dataframe thead th {\n",
       "        text-align: right;\n",
       "    }\n",
       "</style>\n",
       "<table border=\"1\" class=\"dataframe\">\n",
       "  <thead>\n",
       "    <tr style=\"text-align: right;\">\n",
       "      <th></th>\n",
       "      <th>fraud</th>\n",
       "      <th>ML_Score</th>\n",
       "      <th>transaction_id</th>\n",
       "      <th>transaction_type</th>\n",
       "      <th>transaction_datetime1</th>\n",
       "      <th>customer_id</th>\n",
       "      <th>from_account_no</th>\n",
       "      <th>merge_test_mf</th>\n",
       "    </tr>\n",
       "  </thead>\n",
       "  <tbody>\n",
       "  </tbody>\n",
       "</table>\n",
       "</div>"
      ],
      "text/plain": [
       "Empty DataFrame\n",
       "Columns: [fraud, ML_Score, transaction_id, transaction_type, transaction_datetime1, customer_id, from_account_no, merge_test_mf]\n",
       "Index: []"
      ]
     },
     "execution_count": 58,
     "metadata": {},
     "output_type": "execute_result"
    }
   ],
   "source": [
    "test_in_out_test.loc[test_in_out_test['merge_test_mf'] == 'left_only'].head()"
   ]
  },
  {
   "cell_type": "code",
   "execution_count": null,
   "id": "8b0d0bda",
   "metadata": {},
   "outputs": [],
   "source": []
  },
  {
   "cell_type": "code",
   "execution_count": 59,
   "id": "65aa3b55",
   "metadata": {},
   "outputs": [
    {
     "data": {
      "text/html": [
       "<div>\n",
       "<style scoped>\n",
       "    .dataframe tbody tr th:only-of-type {\n",
       "        vertical-align: middle;\n",
       "    }\n",
       "\n",
       "    .dataframe tbody tr th {\n",
       "        vertical-align: top;\n",
       "    }\n",
       "\n",
       "    .dataframe thead th {\n",
       "        text-align: right;\n",
       "    }\n",
       "</style>\n",
       "<table border=\"1\" class=\"dataframe\">\n",
       "  <thead>\n",
       "    <tr style=\"text-align: right;\">\n",
       "      <th></th>\n",
       "      <th>fraud</th>\n",
       "      <th>ML_Score</th>\n",
       "      <th>transaction_id</th>\n",
       "      <th>transaction_type</th>\n",
       "      <th>transaction_datetime1</th>\n",
       "      <th>customer_id</th>\n",
       "      <th>from_account_no</th>\n",
       "      <th>merge_test_mf</th>\n",
       "    </tr>\n",
       "  </thead>\n",
       "  <tbody>\n",
       "    <tr>\n",
       "      <th>0</th>\n",
       "      <td>1</td>\n",
       "      <td>0.025338</td>\n",
       "      <td>NT1937830033075700</td>\n",
       "      <td>25</td>\n",
       "      <td>2019-12-17 17:53:38</td>\n",
       "      <td>001100000000000000000008854967</td>\n",
       "      <td>PPTM64v4En</td>\n",
       "      <td>both</td>\n",
       "    </tr>\n",
       "    <tr>\n",
       "      <th>1</th>\n",
       "      <td>0</td>\n",
       "      <td>0.025338</td>\n",
       "      <td>NT1937880074349300</td>\n",
       "      <td>25</td>\n",
       "      <td>2019-12-19 08:30:53</td>\n",
       "      <td>001100000000000000000008854967</td>\n",
       "      <td>PPTM64v4En</td>\n",
       "      <td>both</td>\n",
       "    </tr>\n",
       "    <tr>\n",
       "      <th>2</th>\n",
       "      <td>0</td>\n",
       "      <td>0.025338</td>\n",
       "      <td>NT1937980086848600</td>\n",
       "      <td>25</td>\n",
       "      <td>2019-12-19 18:11:07</td>\n",
       "      <td>001100000000000000000008854967</td>\n",
       "      <td>PPTM64v4En</td>\n",
       "      <td>both</td>\n",
       "    </tr>\n",
       "    <tr>\n",
       "      <th>3</th>\n",
       "      <td>0</td>\n",
       "      <td>0.025338</td>\n",
       "      <td>NT1938500119987600</td>\n",
       "      <td>25</td>\n",
       "      <td>2019-12-20 19:25:25</td>\n",
       "      <td>001100000000000000000008854967</td>\n",
       "      <td>PPTM64v4En</td>\n",
       "      <td>both</td>\n",
       "    </tr>\n",
       "    <tr>\n",
       "      <th>4</th>\n",
       "      <td>0</td>\n",
       "      <td>0.025338</td>\n",
       "      <td>NT1938850156163200</td>\n",
       "      <td>25</td>\n",
       "      <td>2019-12-22 07:21:54</td>\n",
       "      <td>001100000000000000000008854967</td>\n",
       "      <td>PPTM64v4En</td>\n",
       "      <td>both</td>\n",
       "    </tr>\n",
       "  </tbody>\n",
       "</table>\n",
       "</div>"
      ],
      "text/plain": [
       "   fraud  ML_Score      transaction_id transaction_type transaction_datetime1  \\\n",
       "0      1  0.025338  NT1937830033075700               25   2019-12-17 17:53:38   \n",
       "1      0  0.025338  NT1937880074349300               25   2019-12-19 08:30:53   \n",
       "2      0  0.025338  NT1937980086848600               25   2019-12-19 18:11:07   \n",
       "3      0  0.025338  NT1938500119987600               25   2019-12-20 19:25:25   \n",
       "4      0  0.025338  NT1938850156163200               25   2019-12-22 07:21:54   \n",
       "\n",
       "                      customer_id from_account_no merge_test_mf  \n",
       "0  001100000000000000000008854967      PPTM64v4En          both  \n",
       "1  001100000000000000000008854967      PPTM64v4En          both  \n",
       "2  001100000000000000000008854967      PPTM64v4En          both  \n",
       "3  001100000000000000000008854967      PPTM64v4En          both  \n",
       "4  001100000000000000000008854967      PPTM64v4En          both  "
      ]
     },
     "execution_count": 59,
     "metadata": {},
     "output_type": "execute_result"
    }
   ],
   "source": [
    "test_in_out_test.head()"
   ]
  },
  {
   "cell_type": "code",
   "execution_count": 60,
   "id": "13c311ce",
   "metadata": {},
   "outputs": [],
   "source": [
    "test_in_out_rules = test_in_out_test.drop(columns = ['fraud','merge_test_mf']).merge(mobile_rule_result[['rules','customer_id','account_number','datetime']],\n",
    "                                           left_on = ['customer_id','from_account_no','transaction_datetime1'],\n",
    "                                           right_on = ['customer_id','account_number','datetime'],\n",
    "                                                                   how = 'left',\n",
    "                                                                   indicator = \"merge_rules\")"
   ]
  },
  {
   "cell_type": "code",
   "execution_count": 61,
   "id": "3bde0603",
   "metadata": {},
   "outputs": [
    {
     "data": {
      "text/plain": [
       "merge_rules\n",
       "left_only     1720407\n",
       "right_only          0\n",
       "both           103593\n",
       "dtype: int64"
      ]
     },
     "execution_count": 61,
     "metadata": {},
     "output_type": "execute_result"
    }
   ],
   "source": [
    "test_in_out_rules.groupby(['merge_rules'], dropna=False).size()"
   ]
  },
  {
   "cell_type": "code",
   "execution_count": 62,
   "id": "2cd88365",
   "metadata": {},
   "outputs": [
    {
     "data": {
      "text/plain": [
       "merge_rules\n",
       "left_only     1617557\n",
       "right_only          0\n",
       "both           100794\n",
       "dtype: int64"
      ]
     },
     "execution_count": 62,
     "metadata": {},
     "output_type": "execute_result"
    }
   ],
   "source": [
    "test_in_out_rules_sub = test_in_out_rules.loc[test_in_out_rules['transaction_type'].astype('str').str.len() > 3]\n",
    "test_in_out_rules_sub.groupby(['merge_rules'], dropna=False).size()"
   ]
  },
  {
   "cell_type": "code",
   "execution_count": 63,
   "id": "029d2e41",
   "metadata": {},
   "outputs": [
    {
     "data": {
      "text/plain": [
       "rules\n",
       "BRANCH010                              242\n",
       "BRANCH011                            31167\n",
       "BRANCH011,BRANCH010                      2\n",
       "MOBILE002                              453\n",
       "MOBILE002,MOBILE002                     67\n",
       "MOBILE002,MULE017                        1\n",
       "MOBILE002,MULE025                        3\n",
       "MOBILE002,MULE026                        4\n",
       "MULE017                              19329\n",
       "MULE017,MOBILE002                        2\n",
       "MULE017,MOBILE002,MOBILE002              2\n",
       "MULE017,MULE017                        415\n",
       "MULE017,MULE017,MULE017                  4\n",
       "MULE017,MULE017,MULE017,MULE017          8\n",
       "MULE017,MULE017,MULE026                  3\n",
       "MULE017,MULE017,MULE026,MULE017          1\n",
       "MULE017,MULE017,MULE027                  3\n",
       "MULE017,MULE017,MULE027,MULE027          1\n",
       "MULE017,MULE022                          9\n",
       "MULE017,MULE022,MULE022                  3\n",
       "MULE017,MULE025                       1430\n",
       "MULE017,MULE025,MULE017                  1\n",
       "MULE017,MULE025,MULE026                 10\n",
       "MULE017,MULE026                        715\n",
       "MULE017,MULE026,MULE017                  7\n",
       "MULE017,MULE026,MULE017,MULE026          1\n",
       "MULE017,MULE026,MULE017,MULE027          2\n",
       "MULE017,MULE026,MULE025                 27\n",
       "MULE017,MULE026,MULE026                 10\n",
       "MULE017,MULE026,MULE026,MULE017          1\n",
       "MULE017,MULE026,MULE027                  8\n",
       "MULE017,MULE026,MULE027,MULE017          1\n",
       "MULE017,MULE027                        177\n",
       "MULE017,MULE027,MULE017                  5\n",
       "MULE017,MULE027,MULE017,MULE026          1\n",
       "MULE017,MULE027,MULE026                 11\n",
       "MULE017,MULE027,MULE026,MULE017          2\n",
       "MULE017,MULE027,MULE027                  9\n",
       "MULE017,MULE027,MULE027,MULE017          2\n",
       "MULE022                                 69\n",
       "MULE022,MOBILE002                        1\n",
       "MULE022,MULE017                         17\n",
       "MULE022,MULE017,MULE022                  5\n",
       "MULE022,MULE022                         11\n",
       "MULE022,MULE022,MULE017                  3\n",
       "MULE022,MULE022,MULE022                  1\n",
       "MULE025                              12572\n",
       "MULE025,MOBILE002                        6\n",
       "MULE025,MULE017                       2259\n",
       "MULE025,MULE017,MULE025                  2\n",
       "MULE025,MULE017,MULE026                 11\n",
       "MULE025,MULE025                         82\n",
       "MULE025,MULE025,MULE025                  2\n",
       "MULE025,MULE025,MULE025,MULE025          2\n",
       "MULE025,MULE026                         27\n",
       "MULE025,MULE026,MULE017                 26\n",
       "MULE025,MULE026,MULE025                  1\n",
       "MULE025,MULE026,MULE026                  1\n",
       "MULE025,MULE026,MULE026,MULE025          1\n",
       "MULE026                              20566\n",
       "MULE026,MOBILE002                        6\n",
       "MULE026,MULE017                       1106\n",
       "MULE026,MULE017,MULE017                  1\n",
       "MULE026,MULE017,MULE017,MULE026          2\n",
       "MULE026,MULE017,MULE025                  4\n",
       "MULE026,MULE017,MULE026                 32\n",
       "MULE026,MULE017,MULE026,MULE017          3\n",
       "MULE026,MULE017,MULE027                 15\n",
       "MULE026,MULE025                         39\n",
       "MULE026,MULE025,MULE017                 38\n",
       "MULE026,MULE025,MULE025,MULE026          1\n",
       "MULE026,MULE025,MULE026                  2\n",
       "MULE026,MULE025,MULE026,MULE025          6\n",
       "MULE026,MULE026                       3313\n",
       "MULE026,MULE026,MULE017                 22\n",
       "MULE026,MULE026,MULE025                  1\n",
       "MULE026,MULE026,MULE026                  7\n",
       "MULE026,MULE026,MULE026,MULE026          3\n",
       "MULE026,MULE026,MULE027                 14\n",
       "MULE026,MULE027                        180\n",
       "MULE026,MULE027,MULE017                 13\n",
       "MULE026,MULE027,MULE026                 33\n",
       "MULE026,MULE027,MULE027,MULE026          8\n",
       "MULE026,MULE029                          4\n",
       "MULE027                               2283\n",
       "MULE027,MULE017                        257\n",
       "MULE027,MULE017,MULE017                  2\n",
       "MULE027,MULE017,MULE017,MULE027          2\n",
       "MULE027,MULE017,MULE026                  3\n",
       "MULE027,MULE017,MULE026,MULE017          1\n",
       "MULE027,MULE017,MULE027                 17\n",
       "MULE027,MULE025,MULE025                  1\n",
       "MULE027,MULE026                        356\n",
       "MULE027,MULE026,MULE017                 24\n",
       "MULE027,MULE026,MULE017,MULE026          1\n",
       "MULE027,MULE026,MULE026                 30\n",
       "MULE027,MULE026,MULE026,MULE027          6\n",
       "MULE027,MULE026,MULE027                  7\n",
       "MULE027,MULE026,MULE027,MULE026         14\n",
       "MULE027,MULE027                        205\n",
       "MULE027,MULE027,MULE017                 27\n",
       "MULE027,MULE027,MULE026                 11\n",
       "MULE029                               1906\n",
       "MULE029,MOBILE002                        1\n",
       "MULE029,MULE025,MULE029                  1\n",
       "MULE029,MULE026                         11\n",
       "MULE029,MULE029                        962\n",
       "MULE029,MULE029,MULE029                  3\n",
       "MULE029,MULE029,MULE029,MULE029          6\n",
       "NaN                                1617557\n",
       "dtype: int64"
      ]
     },
     "execution_count": 63,
     "metadata": {},
     "output_type": "execute_result"
    }
   ],
   "source": [
    "test_in_out_rules_sub.groupby(['rules'], dropna=False).size()"
   ]
  },
  {
   "cell_type": "code",
   "execution_count": 64,
   "id": "33ba1a11",
   "metadata": {},
   "outputs": [
    {
     "name": "stderr",
     "output_type": "stream",
     "text": [
      "C:\\Users\\AEmslie\\Anaconda3\\envs\\ENV02\\lib\\site-packages\\pandas\\core\\frame.py:3607: SettingWithCopyWarning: \n",
      "A value is trying to be set on a copy of a slice from a DataFrame.\n",
      "Try using .loc[row_indexer,col_indexer] = value instead\n",
      "\n",
      "See the caveats in the documentation: https://pandas.pydata.org/pandas-docs/stable/user_guide/indexing.html#returning-a-view-versus-a-copy\n",
      "  self._set_item(key, value)\n"
     ]
    }
   ],
   "source": [
    "test_in_out_rules_sub['rules_alert'] = np.where(test_in_out_rules_sub['rules'].isna() == False,1,0)\n",
    "test_in_out_rules_sub['ML_alert'] = np.where(test_in_out_rules_sub['ML_Score'] >= 0.353,1,0)\n",
    "test_in_out_rules_sub['ML_rules_alert'] = np.where((test_in_out_rules_sub['ML_Score'] >= 0.353) & (test_in_out_rules_sub['rules'].isna() == False),1,0)"
   ]
  },
  {
   "cell_type": "code",
   "execution_count": 65,
   "id": "f7748fba",
   "metadata": {},
   "outputs": [
    {
     "name": "stdout",
     "output_type": "stream",
     "text": [
      "rules_alert\n",
      "0    1617557\n",
      "1     100794\n",
      "dtype: int64\n",
      "ML_alert\n",
      "0    1674223\n",
      "1      44128\n",
      "dtype: int64\n",
      "ML_rules_alert\n",
      "0    1687104\n",
      "1      31247\n",
      "dtype: int64\n"
     ]
    }
   ],
   "source": [
    "print(test_in_out_rules_sub.groupby(['rules_alert'], dropna=False).size())\n",
    "print(test_in_out_rules_sub.groupby(['ML_alert'], dropna=False).size())\n",
    "print(test_in_out_rules_sub.groupby(['ML_rules_alert'], dropna=False).size())"
   ]
  },
  {
   "cell_type": "code",
   "execution_count": 66,
   "id": "4f399452",
   "metadata": {},
   "outputs": [
    {
     "name": "stdout",
     "output_type": "stream",
     "text": [
      "Rules Alerts =  100794\n",
      "Rules Alert Rate =  0.05865739886670418\n",
      "ML Alerts =  44128\n",
      "ML Alert Rate =  0.02568043432337165\n",
      "ML + Rules Alerts =  31247\n",
      "ML + Rules Alert Rate =  0.018184294128498774\n"
     ]
    }
   ],
   "source": [
    "print('Rules Alerts = ',test_in_out_rules_sub.loc[test_in_out_rules_sub['rules_alert'] == 1].shape[0])\n",
    "print('Rules Alert Rate = ',test_in_out_rules_sub.loc[test_in_out_rules_sub['rules_alert'] == 1].shape[0]/test_in_out_rules_sub.shape[0])\n",
    "print('ML Alerts = ',test_in_out_rules_sub.loc[test_in_out_rules_sub['ML_alert'] == 1].shape[0])\n",
    "print('ML Alert Rate = ',test_in_out_rules_sub.loc[test_in_out_rules_sub['ML_alert'] == 1].shape[0]/test_in_out_rules_sub.shape[0])\n",
    "print('ML + Rules Alerts = ',test_in_out_rules_sub.loc[test_in_out_rules_sub['ML_rules_alert'] == 1].shape[0])\n",
    "print('ML + Rules Alert Rate = ',test_in_out_rules_sub.loc[test_in_out_rules_sub['ML_rules_alert'] == 1].shape[0]/test_in_out_rules_sub.shape[0])\n"
   ]
  },
  {
   "cell_type": "code",
   "execution_count": null,
   "id": "b58bccf9",
   "metadata": {},
   "outputs": [],
   "source": [
    "# Output the transactions\n",
    "\n",
    "test_in_out_rules_sub.loc[test_in_out_rules_sub['ML_rules_alert'] == 1].drop(columns = ['merge_rules']).to_csv(r'C:\\Users\\AEmslie\\OneDrive - GB Group PLC\\Sales\\TTB\\PoC 2\\Data\\Files from MLS\\Mobile Financial Phase 2\\Mobile Financial TEST ML+Rules Alerts.txt',\n",
    "                                                                              sep = '\\t',\n",
    "                                                                              index=False)"
   ]
  },
  {
   "cell_type": "code",
   "execution_count": null,
   "id": "05cf4d81",
   "metadata": {},
   "outputs": [],
   "source": [
    "# Output the account numbers\n",
    "\n",
    "test_in_out_rules_sub.loc[test_in_out_rules_sub['ML_rules_alert'] == 1].groupby(['from_account_no'], dropna=False).size().reset_index().rename(columns = {0:'Number of Transactions'}).to_csv(r'C:\\Users\\AEmslie\\OneDrive - GB Group PLC\\Sales\\TTB\\PoC 2\\Data\\Files from MLS\\Mobile Financial Phase 2\\Mobile Financial TEST ML+Rules Alerts - Account Numbers.txt',\n",
    "                                                                              sep = '\\t',\n",
    "                                                                              index=False)"
   ]
  },
  {
   "cell_type": "code",
   "execution_count": null,
   "id": "3269d978",
   "metadata": {},
   "outputs": [],
   "source": [
    "# Output the customer ids\n",
    "\n",
    "test_in_out_rules_sub.loc[test_in_out_rules_sub['ML_rules_alert'] == 1].groupby(['customer_id'], dropna=False).size().reset_index().rename(columns = {0:'Number of Transactions'}).to_csv(r'C:\\Users\\AEmslie\\OneDrive - GB Group PLC\\Sales\\TTB\\PoC 2\\Data\\Files from MLS\\Mobile Financial Phase 2\\Mobile Financial TEST ML+Rules Alerts - Customer Ids.txt',\n",
    "                                                                              sep = '\\t',\n",
    "                                                                              index=False)"
   ]
  },
  {
   "cell_type": "code",
   "execution_count": 70,
   "id": "440b597c",
   "metadata": {},
   "outputs": [],
   "source": [
    "# output ALL the transactions\n",
    "\n",
    "test_in_out_rules_sub.drop(columns = ['account_number','datetime','merge_rules','rules_alert','ML_alert','ML_rules_alert','transaction_type']).to_csv(r'C:\\Users\\AEmslie\\OneDrive - GB Group PLC\\Sales\\TTB\\PoC 2\\Data\\Files from MLS\\Mobile Financial Phase 2\\Mobile Financial Transaction ML Scores_Phase2.txt',\n",
    "                                                                              sep = '\\t',\n",
    "                                                                              index=False)"
   ]
  },
  {
   "cell_type": "code",
   "execution_count": null,
   "id": "e94bf766",
   "metadata": {},
   "outputs": [],
   "source": []
  },
  {
   "cell_type": "code",
   "execution_count": null,
   "id": "217cba31",
   "metadata": {},
   "outputs": [],
   "source": []
  },
  {
   "cell_type": "code",
   "execution_count": null,
   "id": "5159c9dd",
   "metadata": {},
   "outputs": [],
   "source": [
    "x = pd.read_csv(r'C:\\Users\\AEmslie\\OneDrive - GB Group PLC\\Sales\\TTB\\PoC 2\\Data\\Files from MLS\\Mobile Financial Phase 2\\Mobile Financial TEST ML+Rules Alerts.txt',\n",
    "                                                                              sep = '\\t')"
   ]
  },
  {
   "cell_type": "code",
   "execution_count": null,
   "id": "454ba787",
   "metadata": {},
   "outputs": [],
   "source": [
    "x.head()"
   ]
  },
  {
   "cell_type": "code",
   "execution_count": null,
   "id": "c099bc4b",
   "metadata": {},
   "outputs": [],
   "source": [
    "x.drop(columns = ['transaction_type','account_number','datetime','rules_alert','ML_alert','ML_rules_alert']).to_csv(r'C:\\Users\\AEmslie\\OneDrive - GB Group PLC\\Sales\\TTB\\PoC 2\\Data\\Files from MLS\\Mobile Financial Phase 2\\Mobile Financial TEST ML+Rules Alerts - Transactions.txt',\n",
    "                                                                              sep = '\\t',\n",
    "                                                                                                                   index=False)"
   ]
  },
  {
   "cell_type": "code",
   "execution_count": null,
   "id": "1aac8653",
   "metadata": {},
   "outputs": [],
   "source": []
  },
  {
   "cell_type": "code",
   "execution_count": null,
   "id": "31a7b573",
   "metadata": {},
   "outputs": [],
   "source": []
  },
  {
   "cell_type": "code",
   "execution_count": null,
   "id": "0bc2d062",
   "metadata": {},
   "outputs": [],
   "source": []
  },
  {
   "cell_type": "code",
   "execution_count": null,
   "id": "a5d5bce5",
   "metadata": {},
   "outputs": [],
   "source": []
  },
  {
   "cell_type": "markdown",
   "id": "02b98364",
   "metadata": {},
   "source": [
    "### ***** data DF already has a dummy Fraud in the TEST sample *****"
   ]
  },
  {
   "cell_type": "code",
   "execution_count": null,
   "id": "0902e85d",
   "metadata": {},
   "outputs": [],
   "source": [
    "data.loc[data['flag'] == 'TEST']['Fraud'].sum()"
   ]
  },
  {
   "cell_type": "code",
   "execution_count": null,
   "id": "7ba70fd9",
   "metadata": {},
   "outputs": [],
   "source": [
    "data.loc[(data['flag'] == 'TEST') & (data['Fraud'] == 1)]"
   ]
  },
  {
   "cell_type": "code",
   "execution_count": null,
   "id": "c8b1705b",
   "metadata": {},
   "outputs": [],
   "source": []
  },
  {
   "cell_type": "markdown",
   "id": "7d60117c",
   "metadata": {},
   "source": [
    "### Get the Result Files from MLS"
   ]
  },
  {
   "cell_type": "code",
   "execution_count": null,
   "id": "3d53c8d2",
   "metadata": {},
   "outputs": [],
   "source": [
    "data.loc[data['flag'] == 'TEST'][['transaction_id',\n",
    "'Fraud',\n",
    "'Deposit_Account_Age',\n",
    "'MFTxnCountSameToAcc_L1D',\n",
    "'Unique_AmountFrom_L1D',\n",
    "'MFTxnCountSameToAcc_L1H',\n",
    "'TSLastMFTxn_sametoacc_mins',\n",
    "'Unique_Amount_L1D',\n",
    "'MFTxnCount_L1D',\n",
    "'MFTxnCountSameType_L1D',\n",
    "'Unique_Amount_L1H',\n",
    "'account_open_amount',\n",
    "'Avg_Amt_SameToAcc_L1H',\n",
    "'TSLastMFTxn_sametype_mins',\n",
    "'MFTxnCountSameType_L1H',\n",
    "'Avg_Amt_SameToAcc_L1D',\n",
    "'Unique_AmountFrom_L1H',\n",
    "'Max_Amt_L1D',\n",
    "'MFTxnCount_L1H',\n",
    "'Avg_Amt_SameType_L1D',\n",
    "'Avg_Amt_SameType_L1H',\n",
    "'Unique_Amount_L7D',\n",
    "'TSLastMFTxn_mins',\n",
    "'Avg_Amt_L1D',\n",
    "'Max_Amt_L1H',\n",
    "'Avg_Amt_L1H',\n",
    "'Unique_From_Account_No_L1H']].head()"
   ]
  },
  {
   "cell_type": "code",
   "execution_count": null,
   "id": "61afa543",
   "metadata": {},
   "outputs": [],
   "source": [
    "test_result_mule = pd.read_csv(r'C:\\Users\\AEmslie\\OneDrive - GB Group PLC\\Sales\\TTB\\PoC 2\\Data\\Files from MLS\\TEST Data with Mule ML Score.csv')"
   ]
  },
  {
   "cell_type": "code",
   "execution_count": null,
   "id": "1185db61",
   "metadata": {},
   "outputs": [],
   "source": [
    "test_result_mule.shape"
   ]
  },
  {
   "cell_type": "code",
   "execution_count": null,
   "id": "673ca572",
   "metadata": {},
   "outputs": [],
   "source": [
    "test_result_mule.reset_index().head()"
   ]
  },
  {
   "cell_type": "code",
   "execution_count": null,
   "id": "47248d61",
   "metadata": {},
   "outputs": [],
   "source": [
    "test_base = data.loc[data['flag'] == 'TEST'][['transaction_id']].reset_index()"
   ]
  },
  {
   "cell_type": "code",
   "execution_count": null,
   "id": "92fa090b",
   "metadata": {},
   "outputs": [],
   "source": [
    "test_base.shape"
   ]
  },
  {
   "cell_type": "code",
   "execution_count": null,
   "id": "2771cd15",
   "metadata": {},
   "outputs": [],
   "source": [
    "test_base.head()"
   ]
  },
  {
   "cell_type": "code",
   "execution_count": null,
   "id": "a056d04d",
   "metadata": {},
   "outputs": [],
   "source": [
    "test_result_mule = pd.concat([test_base, test_result_mule], axis = 1) "
   ]
  },
  {
   "cell_type": "code",
   "execution_count": null,
   "id": "6de7a0ba",
   "metadata": {},
   "outputs": [],
   "source": [
    "test_result_mule.shape"
   ]
  },
  {
   "cell_type": "code",
   "execution_count": null,
   "id": "9400f6c4",
   "metadata": {},
   "outputs": [],
   "source": [
    "test_result_mule.head()"
   ]
  },
  {
   "cell_type": "code",
   "execution_count": null,
   "id": "d001a2d6",
   "metadata": {},
   "outputs": [],
   "source": [
    "test_result_mule['ML_Score'].describe(percentiles=[0.1,0.2,0.3,0.38,0.4,0.5,0.52,0.6,0.7,0.8,0.85,0.9,0.91,0.95]).apply(\"{0:.6f}\".format)"
   ]
  },
  {
   "cell_type": "code",
   "execution_count": null,
   "id": "073759fe",
   "metadata": {},
   "outputs": [],
   "source": [
    "test_result_mule.loc[test_result_mule['ML_Score'] >= 0.35].shape[0] / test_result_mule.shape[0]"
   ]
  },
  {
   "cell_type": "code",
   "execution_count": null,
   "id": "1d391144",
   "metadata": {},
   "outputs": [],
   "source": [
    "test_out_lgbm = test_result_mule[['transaction_id','ML_Score']].merge(data[['transaction_id','customer_id','account_number','transaction_datetime','transaction_type']],\n",
    "                                                     on = ['transaction_id'],\n",
    "                                                     how = 'left')\n"
   ]
  },
  {
   "cell_type": "code",
   "execution_count": null,
   "id": "7f106705",
   "metadata": {},
   "outputs": [],
   "source": [
    "test_out_lgbm.shape"
   ]
  },
  {
   "cell_type": "code",
   "execution_count": null,
   "id": "e08e2b10",
   "metadata": {},
   "outputs": [],
   "source": [
    "test_out_lgbm.head()"
   ]
  },
  {
   "cell_type": "code",
   "execution_count": null,
   "id": "21a0ab1e",
   "metadata": {},
   "outputs": [],
   "source": [
    "test_out_lgbm = test_out_lgbm.loc[test_out_lgbm['transaction_type'].str.len() > 3]"
   ]
  },
  {
   "cell_type": "code",
   "execution_count": null,
   "id": "9bae893b",
   "metadata": {},
   "outputs": [],
   "source": [
    "test_out_lgbm.loc[test_out_lgbm['ML_Score'] >= 0.35].shape[0] / test_out_lgbm.shape[0]"
   ]
  },
  {
   "cell_type": "code",
   "execution_count": null,
   "id": "2b2cdeb2",
   "metadata": {},
   "outputs": [],
   "source": [
    "test_out_lgbm.loc[test_out_lgbm['ML_Score'] >= 0.35].shape[0]"
   ]
  },
  {
   "cell_type": "code",
   "execution_count": null,
   "id": "3888e1c2",
   "metadata": {},
   "outputs": [],
   "source": [
    "test_out_lgbm.loc[test_out_lgbm['ML_Score'] >= 0.35]['customer_id'].nunique()"
   ]
  },
  {
   "cell_type": "code",
   "execution_count": null,
   "id": "af36b7c4",
   "metadata": {},
   "outputs": [],
   "source": []
  },
  {
   "cell_type": "markdown",
   "id": "4792a7cc",
   "metadata": {},
   "source": [
    "#### Output TEST Records for TTB checking June-27 ([MULE])"
   ]
  },
  {
   "cell_type": "code",
   "execution_count": null,
   "id": "e50548c5",
   "metadata": {},
   "outputs": [],
   "source": [
    "print('Number of flagged accounts (ML Score >= 0.35):', test_out_lgbm.loc[test_out_lgbm['ML_Score'] >= 0.35]['account_number'].nunique())\n",
    "print('Total Number of Accounts in TEST data:', test_out_lgbm['account_number'].nunique())\n",
    "print('Proportion of Accounts getting Flagged:', test_out_lgbm.loc[test_out_lgbm['ML_Score'] >= 0.35]['account_number'].nunique()/test_out_lgbm['account_number'].nunique())\n"
   ]
  },
  {
   "cell_type": "code",
   "execution_count": null,
   "id": "fbbbae79",
   "metadata": {},
   "outputs": [],
   "source": [
    "print('Number of flagged Customers (ML Score >= 0.35):', test_out_lgbm.loc[test_out_lgbm['ML_Score'] >= 0.35]['customer_id'].nunique())\n",
    "print('Total Number of Customers in TEST data:', test_out_lgbm['customer_id'].nunique())\n",
    "print('Proportion of Customers getting Flagged:', test_out_lgbm.loc[test_out_lgbm['ML_Score'] >= 0.35]['customer_id'].nunique()/test_out_lgbm['customer_id'].nunique())\n"
   ]
  },
  {
   "cell_type": "code",
   "execution_count": null,
   "id": "553525e7",
   "metadata": {},
   "outputs": [],
   "source": [
    "print('Number of flagged Transactions (ML Score >= 0.35):', test_out_lgbm.loc[test_out_lgbm['ML_Score'] >= 0.35].shape[0])\n",
    "print('Total Number of Transactions in TEST data:', test_out_lgbm['customer_id'].shape[0])\n",
    "print('Proportion of Transactions getting Flagged:', test_out_lgbm.loc[test_out_lgbm['ML_Score'] >= 0.35].shape[0]/test_out_lgbm.shape[0])\n"
   ]
  },
  {
   "cell_type": "code",
   "execution_count": null,
   "id": "cbb94125",
   "metadata": {},
   "outputs": [],
   "source": [
    "# Make a file with flagged Customer ID's and number of transactions\n",
    "\n",
    "pd.DataFrame(test_out_lgbm.loc[test_out_lgbm['ML_Score'] >= 0.35].groupby(['customer_id']).size()).reset_index().rename(columns = {0:'Number of Transactions'}).to_csv(r'C:\\Users\\AEmslie\\OneDrive - GB Group PLC\\Sales\\TTB\\PoC 2\\Data\\Files from MLS\\Mule Customer IDs ML Detected.txt', index=False)"
   ]
  },
  {
   "cell_type": "code",
   "execution_count": null,
   "id": "78336bce",
   "metadata": {},
   "outputs": [],
   "source": [
    "# Make a file with flagged Account Numbers and number of transactions\n",
    "\n",
    "pd.DataFrame(test_out_lgbm.loc[test_out_lgbm['ML_Score'] >= 0.35].groupby(['account_number']).size()).reset_index().rename(columns = {0:'Number of Transactions'}).to_csv(r'C:\\Users\\AEmslie\\OneDrive - GB Group PLC\\Sales\\TTB\\PoC 2\\Data\\Files from MLS\\Mule Accounts ML Detected.txt', index=False)"
   ]
  },
  {
   "cell_type": "code",
   "execution_count": null,
   "id": "6423aec4",
   "metadata": {},
   "outputs": [],
   "source": [
    "# Make a file with the flagged transactions\n",
    "\n",
    "pd.DataFrame(test_out_lgbm.loc[test_out_lgbm['ML_Score'] >= 0.35][['transaction_id','account_number','customer_id', 'transaction_datetime']]).to_csv(r'C:\\Users\\AEmslie\\OneDrive - GB Group PLC\\Sales\\TTB\\PoC 2\\Data\\Files from MLS\\Mule Transactions ML Detected.txt',\n",
    "                                                                                                                            index=False)"
   ]
  },
  {
   "cell_type": "code",
   "execution_count": null,
   "id": "ad8c98a2",
   "metadata": {},
   "outputs": [],
   "source": []
  },
  {
   "cell_type": "code",
   "execution_count": null,
   "id": "5a9dc1f7",
   "metadata": {},
   "outputs": [],
   "source": []
  },
  {
   "cell_type": "code",
   "execution_count": null,
   "id": "d861287d",
   "metadata": {},
   "outputs": [],
   "source": []
  },
  {
   "cell_type": "code",
   "execution_count": null,
   "id": "9a42bda0",
   "metadata": {},
   "outputs": [],
   "source": []
  },
  {
   "cell_type": "markdown",
   "id": "81d4aa53",
   "metadata": {},
   "source": [
    "#### Social Engineering Target"
   ]
  },
  {
   "cell_type": "code",
   "execution_count": null,
   "id": "f8ea076b",
   "metadata": {},
   "outputs": [],
   "source": [
    "df_train_se[['transaction_id',\n",
    "'Fraud',\n",
    "'transaction_type',\n",
    "'to_bank_code',\n",
    "'TSLastMFTxn_sametoacc_mins',\n",
    "'Dep_MaxAmount_L30D',\n",
    "'Dep_MaxBalance_L30D',\n",
    "'Dep_AvgAmoutL30D',\n",
    "'Dep_AvgBalance_L30D',\n",
    "'Max_Amt_L1D',\n",
    "'Dep_Unique_Amount_L30D',\n",
    "'Txn_Count_Dep_40_L30D',\n",
    "'Txn_Count_Dep_L30D',\n",
    "'Customer_Age',\n",
    "'TSLastMFTxn_mins',\n",
    "'Dep_Unique_TellerID_L30D',\n",
    "'Avg_Amt_L1D',\n",
    "'Dep_Unique_Branch_L30D',\n",
    "'Avg_Amt_SameToAcc_L1H']].fillna(-1).to_csv(r'C:\\Users\\AEmslie\\OneDrive - GB Group PLC\\Sales\\TTB\\PoC 2\\Data\\Files for MLS\\Train_SE.csv')"
   ]
  },
  {
   "cell_type": "code",
   "execution_count": null,
   "id": "7fd5bb83",
   "metadata": {},
   "outputs": [],
   "source": [
    "data.loc[data['flag'] == 'TEST'][['transaction_id',\n",
    "'Fraud',\n",
    "'transaction_type',\n",
    "'to_bank_code',\n",
    "'TSLastMFTxn_sametoacc_mins',\n",
    "'Dep_MaxAmount_L30D',\n",
    "'Dep_MaxBalance_L30D',\n",
    "'Dep_AvgAmoutL30D',\n",
    "'Dep_AvgBalance_L30D',\n",
    "'Max_Amt_L1D',\n",
    "'Dep_Unique_Amount_L30D',\n",
    "'Txn_Count_Dep_40_L30D',\n",
    "'Txn_Count_Dep_L30D',\n",
    "'Customer_Age',\n",
    "'TSLastMFTxn_mins',\n",
    "'Dep_Unique_TellerID_L30D',\n",
    "'Avg_Amt_L1D',\n",
    "'Dep_Unique_Branch_L30D',\n",
    "'Avg_Amt_SameToAcc_L1H']].fillna(-1).to_csv(r'C:\\Users\\AEmslie\\OneDrive - GB Group PLC\\Sales\\TTB\\PoC 2\\Data\\Files for MLS\\TEST_SE.csv')"
   ]
  },
  {
   "cell_type": "code",
   "execution_count": null,
   "id": "5da82243",
   "metadata": {},
   "outputs": [],
   "source": []
  },
  {
   "cell_type": "code",
   "execution_count": null,
   "id": "321b4a95",
   "metadata": {},
   "outputs": [],
   "source": [
    "test_result_se = pd.read_csv(r'C:\\Users\\AEmslie\\OneDrive - GB Group PLC\\Sales\\TTB\\PoC 2\\Data\\Files from MLS\\TEST Data with SE ML Score.csv')"
   ]
  },
  {
   "cell_type": "code",
   "execution_count": null,
   "id": "2854580d",
   "metadata": {},
   "outputs": [],
   "source": [
    "test_result_se.reset_index().head()"
   ]
  },
  {
   "cell_type": "code",
   "execution_count": null,
   "id": "4081fb2d",
   "metadata": {},
   "outputs": [],
   "source": [
    "test_result_se.shape"
   ]
  },
  {
   "cell_type": "code",
   "execution_count": null,
   "id": "2d6d45f1",
   "metadata": {},
   "outputs": [],
   "source": [
    "test_base = data.loc[data['flag'] == 'TEST'][['transaction_id']].reset_index()"
   ]
  },
  {
   "cell_type": "code",
   "execution_count": null,
   "id": "247210f1",
   "metadata": {},
   "outputs": [],
   "source": [
    "test_result_se = pd.concat([test_base, test_result_se], axis = 1) "
   ]
  },
  {
   "cell_type": "code",
   "execution_count": null,
   "id": "7695e1c9",
   "metadata": {},
   "outputs": [],
   "source": [
    "test_result_se.shape"
   ]
  },
  {
   "cell_type": "code",
   "execution_count": null,
   "id": "c81e452d",
   "metadata": {},
   "outputs": [],
   "source": [
    "test_result_se.head()"
   ]
  },
  {
   "cell_type": "code",
   "execution_count": null,
   "id": "250cb715",
   "metadata": {},
   "outputs": [],
   "source": []
  },
  {
   "cell_type": "code",
   "execution_count": null,
   "id": "f0dff614",
   "metadata": {},
   "outputs": [],
   "source": [
    "test_out_se_lgbm = test_result_se[['transaction_id','ML_Score']].merge(data[['transaction_id','customer_id','account_number','transaction_datetime','transaction_type']],\n",
    "                                                     on = ['transaction_id'],\n",
    "                                                     how = 'left')"
   ]
  },
  {
   "cell_type": "code",
   "execution_count": null,
   "id": "f2c49bc5",
   "metadata": {},
   "outputs": [],
   "source": [
    "print(test_out_se_lgbm.shape[0])\n",
    "test_out_se_lgbm = test_out_se_lgbm.loc[test_out_se_lgbm['transaction_type'].str.len() > 3]\n",
    "print(test_out_se_lgbm.shape[0])"
   ]
  },
  {
   "cell_type": "code",
   "execution_count": null,
   "id": "973210fe",
   "metadata": {},
   "outputs": [],
   "source": [
    "test_out_se_lgbm.drop(columns = ['transaction_type']).to_csv(r'C:\\Users\\AEmslie\\OneDrive - GB Group PLC\\Sales\\TTB\\PoC 2\\Data\\Files from MLS\\TEST_SE_LGBM_ML_Score.txt',\n",
    "                                                       index=False)"
   ]
  },
  {
   "cell_type": "code",
   "execution_count": null,
   "id": "dde48e7b",
   "metadata": {},
   "outputs": [],
   "source": [
    "test_out_se_lgbm.loc[test_out_se_lgbm['ML_Score'] >= 0.16].shape[0]"
   ]
  },
  {
   "cell_type": "code",
   "execution_count": null,
   "id": "36e298b4",
   "metadata": {},
   "outputs": [],
   "source": [
    "test_out_se_lgbm.loc[test_out_se_lgbm['ML_Score'] >= 0.16].shape[0]/test_out_se_lgbm.shape[0]"
   ]
  },
  {
   "cell_type": "code",
   "execution_count": null,
   "id": "f8eab2eb",
   "metadata": {},
   "outputs": [],
   "source": [
    "test_out_se_lgbm.loc[test_out_se_lgbm['ML_Score'] >= 0.16]['customer_id'].nunique()"
   ]
  },
  {
   "cell_type": "code",
   "execution_count": null,
   "id": "fb87f03a",
   "metadata": {},
   "outputs": [],
   "source": []
  },
  {
   "cell_type": "markdown",
   "id": "98c8ef77",
   "metadata": {},
   "source": [
    "#### Output TEST Records for TTB checking June-27 ([Social Engineering])"
   ]
  },
  {
   "cell_type": "code",
   "execution_count": null,
   "id": "04c82eb5",
   "metadata": {},
   "outputs": [],
   "source": [
    "threshold = 0.25"
   ]
  },
  {
   "cell_type": "code",
   "execution_count": null,
   "id": "bb50eda2",
   "metadata": {},
   "outputs": [],
   "source": [
    "print('Number of flagged SE accounts (ML Score >= threshold):', test_out_se_lgbm.loc[test_out_se_lgbm['ML_Score'] >= threshold]['account_number'].nunique())\n",
    "print('Total Number of Accounts in TEST data:', test_out_se_lgbm['account_number'].nunique())\n",
    "print('Proportion of Accounts getting Flagged:', test_out_se_lgbm.loc[test_out_lgbm['ML_Score'] >= threshold]['account_number'].nunique()/test_out_se_lgbm['account_number'].nunique())\n"
   ]
  },
  {
   "cell_type": "code",
   "execution_count": null,
   "id": "2228bbf3",
   "metadata": {},
   "outputs": [],
   "source": [
    "print('Number of flagged Customers (ML Score >= threshold):', test_out_se_lgbm.loc[test_out_se_lgbm['ML_Score'] >= threshold]['customer_id'].nunique())\n",
    "print('Total Number of Customers in TEST data:', test_out_se_lgbm['customer_id'].nunique())\n",
    "print('Proportion of Customers getting Flagged:', test_out_se_lgbm.loc[test_out_se_lgbm['ML_Score'] >= threshold]['customer_id'].nunique()/test_out_se_lgbm['customer_id'].nunique())\n"
   ]
  },
  {
   "cell_type": "code",
   "execution_count": null,
   "id": "8c2a6b7e",
   "metadata": {},
   "outputs": [],
   "source": [
    "print('Number of flagged Transactions (ML Score >= threshold):', test_out_se_lgbm.loc[test_out_se_lgbm['ML_Score'] >= threshold].shape[0])\n",
    "print('Total Number of Transactions in TEST data:', test_out_se_lgbm['customer_id'].shape[0])\n",
    "print('Proportion of Transactions getting Flagged:', test_out_se_lgbm.loc[test_out_se_lgbm['ML_Score'] >= threshold].shape[0]/test_out_se_lgbm.shape[0])\n"
   ]
  },
  {
   "cell_type": "code",
   "execution_count": null,
   "id": "9dfb6f53",
   "metadata": {},
   "outputs": [],
   "source": [
    "# Make a file with flagged Account Numbers and number of transactions\n",
    "\n",
    "pd.DataFrame(test_out_se_lgbm.loc[test_out_se_lgbm['ML_Score'] >= threshold].groupby(['account_number']).size()).reset_index().rename(columns = {0:'Number of Transactions'}).to_csv(r'C:\\Users\\AEmslie\\OneDrive - GB Group PLC\\Sales\\TTB\\PoC 2\\Data\\Files from MLS\\SE Accounts ML Detected.txt', index=False)"
   ]
  },
  {
   "cell_type": "code",
   "execution_count": null,
   "id": "5124ceb8",
   "metadata": {},
   "outputs": [],
   "source": [
    "# Make a file with flagged Customer ID's and number of transactions\n",
    "\n",
    "pd.DataFrame(test_out_se_lgbm.loc[test_out_se_lgbm['ML_Score'] >= threshold].groupby(['customer_id']).size()).reset_index().rename(columns = {0:'Number of Transactions'}).to_csv(r'C:\\Users\\AEmslie\\OneDrive - GB Group PLC\\Sales\\TTB\\PoC 2\\Data\\Files from MLS\\SE Customer IDs ML Detected.txt', index=False)"
   ]
  },
  {
   "cell_type": "code",
   "execution_count": null,
   "id": "f8ab382c",
   "metadata": {},
   "outputs": [],
   "source": [
    "# Make a file with the flagged transactions\n",
    "\n",
    "pd.DataFrame(test_out_se_lgbm.loc[test_out_se_lgbm['ML_Score'] >= threshold][['transaction_id','account_number','customer_id', 'transaction_datetime']]).to_csv(r'C:\\Users\\AEmslie\\OneDrive - GB Group PLC\\Sales\\TTB\\PoC 2\\Data\\Files from MLS\\SE Transactions ML Detected.txt',\n",
    "                                                                                                                            index=False)"
   ]
  },
  {
   "cell_type": "code",
   "execution_count": null,
   "id": "aa253aa8",
   "metadata": {},
   "outputs": [],
   "source": []
  },
  {
   "cell_type": "code",
   "execution_count": null,
   "id": "78502c5d",
   "metadata": {},
   "outputs": [],
   "source": []
  },
  {
   "cell_type": "code",
   "execution_count": null,
   "id": "ed009597",
   "metadata": {},
   "outputs": [],
   "source": []
  },
  {
   "cell_type": "code",
   "execution_count": null,
   "id": "53687dc6",
   "metadata": {},
   "outputs": [],
   "source": []
  },
  {
   "cell_type": "code",
   "execution_count": null,
   "id": "3a1b82fc",
   "metadata": {},
   "outputs": [],
   "source": []
  },
  {
   "cell_type": "code",
   "execution_count": null,
   "id": "f7f0019a",
   "metadata": {},
   "outputs": [],
   "source": []
  },
  {
   "cell_type": "code",
   "execution_count": null,
   "id": "d447b7c1",
   "metadata": {},
   "outputs": [],
   "source": []
  },
  {
   "cell_type": "code",
   "execution_count": null,
   "id": "53483b8c",
   "metadata": {},
   "outputs": [],
   "source": []
  },
  {
   "cell_type": "code",
   "execution_count": null,
   "id": "bd108554",
   "metadata": {},
   "outputs": [],
   "source": []
  },
  {
   "cell_type": "code",
   "execution_count": null,
   "id": "a2675889",
   "metadata": {},
   "outputs": [],
   "source": []
  },
  {
   "cell_type": "code",
   "execution_count": null,
   "id": "4b351d00",
   "metadata": {},
   "outputs": [],
   "source": []
  },
  {
   "cell_type": "code",
   "execution_count": null,
   "id": "e8aa3dd5",
   "metadata": {},
   "outputs": [],
   "source": []
  },
  {
   "cell_type": "code",
   "execution_count": null,
   "id": "3acdd345",
   "metadata": {},
   "outputs": [],
   "source": []
  },
  {
   "cell_type": "code",
   "execution_count": null,
   "id": "c19d7464",
   "metadata": {},
   "outputs": [],
   "source": []
  },
  {
   "cell_type": "code",
   "execution_count": null,
   "id": "450da899",
   "metadata": {},
   "outputs": [],
   "source": []
  },
  {
   "cell_type": "code",
   "execution_count": null,
   "id": "37dc36e5",
   "metadata": {},
   "outputs": [],
   "source": []
  },
  {
   "cell_type": "code",
   "execution_count": null,
   "id": "2e0d6a76",
   "metadata": {},
   "outputs": [],
   "source": []
  },
  {
   "cell_type": "code",
   "execution_count": null,
   "id": "32d664fc",
   "metadata": {},
   "outputs": [],
   "source": []
  },
  {
   "cell_type": "code",
   "execution_count": null,
   "id": "5d68b71a",
   "metadata": {},
   "outputs": [],
   "source": []
  },
  {
   "cell_type": "code",
   "execution_count": null,
   "id": "3bb5864d",
   "metadata": {},
   "outputs": [],
   "source": []
  },
  {
   "cell_type": "code",
   "execution_count": null,
   "id": "01cdacfe",
   "metadata": {},
   "outputs": [],
   "source": []
  },
  {
   "cell_type": "code",
   "execution_count": null,
   "id": "9bdf4f0c",
   "metadata": {},
   "outputs": [],
   "source": []
  },
  {
   "cell_type": "code",
   "execution_count": null,
   "id": "394318c0",
   "metadata": {},
   "outputs": [],
   "source": []
  },
  {
   "cell_type": "markdown",
   "id": "a5a798e7",
   "metadata": {},
   "source": [
    "### RCBC"
   ]
  },
  {
   "cell_type": "code",
   "execution_count": 71,
   "id": "1dc184f7",
   "metadata": {},
   "outputs": [],
   "source": [
    "df = pd.read_csv(r'C:\\Users\\AEmslie\\OneDrive - GB Group PLC\\RCBC\\Post-Implementation\\12_1_20230420135526_Score_Validation (2)\\Data.csv')"
   ]
  },
  {
   "cell_type": "code",
   "execution_count": 72,
   "id": "bc3be6f6",
   "metadata": {},
   "outputs": [
    {
     "data": {
      "text/html": [
       "<div>\n",
       "<style scoped>\n",
       "    .dataframe tbody tr th:only-of-type {\n",
       "        vertical-align: middle;\n",
       "    }\n",
       "\n",
       "    .dataframe tbody tr th {\n",
       "        vertical-align: top;\n",
       "    }\n",
       "\n",
       "    .dataframe thead th {\n",
       "        text-align: right;\n",
       "    }\n",
       "</style>\n",
       "<table border=\"1\" class=\"dataframe\">\n",
       "  <thead>\n",
       "    <tr style=\"text-align: right;\">\n",
       "      <th></th>\n",
       "      <th>Identifier</th>\n",
       "      <th>Fraud_Clean</th>\n",
       "      <th>Score</th>\n",
       "    </tr>\n",
       "  </thead>\n",
       "  <tbody>\n",
       "    <tr>\n",
       "      <th>0</th>\n",
       "      <td>497232424</td>\n",
       "      <td>1.0</td>\n",
       "      <td>0.009453</td>\n",
       "    </tr>\n",
       "    <tr>\n",
       "      <th>1</th>\n",
       "      <td>497328709</td>\n",
       "      <td>1.0</td>\n",
       "      <td>0.009409</td>\n",
       "    </tr>\n",
       "    <tr>\n",
       "      <th>2</th>\n",
       "      <td>497480613</td>\n",
       "      <td>1.0</td>\n",
       "      <td>0.021668</td>\n",
       "    </tr>\n",
       "    <tr>\n",
       "      <th>3</th>\n",
       "      <td>497543153</td>\n",
       "      <td>1.0</td>\n",
       "      <td>0.078542</td>\n",
       "    </tr>\n",
       "    <tr>\n",
       "      <th>4</th>\n",
       "      <td>497585300</td>\n",
       "      <td>1.0</td>\n",
       "      <td>0.002321</td>\n",
       "    </tr>\n",
       "  </tbody>\n",
       "</table>\n",
       "</div>"
      ],
      "text/plain": [
       "   Identifier  Fraud_Clean     Score\n",
       "0   497232424          1.0  0.009453\n",
       "1   497328709          1.0  0.009409\n",
       "2   497480613          1.0  0.021668\n",
       "3   497543153          1.0  0.078542\n",
       "4   497585300          1.0  0.002321"
      ]
     },
     "execution_count": 72,
     "metadata": {},
     "output_type": "execute_result"
    }
   ],
   "source": [
    "df.head()"
   ]
  },
  {
   "cell_type": "code",
   "execution_count": null,
   "id": "08e76132",
   "metadata": {},
   "outputs": [],
   "source": [
    "# Round the score to 4 decimal places\n",
    "df['Score_Round'] = round(df['Score'],4)\n",
    "\n",
    "# Sort by the rounded score\n",
    "df.sort_values(by = 'Score_Round', ascending = False)\n",
    "\n",
    "# Create Total and Fraud columns\n",
    "df1 = pd.DataFrame(df.groupby(['Score_Round'], dropna=False).size().reset_index().sort_values(by='Score_Round',ascending=False)).rename(columns = {0:'Total'})\n",
    "df2 = pd.DataFrame(df.groupby(['Score_Round'], dropna=False)['Fraud_Clean'].sum().reset_index().sort_values(by='Score_Round',ascending=False)).rename(columns={'Fraud_Clean':'Fraud'})\n",
    "\n",
    "# Merge the two previous dataframes, add the remaining columns\n",
    "df3=df1.merge(df2,on ='Score_Round',how='left')\n",
    "df3['Clean']= df3['Total']-df3['Fraud']\n",
    "df3['Alerts']=df3['Total'].cumsum()\n",
    "df3['Total_Fraud']=df3['Fraud'].cumsum()\n",
    "df3['Total_Clean']=df3['Clean'].cumsum()\n",
    "df3['TP']=df3['Total_Fraud']\n",
    "df3['FP']=df3['Total_Clean']\n",
    "df3['TN']= df3['Clean'].sum()-df3['Total_Clean']\n",
    "df3['FN']=df3['Fraud'].sum()-df3['Total_Fraud']\n",
    "df3['Alert_Rate']= df3['Alerts']/df3['Total'].sum()\n",
    "df3['Recall']=df3['TP']/(df3['TP']+df3['FN'])\n",
    "df3['Precision']=df3['TP']/(df3['TP']+df3['FP'])\n",
    "\n",
    "# Write the dataframe to a CSV file\n",
    "df3.drop(columns = ['TP','TN','FP','FN']).to_csv(r'C:\\Users\\AEmslie\\OneDrive - GB Group PLC\\RCBC\\Post-Implementation\\C09_ScoreDist.csv', index = False)\n"
   ]
  },
  {
   "cell_type": "code",
   "execution_count": 73,
   "id": "b9a54828",
   "metadata": {},
   "outputs": [],
   "source": [
    "from sklearn import metrics"
   ]
  },
  {
   "cell_type": "code",
   "execution_count": 74,
   "id": "afe2bce5",
   "metadata": {},
   "outputs": [],
   "source": [
    "y_true = df['Fraud_Clean'].to_numpy()\n",
    "y_pred = df['Score'].to_numpy()"
   ]
  },
  {
   "cell_type": "code",
   "execution_count": 75,
   "id": "03acdfd3",
   "metadata": {},
   "outputs": [
    {
     "name": "stdout",
     "output_type": "stream",
     "text": [
      "0.9694599140041499\n"
     ]
    }
   ],
   "source": [
    "auc = metrics.roc_auc_score(y_true, y_pred)\n",
    "print(auc)"
   ]
  },
  {
   "cell_type": "code",
   "execution_count": 103,
   "id": "bf4fc72a",
   "metadata": {},
   "outputs": [
    {
     "data": {
      "text/plain": [
       "count    5034195.000000\n",
       "mean           0.000878\n",
       "std            0.006756\n",
       "min            0.000054\n",
       "10%            0.000072\n",
       "20%            0.000078\n",
       "30%            0.000090\n",
       "40%            0.000099\n",
       "50%            0.000119\n",
       "60%            0.000181\n",
       "70%            0.000544\n",
       "80%            0.000786\n",
       "90%            0.001268\n",
       "max            0.459609\n",
       "Name: Score, dtype: object"
      ]
     },
     "execution_count": 103,
     "metadata": {},
     "output_type": "execute_result"
    }
   ],
   "source": [
    "df['Score'].describe(percentiles = [0.1,0.2,0.3,0.4,0.5,0.6,0.7,0.8,0.9]).apply(\"{0:.6f}\".format)"
   ]
  },
  {
   "cell_type": "code",
   "execution_count": null,
   "id": "11ea2251",
   "metadata": {},
   "outputs": [],
   "source": []
  },
  {
   "cell_type": "code",
   "execution_count": null,
   "id": "52a8fac9",
   "metadata": {},
   "outputs": [],
   "source": []
  },
  {
   "cell_type": "code",
   "execution_count": null,
   "id": "30cb7c99",
   "metadata": {},
   "outputs": [],
   "source": []
  }
 ],
 "metadata": {
  "kernelspec": {
   "display_name": "Python 3 (ipykernel)",
   "language": "python",
   "name": "python3"
  },
  "language_info": {
   "codemirror_mode": {
    "name": "ipython",
    "version": 3
   },
   "file_extension": ".py",
   "mimetype": "text/x-python",
   "name": "python",
   "nbconvert_exporter": "python",
   "pygments_lexer": "ipython3",
   "version": "3.11.5"
  }
 },
 "nbformat": 4,
 "nbformat_minor": 5
}
