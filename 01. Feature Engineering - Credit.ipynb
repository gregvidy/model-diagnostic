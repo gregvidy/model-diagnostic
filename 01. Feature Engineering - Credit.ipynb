{
 "cells": [
  {
   "cell_type": "code",
   "execution_count": 1,
   "id": "3c3b7d31",
   "metadata": {},
   "outputs": [],
   "source": [
    "import pandas as pd\n",
    "import numpy as np\n",
    "import random \n",
    "from datetime import datetime, timedelta\n",
    "from functools import reduce"
   ]
  },
  {
   "cell_type": "markdown",
   "id": "1b137ef9",
   "metadata": {},
   "source": [
    "# Data Ingestion"
   ]
  },
  {
   "cell_type": "code",
   "execution_count": 2,
   "id": "44e193ad",
   "metadata": {},
   "outputs": [
    {
     "name": "stderr",
     "output_type": "stream",
     "text": [
      "/tmp/ipykernel_364672/2772770135.py:1: DtypeWarning: Columns (29) have mixed types. Specify dtype option on import or set low_memory=False.\n",
      "  df_c03 = pd.read_csv(\"data/mock_data.csv\", dtype={'MCC':str})\n"
     ]
    }
   ],
   "source": [
    "df_c03 = pd.read_csv(\"data/mock_data.csv\", dtype={'MCC':str})\n",
    "df_c03['MCC'] = df_c03['MCC'].astype(str).str[:4]\n",
    "df_c09 = pd.read_csv(\"data/mock_data_c09.csv\")"
   ]
  },
  {
   "cell_type": "code",
   "execution_count": 3,
   "id": "b624db71",
   "metadata": {},
   "outputs": [],
   "source": [
    "# MCC and Currency Data\n",
    "\n",
    "mcc_df = pd.read_csv(\"data/mcc_data.csv\", sep=\";\", dtype={'Code': str})\n",
    "mcc_df.rename({'Code':'MCC'}, axis=1, inplace=True)\n",
    "currency_code = pd.read_csv('data/currency_code.csv', sep=';', dtype={'Number': str})"
   ]
  },
  {
   "cell_type": "markdown",
   "id": "44c8d18d",
   "metadata": {},
   "source": [
    "# Feature Engineering Logics"
   ]
  },
  {
   "cell_type": "code",
   "execution_count": 4,
   "id": "5d5380c6",
   "metadata": {},
   "outputs": [],
   "source": [
    "from src.calculation_features import generate_rolling_features, calculate_time_differences"
   ]
  },
  {
   "cell_type": "code",
   "execution_count": 5,
   "id": "e8bbec6a",
   "metadata": {},
   "outputs": [],
   "source": [
    "df_c03['MCC'] = df_c03['MCC'].replace({np.nan: '-1', 'nan': '-1'})\n",
    "df_c03['Merchant Id'] = df_c03['Merchant Id'].replace({np.nan: '-1', 'nan': '-1'})"
   ]
  },
  {
   "cell_type": "markdown",
   "id": "c6e2f0b0",
   "metadata": {},
   "source": [
    "## Value Mapping Steps"
   ]
  },
  {
   "cell_type": "markdown",
   "id": "703f7426",
   "metadata": {},
   "source": [
    "1. MCC value mapping: \n",
    "- MCC to MCC Details\n",
    "- MCC to MCC Transaction Category Code\n",
    "- MCC to MCC Category\n",
    "2. Value mapping Terminal Owner/Card Acceptor Name to bigger group (ecommerce, online ads, etc.)"
   ]
  },
  {
   "cell_type": "code",
   "execution_count": 6,
   "id": "fb1a9fcb",
   "metadata": {},
   "outputs": [],
   "source": [
    "from src.utils import extract_provider_name, categorize_terminal_owner"
   ]
  },
  {
   "cell_type": "code",
   "execution_count": 7,
   "id": "1abb8998",
   "metadata": {},
   "outputs": [],
   "source": [
    "# 1. Value mapping MCC_code to MCC Details, Trnx Category Code, Category\n",
    "\n",
    "df_c03 = df_c03.merge(mcc_df[['MCC', 'Description', 'Transaction Category Code', 'MCC Category']], on='MCC', how='left')\n",
    "df_c03.rename(columns={\n",
    "    'Description': 'MCC Details',\n",
    "    'Transaction Category Code': 'MCC Trnx Category Code'\n",
    "    }, inplace=True\n",
    ")"
   ]
  },
  {
   "cell_type": "code",
   "execution_count": 8,
   "id": "0c6ef489",
   "metadata": {},
   "outputs": [],
   "source": [
    "# 2. Value mapping Terminal Owner/Card Acceptor Name to bigger group (ecommerce, online ads, etc.)\n",
    "df_c03['Cat Terminal Owner'] = df_c03['Terminal Owner'].apply(lambda x: categorize_terminal_owner(extract_provider_name(x)))"
   ]
  },
  {
   "cell_type": "markdown",
   "id": "a33ad820",
   "metadata": {},
   "source": [
    "## Time Difference Features"
   ]
  },
  {
   "cell_type": "code",
   "execution_count": 9,
   "id": "4847d052",
   "metadata": {},
   "outputs": [],
   "source": [
    "from src.feature_engineering_configs import (\n",
    "    time_shift_config,\n",
    "    time_windows,\n",
    "    freq_config,\n",
    "    monetary_config_1,\n",
    "    monetary_config_2,\n",
    "    monetary_config_3,\n",
    "    monetary_config_4,\n",
    "    monetary_config_5,\n",
    "    monetary_config_6,\n",
    "    unique_count_config_1,\n",
    "    unique_count_config_2\n",
    ")"
   ]
  },
  {
   "cell_type": "code",
   "execution_count": 10,
   "id": "8a8ff6f0",
   "metadata": {},
   "outputs": [
    {
     "name": "stderr",
     "output_type": "stream",
     "text": [
      "/home/gregorius_vidy/gbg_analytics/01 Experimentation/Model Diagnostic Suite/model-diagnostic/src/calculation_features.py:239: FutureWarning: 'S' is deprecated and will be removed in a future version, please use 's' instead.\n",
      "  .rolling(window=window)\n",
      "/home/gregorius_vidy/gbg_analytics/01 Experimentation/Model Diagnostic Suite/model-diagnostic/src/calculation_features.py:239: FutureWarning: 'H' is deprecated and will be removed in a future version, please use 'h' instead.\n",
      "  .rolling(window=window)\n",
      "/home/gregorius_vidy/gbg_analytics/01 Experimentation/Model Diagnostic Suite/model-diagnostic/src/calculation_features.py:239: FutureWarning: 'S' is deprecated and will be removed in a future version, please use 's' instead.\n",
      "  .rolling(window=window)\n",
      "/home/gregorius_vidy/gbg_analytics/01 Experimentation/Model Diagnostic Suite/model-diagnostic/src/calculation_features.py:239: FutureWarning: 'H' is deprecated and will be removed in a future version, please use 'h' instead.\n",
      "  .rolling(window=window)\n",
      "/home/gregorius_vidy/gbg_analytics/01 Experimentation/Model Diagnostic Suite/model-diagnostic/src/calculation_features.py:239: FutureWarning: 'S' is deprecated and will be removed in a future version, please use 's' instead.\n",
      "  .rolling(window=window)\n",
      "/home/gregorius_vidy/gbg_analytics/01 Experimentation/Model Diagnostic Suite/model-diagnostic/src/calculation_features.py:239: FutureWarning: 'H' is deprecated and will be removed in a future version, please use 'h' instead.\n",
      "  .rolling(window=window)\n",
      "/home/gregorius_vidy/gbg_analytics/01 Experimentation/Model Diagnostic Suite/model-diagnostic/src/calculation_features.py:239: FutureWarning: 'S' is deprecated and will be removed in a future version, please use 's' instead.\n",
      "  .rolling(window=window)\n",
      "/home/gregorius_vidy/gbg_analytics/01 Experimentation/Model Diagnostic Suite/model-diagnostic/src/calculation_features.py:239: FutureWarning: 'H' is deprecated and will be removed in a future version, please use 'h' instead.\n",
      "  .rolling(window=window)\n",
      "/home/gregorius_vidy/gbg_analytics/01 Experimentation/Model Diagnostic Suite/model-diagnostic/src/calculation_features.py:239: FutureWarning: 'S' is deprecated and will be removed in a future version, please use 's' instead.\n",
      "  .rolling(window=window)\n",
      "/home/gregorius_vidy/gbg_analytics/01 Experimentation/Model Diagnostic Suite/model-diagnostic/src/calculation_features.py:239: FutureWarning: 'H' is deprecated and will be removed in a future version, please use 'h' instead.\n",
      "  .rolling(window=window)\n"
     ]
    }
   ],
   "source": [
    "df_time_diff = calculate_time_differences(\n",
    "    df=df_c03,\n",
    "    datetime_col='Transaction Datetime',\n",
    "    groupby_col='PANNumber',\n",
    "    time_window=time_windows,\n",
    "    config=time_shift_config\n",
    ")"
   ]
  },
  {
   "cell_type": "code",
   "execution_count": 11,
   "id": "29a1da92",
   "metadata": {},
   "outputs": [
    {
     "data": {
      "text/html": [
       "<div>\n",
       "<style scoped>\n",
       "    .dataframe tbody tr th:only-of-type {\n",
       "        vertical-align: middle;\n",
       "    }\n",
       "\n",
       "    .dataframe tbody tr th {\n",
       "        vertical-align: top;\n",
       "    }\n",
       "\n",
       "    .dataframe thead th {\n",
       "        text-align: right;\n",
       "    }\n",
       "</style>\n",
       "<table border=\"1\" class=\"dataframe\">\n",
       "  <thead>\n",
       "    <tr style=\"text-align: right;\">\n",
       "      <th></th>\n",
       "      <th>Transaction Serial No</th>\n",
       "      <th>PANNumber</th>\n",
       "      <th>Transaction Datetime</th>\n",
       "      <th>MCC</th>\n",
       "      <th>MCC Category</th>\n",
       "      <th>Merchant Id</th>\n",
       "      <th>Country Code</th>\n",
       "    </tr>\n",
       "  </thead>\n",
       "  <tbody>\n",
       "    <tr>\n",
       "      <th>14312</th>\n",
       "      <td>974909877</td>\n",
       "      <td>999988325</td>\n",
       "      <td>2024-09-08 02:59:42</td>\n",
       "      <td>4722</td>\n",
       "      <td>Travel/Transportation/Gas and Fuel Services</td>\n",
       "      <td>18622</td>\n",
       "      <td>360</td>\n",
       "    </tr>\n",
       "    <tr>\n",
       "      <th>30433</th>\n",
       "      <td>999590208</td>\n",
       "      <td>999988325</td>\n",
       "      <td>2024-10-09 11:51:10</td>\n",
       "      <td>-1</td>\n",
       "      <td>NaN</td>\n",
       "      <td>4619</td>\n",
       "      <td>360</td>\n",
       "    </tr>\n",
       "    <tr>\n",
       "      <th>30434</th>\n",
       "      <td>999590353</td>\n",
       "      <td>999988325</td>\n",
       "      <td>2024-10-09 11:51:40</td>\n",
       "      <td>7311</td>\n",
       "      <td>Business/Professional/Miscellaneous Services</td>\n",
       "      <td>4619</td>\n",
       "      <td>360</td>\n",
       "    </tr>\n",
       "    <tr>\n",
       "      <th>30435</th>\n",
       "      <td>999590358</td>\n",
       "      <td>999988325</td>\n",
       "      <td>2024-10-09 11:51:40</td>\n",
       "      <td>-1</td>\n",
       "      <td>NaN</td>\n",
       "      <td>4619</td>\n",
       "      <td>360</td>\n",
       "    </tr>\n",
       "    <tr>\n",
       "      <th>30436</th>\n",
       "      <td>999590548</td>\n",
       "      <td>999988325</td>\n",
       "      <td>2024-10-09 11:52:20</td>\n",
       "      <td>7311</td>\n",
       "      <td>Business/Professional/Miscellaneous Services</td>\n",
       "      <td>13445</td>\n",
       "      <td>360</td>\n",
       "    </tr>\n",
       "    <tr>\n",
       "      <th>30529</th>\n",
       "      <td>999590773</td>\n",
       "      <td>999988325</td>\n",
       "      <td>2024-10-09 11:53:13</td>\n",
       "      <td>5969</td>\n",
       "      <td>Business/Professional/Miscellaneous Services</td>\n",
       "      <td>15611</td>\n",
       "      <td>360</td>\n",
       "    </tr>\n",
       "  </tbody>\n",
       "</table>\n",
       "</div>"
      ],
      "text/plain": [
       "       Transaction Serial No  PANNumber Transaction Datetime   MCC  \\\n",
       "14312              974909877  999988325  2024-09-08 02:59:42  4722   \n",
       "30433              999590208  999988325  2024-10-09 11:51:10    -1   \n",
       "30434              999590353  999988325  2024-10-09 11:51:40  7311   \n",
       "30435              999590358  999988325  2024-10-09 11:51:40    -1   \n",
       "30436              999590548  999988325  2024-10-09 11:52:20  7311   \n",
       "30529              999590773  999988325  2024-10-09 11:53:13  5969   \n",
       "\n",
       "                                       MCC Category  Merchant Id  Country Code  \n",
       "14312   Travel/Transportation/Gas and Fuel Services        18622           360  \n",
       "30433                                           NaN         4619           360  \n",
       "30434  Business/Professional/Miscellaneous Services         4619           360  \n",
       "30435                                           NaN         4619           360  \n",
       "30436  Business/Professional/Miscellaneous Services        13445           360  \n",
       "30529  Business/Professional/Miscellaneous Services        15611           360  "
      ]
     },
     "execution_count": 11,
     "metadata": {},
     "output_type": "execute_result"
    }
   ],
   "source": [
    "# check result\n",
    "\n",
    "pd.set_option('display.max_columns', 500)\n",
    "\n",
    "df_c03[df_c03['PANNumber'] == 999988325][\n",
    "    [\n",
    "        'Transaction Serial No',\n",
    "        'PANNumber',\n",
    "        'Transaction Datetime',\n",
    "        'MCC',\n",
    "        'MCC Category',\n",
    "        'Merchant Id',\n",
    "        'Country Code'\n",
    "    ] +\n",
    "    # + ['time_diff_before_merchant']\n",
    "    [x for x in df_c03.columns if ('time_diff' in x) and ('avg' not in x)]\n",
    "].sort_values(by=['PANNumber','Transaction Datetime'])"
   ]
  },
  {
   "cell_type": "markdown",
   "id": "5c3bb04f",
   "metadata": {},
   "source": [
    "## Frequency Features"
   ]
  },
  {
   "cell_type": "code",
   "execution_count": 12,
   "id": "ee3a656c",
   "metadata": {},
   "outputs": [
    {
     "name": "stderr",
     "output_type": "stream",
     "text": [
      "/home/gregorius_vidy/gbg_analytics/01 Experimentation/Model Diagnostic Suite/model-diagnostic/src/calculation_features.py:43: FutureWarning: 'S' is deprecated and will be removed in a future version, please use 's' instead.\n",
      "  .rolling(window, closed=\"left\")\n",
      "/home/gregorius_vidy/gbg_analytics/01 Experimentation/Model Diagnostic Suite/model-diagnostic/src/calculation_features.py:43: FutureWarning: 'H' is deprecated and will be removed in a future version, please use 'h' instead.\n",
      "  .rolling(window, closed=\"left\")\n",
      "/home/gregorius_vidy/gbg_analytics/01 Experimentation/Model Diagnostic Suite/model-diagnostic/src/calculation_features.py:53: FutureWarning: 'S' is deprecated and will be removed in a future version, please use 's' instead.\n",
      "  .rolling(window, closed=\"left\")\n",
      "/home/gregorius_vidy/gbg_analytics/01 Experimentation/Model Diagnostic Suite/model-diagnostic/src/calculation_features.py:53: FutureWarning: 'H' is deprecated and will be removed in a future version, please use 'h' instead.\n",
      "  .rolling(window, closed=\"left\")\n",
      "/home/gregorius_vidy/gbg_analytics/01 Experimentation/Model Diagnostic Suite/model-diagnostic/src/calculation_features.py:53: FutureWarning: 'S' is deprecated and will be removed in a future version, please use 's' instead.\n",
      "  .rolling(window, closed=\"left\")\n",
      "/home/gregorius_vidy/gbg_analytics/01 Experimentation/Model Diagnostic Suite/model-diagnostic/src/calculation_features.py:53: FutureWarning: 'H' is deprecated and will be removed in a future version, please use 'h' instead.\n",
      "  .rolling(window, closed=\"left\")\n",
      "/home/gregorius_vidy/gbg_analytics/01 Experimentation/Model Diagnostic Suite/model-diagnostic/src/calculation_features.py:53: FutureWarning: 'S' is deprecated and will be removed in a future version, please use 's' instead.\n",
      "  .rolling(window, closed=\"left\")\n",
      "/home/gregorius_vidy/gbg_analytics/01 Experimentation/Model Diagnostic Suite/model-diagnostic/src/calculation_features.py:53: FutureWarning: 'H' is deprecated and will be removed in a future version, please use 'h' instead.\n",
      "  .rolling(window, closed=\"left\")\n",
      "/home/gregorius_vidy/gbg_analytics/01 Experimentation/Model Diagnostic Suite/model-diagnostic/src/calculation_features.py:53: FutureWarning: 'S' is deprecated and will be removed in a future version, please use 's' instead.\n",
      "  .rolling(window, closed=\"left\")\n",
      "/home/gregorius_vidy/gbg_analytics/01 Experimentation/Model Diagnostic Suite/model-diagnostic/src/calculation_features.py:53: FutureWarning: 'H' is deprecated and will be removed in a future version, please use 'h' instead.\n",
      "  .rolling(window, closed=\"left\")\n",
      "/home/gregorius_vidy/gbg_analytics/01 Experimentation/Model Diagnostic Suite/model-diagnostic/src/calculation_features.py:53: FutureWarning: 'S' is deprecated and will be removed in a future version, please use 's' instead.\n",
      "  .rolling(window, closed=\"left\")\n",
      "/home/gregorius_vidy/gbg_analytics/01 Experimentation/Model Diagnostic Suite/model-diagnostic/src/calculation_features.py:53: FutureWarning: 'H' is deprecated and will be removed in a future version, please use 'h' instead.\n",
      "  .rolling(window, closed=\"left\")\n"
     ]
    }
   ],
   "source": [
    "df_freq = generate_rolling_features(\n",
    "    df_c03,\n",
    "    datetime_col=\"Transaction Datetime\",\n",
    "    key_col=\"Transaction Serial No\",\n",
    "    features_config=freq_config,\n",
    ")"
   ]
  },
  {
   "cell_type": "markdown",
   "id": "6a9f45ba",
   "metadata": {},
   "source": [
    "## Monetary"
   ]
  },
  {
   "cell_type": "markdown",
   "id": "2815a0a7",
   "metadata": {},
   "source": [
    "Calculate SUM, AVG, MAX of Transaction Amount grouped by PANNumber"
   ]
  },
  {
   "cell_type": "code",
   "execution_count": 13,
   "id": "27587969",
   "metadata": {},
   "outputs": [
    {
     "name": "stderr",
     "output_type": "stream",
     "text": [
      "/home/gregorius_vidy/gbg_analytics/01 Experimentation/Model Diagnostic Suite/model-diagnostic/src/calculation_features.py:111: FutureWarning: 'S' is deprecated and will be removed in a future version, please use 's' instead.\n",
      "  .rolling(window, closed=\"left\")\n",
      "/home/gregorius_vidy/gbg_analytics/01 Experimentation/Model Diagnostic Suite/model-diagnostic/src/calculation_features.py:111: FutureWarning: 'H' is deprecated and will be removed in a future version, please use 'h' instead.\n",
      "  .rolling(window, closed=\"left\")\n",
      "/home/gregorius_vidy/gbg_analytics/01 Experimentation/Model Diagnostic Suite/model-diagnostic/src/calculation_features.py:111: FutureWarning: 'S' is deprecated and will be removed in a future version, please use 's' instead.\n",
      "  .rolling(window, closed=\"left\")\n",
      "/home/gregorius_vidy/gbg_analytics/01 Experimentation/Model Diagnostic Suite/model-diagnostic/src/calculation_features.py:111: FutureWarning: 'H' is deprecated and will be removed in a future version, please use 'h' instead.\n",
      "  .rolling(window, closed=\"left\")\n",
      "/home/gregorius_vidy/gbg_analytics/01 Experimentation/Model Diagnostic Suite/model-diagnostic/src/calculation_features.py:111: FutureWarning: 'S' is deprecated and will be removed in a future version, please use 's' instead.\n",
      "  .rolling(window, closed=\"left\")\n",
      "/home/gregorius_vidy/gbg_analytics/01 Experimentation/Model Diagnostic Suite/model-diagnostic/src/calculation_features.py:111: FutureWarning: 'H' is deprecated and will be removed in a future version, please use 'h' instead.\n",
      "  .rolling(window, closed=\"left\")\n"
     ]
    }
   ],
   "source": [
    "df_monetary_1 = generate_rolling_features(\n",
    "    df_c03,\n",
    "    datetime_col=\"Transaction Datetime\",\n",
    "    key_col=\"Transaction Serial No\",\n",
    "    features_config=monetary_config_1,\n",
    ")"
   ]
  },
  {
   "cell_type": "markdown",
   "id": "a51261c1",
   "metadata": {},
   "source": [
    "Calculate SUM, MAX, MEAN of Transaction Amount to `MCC` grouped by PANNumber"
   ]
  },
  {
   "cell_type": "code",
   "execution_count": 14,
   "id": "8f11d0af",
   "metadata": {},
   "outputs": [
    {
     "name": "stderr",
     "output_type": "stream",
     "text": [
      "/home/gregorius_vidy/gbg_analytics/01 Experimentation/Model Diagnostic Suite/model-diagnostic/src/calculation_features.py:121: FutureWarning: 'S' is deprecated and will be removed in a future version, please use 's' instead.\n",
      "  .rolling(window, closed=\"left\")\n",
      "/home/gregorius_vidy/gbg_analytics/01 Experimentation/Model Diagnostic Suite/model-diagnostic/src/calculation_features.py:121: FutureWarning: 'H' is deprecated and will be removed in a future version, please use 'h' instead.\n",
      "  .rolling(window, closed=\"left\")\n",
      "/home/gregorius_vidy/gbg_analytics/01 Experimentation/Model Diagnostic Suite/model-diagnostic/src/calculation_features.py:121: FutureWarning: 'S' is deprecated and will be removed in a future version, please use 's' instead.\n",
      "  .rolling(window, closed=\"left\")\n",
      "/home/gregorius_vidy/gbg_analytics/01 Experimentation/Model Diagnostic Suite/model-diagnostic/src/calculation_features.py:121: FutureWarning: 'H' is deprecated and will be removed in a future version, please use 'h' instead.\n",
      "  .rolling(window, closed=\"left\")\n",
      "/home/gregorius_vidy/gbg_analytics/01 Experimentation/Model Diagnostic Suite/model-diagnostic/src/calculation_features.py:121: FutureWarning: 'S' is deprecated and will be removed in a future version, please use 's' instead.\n",
      "  .rolling(window, closed=\"left\")\n",
      "/home/gregorius_vidy/gbg_analytics/01 Experimentation/Model Diagnostic Suite/model-diagnostic/src/calculation_features.py:121: FutureWarning: 'H' is deprecated and will be removed in a future version, please use 'h' instead.\n",
      "  .rolling(window, closed=\"left\")\n"
     ]
    }
   ],
   "source": [
    "df_monetary_2 = generate_rolling_features(\n",
    "    df_c03,\n",
    "    datetime_col=\"Transaction Datetime\",\n",
    "    key_col=\"Transaction Serial No\",\n",
    "    features_config=monetary_config_2,\n",
    ")"
   ]
  },
  {
   "cell_type": "markdown",
   "id": "f7f3918f",
   "metadata": {},
   "source": [
    "Calculate SUM, MAX, MEAN of Transaction Amount to `MCC Details` grouped by PANNumber"
   ]
  },
  {
   "cell_type": "code",
   "execution_count": 15,
   "id": "2020e5f4",
   "metadata": {},
   "outputs": [
    {
     "name": "stderr",
     "output_type": "stream",
     "text": [
      "/home/gregorius_vidy/gbg_analytics/01 Experimentation/Model Diagnostic Suite/model-diagnostic/src/calculation_features.py:121: FutureWarning: 'S' is deprecated and will be removed in a future version, please use 's' instead.\n",
      "  .rolling(window, closed=\"left\")\n",
      "/home/gregorius_vidy/gbg_analytics/01 Experimentation/Model Diagnostic Suite/model-diagnostic/src/calculation_features.py:121: FutureWarning: 'H' is deprecated and will be removed in a future version, please use 'h' instead.\n",
      "  .rolling(window, closed=\"left\")\n",
      "/home/gregorius_vidy/gbg_analytics/01 Experimentation/Model Diagnostic Suite/model-diagnostic/src/calculation_features.py:121: FutureWarning: 'S' is deprecated and will be removed in a future version, please use 's' instead.\n",
      "  .rolling(window, closed=\"left\")\n",
      "/home/gregorius_vidy/gbg_analytics/01 Experimentation/Model Diagnostic Suite/model-diagnostic/src/calculation_features.py:121: FutureWarning: 'H' is deprecated and will be removed in a future version, please use 'h' instead.\n",
      "  .rolling(window, closed=\"left\")\n",
      "/home/gregorius_vidy/gbg_analytics/01 Experimentation/Model Diagnostic Suite/model-diagnostic/src/calculation_features.py:121: FutureWarning: 'S' is deprecated and will be removed in a future version, please use 's' instead.\n",
      "  .rolling(window, closed=\"left\")\n",
      "/home/gregorius_vidy/gbg_analytics/01 Experimentation/Model Diagnostic Suite/model-diagnostic/src/calculation_features.py:121: FutureWarning: 'H' is deprecated and will be removed in a future version, please use 'h' instead.\n",
      "  .rolling(window, closed=\"left\")\n"
     ]
    }
   ],
   "source": [
    "df_monetary_3 = generate_rolling_features(\n",
    "    df_c03,\n",
    "    datetime_col=\"Transaction Datetime\",\n",
    "    key_col=\"Transaction Serial No\",\n",
    "    features_config=monetary_config_3,\n",
    ")"
   ]
  },
  {
   "cell_type": "markdown",
   "id": "a99d0320",
   "metadata": {},
   "source": [
    "Calculate SUM, MAX, MEAN of Transaction Amount to `MCC Trnx Category Code` grouped by PANNumber"
   ]
  },
  {
   "cell_type": "code",
   "execution_count": 16,
   "id": "07ea8237",
   "metadata": {},
   "outputs": [
    {
     "name": "stderr",
     "output_type": "stream",
     "text": [
      "/home/gregorius_vidy/gbg_analytics/01 Experimentation/Model Diagnostic Suite/model-diagnostic/src/calculation_features.py:121: FutureWarning: 'S' is deprecated and will be removed in a future version, please use 's' instead.\n",
      "  .rolling(window, closed=\"left\")\n",
      "/home/gregorius_vidy/gbg_analytics/01 Experimentation/Model Diagnostic Suite/model-diagnostic/src/calculation_features.py:121: FutureWarning: 'H' is deprecated and will be removed in a future version, please use 'h' instead.\n",
      "  .rolling(window, closed=\"left\")\n",
      "/home/gregorius_vidy/gbg_analytics/01 Experimentation/Model Diagnostic Suite/model-diagnostic/src/calculation_features.py:121: FutureWarning: 'S' is deprecated and will be removed in a future version, please use 's' instead.\n",
      "  .rolling(window, closed=\"left\")\n",
      "/home/gregorius_vidy/gbg_analytics/01 Experimentation/Model Diagnostic Suite/model-diagnostic/src/calculation_features.py:121: FutureWarning: 'H' is deprecated and will be removed in a future version, please use 'h' instead.\n",
      "  .rolling(window, closed=\"left\")\n",
      "/home/gregorius_vidy/gbg_analytics/01 Experimentation/Model Diagnostic Suite/model-diagnostic/src/calculation_features.py:121: FutureWarning: 'S' is deprecated and will be removed in a future version, please use 's' instead.\n",
      "  .rolling(window, closed=\"left\")\n",
      "/home/gregorius_vidy/gbg_analytics/01 Experimentation/Model Diagnostic Suite/model-diagnostic/src/calculation_features.py:121: FutureWarning: 'H' is deprecated and will be removed in a future version, please use 'h' instead.\n",
      "  .rolling(window, closed=\"left\")\n"
     ]
    }
   ],
   "source": [
    "df_monetary_4 = generate_rolling_features(\n",
    "    df_c03,\n",
    "    datetime_col=\"Transaction Datetime\",\n",
    "    key_col=\"Transaction Serial No\",\n",
    "    features_config=monetary_config_4,\n",
    ")"
   ]
  },
  {
   "cell_type": "markdown",
   "id": "b3a3de20",
   "metadata": {},
   "source": [
    "Calculate SUM, MAX, MEAN of Transaction Amount to `MCC Category` grouped by PANNumber"
   ]
  },
  {
   "cell_type": "code",
   "execution_count": 17,
   "id": "6d679711",
   "metadata": {},
   "outputs": [
    {
     "name": "stderr",
     "output_type": "stream",
     "text": [
      "/home/gregorius_vidy/gbg_analytics/01 Experimentation/Model Diagnostic Suite/model-diagnostic/src/calculation_features.py:121: FutureWarning: 'S' is deprecated and will be removed in a future version, please use 's' instead.\n",
      "  .rolling(window, closed=\"left\")\n",
      "/home/gregorius_vidy/gbg_analytics/01 Experimentation/Model Diagnostic Suite/model-diagnostic/src/calculation_features.py:121: FutureWarning: 'H' is deprecated and will be removed in a future version, please use 'h' instead.\n",
      "  .rolling(window, closed=\"left\")\n",
      "/home/gregorius_vidy/gbg_analytics/01 Experimentation/Model Diagnostic Suite/model-diagnostic/src/calculation_features.py:121: FutureWarning: 'S' is deprecated and will be removed in a future version, please use 's' instead.\n",
      "  .rolling(window, closed=\"left\")\n",
      "/home/gregorius_vidy/gbg_analytics/01 Experimentation/Model Diagnostic Suite/model-diagnostic/src/calculation_features.py:121: FutureWarning: 'H' is deprecated and will be removed in a future version, please use 'h' instead.\n",
      "  .rolling(window, closed=\"left\")\n",
      "/home/gregorius_vidy/gbg_analytics/01 Experimentation/Model Diagnostic Suite/model-diagnostic/src/calculation_features.py:121: FutureWarning: 'S' is deprecated and will be removed in a future version, please use 's' instead.\n",
      "  .rolling(window, closed=\"left\")\n",
      "/home/gregorius_vidy/gbg_analytics/01 Experimentation/Model Diagnostic Suite/model-diagnostic/src/calculation_features.py:121: FutureWarning: 'H' is deprecated and will be removed in a future version, please use 'h' instead.\n",
      "  .rolling(window, closed=\"left\")\n"
     ]
    }
   ],
   "source": [
    "df_monetary_5 = generate_rolling_features(\n",
    "    df_c03,\n",
    "    datetime_col=\"Transaction Datetime\",\n",
    "    key_col=\"Transaction Serial No\",\n",
    "    features_config=monetary_config_5,\n",
    ")"
   ]
  },
  {
   "cell_type": "markdown",
   "id": "0443b227",
   "metadata": {},
   "source": [
    "Calculate SUM, MAX, MEAN of Transaction Amount to `Terminal Owner Category` grouped by PANNumber"
   ]
  },
  {
   "cell_type": "code",
   "execution_count": 18,
   "id": "b490e88c",
   "metadata": {},
   "outputs": [
    {
     "name": "stderr",
     "output_type": "stream",
     "text": [
      "/home/gregorius_vidy/gbg_analytics/01 Experimentation/Model Diagnostic Suite/model-diagnostic/src/calculation_features.py:121: FutureWarning: 'S' is deprecated and will be removed in a future version, please use 's' instead.\n",
      "  .rolling(window, closed=\"left\")\n",
      "/home/gregorius_vidy/gbg_analytics/01 Experimentation/Model Diagnostic Suite/model-diagnostic/src/calculation_features.py:121: FutureWarning: 'H' is deprecated and will be removed in a future version, please use 'h' instead.\n",
      "  .rolling(window, closed=\"left\")\n",
      "/home/gregorius_vidy/gbg_analytics/01 Experimentation/Model Diagnostic Suite/model-diagnostic/src/calculation_features.py:121: FutureWarning: 'S' is deprecated and will be removed in a future version, please use 's' instead.\n",
      "  .rolling(window, closed=\"left\")\n",
      "/home/gregorius_vidy/gbg_analytics/01 Experimentation/Model Diagnostic Suite/model-diagnostic/src/calculation_features.py:121: FutureWarning: 'H' is deprecated and will be removed in a future version, please use 'h' instead.\n",
      "  .rolling(window, closed=\"left\")\n",
      "/home/gregorius_vidy/gbg_analytics/01 Experimentation/Model Diagnostic Suite/model-diagnostic/src/calculation_features.py:121: FutureWarning: 'S' is deprecated and will be removed in a future version, please use 's' instead.\n",
      "  .rolling(window, closed=\"left\")\n",
      "/home/gregorius_vidy/gbg_analytics/01 Experimentation/Model Diagnostic Suite/model-diagnostic/src/calculation_features.py:121: FutureWarning: 'H' is deprecated and will be removed in a future version, please use 'h' instead.\n",
      "  .rolling(window, closed=\"left\")\n"
     ]
    }
   ],
   "source": [
    "df_monetary_6 = generate_rolling_features(\n",
    "    df_c03,\n",
    "    datetime_col=\"Transaction Datetime\",\n",
    "    key_col=\"Transaction Serial No\",\n",
    "    features_config=monetary_config_6,\n",
    ")"
   ]
  },
  {
   "cell_type": "markdown",
   "id": "41a23953",
   "metadata": {},
   "source": [
    "## Unique Count"
   ]
  },
  {
   "cell_type": "code",
   "execution_count": 19,
   "id": "3e81b2d5",
   "metadata": {},
   "outputs": [
    {
     "name": "stderr",
     "output_type": "stream",
     "text": [
      "/home/gregorius_vidy/gbg_analytics/01 Experimentation/Model Diagnostic Suite/model-diagnostic/src/calculation_features.py:168: FutureWarning: 'S' is deprecated and will be removed in a future version, please use 's' instead.\n",
      "  .rolling(window=window, closed=\"left\", min_periods=1)\n",
      "/home/gregorius_vidy/gbg_analytics/01 Experimentation/Model Diagnostic Suite/model-diagnostic/src/calculation_features.py:168: FutureWarning: 'H' is deprecated and will be removed in a future version, please use 'h' instead.\n",
      "  .rolling(window=window, closed=\"left\", min_periods=1)\n",
      "/home/gregorius_vidy/gbg_analytics/01 Experimentation/Model Diagnostic Suite/model-diagnostic/src/calculation_features.py:168: FutureWarning: 'S' is deprecated and will be removed in a future version, please use 's' instead.\n",
      "  .rolling(window=window, closed=\"left\", min_periods=1)\n",
      "/home/gregorius_vidy/gbg_analytics/01 Experimentation/Model Diagnostic Suite/model-diagnostic/src/calculation_features.py:168: FutureWarning: 'H' is deprecated and will be removed in a future version, please use 'h' instead.\n",
      "  .rolling(window=window, closed=\"left\", min_periods=1)\n",
      "/home/gregorius_vidy/gbg_analytics/01 Experimentation/Model Diagnostic Suite/model-diagnostic/src/calculation_features.py:168: FutureWarning: 'S' is deprecated and will be removed in a future version, please use 's' instead.\n",
      "  .rolling(window=window, closed=\"left\", min_periods=1)\n",
      "/home/gregorius_vidy/gbg_analytics/01 Experimentation/Model Diagnostic Suite/model-diagnostic/src/calculation_features.py:168: FutureWarning: 'H' is deprecated and will be removed in a future version, please use 'h' instead.\n",
      "  .rolling(window=window, closed=\"left\", min_periods=1)\n"
     ]
    }
   ],
   "source": [
    "df_c03[\"MCC Num\"], uniques = df_c03[\"MCC\"].factorize()\n",
    "df_c03[\"PANNumber Num\"], uniques = df_c03[\"PANNumber\"].factorize()\n",
    "\n",
    "df_unique_count_1 = generate_rolling_features(\n",
    "    df_c03,\n",
    "    datetime_col=\"Transaction Datetime\",\n",
    "    key_col=\"Transaction Serial No\",\n",
    "    features_config=unique_count_config_1,\n",
    ")"
   ]
  },
  {
   "cell_type": "markdown",
   "id": "324ba845",
   "metadata": {},
   "source": [
    "Count unique (distinct) `Transaction Amount`, grouped by PANNumber, MCC, MCC Details, MCC Category Code, MCC Category, Terminal Owner Category"
   ]
  },
  {
   "cell_type": "code",
   "execution_count": 20,
   "id": "26b26bbf",
   "metadata": {},
   "outputs": [
    {
     "name": "stderr",
     "output_type": "stream",
     "text": [
      "/home/gregorius_vidy/gbg_analytics/01 Experimentation/Model Diagnostic Suite/model-diagnostic/src/calculation_features.py:168: FutureWarning: 'S' is deprecated and will be removed in a future version, please use 's' instead.\n",
      "  .rolling(window=window, closed=\"left\", min_periods=1)\n",
      "/home/gregorius_vidy/gbg_analytics/01 Experimentation/Model Diagnostic Suite/model-diagnostic/src/calculation_features.py:168: FutureWarning: 'H' is deprecated and will be removed in a future version, please use 'h' instead.\n",
      "  .rolling(window=window, closed=\"left\", min_periods=1)\n",
      "/home/gregorius_vidy/gbg_analytics/01 Experimentation/Model Diagnostic Suite/model-diagnostic/src/calculation_features.py:168: FutureWarning: 'S' is deprecated and will be removed in a future version, please use 's' instead.\n",
      "  .rolling(window=window, closed=\"left\", min_periods=1)\n",
      "/home/gregorius_vidy/gbg_analytics/01 Experimentation/Model Diagnostic Suite/model-diagnostic/src/calculation_features.py:168: FutureWarning: 'H' is deprecated and will be removed in a future version, please use 'h' instead.\n",
      "  .rolling(window=window, closed=\"left\", min_periods=1)\n",
      "/home/gregorius_vidy/gbg_analytics/01 Experimentation/Model Diagnostic Suite/model-diagnostic/src/calculation_features.py:168: FutureWarning: 'S' is deprecated and will be removed in a future version, please use 's' instead.\n",
      "  .rolling(window=window, closed=\"left\", min_periods=1)\n",
      "/home/gregorius_vidy/gbg_analytics/01 Experimentation/Model Diagnostic Suite/model-diagnostic/src/calculation_features.py:168: FutureWarning: 'H' is deprecated and will be removed in a future version, please use 'h' instead.\n",
      "  .rolling(window=window, closed=\"left\", min_periods=1)\n",
      "/home/gregorius_vidy/gbg_analytics/01 Experimentation/Model Diagnostic Suite/model-diagnostic/src/calculation_features.py:168: FutureWarning: 'S' is deprecated and will be removed in a future version, please use 's' instead.\n",
      "  .rolling(window=window, closed=\"left\", min_periods=1)\n",
      "/home/gregorius_vidy/gbg_analytics/01 Experimentation/Model Diagnostic Suite/model-diagnostic/src/calculation_features.py:168: FutureWarning: 'H' is deprecated and will be removed in a future version, please use 'h' instead.\n",
      "  .rolling(window=window, closed=\"left\", min_periods=1)\n",
      "/home/gregorius_vidy/gbg_analytics/01 Experimentation/Model Diagnostic Suite/model-diagnostic/src/calculation_features.py:168: FutureWarning: 'S' is deprecated and will be removed in a future version, please use 's' instead.\n",
      "  .rolling(window=window, closed=\"left\", min_periods=1)\n",
      "/home/gregorius_vidy/gbg_analytics/01 Experimentation/Model Diagnostic Suite/model-diagnostic/src/calculation_features.py:168: FutureWarning: 'H' is deprecated and will be removed in a future version, please use 'h' instead.\n",
      "  .rolling(window=window, closed=\"left\", min_periods=1)\n",
      "/home/gregorius_vidy/gbg_analytics/01 Experimentation/Model Diagnostic Suite/model-diagnostic/src/calculation_features.py:168: FutureWarning: 'S' is deprecated and will be removed in a future version, please use 's' instead.\n",
      "  .rolling(window=window, closed=\"left\", min_periods=1)\n",
      "/home/gregorius_vidy/gbg_analytics/01 Experimentation/Model Diagnostic Suite/model-diagnostic/src/calculation_features.py:168: FutureWarning: 'H' is deprecated and will be removed in a future version, please use 'h' instead.\n",
      "  .rolling(window=window, closed=\"left\", min_periods=1)\n"
     ]
    }
   ],
   "source": [
    "df_unique_count_2 = generate_rolling_features(\n",
    "    df_c03,\n",
    "    datetime_col=\"Transaction Datetime\",\n",
    "    key_col=\"Transaction Serial No\",\n",
    "    features_config=unique_count_config_2,\n",
    ")"
   ]
  },
  {
   "cell_type": "markdown",
   "id": "391c94d2",
   "metadata": {},
   "source": [
    "## Getting All Transformed Features"
   ]
  },
  {
   "cell_type": "code",
   "execution_count": null,
   "id": "4b1809ca",
   "metadata": {},
   "outputs": [],
   "source": [
    "# Define the common keys for merging\n",
    "merge_keys = ['Transaction Serial No', 'PANNumber']\n",
    "\n",
    "# Helper function to extract columns based on config and time windows\n",
    "def extract_columns(config, time_windows):\n",
    "    return [cfg['windows'][win] for cfg in config for win in time_windows]\n",
    "\n",
    "# Extract columns\n",
    "time_diff_cols = list(time_diff_columns.keys())\n",
    "freq_cols = extract_columns(freq_config, time_windows)\n",
    "monetary_cols = extract_columns(monetary_config, time_windows)\n",
    "unique_count_cols = extract_columns(unique_count_config, time_windows)\n",
    "\n",
    "# Subset dataframes\n",
    "df_time_diff = df_time_diff[merge_keys + time_diff_cols]\n",
    "df_freq = df_freq[merge_keys + freq_cols]\n",
    "df_monetary = df_monetary[merge_keys + monetary_cols]\n",
    "df_unique_count = df_unique_count[merge_keys + unique_count_cols]\n",
    "\n",
    "# Merge all feature dataframes + additional features\n",
    "dfs_to_merge = [df_time_diff, df_freq, df_monetary, df_unique_count]\n",
    "df_final = reduce(lambda left, right: pd.merge(left, right, on=merge_keys, how='outer'), dfs_to_merge)\n",
    "df_final = df_final.merge(\n",
    "    df_mock[merge_keys + ['Transaction Amount', 'Card Billing Amount', 'Confirmed']],\n",
    "    on=merge_keys,\n",
    "    how='left'\n",
    ")"
   ]
  },
  {
   "cell_type": "code",
   "execution_count": 41,
   "id": "40643aae",
   "metadata": {},
   "outputs": [
    {
     "data": {
      "text/html": [
       "<div>\n",
       "<style scoped>\n",
       "    .dataframe tbody tr th:only-of-type {\n",
       "        vertical-align: middle;\n",
       "    }\n",
       "\n",
       "    .dataframe tbody tr th {\n",
       "        vertical-align: top;\n",
       "    }\n",
       "\n",
       "    .dataframe thead th {\n",
       "        text-align: right;\n",
       "    }\n",
       "</style>\n",
       "<table border=\"1\" class=\"dataframe\">\n",
       "  <thead>\n",
       "    <tr style=\"text-align: right;\">\n",
       "      <th></th>\n",
       "      <th>Transaction Serial No</th>\n",
       "      <th>PANNumber</th>\n",
       "      <th>TSLastTxn_mins</th>\n",
       "      <th>TSLastTxn_fromacct_to_acct_mins</th>\n",
       "      <th>TSLastTxn_toacct_mins</th>\n",
       "      <th>TSLastTxn_merchant_mins</th>\n",
       "      <th>TSLastTxn_mcc_mins</th>\n",
       "      <th>TSLastTxn_countrycode_mins</th>\n",
       "      <th>MFTxnCount_L15M</th>\n",
       "      <th>MFTxnCount_L1H</th>\n",
       "      <th>...</th>\n",
       "      <th>Unique_AmountTo_L15M</th>\n",
       "      <th>Unique_AmountTo_L1H</th>\n",
       "      <th>Unique_AmountTo_L1D</th>\n",
       "      <th>Unique_AmountTo_L7D</th>\n",
       "      <th>Unique_AmountTo_L14D</th>\n",
       "      <th>Unique_AmountTo_L30D</th>\n",
       "      <th>Unique_AmountTo_L90D</th>\n",
       "      <th>Transaction Amount</th>\n",
       "      <th>Card Billing Amount</th>\n",
       "      <th>Confirmed</th>\n",
       "    </tr>\n",
       "  </thead>\n",
       "  <tbody>\n",
       "    <tr>\n",
       "      <th>0</th>\n",
       "      <td>3022</td>\n",
       "      <td>8339</td>\n",
       "      <td>-1.0</td>\n",
       "      <td>-1.0</td>\n",
       "      <td>-1.0</td>\n",
       "      <td>-1.0</td>\n",
       "      <td>-1.0</td>\n",
       "      <td>-1.0</td>\n",
       "      <td>0.0</td>\n",
       "      <td>0.0</td>\n",
       "      <td>...</td>\n",
       "      <td>0.0</td>\n",
       "      <td>0.0</td>\n",
       "      <td>0.0</td>\n",
       "      <td>0.0</td>\n",
       "      <td>0.0</td>\n",
       "      <td>0.0</td>\n",
       "      <td>0.0</td>\n",
       "      <td>746.66</td>\n",
       "      <td>209.50</td>\n",
       "      <td>8010</td>\n",
       "    </tr>\n",
       "    <tr>\n",
       "      <th>1</th>\n",
       "      <td>3454</td>\n",
       "      <td>3621</td>\n",
       "      <td>-1.0</td>\n",
       "      <td>-1.0</td>\n",
       "      <td>-1.0</td>\n",
       "      <td>-1.0</td>\n",
       "      <td>-1.0</td>\n",
       "      <td>-1.0</td>\n",
       "      <td>0.0</td>\n",
       "      <td>0.0</td>\n",
       "      <td>...</td>\n",
       "      <td>0.0</td>\n",
       "      <td>0.0</td>\n",
       "      <td>0.0</td>\n",
       "      <td>0.0</td>\n",
       "      <td>0.0</td>\n",
       "      <td>0.0</td>\n",
       "      <td>0.0</td>\n",
       "      <td>623.59</td>\n",
       "      <td>139.58</td>\n",
       "      <td>7640</td>\n",
       "    </tr>\n",
       "    <tr>\n",
       "      <th>2</th>\n",
       "      <td>5096</td>\n",
       "      <td>8481</td>\n",
       "      <td>-1.0</td>\n",
       "      <td>-1.0</td>\n",
       "      <td>-1.0</td>\n",
       "      <td>-1.0</td>\n",
       "      <td>-1.0</td>\n",
       "      <td>-1.0</td>\n",
       "      <td>0.0</td>\n",
       "      <td>0.0</td>\n",
       "      <td>...</td>\n",
       "      <td>0.0</td>\n",
       "      <td>0.0</td>\n",
       "      <td>0.0</td>\n",
       "      <td>0.0</td>\n",
       "      <td>0.0</td>\n",
       "      <td>0.0</td>\n",
       "      <td>0.0</td>\n",
       "      <td>955.41</td>\n",
       "      <td>674.45</td>\n",
       "      <td>5487</td>\n",
       "    </tr>\n",
       "    <tr>\n",
       "      <th>3</th>\n",
       "      <td>6487</td>\n",
       "      <td>1066</td>\n",
       "      <td>-1.0</td>\n",
       "      <td>-1.0</td>\n",
       "      <td>-1.0</td>\n",
       "      <td>-1.0</td>\n",
       "      <td>-1.0</td>\n",
       "      <td>-1.0</td>\n",
       "      <td>0.0</td>\n",
       "      <td>0.0</td>\n",
       "      <td>...</td>\n",
       "      <td>0.0</td>\n",
       "      <td>0.0</td>\n",
       "      <td>0.0</td>\n",
       "      <td>0.0</td>\n",
       "      <td>0.0</td>\n",
       "      <td>0.0</td>\n",
       "      <td>0.0</td>\n",
       "      <td>574.86</td>\n",
       "      <td>480.66</td>\n",
       "      <td>8978</td>\n",
       "    </tr>\n",
       "    <tr>\n",
       "      <th>4</th>\n",
       "      <td>7938</td>\n",
       "      <td>2887</td>\n",
       "      <td>-1.0</td>\n",
       "      <td>-1.0</td>\n",
       "      <td>-1.0</td>\n",
       "      <td>-1.0</td>\n",
       "      <td>-1.0</td>\n",
       "      <td>-1.0</td>\n",
       "      <td>0.0</td>\n",
       "      <td>0.0</td>\n",
       "      <td>...</td>\n",
       "      <td>0.0</td>\n",
       "      <td>0.0</td>\n",
       "      <td>0.0</td>\n",
       "      <td>0.0</td>\n",
       "      <td>0.0</td>\n",
       "      <td>0.0</td>\n",
       "      <td>0.0</td>\n",
       "      <td>868.09</td>\n",
       "      <td>380.46</td>\n",
       "      <td>6630</td>\n",
       "    </tr>\n",
       "  </tbody>\n",
       "</table>\n",
       "<p>5 rows × 95 columns</p>\n",
       "</div>"
      ],
      "text/plain": [
       "   Transaction Serial No  PANNumber  TSLastTxn_mins  \\\n",
       "0                   3022       8339            -1.0   \n",
       "1                   3454       3621            -1.0   \n",
       "2                   5096       8481            -1.0   \n",
       "3                   6487       1066            -1.0   \n",
       "4                   7938       2887            -1.0   \n",
       "\n",
       "   TSLastTxn_fromacct_to_acct_mins  TSLastTxn_toacct_mins  \\\n",
       "0                             -1.0                   -1.0   \n",
       "1                             -1.0                   -1.0   \n",
       "2                             -1.0                   -1.0   \n",
       "3                             -1.0                   -1.0   \n",
       "4                             -1.0                   -1.0   \n",
       "\n",
       "   TSLastTxn_merchant_mins  TSLastTxn_mcc_mins  TSLastTxn_countrycode_mins  \\\n",
       "0                     -1.0                -1.0                        -1.0   \n",
       "1                     -1.0                -1.0                        -1.0   \n",
       "2                     -1.0                -1.0                        -1.0   \n",
       "3                     -1.0                -1.0                        -1.0   \n",
       "4                     -1.0                -1.0                        -1.0   \n",
       "\n",
       "   MFTxnCount_L15M  MFTxnCount_L1H  ...  Unique_AmountTo_L15M  \\\n",
       "0              0.0             0.0  ...                   0.0   \n",
       "1              0.0             0.0  ...                   0.0   \n",
       "2              0.0             0.0  ...                   0.0   \n",
       "3              0.0             0.0  ...                   0.0   \n",
       "4              0.0             0.0  ...                   0.0   \n",
       "\n",
       "   Unique_AmountTo_L1H  Unique_AmountTo_L1D  Unique_AmountTo_L7D  \\\n",
       "0                  0.0                  0.0                  0.0   \n",
       "1                  0.0                  0.0                  0.0   \n",
       "2                  0.0                  0.0                  0.0   \n",
       "3                  0.0                  0.0                  0.0   \n",
       "4                  0.0                  0.0                  0.0   \n",
       "\n",
       "   Unique_AmountTo_L14D  Unique_AmountTo_L30D  Unique_AmountTo_L90D  \\\n",
       "0                   0.0                   0.0                   0.0   \n",
       "1                   0.0                   0.0                   0.0   \n",
       "2                   0.0                   0.0                   0.0   \n",
       "3                   0.0                   0.0                   0.0   \n",
       "4                   0.0                   0.0                   0.0   \n",
       "\n",
       "   Transaction Amount  Card Billing Amount  Confirmed  \n",
       "0              746.66               209.50       8010  \n",
       "1              623.59               139.58       7640  \n",
       "2              955.41               674.45       5487  \n",
       "3              574.86               480.66       8978  \n",
       "4              868.09               380.46       6630  \n",
       "\n",
       "[5 rows x 95 columns]"
      ]
     },
     "execution_count": 41,
     "metadata": {},
     "output_type": "execute_result"
    }
   ],
   "source": [
    "df_final"
   ]
  },
  {
   "cell_type": "code",
   "execution_count": null,
   "id": "6fd01eee",
   "metadata": {},
   "outputs": [],
   "source": []
  }
 ],
 "metadata": {
  "kernelspec": {
   "display_name": "bespoke-model",
   "language": "python",
   "name": "python3"
  },
  "language_info": {
   "codemirror_mode": {
    "name": "ipython",
    "version": 3
   },
   "file_extension": ".py",
   "mimetype": "text/x-python",
   "name": "python",
   "nbconvert_exporter": "python",
   "pygments_lexer": "ipython3",
   "version": "3.12.9"
  }
 },
 "nbformat": 4,
 "nbformat_minor": 5
}
